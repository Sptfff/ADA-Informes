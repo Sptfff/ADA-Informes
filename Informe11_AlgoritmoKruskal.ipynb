{
  "nbformat": 4,
  "nbformat_minor": 0,
  "metadata": {
    "colab": {
      "provenance": [],
      "collapsed_sections": [],
      "authorship_tag": "ABX9TyOslOPtCjrFyrWlqzXDcW7j",
      "include_colab_link": true
    },
    "kernelspec": {
      "name": "python3",
      "display_name": "Python 3"
    },
    "language_info": {
      "name": "python"
    }
  },
  "cells": [
    {
      "cell_type": "markdown",
      "metadata": {
        "id": "view-in-github",
        "colab_type": "text"
      },
      "source": [
        "<a href=\"https://colab.research.google.com/github/Sptfff/ADA-Informes/blob/main/Informe11_AlgoritmoKruskal.ipynb\" target=\"_parent\"><img src=\"https://colab.research.google.com/assets/colab-badge.svg\" alt=\"Open In Colab\"/></a>"
      ]
    },
    {
      "cell_type": "markdown",
      "source": [
        "#Descripción del Problema"
      ],
      "metadata": {
        "id": "zg2SGOEH1NC0"
      }
    },
    {
      "cell_type": "markdown",
      "source": [
        "En los grafos el mayor problema que puede surgir es a la hora de conectar múltiples nodos, ya que existen diversas combinaciones entre estos, por lo que en caso de un grafo con una gran cantidad de nodos, la cantidad combinaciones ya excede la capacidad de cualquier procesador de resolverlo.\n",
        "\n",
        "Uno de los nombres que recibe este problema es el de MST (*Minimum Spanning Tree*, *árbol recubridor mínimo*), que se basa en buscar la mejor conexión entre nodos, de forma que esta sea eficiente. Pero esto no es tan sencillo, por eso existen diversos algoritmos que solucionan este u otros problemas similares, como los que veremos a continuación. Aunque hay que considerar que no cualquier grafo puede cumplir con que sea *MST*, para que lo sea deber cumplir con una serie de propiedades:\n",
        "\n",
        "**Entrada:** Grafo conectado no dirigido $G=(V,E)$ y un costo real $c_e$ para cara arco $e\\in E$.\n",
        "\n",
        "> $V$ es la cantidad de nodos que posee el grafo y $E$ la cantidad de arcos del mismo\n",
        "\n",
        "**Salida:** Un árbol recubridor $T\\in E$ de $G$ con el mínimo coste $\\sum\\limits_{e\\in T}c_e$.\n",
        "\n",
        "1. Conexión de nodos: Esta propiedad consiste en verificar si los nodos que se buscan conectar no generen ciclos, ya que esto solo generaría un aumento en el costo sin realizar un cambio conveniente en el grafo.\n",
        "\n",
        "2. Cantidad de arcos: Esta consiste en determinar que la cantidad de arcos será igual a $V-1$.\n",
        "\n",
        "3. ¿Es recubridor?: Esta es la verificación de los puntos anteriores, ya que si esos se cumplen, el árbol $T$ será recubridor si no se generan ciclos.\n",
        "\n",
        "![image](https://imgur.com/64H6ZI7.jpg)\n",
        "\n",
        "Para eso se implementa el Algoritmo Kruskal, el cual busca de conectar de forma más eficiente cada nodo, de modo que no se tenga que batallar tanto para desplazarse por el grafo."
      ],
      "metadata": {
        "id": "4xAp4lxy1QIa"
      }
    },
    {
      "cell_type": "markdown",
      "source": [
        "#Descripción del Algoritmo"
      ],
      "metadata": {
        "id": "Z35Rvdkj1Sua"
      }
    },
    {
      "cell_type": "markdown",
      "source": [
        "La caracteristica que rige al algoritmo kruskal es este es un algoritmo greedy, por lo que se basa en una regla heurística de modo que sea la solución se cree paso a paso eligiendo los elementos que conforman esta solución según parezcan más convenientes en el momento.\n",
        "\n",
        "> Se conoce como heurística al conjunto de técnicas o métodos para resolver un problema. Se relaciona con la toma de decisiones a fin de solucionar un problema, sin asegurar que la opción tomada sea la más idónea.\n",
        "\n",
        "Lo que hace Kruskal en terminos generales es, en primer lugar, ordenar los costos de cada arco, de modo que el primero sea el arco más \"barato\", tomando este como base para el árbol que se va generando. El proceso se repite hasta que las combinaciones posibles solamente generen ciclos, y ya que estos no pueden existir, se daría por finalizada las iteraciones."
      ],
      "metadata": {
        "id": "-nhE8wi97ncl"
      }
    },
    {
      "cell_type": "markdown",
      "source": [
        "#Código"
      ],
      "metadata": {
        "id": "qA4vlTgBSQWI"
      }
    },
    {
      "cell_type": "code",
      "execution_count": 32,
      "metadata": {
        "id": "pRKAOfsq2CkI"
      },
      "outputs": [],
      "source": [
        "import networkx as nx\n",
        "import sys\n",
        "from networkx.drawing.nx_agraph import graphviz_layout\n",
        "\n",
        "class Graph:\n",
        "\n",
        "    def __init__(self, vertices):\n",
        "        self.V = vertices \n",
        "        self.graph = []\n",
        "\n",
        "    def addEdge(self, u, v, w):\n",
        "        self.graph.append([u, v, w])\n",
        " \n",
        "    def find(self, parent, i):\n",
        "        if parent[i] != i:\n",
        "            parent[i] = self.find(parent, parent[i])\n",
        "        return parent[i]\n",
        "\n",
        "    def union(self, parent, rank, x, y):\n",
        "        \n",
        "        if rank[x] < rank[y]:\n",
        "            parent[x] = y\n",
        "        elif rank[x] > rank[y]:\n",
        "            parent[y] = x\n",
        "\n",
        "        else:\n",
        "            parent[y] = x\n",
        "            rank[x] += 1\n",
        " \n",
        "\n",
        "    def KruskalMST(self, visualize = False, verbose = False, mostrar = False):\n",
        " \n",
        "        result = []  \n",
        "        i = 0\n",
        "        e = 0\n",
        "\n",
        "        if (verbose == True):\n",
        "          print(\"Conexiones del grafo:\\n\")\n",
        "          for u, v, w in (self.graph):\n",
        "            print(f\"( nodo\",u,\")\", \"--\",w,\"--\", \"( nodo\", v, \")\")\n",
        "          print(\"\\n\")\n",
        "\n",
        "        self.graph = sorted(self.graph,\n",
        "                            key=lambda item: item[2])\n",
        " \n",
        "        if (verbose == True):\n",
        "          print(\"Grafo ordenado por peso de los vertices:\\n\")\n",
        "          for u, v, w in (self.graph):\n",
        "            print(f\"( nodo\",u,\")\", \"--\",w,\"--\", \"( nodo\", v, \")\")\n",
        "          print(\"\\nComprobacion de nodos:\\n\")\n",
        "\n",
        "        parent = []\n",
        "        rank = []\n",
        " \n",
        "        G = nx.Graph()\n",
        "\n",
        "        for node in range(self.V):\n",
        "            parent.append(node)\n",
        "            rank.append(0)\n",
        " \n",
        "        while e < self.V - 1:\n",
        " \n",
        "            u, v, w = self.graph[i]\n",
        "            i = i + 1\n",
        "            x = self.find(parent, u)\n",
        "            y = self.find(parent, v)\n",
        " \n",
        "            if verbose == True:\n",
        "              print(\"Padre ( nodo\", u, \") ----\", \"Hijo ( nodo\", x, \")\")\n",
        "              print(\"Padre ( nodo\", v, \") ----\", \"Hijo ( nodo\", y, \")\")\n",
        "              \n",
        "\n",
        "            if x != y:\n",
        "                if (verbose == True):\n",
        "                  print(\"Padres distintos, se agrega la arista\\n\")\n",
        "                e = e + 1\n",
        "                result.append([u, v, w])\n",
        "                self.union(parent, rank, x, y)\n",
        "            else:\n",
        "              if verbose == True:\n",
        "                print(\"Padres iguales, no se agrega la arista\\n\")\n",
        " \n",
        "        minimumCost = 0\n",
        "        \n",
        "        if mostrar:\n",
        "          print(\"Aristas obtenidas\\n\")\n",
        "        for u, v, weight in result:\n",
        "            minimumCost += weight\n",
        "            if mostrar:\n",
        "              print(f\"( nodo\",u,\")\", \"--\",weight,\"--\", \"( nodo\", v, \")\")\n",
        "\n",
        "            if(visualize == True):\n",
        "              G.add_node(u)\n",
        "              G.add_node(v)\n",
        "              G.add_edge(u, v, weight = weight)\n",
        "      \n",
        "        if (visualize == True):\n",
        "          fig, ax = plt.subplots()\n",
        "          ax.set_facecolor('white')\n",
        "          pos = graphviz_layout (G, prog = \"twopi\")\n",
        "\n",
        "          labels = nx.get_edge_attributes(G, 'weight')\n",
        "          nx.draw_networkx(G, pos)\n",
        "          nx.draw_networkx_edge_labels(G, edge_labels= labels, pos = pos)\n",
        "\n",
        "        if mostrar: \n",
        "          print(\"\\nCoste del MST:\", minimumCost)\n",
        " \n",
        " \n",
        "\n",
        "\n",
        "visualize = False\n",
        "verbose = False\n",
        "\n",
        "g = Graph(4)\n",
        "g.addEdge(0, 1, 10)\n",
        "g.addEdge(0, 2, 6)\n",
        "g.addEdge(0, 3, 5)\n",
        "g.addEdge(1, 3, 15)\n",
        "g.addEdge(2, 3, 4)\n",
        "  \n",
        "if visualize:\n",
        "  G = nx.Graph()\n",
        "  for u, v, weight in g.graph:\n",
        "          \n",
        "\n",
        "      G.add_node(u)\n",
        "      G.add_node(v)\n",
        "      G.add_edge(u, v, weight = weight)\n",
        "        \n",
        "  fig, ax = plt.subplots()\n",
        "  ax.set_facecolor('white')\n",
        "  pos = graphviz_layout(G, prog = \"twopi\")\n",
        "\n",
        "  labels = nx.get_edge_attributes(G, 'weight')\n",
        "  nx.draw_networkx(G, pos)\n",
        "  nx.draw_networkx_edge_labels(G, edge_labels= labels, pos = pos)\n",
        "\n",
        "g.KruskalMST(visualize, verbose)\n",
        " "
      ]
    },
    {
      "cell_type": "markdown",
      "source": [
        "#2.2 Ejemplo de ejecución\n",
        "\n",
        "Usemos el siguiente grafo como ejemplo:\n",
        "\n"
      ],
      "metadata": {
        "id": "q_JImXtQhRtm"
      }
    },
    {
      "cell_type": "markdown",
      "source": [
        "![image-108.png](data:image/png;base64,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)"
      ],
      "metadata": {
        "id": "ArRhwJgihzsr"
      }
    },
    {
      "cell_type": "markdown",
      "source": [
        "Seleccionamos la arista con menos peso, en este caso, la arista que conecta a 0 con 2.\n",
        "\n",
        "![image-110.png](data:image/png;base64,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)\n",
        "\n",
        "La siguiente arista de menos peso es la 3 - 4\n",
        "\n",
        "![image-112.png](data:image/png;base64,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)\n",
        "\n",
        "Luego la 0 - 1\n",
        "\n",
        "![image-114.png](data:image/png;base64,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)\n",
        "\n",
        "La siguiente con menos peso es la 0 - 2, pero ya que esta genra un ciclo, nos la saltamos.\n",
        "\n",
        "Tomamos la 2 - 4 y y que todos los nodos están conectados, este es nuestro MST\n",
        "\n",
        "![image-116.png](data:image/png;base64,iVBORw0KGgoAAAANSUhEUgAAAJwAAADHBAMAAAAe3ydKAAAALVBMVEXu7e2enp5gYGBFRUV7e3u+vr7b29v/4OD9oKD////+Kiv/Bwd3Dw/9WloXFxday2fCAAAIh0lEQVRo3u2bPW8iRxiA1/hD2g7zYYnGMgtGcoOCAUtpEAZ8Es3JgLmI5mSDD2kbd0lkS1ekTK4ZfOzaWyRSqjvFSm/d5f5BIqWLotMVNo5LfkMWdmc9szszO+vZNNGNLBkY9vE7M+/XvDOWjFCb9L/AgeGzoRwa7kVNKSrZZyHhjpW9oTw8UJ6EglvK7s9/a/VqCDhd6dmvNEUVx3WizsuFsjBOK6DonihugBK0HUEcSGNvY7IYbryFv22K4fr4bLFH649r+LwPhtM33dKqIrjRluuD85QIDk69lqTxA+HgStQztlRaTgTXtqZKK2v3th5uCuEstR1t6NDWxHD2FG441pEOBedIlw5jsF845rAZwlLo2/FmGEsBFeU4C81ESFGW3EYw2gjVyMZCRuYxgn5PyEG59SIm5u/aKtthBXXuTZavD4z7xhV6VCHcxdsOCrj8VSww/nA9QoPN4P33IrhL8/F4CskIzj6I4F5dm4wSHK5e711c/f143OW72dj6adsPxEydZorng3v11tK97JpsgKPaTOcurv60s6nGHh9Or9m6+uO7U+vFQU0xm/X42QfLBZ5MCjIXbvF2OjfMi49/wY9WuqvdQ1t1PlrinVQlPulOyvl5hvjywymp+6Ul3klO5sONJ7cqLhyu2dbng+kNH06b3qkGYw1tqRcmPb7BFiqp2RLSNMwSb6hx4p5vPTUz/rNrqv7Mxes/vVP5VnYyiRqXV3TrvPj4xnT7yhqn3iX21Ll50cWbKaQk81uFZV7UNhMviJHZ5kVrjr3w4Shf9xOPggOUwaCTccqPo5gXNhtvuHE08/JdKzIO+iAeX+iPYztwlnhE3Nk115aeIB4JxzIvH/EkYmjlrIZ47VAKbF6uIOyL8zEvpnhScPNiiSfx+gpaBsPCrXST3V/kALjL35x46cGBg1lsVpL8tJbyEM09uFh2TTKklrLJS2tnk+YDR7U0CdeGiU08x0frF2AmtOnFjQpI2sVDQ/I0JwN8wCGMUYEHh2aRJTdujO6NOil/Gpbj9psuHFYM0socdTM0ZutpHOcq3sRV3/pKmVT3grjFnk+lqbaJq/d5k7SPlMiFL9092pGdQdL2VnalwMYB9+MNl6kt3q9vMMpw5lTKCG5U9dlmnuw8zzH3pZEUgoOFJW2fUmmK3OZzpF3zURKbbQkTBsTuDbK4eq2SI+zpQSbfQ8WVsIkFyXvaYIx8lDAZeu98C93n2riEPfPgnlKPGBXvesQqnqNSGA5SHG3ecWeQa6RqDVL5TSM4uMHXoXRGWWI2iAMFg4CD0gFHqEKX2RKnuO27cNYfA4nbHkct52HuwHQ1Spg7W3ZQq0U5aojIyiaUKmFlPbWWUTVgLQnTO0+59TwVtJaEWoWnTtVXA9aSMJv1FOUaPsHb41Esu6L5O99Yy/R3/t7YYE/u6AtWrOgIxgojLhTJoK09Os7qCWacBQGzgE4TywJksRzFPJ5i5ygPGVSdI4OaAZgZ1Dy/M0tDXPndeL5WbSU5ryWlKdnnrDSU5cg+QcaSq1VTPpnZp0zLjVs3WKpLdU85J5l+T82NZ3/2S57MTi89yHPF2gjoXLgOYoLiOEwtxXHxXpi4JcygRXEAP0EWxfXxOCCI00pymLiOy0+L4Ty+Swzn8V2BcVpajsHUYclzdhwYtz5RK/b1B917zSAoDmQmal61vjfwZi6BpVs2pUvK2MZQBKdP1Hplx7XlFMIZgxuZEuAegZN6P5k4QAxwgZeiPi3HK2Y4ihADXGDpDhJ7x7v7ppLIoeBMAQ2T1CGntzPcoXlzSMZwL+TZD8PINEqiYeKWJupgWkVxC9PewjTFwsVTVFx+cliJ3aD72fVpap2JG9NSNBO3OhlOFm5RXLeSOsozcKCu0nH65MVk+RbLjc3zDhauT82CHoPTSzITZw72Dh2sYW6aGbgOPfM2cUfTaD6OLcXRdPNopvlkHCsbNXH1aaE/eYIqSqdYihe3VQounmLi9OEQDFWsjiIdyoeHMhm3xMrjAxsZYF4cC4zrM1PloDiGkjwG57NlCYjz27IExPltWYLhlnaMEHHA73ZhMNxgwwgRRwr7Arh4Kkwcz742AI6n9s6Pi/CcDHDjdF8lCYTrVI0QcRxKEgTHoSQBcOOyIY4DTUJZhbXvXv29sapScHqiVtrt8SuJcZRprCYa22tE3EFxN9lKFGcRU9/mOXw7LpknYWblo75GwB2X9k0GWK7vMcM+YoMlu0ixnPFWeRZgDUivR7mOopDp9daggHMh2zQHLiWJIL6wX3Xh+ogNLN7wCJeV0Tc4Dr63xKtxLAR+1S3SxHB4sZN9K84ugKmE2qVE7ARp/7G6rCaG5nfuTv9S6tjlb7AytLvTv9DrrtJbdXFKCV/ztTH3BXWAnaYQO1kN3gAfPUE/kLDOUREO0q/m7lTRT/6xX8yPPCSs8zgJFbjNeyKQhYs4P0OQsE7ZgNoc+epbZvvatrBRDuLmVXsbZ3fqLZgwRd6z28+2og9U+MRrBGd3akV4xn/+xydm+85+Ip+AN78IODPwo3+LNXf2EwkFnl299g62a9TtFT33w0Hv5JysRbxLMSg6nT3OlTX2UV3AFUXvqpyK4tXzxIPegV1iJ9JedIdkq3Aa6cgS70TLZNNbXF63+MxTPM9J1ErfdRUwkiI5LInskLwO6sQVP9z/VGKdHdk43d3pWYn1nMGcvAbm3HEPAjwTDSpR1ycDbLSuc7JI0+tasbF5LmXih18dbLdt6Fjc997QOL/zOEC0kj8qu8I2us8clQkbeNm7l5Q9+YXkSTMouR3hOlfb0aZ2zvOtvjPcuO8/tcFkwea1HTkfcCCWltHfXLxSV13pZtIqYQwgtp18Nmxl0vzXtPSWUiwqSfLBlnmAVixm14wgTVqRJPYMi7TPuM+4z7j/GPcvkfOThcL1BE0AAAAASUVORK5CYII=)"
      ],
      "metadata": {
        "id": "WhTPqSuzh2TK"
      }
    },
    {
      "cell_type": "markdown",
      "source": [
        "##Visualize == True"
      ],
      "metadata": {
        "id": "4l8BPM87UdNp"
      }
    },
    {
      "cell_type": "code",
      "source": [
        "\n",
        "import pydot\n",
        "from networkx.drawing.nx_pydot import graphviz_layout\n",
        "\n",
        "visualize = True\n",
        "verbose = False\n",
        "\n",
        "g = Graph(4)\n",
        "g.addEdge(0, 1, 10)\n",
        "g.addEdge(0, 2, 6)\n",
        "g.addEdge(0, 3, 5)\n",
        "g.addEdge(1, 3, 15)\n",
        "g.addEdge(2, 3, 4)\n",
        "  \n",
        "if visualize:\n",
        "  G = nx.Graph()\n",
        "  for u, v, weight in g.graph:\n",
        "          \n",
        "\n",
        "      G.add_node(u)\n",
        "      G.add_node(v)\n",
        "      G.add_edge(u, v, weight = weight)\n",
        "        \n",
        "  fig, ax = plt.subplots()\n",
        "  ax.set_facecolor('white')\n",
        "  pos = graphviz_layout(G, prog=\"dot\")\n",
        "\n",
        "  labels = nx.get_edge_attributes(G, 'weight')\n",
        "  nx.draw_networkx(G, pos)\n",
        "  nx.draw_networkx_edge_labels(G, edge_labels= labels, pos = pos)\n",
        "\n",
        "g.KruskalMST(visualize, verbose)"
      ],
      "metadata": {
        "colab": {
          "base_uri": "https://localhost:8080/",
          "height": 600
        },
        "id": "RUTkRdQJS7Qy",
        "outputId": "f94a4beb-493c-4559-bc07-f5d6c04b270a"
      },
      "execution_count": 20,
      "outputs": [
        {
          "output_type": "stream",
          "name": "stdout",
          "text": [
            "Aristas obtenidas\n",
            "\n",
            "( nodo 2 ) -- 4 -- ( nodo 3 )\n",
            "( nodo 0 ) -- 5 -- ( nodo 3 )\n",
            "( nodo 0 ) -- 10 -- ( nodo 1 )\n",
            "\n",
            "Coste del MST: 19\n"
          ]
        },
        {
          "output_type": "display_data",
          "data": {
            "text/plain": [
              "<Figure size 432x288 with 1 Axes>"
            ],
            "image/png": "[encoded data removed]"
          },
          "metadata": {}
        },
        {
          "output_type": "display_data",
          "data": {
            "text/plain": [
              "<Figure size 432x288 with 1 Axes>"
            ],
            "image/png": "[encoded data removed]"
          },
          "metadata": {}
        }
      ]
    },
    {
      "cell_type": "markdown",
      "source": [
        "##Verbose == True"
      ],
      "metadata": {
        "id": "cvjjGr02UbOA"
      }
    },
    {
      "cell_type": "code",
      "source": [
        "def instanceGenerator(V):\n",
        "  g = Graph(V)\n",
        "  for i in range(V):\n",
        "    for j in range(i+1, V):\n",
        "      g.graph.append([i, j, random.randint(1, 100)])\n",
        "  \n",
        "  return g\n",
        "\n"
      ],
      "metadata": {
        "id": "VlZwcUMdyMxd"
      },
      "execution_count": 38,
      "outputs": []
    },
    {
      "cell_type": "code",
      "source": [
        "\n",
        "import pydot\n",
        "from networkx.drawing.nx_pydot import graphviz_layout\n",
        "\n",
        "visualize = False\n",
        "verbose = True\n",
        "\n",
        "g = Graph(4)\n",
        "g.addEdge(0, 1, 10)\n",
        "g.addEdge(0, 2, 6)\n",
        "g.addEdge(0, 3, 5)\n",
        "g.addEdge(1, 3, 15)\n",
        "g.addEdge(2, 3, 4)\n",
        "  \n",
        "if visualize:\n",
        "  G = nx.Graph()\n",
        "  for u, v, weight in g.graph:\n",
        "          \n",
        "\n",
        "      G.add_node(u)\n",
        "      G.add_node(v)\n",
        "      G.add_edge(u, v, weight = weight)\n",
        "        \n",
        "  fig, ax = plt.subplots()\n",
        "  ax.set_facecolor('white')\n",
        "  pos = graphviz_layout(G, prog=\"dot\")\n",
        "\n",
        "  labels = nx.get_edge_attributes(G, 'weight')\n",
        "  nx.draw_networkx(G, pos)\n",
        "  nx.draw_networkx_edge_labels(G, edge_labels= labels, pos = pos)\n",
        "\n",
        "g.KruskalMST(visualize, verbose)"
      ],
      "metadata": {
        "colab": {
          "base_uri": "https://localhost:8080/"
        },
        "id": "bYpsg7IYUSsb",
        "outputId": "588d3524-cfdc-45af-e8e6-1968c0bb9ad1"
      },
      "execution_count": 39,
      "outputs": [
        {
          "output_type": "stream",
          "name": "stdout",
          "text": [
            "Conexiones del grafo:\n",
            "\n",
            "( nodo 0 ) -- 10 -- ( nodo 1 )\n",
            "( nodo 0 ) -- 6 -- ( nodo 2 )\n",
            "( nodo 0 ) -- 5 -- ( nodo 3 )\n",
            "( nodo 1 ) -- 15 -- ( nodo 3 )\n",
            "( nodo 2 ) -- 4 -- ( nodo 3 )\n",
            "\n",
            "\n",
            "Grafo ordenado por peso de los vertices:\n",
            "\n",
            "( nodo 2 ) -- 4 -- ( nodo 3 )\n",
            "( nodo 0 ) -- 5 -- ( nodo 3 )\n",
            "( nodo 0 ) -- 6 -- ( nodo 2 )\n",
            "( nodo 0 ) -- 10 -- ( nodo 1 )\n",
            "( nodo 1 ) -- 15 -- ( nodo 3 )\n",
            "\n",
            "Comprobacion de nodos:\n",
            "\n",
            "Padre ( nodo 2 ) ---- Hijo ( nodo 2 )\n",
            "Padre ( nodo 3 ) ---- Hijo ( nodo 3 )\n",
            "Padres distintos, se agrega la arista\n",
            "\n",
            "Padre ( nodo 0 ) ---- Hijo ( nodo 0 )\n",
            "Padre ( nodo 3 ) ---- Hijo ( nodo 2 )\n",
            "Padres distintos, se agrega la arista\n",
            "\n",
            "Padre ( nodo 0 ) ---- Hijo ( nodo 2 )\n",
            "Padre ( nodo 2 ) ---- Hijo ( nodo 2 )\n",
            "Padres iguales, no se agrega la arista\n",
            "\n",
            "Padre ( nodo 0 ) ---- Hijo ( nodo 2 )\n",
            "Padre ( nodo 1 ) ---- Hijo ( nodo 1 )\n",
            "Padres distintos, se agrega la arista\n",
            "\n"
          ]
        }
      ]
    },
    {
      "cell_type": "markdown",
      "source": [
        "#Correctitud"
      ],
      "metadata": {
        "id": "nF9_NVzEp-gQ"
      }
    },
    {
      "cell_type": "markdown",
      "source": [
        "##Teorema\n",
        "\n",
        "El algoritmo entrega un árbol de costo mínimo que conecta todos los nodos con arcos, de manera qu no se generen ciclos.\n",
        "\n",
        "##Prueba del teorema\n",
        "\n",
        "Para comprobar la correctitud, utilizaremos la propiedad invariante de bucle:\n",
        "\n",
        "> En cada iteración $i$ del bucle, se tendrá un árbol con ϵ arcos, siendo estos menores a $V-1$, ni que los mismos generen ciclos.\n",
        "\n",
        "Lo que se quiere conseguir es que el árbol contega $V$ nodos y $V-1$ arcos, y en cada iteración $i$ es un nodo que se revisa.\n",
        "\n",
        "Kruskal puede utilizar más de un algoritmo para verificar si se generan ciclos, pero en esta implmentación se utilizará *Union-Find*.\n",
        "###Inicialización\n",
        "\n",
        "En la iteración $i=1$, se tendrá un árbol vacío y se revisará el arco con menor costo ($i$). Se llama a *UF* (Union-Find), para verificar si hay ciclos al agregar el arco.\n",
        "\n",
        "> Como se utiliza la primera iteración, no es posible generar ciclos con menos de 3 arcos, pero de igual manera es aplicable para un mayor número de iteración, esto asumiendo que Union-Find sea correcto.\n",
        "\n",
        "###Mantención\n",
        "\n",
        "Asumiendo que la inicialización es correcto, consideraremos que $i = x$ es el arco que se busca agregar\n",
        "\n",
        "    1 < x < V\n",
        "\n",
        "Tomando lo anterior, se revisa el arco $x$, si los nodos que se encuentran conectado al arco, son parte del mismo sub-conjunto, al agregar ese arco se creará un ciclo, por lo que este no se agregará al árbol. En caso que no se encuentren en el mismo sub-conjunto, si se agrega al árbol.\n",
        "\n",
        "La operación se realiza con *UF*, especificamente con el *Find*.\n",
        "\n",
        "> Find genera unos nombres para cada sub-conjunto de nodos, en base a los arcos con los que esten conectados. Los nodos estan previamente ordenados según su costo.\n",
        "\n",
        "El árbol jamás tendrá más de $V-1$ arcos, ya que en caso contrario, significa que hay un ciclo presente.\n",
        "\n",
        "Con lo anterior, al finalizar la iteración $i = x+1$ se seguirá cumpliendo la propiedad.\n",
        "\n",
        "###Conclusión\n",
        "\n",
        "Como la propiedad es correcta al inicio y final de cada iteración, al finalizar la n-ésima iteración, donde ϵ $= V-1$, se tendrá un árbol con $V$ nodos conectados si ciclos entre si."
      ],
      "metadata": {
        "id": "DP8-Lax9qBRm"
      }
    },
    {
      "cell_type": "markdown",
      "source": [
        "#Tiempo de Ejecución"
      ],
      "metadata": {
        "id": "ow-GGIP1qBn3"
      }
    },
    {
      "cell_type": "markdown",
      "source": [
        "El algoritmo Kruskal posee una complejidad temporal de $O(E*Log(V))$.\n",
        "\n",
        "Lo anterior se debe al paso a paso del algoritmo, ya que en un comienzo se ordenar los arcos ($E$) según su costo, lo que toma $O(E*Log(E))$.\n",
        "\n",
        "Luego se revisan los arcos que se puedan conectar, mientras que no se generen ciclos, ni que la cantidad de nodos conectados sea mayor a $V-1$. Para esto se utiliza *Union-Find*, que toma como máximo $O(log(V))$, esta operación se hace para todos los arcos del grafo. La complejidad general de esta parte sería de $O(E*(Log(V))$.\n",
        "\n",
        "Sumando las 2 operaciones da $O(E*Log(E)) + O(E*Log(V)). Lo que tambien se puede expresar como $O(E*(Log(E) + Log(V) ))$.\n",
        "\n",
        "> $V$ es la cantidad de nodos del grafo recibido y $E$ es la cantidad de arcos del mismo grafo, y el estimado de estos es que se encuentran entre $V-1 \\leq E \\leq 2V$\n",
        "\n",
        "En algunos casos los tiempos de ejecución suelen ser de $O(E) = O(V)$, lo que significa que $O(log(E))$ es igual a $O(Log(V))$.\n",
        "\n",
        "Lo que significa que la suma de los tiempos de anteriores se pueden simplificar, de manera que quede como:\n",
        "\n",
        "$O(E*(Log(E) + Log(V) ))$ $=$ $O(E*(2*Log(E)))$.\n",
        "\n",
        "Lo anterior se puede simplificar aún más, pero para mayor precisión general, la complejidad se deja expresada como $O(E*Log(V))$, ya que aplica para más casos, ya que a veces $E$ llega a ser mucho mayor a $V$"
      ],
      "metadata": {
        "id": "uHuMVy79qEVt"
      }
    },
    {
      "cell_type": "markdown",
      "source": [
        "#Experimentos"
      ],
      "metadata": {
        "id": "ZeLAb-vKqFBK"
      }
    },
    {
      "cell_type": "markdown",
      "source": [
        "###Prim"
      ],
      "metadata": {
        "id": "L29T31L08Hnj"
      }
    },
    {
      "cell_type": "code",
      "source": [
        "import sys  # Library for INT_MAX\n",
        " \n",
        " \n",
        "class Graph2():\n",
        "    def __init__(self, vertices):\n",
        "        self.V = vertices\n",
        "        self.graph = [[0 for column in range(vertices)]\n",
        "                      for row in range(vertices)]\n",
        " \n",
        "    # A utility function to print the constructed MST stored in parent[]\n",
        "    def printMST(self, parent):\n",
        "        print(\"Edge \\tWeight\")\n",
        "        for i in range(1, self.V):\n",
        "            print(parent[i], \"-\", i, \"\\t\", self.graph[i][parent[i]])\n",
        "\n",
        "    def MST(self, parent):\n",
        "        r = []\n",
        "        for i in range(1, self.V):\n",
        "            r.append([parent[i], i, self.graph[i][parent[i]]])\n",
        "        return r\n",
        " \n",
        "    # A utility function to find the vertex with\n",
        "    # minimum distance value, from the set of vertices\n",
        "    # not yet included in shortest path tree\n",
        "    def minKey(self, key, mstSet):\n",
        "        # Initialize min value\n",
        "        min = sys.maxsize\n",
        "        min_index = -1\n",
        " \n",
        "        for v in range(self.V):\n",
        "            if key[v] < min and mstSet[v] == False:\n",
        "                min = key[v]\n",
        "                min_index = v\n",
        " \n",
        "        return min_index\n",
        " \n",
        "    # Function to construct and print MST for a graph\n",
        "    # represented using adjacency matrix representation\n",
        "    def primMST(self):\n",
        " \n",
        "        # Key values used to pick minimum weight edge in cut\n",
        "        key = [sys.maxsize] * self.V\n",
        "        parent = [None] * self.V  # Array to store constructed MST\n",
        "        # Make key 0 so that this vertex is picked as first vertex\n",
        "        key[0] = 0\n",
        "        mstSet = [False] * self.V\n",
        " \n",
        "        parent[0] = -1  # First node is always the root of\n",
        " \n",
        "        for cout in range(self.V):\n",
        " \n",
        "            # Pick the minimum distance vertex from\n",
        "            # the set of vertices not yet processed.\n",
        "            # u is always equal to src in first iteration\n",
        "            u = self.minKey(key, mstSet)\n",
        " \n",
        "            # Put the minimum distance vertex in\n",
        "            # the shortest path tree\n",
        "            mstSet[u] = True\n",
        " \n",
        "            # Update dist value of the adjacent vertices\n",
        "            # of the picked vertex only if the current\n",
        "            # distance is greater than new distance and\n",
        "            # the vertex in not in the shortest path tree\n",
        "            for v in range(self.V):\n",
        " \n",
        "                # graph[u][v] is non zero only for adjacent vertices of m\n",
        "                # mstSet[v] is false for vertices not yet included in MST\n",
        "                # Update the key only if graph[u][v] is smaller than key[v]\n",
        "                if self.graph[u][v] > 0 and mstSet[v] == False and key[v] > self.graph[u][v]:\n",
        "                    key[v] = self.graph[u][v]\n",
        "                    parent[v] = u\n",
        "        \n",
        "        return self.MST(parent)\n",
        "\n",
        "def graphToGraph2(G, n):\n",
        "    g = Graph2(n)\n",
        "\n",
        "    for u,v,w in G.graph:\n",
        "        g.graph[u-1][v-1] = w\n",
        "        g.graph[v-1][u-1] = w\n",
        "\n",
        "    return g\n"
      ],
      "metadata": {
        "id": "qkf2yMimSeNw"
      },
      "execution_count": 51,
      "outputs": []
    },
    {
      "cell_type": "markdown",
      "source": [
        "##Tiempo de ejecución Kruskal"
      ],
      "metadata": {
        "id": "BmTsMPW38JUl"
      }
    },
    {
      "cell_type": "code",
      "source": [
        "import matplotlib.pyplot as plt\n",
        "import datetime\n",
        "from timeit import repeat\n",
        "\n",
        "import random\n",
        "\n",
        "def graph_instance_creator(V):\n",
        "  graph = []\n",
        "  for i in range(V):\n",
        "    for j in range(i+1, V):\n",
        "      graph.append([i, j, random.randint(1, 500)])\n",
        "  \n",
        "  return graph\n",
        "\n",
        "\n",
        "x=[]; y=[]; \n",
        "\n",
        "\n",
        "\n",
        "for n in range(5,301):\n",
        "  cont = [0]\n",
        "  g = Graph(n)\n",
        "  g.graph = graph_instance_creator(n)\n",
        "\n",
        "  t = repeat(setup = \"from __main__ import Graph\", stmt = lambda: g.KruskalMST(False, False,False), number = 10, repeat = 1)\n",
        "\n",
        "  x.append(n)\n",
        "  y.append(t)\n",
        "\n",
        "\n",
        "plt.plot(x,y)\n",
        "plt.legend([\"Tiempo de ejecucion\"])\n",
        "\n",
        "plt.xlabel('n')\n",
        "plt.ylabel('time in ms')\n",
        "plt.show()"
      ],
      "metadata": {
        "colab": {
          "base_uri": "https://localhost:8080/",
          "height": 279
        },
        "id": "vtIJsJnambUS",
        "outputId": "b837224b-29ff-4d0a-fd85-a064ec281bf7"
      },
      "execution_count": 80,
      "outputs": [
        {
          "output_type": "display_data",
          "data": {
            "text/plain": [
              "<Figure size 432x288 with 1 Axes>"
            ],
            "image/png": "[encoded data removed]"
          },
          "metadata": {
            "needs_background": "light"
          }
        }
      ]
    },
    {
      "cell_type": "markdown",
      "source": [
        "Se puede ver en el gráfico como el tiempo de ejecución de kruskal es bastante bajo considerando la cantidad de datos que proceso, esto se debe principalmente a que funciona como un algoritmo greedy, lo que significa que funciona en base a lo que parece mejor, lo que le da la capacidad un buen resultado en un corto periodo de tiempo."
      ],
      "metadata": {
        "id": "zP5VAMnq5mfz"
      }
    },
    {
      "cell_type": "code",
      "source": [
        "import matplotlib.pyplot as plt\n",
        "import datetime\n",
        "from timeit import repeat\n",
        "\n",
        "x=[]; y=[]; y1=[]\n",
        "\n",
        "for n in range(5,71):\n",
        "    g = Graph(n)\n",
        "    g.graph = graph_instance_creator(n)\n",
        "    grafo2 = graphToGraph2(g, n)\n",
        "    #la función repeat está ejecutando 10 veces Kruskal con el grafo de n nodos y retorna el mejor tiepo obtenido.\n",
        "    t = repeat(setup=\"from __main__ import Graph\", stmt=f\"{g.KruskalMST()}\", repeat=1, number=10)\n",
        "    t1 = repeat(setup=\"from __main__ import Graph2\", stmt=f\"{grafo2.primMST()}\", repeat=1, number=10)\n",
        "\n",
        "    x.append(n)\n",
        "    y.append(t)\n",
        "    y1.append(t1)\n",
        "\n",
        "\n",
        "plt.plot(x,y)\n",
        "plt.plot(x,y1)\n",
        "plt.legend([\"Kruskal\", \"Prim\"])\n",
        "\n",
        "plt.xlabel('Cantidad de nodos')\n",
        "plt.ylabel('Tiempo en ms')\n",
        "plt.show()"
      ],
      "metadata": {
        "colab": {
          "base_uri": "https://localhost:8080/",
          "height": 290
        },
        "id": "FeLsY2Qa08Vk",
        "outputId": "97ecca55-553c-4945-c7f6-396aee0096ce"
      },
      "execution_count": 79,
      "outputs": [
        {
          "output_type": "display_data",
          "data": {
            "text/plain": [
              "<Figure size 432x288 with 1 Axes>"
            ],
            "image/png": "[encoded data removed]"
          },
          "metadata": {
            "needs_background": "light"
          }
        }
      ]
    },
    {
      "cell_type": "markdown",
      "source": [
        "Se puede ver en la comparativa de los algoritmos, la gran diferencia que existe entre estos, esto se debe principalmente a la diferencia entre tiempo de ejecución de los algoritmos, ya que en el caso de Prim es de $O(v^2)$, mientras que el de kruskal es de $O(E*log(V))$, donde ya se nota la diferencia entre estos, otro punto a dedstacar es que ambos algoritmos estan enfocados en distintos objetivos, ya que kruskal es usado generalmente en grafos dispersos, mientras que Prim es grafos mucho más densos. Y estos al estar enfocados en ciertos casos puede afectar sus rendimientos al enfrenarse a otro problema."
      ],
      "metadata": {
        "id": "JZesAOA27Qc1"
      }
    }
  ]
}