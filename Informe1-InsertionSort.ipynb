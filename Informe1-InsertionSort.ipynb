{
  "nbformat": 4,
  "nbformat_minor": 0,
  "metadata": {
    "colab": {
      "name": "Untitled2.ipynb",
      "provenance": [],
      "collapsed_sections": [],
      "authorship_tag": "ABX9TyPeRxYU1VjCZbjF4xaB1vSi",
      "include_colab_link": true
    },
    "kernelspec": {
      "name": "python3",
      "display_name": "Python 3"
    },
    "language_info": {
      "name": "python"
    }
  },
  "cells": [
    {
      "cell_type": "markdown",
      "metadata": {
        "id": "view-in-github",
        "colab_type": "text"
      },
      "source": [
        "<a href=\"https://colab.research.google.com/github/Sptfff/ADA-Informes/blob/main/Informe1-InsertionSort.ipynb\" target=\"_parent\"><img src=\"https://colab.research.google.com/assets/colab-badge.svg\" alt=\"Open In Colab\"/></a>"
      ]
    },
    {
      "cell_type": "markdown",
      "source": [
        "#1. Problemas de ordenamiento\n",
        "**Entrada:** Secuencia de números de tamaño *N*:  $[a_1,a_2,...,a_n]$\n",
        "\n",
        "**Salida:** Cambio ordenado de la secuencia de entrada: $[a_1',a_2',...,a_n']$, de modo que la secuencia final siga el orden $a_1'\\leq a_2' \\leq... \\leq a_n'$.\n",
        "\n",
        "![image](https://imgur.com/3IzqosC.jpg)\n",
        "\n",
        "Los problemas de ordenamiento siempre han sido \"complejos\" de completar, ya sea por problema de espacio o por un gran número de lo que se desea ordenar.\n",
        "Por ejemplo en computación siempre se ha buscado la forma más eficiente de ordenar datos, como podría ser una sucesión númerica.\n",
        "\n",
        "Y aunque a primera vista esto parece un problema sencillo de solucionar, su mayor problema radica en su eficiencia, ya que, aunque la sucesión sea pequeña, la mayoria de algoritmos necesito un gran número de iteraciones para ordenar todo.\n",
        "\n"
      ],
      "metadata": {
        "id": "wi82fvDY-8Iq"
      }
    },
    {
      "cell_type": "markdown",
      "source": [
        "# 2. Descripción del Algoritmo\n",
        "\n",
        "Insertion Sort recibe un Arreglo *A* de tamaño\n",
        "\n",
        "![image](https://imgur.com/WiGHyb0.jpg)\n",
        "\n",
        "Y donde, por ejemplo, tomamos el *A[3]* y comparamos su dato con el dato de su antecesor, que sería *A[2]* \n",
        "\n",
        "![image](https://imgur.com/xOKQLTm.jpg)\n",
        "\n",
        "Como el de dato *A[3]* es menor al dato de *A[2]* se intercambian de posición\n",
        "\n",
        "![image](https://imgur.com/TbAvyaw.jpg)\n",
        "\n",
        "Luego de realizar el cambio, se vuelve a comparar el dato con el nuevo antecesor\n",
        "\n",
        "![image](https://imgur.com/VuA6LI7.jpg)\n",
        "\n",
        "Debido a que el dato de *A[2]* no es menor al dato de *A[1]* no se realizan cambios en sus posiciones\n",
        "\n",
        "![image](https://imgur.com/xdXuTQs.jpg)\n",
        "\n",
        "\n",
        "\n"
      ],
      "metadata": {
        "id": "In4YPPBZmGGb"
      }
    },
    {
      "cell_type": "markdown",
      "source": [
        "##2.1 Código"
      ],
      "metadata": {
        "id": "-0a5cANKSAm8"
      }
    },
    {
      "cell_type": "code",
      "source": [
        "import random\n",
        "from termcolor import colored\n",
        "import copy\n",
        "\n",
        "def insertion_sort(a, verbose=False):\n",
        "    n = len(a)\n",
        "    T = 0 #contador de comparaciones\n",
        "\n",
        "    if verbose == True: print(\"input array:\",a)\n",
        "\n",
        "    for i in range(1,n+1):\n",
        "        if verbose == True: print(\"\\nPasada\",i)\n",
        "        \n",
        "        already_sorted = True# Flag que indica si el arreglo ya se encuentra ordenado\n",
        "\n",
        "        for z in range (n):\n",
        "          T += 1\n",
        "          dato = a[z]\n",
        "          j = z-1\n",
        "          while j >= 0 and dato < a[j]:\n",
        "            a[j+1] = a[j]\n",
        "            j-= 1\n",
        "            a[j+1] = dato\n",
        "            if verbose == True: \n",
        "              print(str(a[:j])[1:-1],\",\",colored(f\"{str(a[j:j+2])[1:-1]}\",\"red\"),\",\",str(a[j+2:])[1:-1])\n",
        "\n",
        "            already_sorted = False\n",
        "\n",
        "        if already_sorted == False and verbose == True: \n",
        "           print(\"\\nAl finalizar pasada:\")\n",
        "           print(str(a[:n-i])[1:-1],\",\",colored(f\"{str(a[n-i:])[1:-1]}\",\"blue\"))\n",
        "\n",
        "        if already_sorted:\n",
        "            if verbose == True: print(\"is sorted!\")\n",
        "            break\n",
        "\n",
        "    if verbose == True: print(\"\\noutput array:\",a)\n",
        "\n",
        "    return a, T\n",
        "\n",
        "# Ejemplo\n",
        "A = [10,12,14,16,2,7,98,101,2,112,43,5,1]\n",
        "print(\"Entrada: \",A)\n",
        "A, counter = insertion_sort(A)\n",
        "print(\"Salida: \",A)\n",
        "print(\"# comparaciones: \", counter)"
      ],
      "metadata": {
        "colab": {
          "base_uri": "https://localhost:8080/"
        },
        "id": "dmuqvkxZgNJI",
        "outputId": "7152c85a-73d9-489b-a2de-68e671c90820"
      },
      "execution_count": null,
      "outputs": [
        {
          "output_type": "stream",
          "name": "stdout",
          "text": [
            "Entrada:  [10, 12, 14, 16, 2, 7, 98, 101, 2, 112, 43, 5, 1]\n",
            "Salida:  [1, 2, 2, 5, 7, 10, 12, 14, 16, 43, 98, 101, 112]\n",
            "# comparaciones:  26\n"
          ]
        }
      ]
    },
    {
      "cell_type": "markdown",
      "source": [
        "## 2.2 Ejecución paso a paso"
      ],
      "metadata": {
        "id": "0mkXZgZelnrm"
      }
    },
    {
      "cell_type": "code",
      "source": [
        "import random\n",
        "a = random.sample(range(1, 100), 6)\n",
        "a,c= insertion_sort(a,verbose=True)"
      ],
      "metadata": {
        "colab": {
          "base_uri": "https://localhost:8080/"
        },
        "id": "zQ75BfZ1kzgf",
        "outputId": "d33d3092-1263-49b4-985a-41dd3d3c5a01"
      },
      "execution_count": null,
      "outputs": [
        {
          "output_type": "stream",
          "name": "stdout",
          "text": [
            "input array: [44, 69, 79, 98, 67, 74]\n",
            "\n",
            "Pasada 1\n",
            "44, 69 , \u001b[31m79, 67\u001b[0m , 98, 74\n",
            "44 , \u001b[31m69, 67\u001b[0m , 79, 98, 74\n",
            " , \u001b[31m44, 67\u001b[0m , 69, 79, 98, 74\n",
            "44, 67, 69 , \u001b[31m79, 74\u001b[0m , 98\n",
            "44, 67 , \u001b[31m69, 74\u001b[0m , 79, 98\n",
            "\n",
            "Al finalizar pasada:\n",
            "44, 67, 69, 74, 79 , \u001b[34m98\u001b[0m\n",
            "\n",
            "Pasada 2\n",
            "is sorted!\n",
            "\n",
            "output array: [44, 67, 69, 74, 79, 98]\n"
          ]
        }
      ]
    },
    {
      "cell_type": "markdown",
      "source": [
        "#3. Tiempo de ejecución\n",
        "\n",
        "Insertion Sort posee una complejidad temporal de *O(N^2)*, debido a que en el peor caso, como podría ser que el dato menor se encuentre al final del arreglo, este necesitaria *n-1* iteraciones para que el dato quede ordenado"
      ],
      "metadata": {
        "id": "2jyydUrkvC6U"
      }
    },
    {
      "cell_type": "markdown",
      "source": [
        "#4. Correctitud\n",
        "### **Teorema (Correctitud).**\n",
        "\n",
        "*Insertion Sort* retorna un arreglo $[a_1',a_2',...,a_n']$, donde se encuentra los mismo elementos que recibio del arreglo de entrada, pero con los datos ordenador de menor a mayor: $a_1'\\leq a_2' \\leq... \\leq a_n'$.\n",
        "\n",
        "##Prueba del Teorema\n",
        "Como ya se vio, en cada iteración se agrega un nuevo elemento ordenado al arreglo.\n",
        "Por lo que comprobaremos la siguiente **propiedad invariante de bucle** para Insertion Sort.\n",
        ">Al inicio de cada iteración *k* del bucle más grande, los datos previos a *A[k]* consisten en los elementos del arreglo original pero ordenados de menor a mayor\n",
        "\n",
        "\n",
        "##Inicialición \n",
        "\n",
        "\n",
        "##Mantención\n",
        "Tomando como referencia todo lo anterior se puede asumir que al comienzo de cada iteración, se cumple la propiedad, es decir, los datos previos a la ubicación actual de la iteración se encuentran ordenados de menor a mayor, siendo *A[k]* mayor a los elemento previos.\n",
        "\n",
        "##Correctitud\n",
        "Tomando de referencia los puntos anteriores se puede concluir que la *propiedad invariante de bucle* es verdadera ya que esta se cumple antes, y despúes de cada iteración. Por lo que se sabe que al finalizar la n-ésima iteración, el algoritmo retornara un arreglo $[a_1',a_2',...,a_n']$ ordenado de menor a mayor con los mismos elementos que el arreglo de entrada.\n"
      ],
      "metadata": {
        "id": "vvqDcG6Ruy6A"
      }
    },
    {
      "cell_type": "markdown",
      "source": [
        "# 5. Experimentación"
      ],
      "metadata": {
        "id": "VwYMZizx8LKp"
      }
    },
    {
      "cell_type": "code",
      "source": [
        "import matplotlib.pyplot as plt\n",
        "import random\n",
        "x=[n for n in range(5,20)] \n",
        "y1=[n*(n-1)/2 for n in range(5,20)] # worst case\n",
        "y2=[n-1 for n in range(5,20)] # best case\n",
        "y=[]; \n",
        "\n",
        "for n in range(5,20):\n",
        "  a = random.sample(range(1, 50), n)\n",
        "  a,counter = insertion_sort(a)\n",
        "  y.append(counter)\n",
        "\n",
        "plt.plot(x,y)\n",
        "plt.plot(x,y1)\n",
        "plt.plot(x,y2)\n",
        "plt.legend([\"Insertion Sort\", \"theoretical worst case\", \"theoretical best case\"])\n",
        "\n",
        "plt.xlabel('n')\n",
        "plt.ylabel('number of operations')\n",
        "plt.show()"
      ],
      "metadata": {
        "colab": {
          "base_uri": "https://localhost:8080/",
          "height": 244
        },
        "id": "xTsWMt0yxcl5",
        "outputId": "e9f8d207-0268-4495-cad9-fbc89cc2c8c4"
      },
      "execution_count": 14,
      "outputs": [
        {
          "output_type": "error",
          "ename": "NameError",
          "evalue": "ignored",
          "traceback": [
            "\u001b[0;31m---------------------------------------------------------------------------\u001b[0m",
            "\u001b[0;31mNameError\u001b[0m                                 Traceback (most recent call last)",
            "\u001b[0;32m<ipython-input-14-edc8e4d12e50>\u001b[0m in \u001b[0;36m<module>\u001b[0;34m()\u001b[0m\n\u001b[1;32m      8\u001b[0m \u001b[0;32mfor\u001b[0m \u001b[0mn\u001b[0m \u001b[0;32min\u001b[0m \u001b[0mrange\u001b[0m\u001b[0;34m(\u001b[0m\u001b[0;36m5\u001b[0m\u001b[0;34m,\u001b[0m\u001b[0;36m20\u001b[0m\u001b[0;34m)\u001b[0m\u001b[0;34m:\u001b[0m\u001b[0;34m\u001b[0m\u001b[0;34m\u001b[0m\u001b[0m\n\u001b[1;32m      9\u001b[0m   \u001b[0ma\u001b[0m \u001b[0;34m=\u001b[0m \u001b[0mrandom\u001b[0m\u001b[0;34m.\u001b[0m\u001b[0msample\u001b[0m\u001b[0;34m(\u001b[0m\u001b[0mrange\u001b[0m\u001b[0;34m(\u001b[0m\u001b[0;36m1\u001b[0m\u001b[0;34m,\u001b[0m \u001b[0;36m50\u001b[0m\u001b[0;34m)\u001b[0m\u001b[0;34m,\u001b[0m \u001b[0mn\u001b[0m\u001b[0;34m)\u001b[0m\u001b[0;34m\u001b[0m\u001b[0;34m\u001b[0m\u001b[0m\n\u001b[0;32m---> 10\u001b[0;31m   \u001b[0ma\u001b[0m\u001b[0;34m,\u001b[0m\u001b[0mcounter\u001b[0m \u001b[0;34m=\u001b[0m \u001b[0minsertion_sort\u001b[0m\u001b[0;34m(\u001b[0m\u001b[0ma\u001b[0m\u001b[0;34m)\u001b[0m\u001b[0;34m\u001b[0m\u001b[0;34m\u001b[0m\u001b[0m\n\u001b[0m\u001b[1;32m     11\u001b[0m   \u001b[0my\u001b[0m\u001b[0;34m.\u001b[0m\u001b[0mappend\u001b[0m\u001b[0;34m(\u001b[0m\u001b[0mcounter\u001b[0m\u001b[0;34m)\u001b[0m\u001b[0;34m\u001b[0m\u001b[0;34m\u001b[0m\u001b[0m\n\u001b[1;32m     12\u001b[0m \u001b[0;34m\u001b[0m\u001b[0m\n",
            "\u001b[0;31mNameError\u001b[0m: name 'insertion_sort' is not defined"
          ]
        }
      ]
    },
    {
      "cell_type": "code",
      "source": [
        "import matplotlib.pyplot as plt\n",
        "import datetime\n",
        "from timeit import repeat\n",
        "\n",
        "x=[]; y=[]\n",
        "\n",
        "for n in range(5,500):\n",
        "\n",
        "  a = random.sample(range(1, 1000), n)\n",
        "\n",
        "  #la función repeat está ejecutando 20 veces bubble_sort con el arreglo a y retorna el mejor tiepo obtenido.\n",
        "  t = repeat(setup=\"from __main__ import insertion_sort\", stmt=f\"insertion_sort({a})\", repeat=1, number=10)\n",
        "\n",
        "  x.append(n)\n",
        "  y.append(t)\n",
        "\n",
        "\n",
        "plt.plot(x,y)\n",
        "plt.legend([\"InsertionSort\"])\n",
        "\n",
        "plt.xlabel('n')\n",
        "plt.ylabel('time in ms')\n",
        "plt.show()"
      ],
      "metadata": {
        "id": "4EoWX1SyUqDo",
        "colab": {
          "base_uri": "https://localhost:8080/",
          "height": 450
        },
        "outputId": "bfc78e54-6b74-41b7-d43b-e3b5d2640509"
      },
      "execution_count": 9,
      "outputs": [
        {
          "output_type": "error",
          "ename": "ImportError",
          "evalue": "ignored",
          "traceback": [
            "\u001b[0;31m---------------------------------------------------------------------------\u001b[0m",
            "\u001b[0;31mImportError\u001b[0m                               Traceback (most recent call last)",
            "\u001b[0;32m<ipython-input-9-6c48634fbb18>\u001b[0m in \u001b[0;36m<module>\u001b[0;34m()\u001b[0m\n\u001b[1;32m     10\u001b[0m \u001b[0;34m\u001b[0m\u001b[0m\n\u001b[1;32m     11\u001b[0m   \u001b[0;31m#la función repeat está ejecutando 20 veces bubble_sort con el arreglo a y retorna el mejor tiepo obtenido.\u001b[0m\u001b[0;34m\u001b[0m\u001b[0;34m\u001b[0m\u001b[0;34m\u001b[0m\u001b[0m\n\u001b[0;32m---> 12\u001b[0;31m   \u001b[0mt\u001b[0m \u001b[0;34m=\u001b[0m \u001b[0mrepeat\u001b[0m\u001b[0;34m(\u001b[0m\u001b[0msetup\u001b[0m\u001b[0;34m=\u001b[0m\u001b[0;34m\"from __main__ import insertion_sort\"\u001b[0m\u001b[0;34m,\u001b[0m \u001b[0mstmt\u001b[0m\u001b[0;34m=\u001b[0m\u001b[0;34mf\"insertion_sort({a})\"\u001b[0m\u001b[0;34m,\u001b[0m \u001b[0mrepeat\u001b[0m\u001b[0;34m=\u001b[0m\u001b[0;36m1\u001b[0m\u001b[0;34m,\u001b[0m \u001b[0mnumber\u001b[0m\u001b[0;34m=\u001b[0m\u001b[0;36m10\u001b[0m\u001b[0;34m)\u001b[0m\u001b[0;34m\u001b[0m\u001b[0;34m\u001b[0m\u001b[0m\n\u001b[0m\u001b[1;32m     13\u001b[0m \u001b[0;34m\u001b[0m\u001b[0m\n\u001b[1;32m     14\u001b[0m   \u001b[0mx\u001b[0m\u001b[0;34m.\u001b[0m\u001b[0mappend\u001b[0m\u001b[0;34m(\u001b[0m\u001b[0mn\u001b[0m\u001b[0;34m)\u001b[0m\u001b[0;34m\u001b[0m\u001b[0;34m\u001b[0m\u001b[0m\n",
            "\u001b[0;32m/usr/lib/python3.7/timeit.py\u001b[0m in \u001b[0;36mrepeat\u001b[0;34m(stmt, setup, timer, repeat, number, globals)\u001b[0m\n\u001b[1;32m    236\u001b[0m            repeat=default_repeat, number=default_number, globals=None):\n\u001b[1;32m    237\u001b[0m     \u001b[0;34m\"\"\"Convenience function to create Timer object and call repeat method.\"\"\"\u001b[0m\u001b[0;34m\u001b[0m\u001b[0;34m\u001b[0m\u001b[0m\n\u001b[0;32m--> 238\u001b[0;31m     \u001b[0;32mreturn\u001b[0m \u001b[0mTimer\u001b[0m\u001b[0;34m(\u001b[0m\u001b[0mstmt\u001b[0m\u001b[0;34m,\u001b[0m \u001b[0msetup\u001b[0m\u001b[0;34m,\u001b[0m \u001b[0mtimer\u001b[0m\u001b[0;34m,\u001b[0m \u001b[0mglobals\u001b[0m\u001b[0;34m)\u001b[0m\u001b[0;34m.\u001b[0m\u001b[0mrepeat\u001b[0m\u001b[0;34m(\u001b[0m\u001b[0mrepeat\u001b[0m\u001b[0;34m,\u001b[0m \u001b[0mnumber\u001b[0m\u001b[0;34m)\u001b[0m\u001b[0;34m\u001b[0m\u001b[0;34m\u001b[0m\u001b[0m\n\u001b[0m\u001b[1;32m    239\u001b[0m \u001b[0;34m\u001b[0m\u001b[0m\n\u001b[1;32m    240\u001b[0m \u001b[0;32mdef\u001b[0m \u001b[0mmain\u001b[0m\u001b[0;34m(\u001b[0m\u001b[0margs\u001b[0m\u001b[0;34m=\u001b[0m\u001b[0;32mNone\u001b[0m\u001b[0;34m,\u001b[0m \u001b[0;34m*\u001b[0m\u001b[0;34m,\u001b[0m \u001b[0m_wrap_timer\u001b[0m\u001b[0;34m=\u001b[0m\u001b[0;32mNone\u001b[0m\u001b[0;34m)\u001b[0m\u001b[0;34m:\u001b[0m\u001b[0;34m\u001b[0m\u001b[0;34m\u001b[0m\u001b[0m\n",
            "\u001b[0;32m/usr/lib/python3.7/timeit.py\u001b[0m in \u001b[0;36mrepeat\u001b[0;34m(self, repeat, number)\u001b[0m\n\u001b[1;32m    203\u001b[0m         \u001b[0mr\u001b[0m \u001b[0;34m=\u001b[0m \u001b[0;34m[\u001b[0m\u001b[0;34m]\u001b[0m\u001b[0;34m\u001b[0m\u001b[0;34m\u001b[0m\u001b[0m\n\u001b[1;32m    204\u001b[0m         \u001b[0;32mfor\u001b[0m \u001b[0mi\u001b[0m \u001b[0;32min\u001b[0m \u001b[0mrange\u001b[0m\u001b[0;34m(\u001b[0m\u001b[0mrepeat\u001b[0m\u001b[0;34m)\u001b[0m\u001b[0;34m:\u001b[0m\u001b[0;34m\u001b[0m\u001b[0;34m\u001b[0m\u001b[0m\n\u001b[0;32m--> 205\u001b[0;31m             \u001b[0mt\u001b[0m \u001b[0;34m=\u001b[0m \u001b[0mself\u001b[0m\u001b[0;34m.\u001b[0m\u001b[0mtimeit\u001b[0m\u001b[0;34m(\u001b[0m\u001b[0mnumber\u001b[0m\u001b[0;34m)\u001b[0m\u001b[0;34m\u001b[0m\u001b[0;34m\u001b[0m\u001b[0m\n\u001b[0m\u001b[1;32m    206\u001b[0m             \u001b[0mr\u001b[0m\u001b[0;34m.\u001b[0m\u001b[0mappend\u001b[0m\u001b[0;34m(\u001b[0m\u001b[0mt\u001b[0m\u001b[0;34m)\u001b[0m\u001b[0;34m\u001b[0m\u001b[0;34m\u001b[0m\u001b[0m\n\u001b[1;32m    207\u001b[0m         \u001b[0;32mreturn\u001b[0m \u001b[0mr\u001b[0m\u001b[0;34m\u001b[0m\u001b[0;34m\u001b[0m\u001b[0m\n",
            "\u001b[0;32m/usr/lib/python3.7/timeit.py\u001b[0m in \u001b[0;36mtimeit\u001b[0;34m(self, number)\u001b[0m\n\u001b[1;32m    175\u001b[0m         \u001b[0mgc\u001b[0m\u001b[0;34m.\u001b[0m\u001b[0mdisable\u001b[0m\u001b[0;34m(\u001b[0m\u001b[0;34m)\u001b[0m\u001b[0;34m\u001b[0m\u001b[0;34m\u001b[0m\u001b[0m\n\u001b[1;32m    176\u001b[0m         \u001b[0;32mtry\u001b[0m\u001b[0;34m:\u001b[0m\u001b[0;34m\u001b[0m\u001b[0;34m\u001b[0m\u001b[0m\n\u001b[0;32m--> 177\u001b[0;31m             \u001b[0mtiming\u001b[0m \u001b[0;34m=\u001b[0m \u001b[0mself\u001b[0m\u001b[0;34m.\u001b[0m\u001b[0minner\u001b[0m\u001b[0;34m(\u001b[0m\u001b[0mit\u001b[0m\u001b[0;34m,\u001b[0m \u001b[0mself\u001b[0m\u001b[0;34m.\u001b[0m\u001b[0mtimer\u001b[0m\u001b[0;34m)\u001b[0m\u001b[0;34m\u001b[0m\u001b[0;34m\u001b[0m\u001b[0m\n\u001b[0m\u001b[1;32m    178\u001b[0m         \u001b[0;32mfinally\u001b[0m\u001b[0;34m:\u001b[0m\u001b[0;34m\u001b[0m\u001b[0;34m\u001b[0m\u001b[0m\n\u001b[1;32m    179\u001b[0m             \u001b[0;32mif\u001b[0m \u001b[0mgcold\u001b[0m\u001b[0;34m:\u001b[0m\u001b[0;34m\u001b[0m\u001b[0;34m\u001b[0m\u001b[0m\n",
            "\u001b[0;32m/usr/lib/python3.7/timeit.py\u001b[0m in \u001b[0;36minner\u001b[0;34m(_it, _timer)\u001b[0m\n",
            "\u001b[0;31mImportError\u001b[0m: cannot import name 'insertion_sort' from '__main__' (unknown location)",
            "",
            "\u001b[0;31m---------------------------------------------------------------------------\u001b[0;32m\nNOTE: If your import is failing due to a missing package, you can\nmanually install dependencies using either !pip or !apt.\n\nTo view examples of installing some common dependencies, click the\n\"Open Examples\" button below.\n\u001b[0;31m---------------------------------------------------------------------------\u001b[0m\n"
          ],
          "errorDetails": {
            "actions": [
              {
                "action": "open_url",
                "actionText": "Open Examples",
                "url": "/notebooks/snippets/importing_libraries.ipynb"
              }
            ]
          }
        }
      ]
    }
  ]
}