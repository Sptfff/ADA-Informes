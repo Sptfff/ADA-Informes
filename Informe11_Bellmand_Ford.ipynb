{
  "nbformat": 4,
  "nbformat_minor": 0,
  "metadata": {
    "colab": {
      "provenance": [],
      "collapsed_sections": [
        "S1ZLB7kXu7AC",
        "7rcHzB0WWjhP",
        "B_EeLQUqVzJP"
      ],
      "authorship_tag": "ABX9TyONc83v2imjG+l088+E4opE",
      "include_colab_link": true
    },
    "kernelspec": {
      "name": "python3",
      "display_name": "Python 3"
    },
    "language_info": {
      "name": "python"
    }
  },
  "cells": [
    {
      "cell_type": "markdown",
      "metadata": {
        "id": "view-in-github",
        "colab_type": "text"
      },
      "source": [
        "<a href=\"https://colab.research.google.com/github/Sptfff/ADA-Informes/blob/main/Informe11_Bellmand_Ford.ipynb\" target=\"_parent\"><img src=\"https://colab.research.google.com/assets/colab-badge.svg\" alt=\"Open In Colab\"/></a>"
      ]
    },
    {
      "cell_type": "markdown",
      "source": [
        "#Descripción del problema"
      ],
      "metadata": {
        "id": "JtaLm56eVpiQ"
      }
    },
    {
      "cell_type": "markdown",
      "source": [
        "Debido a que los grafos dirigidos \"impiden\" un movimiento más libre entre nodos, es necesario encontrar un camino que sea corto y que incluya todos los nodos entre el nodo de origen y el nodo de llegada.\n",
        "\n",
        "**Entrada:** Un grafo de la forma $G(V,E)$ con $V$ como la cantidad de nodos y $E$ la cantidad de arcos del mismo, y un nodo de partida $s$.\n",
        "\n",
        "**Salida:** La distancias más corta entre los nodos $s$ y $v$ y una declaración sobre si contiene un ciclo negativo.\n",
        "\n",
        "![image.png](data:image/png;base64,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)\n",
        "\n",
        "\n"
      ],
      "metadata": {
        "id": "MjMNn_pNsVje"
      }
    },
    {
      "cell_type": "markdown",
      "source": [
        "#Descripción del algoritmo"
      ],
      "metadata": {
        "id": "nPfVbEL-VstX"
      }
    },
    {
      "cell_type": "markdown",
      "source": [
        "##Dijkstra"
      ],
      "metadata": {
        "id": "i3WKQAXqu2Wm"
      }
    },
    {
      "cell_type": "markdown",
      "source": [
        "\n",
        "\n",
        "En terminos generales podemos decir que el algoritmo Dijkstra se asemeja bastante a un algoritmo Greedy ya qu selecciona la opción más conveniente que ve disponible, dado esto no funciona correctamente con arcos negativos ya que puede no tomarlos en consideración al estar despúes de un arco de un valor mayor al que eligió finalmente. \n",
        "\n",
        "Debido a lo último Dijkstra tampoco funciona con ciclos negativos, ya que se quedaría \"atrapado\" en el. Pero a pesar de las desventajas que posee también es más rapido que su contra parte (Bellmand-Ford) ya que al elegir una mejor opción en su momento, no necesita recorrer más veces el grafo, por lo que su tiempo de ejecución es menor al de Bellmand-Ford\n"
      ],
      "metadata": {
        "id": "MiZV5ipYvcvP"
      }
    },
    {
      "cell_type": "markdown",
      "source": [
        "##Bellmand-Ford\n",
        "\n"
      ],
      "metadata": {
        "id": "9lULNUvaZ9rO"
      }
    },
    {
      "cell_type": "markdown",
      "source": [
        "Bellmand-For trabaja con programación dinámica, lo que significa que busca entre las mayorías de soluciones posible y elige la que realmente es óptima.\n",
        "\n",
        "Pero lo anterior tomaría mucho tiempo hacerlo de manera \"bruta\" por lo que se utlizan los sub-problemas para tener \"trozos\" previamente solucionados, por lo que al buscar en una nueva opción uno de los trozos puede encajar lo que permite ahorrar el tiempo \"simplemente\" copiando esa solución.\n",
        "\n",
        "La principal ventaja de este algoritmo es que es capaz de conseguir una solución incluso si algunos pesos de los arcos del grafo es negativo además de ser capaz de determinar si el grafo posee un ciclo negativo si llegar a fallar."
      ],
      "metadata": {
        "id": "wkk-tBmywZxK"
      }
    },
    {
      "cell_type": "markdown",
      "source": [
        "#Código"
      ],
      "metadata": {
        "id": "UJukRyYRVvqT"
      }
    },
    {
      "cell_type": "markdown",
      "source": [
        "###Generador de instancias"
      ],
      "metadata": {
        "id": "eKB_sgkfWcMm"
      }
    },
    {
      "cell_type": "code",
      "source": [
        "import networkx as nx\n",
        "\n",
        "\n",
        "def graph_to_nxdigraph(graph: list, n: int):\n",
        "    \"\"\"\n",
        "        Input: Un grafo en formato list[tuple]. Ej: [(0, 1, 10), (1, 2, 15), (2, 0, 7)].\n",
        "        Output: Un nx.DiGraph de la libreria networkx.\n",
        "    \"\"\"\n",
        "    nxdigraph = nx.DiGraph()\n",
        "    [nxdigraph.add_node(i) for i in range(n)]\n",
        "\n",
        "    for v in graph:\n",
        "        nxdigraph.add_edge(v[0], v[1], weight=v[2])\n",
        "\n",
        "    return nxdigraph"
      ],
      "metadata": {
        "id": "kyAr0x136bmz"
      },
      "execution_count": 85,
      "outputs": []
    },
    {
      "cell_type": "code",
      "source": [
        "import random\n",
        "\n",
        "def is_valid_edge(generated_edges: dict, i: int, j: int):\n",
        "    return i != j and not generated_edges.get((i, j), None) and not generated_edges.get((j, i), None)\n",
        "\n",
        "def instance_generator(n: int):\n",
        "    \"\"\"\n",
        "        Input: cantidad de vértices\n",
        "        Output: una lista que contiene todos los arcos y el número del vértice fuente (la función retorna dos variables).\n",
        "        Los arcos vienen en la forma (i, j, weight), donde i es el vértice origen del arco y j el vértice al que apunta el arco, \n",
        "          mientras que weight es su peso.\n",
        "    \"\"\"\n",
        "    graph = []\n",
        "    nodes = random.sample(range(0, n), n)\n",
        "    unvisited_nodes = random.sample(range(0, n), n)\n",
        "    \n",
        "    generated_edges = {}\n",
        "    for i in nodes:\n",
        "        rand = random.sample(nodes, random.randint(1, 3))\n",
        "\n",
        "        for j in rand:\n",
        "            edge = (i, j)\n",
        "            edge_with_weight = (i, j, random.randint(1, 100))\n",
        "            \n",
        "            if generated_edges.get((edge[1], edge[0]), None):\n",
        "                continue\n",
        "            \n",
        "            if i == j:\n",
        "                new_vertice = None\n",
        "                iterations = 0\n",
        "                while new_vertice is None and iterations < 250:\n",
        "                    iterations += 1\n",
        "                    number = random.randint(0, n - 1)\n",
        "                    if is_valid_edge(generated_edges, i, number):\n",
        "                        new_vertice = number\n",
        "\n",
        "                if iterations >= 250:\n",
        "                    return instance_generator(n)\n",
        "                if new_vertice == None:\n",
        "                  return instance_generator(n)\n",
        "                edge = (i, new_vertice)\n",
        "                # -25 y 100 corresponde a los límites de los pesos, puede cambiarlos.\n",
        "                edge_with_weight = (i, new_vertice, random.randint(-25, 100)) \n",
        "            \n",
        "            graph.append(edge_with_weight)\n",
        "            generated_edges[edge] = edge\n",
        "\n",
        "            if edge_with_weight[1] in unvisited_nodes:\n",
        "                unvisited_nodes.remove(edge_with_weight[1])\n",
        "\n",
        "    for i in unvisited_nodes:\n",
        "        valid_edge = False\n",
        "        iterations = 0\n",
        "        while not valid_edge and iterations < 250:\n",
        "            iterations += 1\n",
        "            m = random.randint(0, n - 1)\n",
        "            if is_valid_edge(generated_edges, m, i):\n",
        "                valid_edge = True\n",
        "                edge = (m, i)\n",
        "                 # -25 y 100 corresponde a los límites de los pesos, puede cambiarlos.\n",
        "                edge_with_weight = (m, i, random.randint(-25, 100))\n",
        "                graph.append(edge_with_weight)\n",
        "                generated_edges[edge] = edge\n",
        "\n",
        "        if iterations >= 250:\n",
        "            return instance_generator(n)\n",
        "\n",
        "    return graph, graph[0][0]"
      ],
      "metadata": {
        "id": "E7aMWhnFWbGW"
      },
      "execution_count": 99,
      "outputs": []
    },
    {
      "cell_type": "markdown",
      "source": [
        "##Bellmand-Ford"
      ],
      "metadata": {
        "id": "7fOnwU_fWhce"
      }
    },
    {
      "cell_type": "code",
      "execution_count": 111,
      "metadata": {
        "id": "KyxwSYg5VKua",
        "colab": {
          "base_uri": "https://localhost:8080/"
        },
        "outputId": "7583cc4b-5992-4a38-90a3-56768c1596d0"
      },
      "outputs": [
        {
          "output_type": "stream",
          "name": "stdout",
          "text": [
            "[(3, 0, -2), (3, 4, 58), (3, 1, 2), (1, 0, 98), (1, 2, 15), (2, 3, 60), (0, 4, 83), (4, 1, 73), (4, 2, 91)] 3\n"
          ]
        }
      ],
      "source": [
        "import pydot\n",
        "from networkx.drawing.nx_pydot import graphviz_layout\n",
        "import matplotlib.pyplot as plt\n",
        "from termcolor import colored\n",
        "\n",
        "class Graph:\n",
        " \n",
        "    def __init__(self, vertices):\n",
        "        self.V = vertices  \n",
        "        self.graph = []\n",
        " \n",
        "\n",
        "    def addEdge(self, u, v, w):\n",
        "        self.graph.append([u, v, w])\n",
        " \n",
        "\n",
        "    def printArr(self, dist):\n",
        "        #print(\"Vertex Distance from Source\")\n",
        "        for i in range(self.V):\n",
        "            print(\"{0}\\t\\t{1}\".format(i, dist[i]))\n",
        " \n",
        "\n",
        "\n",
        "\n",
        "    def BellmanFord(self, src,verbose = False, visualize = False):\n",
        "        if verbose == True:\n",
        "          print(f\"Grafo recibido: {self.graph}\\nTotal de nodos: {self.V}\")\n",
        "\n",
        "        dist = [float(\"Inf\")] * self.V #Se inicilizan las distancias en infinito\n",
        "        dist[src] = 0 #la distancia del origen se inicializa hacia si mismo\n",
        " \n",
        "        for z in range(self.V - 1):\n",
        "            \n",
        "            for u, v, w in self.graph: #Se guarda cada valor del arco actual\n",
        "                if verbose == True:\n",
        "                  print(colored(f\"\\nOrigen arco\\tDestino Arco\\tPeso Arco\", \"blue\"))\n",
        "                  print(colored(f\"{u}\\t\\t{v}\\t\\t{w}\", \"green\"))\n",
        "\n",
        "                  print(colored(f\"¿{dist[u]}+{w} < {dist[v]}?\", \"yellow\"))\n",
        "                #print(u)\n",
        "                if dist[u] != float(\"Inf\") and dist[u] + w < dist[v]:#Si la distancia del nodo actual más el peso del arco actual es menor a la distancia del nodo de llegada actual\n",
        "                    if verbose == True:\n",
        "                      print(colored(f\"Como se cumple, la distancia actualiza por la primera operacion ({dist[u]}+{w})\", \"green\"))\n",
        "                    dist[v] = dist[u] + w\n",
        "                else:\n",
        "                  if verbose == True:\n",
        "                    print(colored(f\"Como no se cumple, la distancia se mantiene en su antiguo valor: {dist[v]}\\n\", \"magenta\"))\n",
        " \n",
        "        if verbose == True:\n",
        "          print(colored(f\"Ahora se imprirán las distancias entre:\\nLos vertices y el origen\",\"blue\"))\n",
        "          self.printArr(dist)\n",
        "        if visualize:\n",
        "          G = nx.DiGraph()\n",
        "          for u, v, weight in self.graph:\n",
        "              G.add_node(u)\n",
        "              G.add_node(v)\n",
        "              G.add_edge(u, v, weight = weight)\n",
        "                \n",
        "          fig, ax = plt.subplots()\n",
        "          ax.set_facecolor('white')\n",
        "          pos = graphviz_layout(G, prog = \"twopi\")\n",
        "\n",
        "          labels = nx.get_edge_attributes(G, 'weight')\n",
        "          nx.draw_networkx(G, pos)\n",
        "          nx.draw_networkx_edge_labels(G, edge_labels= labels, pos = pos)\n",
        "          nx.draw(G,pos,with_labels=True, node_size=800, font_color=\"white\", font_size=14, font_weight=\"black\", width  =1.75, edge_color =\"green\")\n",
        " \n",
        " \n",
        "\n",
        "if __name__ == '__main__':\n",
        "  Gr = Graph(0)\n",
        "  n = 5\n",
        "  Gr.graph, gi = instance_generator(n)\n",
        "  Gr.V = n\n",
        "  print(Gr.graph, gi)\n",
        "  Gr.BellmanFord(gi)\n",
        "\n"
      ]
    },
    {
      "cell_type": "markdown",
      "source": [
        "#Dijkstra"
      ],
      "metadata": {
        "id": "7rcHzB0WWjhP"
      }
    },
    {
      "cell_type": "markdown",
      "source": [
        "###Generador instancias positivas"
      ],
      "metadata": {
        "id": "VphnJrU0OSeR"
      }
    },
    {
      "cell_type": "code",
      "source": [
        "import random\n",
        "\n",
        "def is_valid_edge(generated_edges: dict, i: int, j: int):\n",
        "    return i != j and not generated_edges.get((i, j), None) and not generated_edges.get((j, i), None)\n",
        "\n",
        "def instance_generator2(n: int):\n",
        "    \"\"\"\n",
        "        Input: cantidad de vértices\n",
        "        Output: una lista que contiene todos los arcos y el número del vértice fuente (la función retorna dos variables).\n",
        "        Los arcos vienen en la forma (i, j, weight), donde i es el vértice origen del arco y j el vértice al que apunta el arco, \n",
        "          mientras que weight es su peso.\n",
        "    \"\"\"\n",
        "    graph = []\n",
        "    nodes = random.sample(range(0, n), n)\n",
        "    unvisited_nodes = random.sample(range(0, n), n)\n",
        "    \n",
        "    generated_edges = {}\n",
        "    for i in nodes:\n",
        "        rand = random.sample(nodes, random.randint(1, 3))\n",
        "\n",
        "        for j in rand:\n",
        "            edge = (i, j)\n",
        "            edge_with_weight = (i, j, random.randint(1, 100))\n",
        "            \n",
        "            if generated_edges.get((edge[1], edge[0]), None):\n",
        "                continue\n",
        "            \n",
        "            if i == j:\n",
        "                new_vertice = None\n",
        "                iterations = 0\n",
        "                while new_vertice is None and iterations < 250:\n",
        "                    iterations += 1\n",
        "                    number = random.randint(0, n - 1)\n",
        "                    if is_valid_edge(generated_edges, i, number):\n",
        "                        new_vertice = number\n",
        "\n",
        "                if iterations >= 250:\n",
        "                    return instance_generator(n)\n",
        "                \n",
        "                edge = (i, new_vertice)\n",
        "                # -25 y 100 corresponde a los límites de los pesos, puede cambiarlos.\n",
        "                edge_with_weight = (i, new_vertice, random.randint(1, 100)) \n",
        "            \n",
        "            graph.append(edge_with_weight)\n",
        "            generated_edges[edge] = edge\n",
        "\n",
        "            if edge_with_weight[1] in unvisited_nodes:\n",
        "                unvisited_nodes.remove(edge_with_weight[1])\n",
        "\n",
        "    for i in unvisited_nodes:\n",
        "        valid_edge = False\n",
        "        iterations = 0\n",
        "        while not valid_edge and iterations < 250:\n",
        "            iterations += 1\n",
        "            m = random.randint(0, n - 1)\n",
        "            if is_valid_edge(generated_edges, m, i):\n",
        "                valid_edge = True\n",
        "                edge = (m, i)\n",
        "                 # -25 y 100 corresponde a los límites de los pesos, puede cambiarlos.\n",
        "                edge_with_weight = (m, i, random.randint(1, 100))\n",
        "                graph.append(edge_with_weight)\n",
        "                generated_edges[edge] = edge\n",
        "\n",
        "        if iterations >= 250:\n",
        "            return instance_generator(n)\n",
        "\n",
        "    return graph, graph[0][0]"
      ],
      "metadata": {
        "id": "bkqy9HwbJJEG"
      },
      "execution_count": 104,
      "outputs": []
    },
    {
      "cell_type": "markdown",
      "source": [
        "##Dijkstra"
      ],
      "metadata": {
        "id": "fP5PdTSnOY_9"
      }
    },
    {
      "cell_type": "code",
      "source": [
        "from queue import PriorityQueue\n",
        "\n",
        "class Graph2:\n",
        " \n",
        "    def __init__(self, vertices):\n",
        "        self.v = vertices  \n",
        "        self.graph = []\n",
        "        self.edges = [[-1 for i in range(vertices)] for j in range(vertices)]\n",
        "        self.visited = []\n",
        " \n",
        "\n",
        "    def addEdge(self, u, v, w):\n",
        "        self.graph.append([u, v, w])\n",
        " \n",
        "\n",
        "    def printArr(self, dist):\n",
        "        print(\"Vertice Distancia desde Origen\")\n",
        "        for i in range(self.v):\n",
        "            print(\"{0}\\t\\t{1}\".format(i, dist[i]))\n",
        "\n",
        "    def dijkstra(self, start_vertex, visualize = False):\n",
        "        D = {v:float('inf') for v in range(self.v)}\n",
        "        D[start_vertex] = 0\n",
        "\n",
        "        pq = PriorityQueue()\n",
        "        pq.put((0, start_vertex))\n",
        "\n",
        "        while not pq.empty():\n",
        "            (dist, current_vertex) = pq.get()\n",
        "            self.visited.append(current_vertex)\n",
        "\n",
        "            for u, v, weight in self.graph:\n",
        "              if(weight != -1):\n",
        "                distance = weight\n",
        "                if v not in self.visited:\n",
        "                  old_cost = D[v]\n",
        "                  new_cost = D[u] + distance\n",
        "                  \n",
        "                  if new_cost < old_cost:\n",
        "                    pq.put((u,v))\n",
        "                    D[v] = new_cost\n",
        "        \n",
        "        if visualize:\n",
        "          print(D)\n",
        "          self.printArr(D)\n",
        "          G = nx.DiGraph()\n",
        "          for u, v, weight in self.graph:\n",
        "              G.add_node(u)\n",
        "              G.add_node(v)\n",
        "              G.add_edge(u, v, weight = weight)\n",
        "                \n",
        "          fig, ax = plt.subplots()\n",
        "          ax.set_facecolor('white')\n",
        "          pos = graphviz_layout(G, prog = \"twopi\")\n",
        "\n",
        "          labels = nx.get_edge_attributes(G, 'weight')\n",
        "          nx.draw_networkx(G, pos)\n",
        "          nx.draw_networkx_edge_labels(G, edge_labels= labels, pos = pos)\n",
        "          nx.draw(G,pos,with_labels=True, node_size=800, font_color=\"white\", font_size=14, font_weight=\"black\", width  =1.75, edge_color =\"green\")\n",
        "          \n",
        "        return D\n",
        "\n",
        "if __name__ == '__main__':\n",
        "  Gr = Graph2(5)\n",
        "  n = 5\n",
        "  Gr.graph, gi = instance_generator2(n)\n",
        "  Gr.v = n\n",
        "  print(Gr.graph, gi)\n",
        "  print(Gr.dijkstra(gi))"
      ],
      "metadata": {
        "id": "YOutca9mWpWv",
        "colab": {
          "base_uri": "https://localhost:8080/"
        },
        "outputId": "75550ab6-72e4-440e-af2f-fefeb7c3a17a"
      },
      "execution_count": 112,
      "outputs": [
        {
          "output_type": "stream",
          "name": "stdout",
          "text": [
            "[(0, 1, 88), (0, 2, 44), (3, 2, 27), (3, 1, 79), (2, 1, 68), (2, 4, 12), (1, 4, 35), (4, 3, 52), (3, 0, 70)] 0\n",
            "{0: 0, 1: 88, 2: 44, 3: 108, 4: 56}\n"
          ]
        }
      ]
    },
    {
      "cell_type": "markdown",
      "source": [
        "#Paso a paso"
      ],
      "metadata": {
        "id": "DdTrBWNYVxVn"
      }
    },
    {
      "cell_type": "markdown",
      "source": [
        "##BellmandFord Verbose == True"
      ],
      "metadata": {
        "id": "9DKefMUrH9TA"
      }
    },
    {
      "cell_type": "code",
      "source": [
        "if __name__ == '__main__':\n",
        "  Gr = Graph(0)\n",
        "  n = 8\n",
        "  Gr.graph, gi = instance_generator(n)\n",
        "  Gr.V = n\n",
        "  print(Gr.graph, gi)\n",
        "  Gr.BellmanFord(gi, True, False)"
      ],
      "metadata": {
        "colab": {
          "base_uri": "https://localhost:8080/"
        },
        "id": "ssemuOkdH9CK",
        "outputId": "c719e14c-2c9c-4659-c06b-82bd11a8f2af"
      },
      "execution_count": 113,
      "outputs": [
        {
          "output_type": "stream",
          "name": "stdout",
          "text": [
            "[(6, 1, 47), (6, 3, 2), (4, 2, 73), (4, 5, 82), (5, 6, 81), (7, 2, 75), (1, 3, 22), (1, 4, 43), (2, 3, 7), (3, 0, 66), (0, 4, 66), (0, 2, 31), (6, 7, 80)] 6\n",
            "Grafo recibido: [(6, 1, 47), (6, 3, 2), (4, 2, 73), (4, 5, 82), (5, 6, 81), (7, 2, 75), (1, 3, 22), (1, 4, 43), (2, 3, 7), (3, 0, 66), (0, 4, 66), (0, 2, 31), (6, 7, 80)]\n",
            "Total de nodos: 8\n",
            "\n",
            "Origen arco\tDestino Arco\tPeso Arco\n",
            "6\t\t1\t\t47\n",
            "¿0+47 < inf?\n",
            "Como se cumple, la distancia actualiza por la primera operacion (0+47)\n",
            "\n",
            "Origen arco\tDestino Arco\tPeso Arco\n",
            "6\t\t3\t\t2\n",
            "¿0+2 < inf?\n",
            "Como se cumple, la distancia actualiza por la primera operacion (0+2)\n",
            "\n",
            "Origen arco\tDestino Arco\tPeso Arco\n",
            "4\t\t2\t\t73\n",
            "¿inf+73 < inf?\n",
            "Como no se cumple, la distancia se mantiene en su antiguo valor: inf\n",
            "\n",
            "\n",
            "Origen arco\tDestino Arco\tPeso Arco\n",
            "4\t\t5\t\t82\n",
            "¿inf+82 < inf?\n",
            "Como no se cumple, la distancia se mantiene en su antiguo valor: inf\n",
            "\n",
            "\n",
            "Origen arco\tDestino Arco\tPeso Arco\n",
            "5\t\t6\t\t81\n",
            "¿inf+81 < 0?\n",
            "Como no se cumple, la distancia se mantiene en su antiguo valor: 0\n",
            "\n",
            "\n",
            "Origen arco\tDestino Arco\tPeso Arco\n",
            "7\t\t2\t\t75\n",
            "¿inf+75 < inf?\n",
            "Como no se cumple, la distancia se mantiene en su antiguo valor: inf\n",
            "\n",
            "\n",
            "Origen arco\tDestino Arco\tPeso Arco\n",
            "1\t\t3\t\t22\n",
            "¿47+22 < 2?\n",
            "Como no se cumple, la distancia se mantiene en su antiguo valor: 2\n",
            "\n",
            "\n",
            "Origen arco\tDestino Arco\tPeso Arco\n",
            "1\t\t4\t\t43\n",
            "¿47+43 < inf?\n",
            "Como se cumple, la distancia actualiza por la primera operacion (47+43)\n",
            "\n",
            "Origen arco\tDestino Arco\tPeso Arco\n",
            "2\t\t3\t\t7\n",
            "¿inf+7 < 2?\n",
            "Como no se cumple, la distancia se mantiene en su antiguo valor: 2\n",
            "\n",
            "\n",
            "Origen arco\tDestino Arco\tPeso Arco\n",
            "3\t\t0\t\t66\n",
            "¿2+66 < inf?\n",
            "Como se cumple, la distancia actualiza por la primera operacion (2+66)\n",
            "\n",
            "Origen arco\tDestino Arco\tPeso Arco\n",
            "0\t\t4\t\t66\n",
            "¿68+66 < 90?\n",
            "Como no se cumple, la distancia se mantiene en su antiguo valor: 90\n",
            "\n",
            "\n",
            "Origen arco\tDestino Arco\tPeso Arco\n",
            "0\t\t2\t\t31\n",
            "¿68+31 < inf?\n",
            "Como se cumple, la distancia actualiza por la primera operacion (68+31)\n",
            "\n",
            "Origen arco\tDestino Arco\tPeso Arco\n",
            "6\t\t7\t\t80\n",
            "¿0+80 < inf?\n",
            "Como se cumple, la distancia actualiza por la primera operacion (0+80)\n",
            "\n",
            "Origen arco\tDestino Arco\tPeso Arco\n",
            "6\t\t1\t\t47\n",
            "¿0+47 < 47?\n",
            "Como no se cumple, la distancia se mantiene en su antiguo valor: 47\n",
            "\n",
            "\n",
            "Origen arco\tDestino Arco\tPeso Arco\n",
            "6\t\t3\t\t2\n",
            "¿0+2 < 2?\n",
            "Como no se cumple, la distancia se mantiene en su antiguo valor: 2\n",
            "\n",
            "\n",
            "Origen arco\tDestino Arco\tPeso Arco\n",
            "4\t\t2\t\t73\n",
            "¿90+73 < 99?\n",
            "Como no se cumple, la distancia se mantiene en su antiguo valor: 99\n",
            "\n",
            "\n",
            "Origen arco\tDestino Arco\tPeso Arco\n",
            "4\t\t5\t\t82\n",
            "¿90+82 < inf?\n",
            "Como se cumple, la distancia actualiza por la primera operacion (90+82)\n",
            "\n",
            "Origen arco\tDestino Arco\tPeso Arco\n",
            "5\t\t6\t\t81\n",
            "¿172+81 < 0?\n",
            "Como no se cumple, la distancia se mantiene en su antiguo valor: 0\n",
            "\n",
            "\n",
            "Origen arco\tDestino Arco\tPeso Arco\n",
            "7\t\t2\t\t75\n",
            "¿80+75 < 99?\n",
            "Como no se cumple, la distancia se mantiene en su antiguo valor: 99\n",
            "\n",
            "\n",
            "Origen arco\tDestino Arco\tPeso Arco\n",
            "1\t\t3\t\t22\n",
            "¿47+22 < 2?\n",
            "Como no se cumple, la distancia se mantiene en su antiguo valor: 2\n",
            "\n",
            "\n",
            "Origen arco\tDestino Arco\tPeso Arco\n",
            "1\t\t4\t\t43\n",
            "¿47+43 < 90?\n",
            "Como no se cumple, la distancia se mantiene en su antiguo valor: 90\n",
            "\n",
            "\n",
            "Origen arco\tDestino Arco\tPeso Arco\n",
            "2\t\t3\t\t7\n",
            "¿99+7 < 2?\n",
            "Como no se cumple, la distancia se mantiene en su antiguo valor: 2\n",
            "\n",
            "\n",
            "Origen arco\tDestino Arco\tPeso Arco\n",
            "3\t\t0\t\t66\n",
            "¿2+66 < 68?\n",
            "Como no se cumple, la distancia se mantiene en su antiguo valor: 68\n",
            "\n",
            "\n",
            "Origen arco\tDestino Arco\tPeso Arco\n",
            "0\t\t4\t\t66\n",
            "¿68+66 < 90?\n",
            "Como no se cumple, la distancia se mantiene en su antiguo valor: 90\n",
            "\n",
            "\n",
            "Origen arco\tDestino Arco\tPeso Arco\n",
            "0\t\t2\t\t31\n",
            "¿68+31 < 99?\n",
            "Como no se cumple, la distancia se mantiene en su antiguo valor: 99\n",
            "\n",
            "\n",
            "Origen arco\tDestino Arco\tPeso Arco\n",
            "6\t\t7\t\t80\n",
            "¿0+80 < 80?\n",
            "Como no se cumple, la distancia se mantiene en su antiguo valor: 80\n",
            "\n",
            "\n",
            "Origen arco\tDestino Arco\tPeso Arco\n",
            "6\t\t1\t\t47\n",
            "¿0+47 < 47?\n",
            "Como no se cumple, la distancia se mantiene en su antiguo valor: 47\n",
            "\n",
            "\n",
            "Origen arco\tDestino Arco\tPeso Arco\n",
            "6\t\t3\t\t2\n",
            "¿0+2 < 2?\n",
            "Como no se cumple, la distancia se mantiene en su antiguo valor: 2\n",
            "\n",
            "\n",
            "Origen arco\tDestino Arco\tPeso Arco\n",
            "4\t\t2\t\t73\n",
            "¿90+73 < 99?\n",
            "Como no se cumple, la distancia se mantiene en su antiguo valor: 99\n",
            "\n",
            "\n",
            "Origen arco\tDestino Arco\tPeso Arco\n",
            "4\t\t5\t\t82\n",
            "¿90+82 < 172?\n",
            "Como no se cumple, la distancia se mantiene en su antiguo valor: 172\n",
            "\n",
            "\n",
            "Origen arco\tDestino Arco\tPeso Arco\n",
            "5\t\t6\t\t81\n",
            "¿172+81 < 0?\n",
            "Como no se cumple, la distancia se mantiene en su antiguo valor: 0\n",
            "\n",
            "\n",
            "Origen arco\tDestino Arco\tPeso Arco\n",
            "7\t\t2\t\t75\n",
            "¿80+75 < 99?\n",
            "Como no se cumple, la distancia se mantiene en su antiguo valor: 99\n",
            "\n",
            "\n",
            "Origen arco\tDestino Arco\tPeso Arco\n",
            "1\t\t3\t\t22\n",
            "¿47+22 < 2?\n",
            "Como no se cumple, la distancia se mantiene en su antiguo valor: 2\n",
            "\n",
            "\n",
            "Origen arco\tDestino Arco\tPeso Arco\n",
            "1\t\t4\t\t43\n",
            "¿47+43 < 90?\n",
            "Como no se cumple, la distancia se mantiene en su antiguo valor: 90\n",
            "\n",
            "\n",
            "Origen arco\tDestino Arco\tPeso Arco\n",
            "2\t\t3\t\t7\n",
            "¿99+7 < 2?\n",
            "Como no se cumple, la distancia se mantiene en su antiguo valor: 2\n",
            "\n",
            "\n",
            "Origen arco\tDestino Arco\tPeso Arco\n",
            "3\t\t0\t\t66\n",
            "¿2+66 < 68?\n",
            "Como no se cumple, la distancia se mantiene en su antiguo valor: 68\n",
            "\n",
            "\n",
            "Origen arco\tDestino Arco\tPeso Arco\n",
            "0\t\t4\t\t66\n",
            "¿68+66 < 90?\n",
            "Como no se cumple, la distancia se mantiene en su antiguo valor: 90\n",
            "\n",
            "\n",
            "Origen arco\tDestino Arco\tPeso Arco\n",
            "0\t\t2\t\t31\n",
            "¿68+31 < 99?\n",
            "Como no se cumple, la distancia se mantiene en su antiguo valor: 99\n",
            "\n",
            "\n",
            "Origen arco\tDestino Arco\tPeso Arco\n",
            "6\t\t7\t\t80\n",
            "¿0+80 < 80?\n",
            "Como no se cumple, la distancia se mantiene en su antiguo valor: 80\n",
            "\n",
            "\n",
            "Origen arco\tDestino Arco\tPeso Arco\n",
            "6\t\t1\t\t47\n",
            "¿0+47 < 47?\n",
            "Como no se cumple, la distancia se mantiene en su antiguo valor: 47\n",
            "\n",
            "\n",
            "Origen arco\tDestino Arco\tPeso Arco\n",
            "6\t\t3\t\t2\n",
            "¿0+2 < 2?\n",
            "Como no se cumple, la distancia se mantiene en su antiguo valor: 2\n",
            "\n",
            "\n",
            "Origen arco\tDestino Arco\tPeso Arco\n",
            "4\t\t2\t\t73\n",
            "¿90+73 < 99?\n",
            "Como no se cumple, la distancia se mantiene en su antiguo valor: 99\n",
            "\n",
            "\n",
            "Origen arco\tDestino Arco\tPeso Arco\n",
            "4\t\t5\t\t82\n",
            "¿90+82 < 172?\n",
            "Como no se cumple, la distancia se mantiene en su antiguo valor: 172\n",
            "\n",
            "\n",
            "Origen arco\tDestino Arco\tPeso Arco\n",
            "5\t\t6\t\t81\n",
            "¿172+81 < 0?\n",
            "Como no se cumple, la distancia se mantiene en su antiguo valor: 0\n",
            "\n",
            "\n",
            "Origen arco\tDestino Arco\tPeso Arco\n",
            "7\t\t2\t\t75\n",
            "¿80+75 < 99?\n",
            "Como no se cumple, la distancia se mantiene en su antiguo valor: 99\n",
            "\n",
            "\n",
            "Origen arco\tDestino Arco\tPeso Arco\n",
            "1\t\t3\t\t22\n",
            "¿47+22 < 2?\n",
            "Como no se cumple, la distancia se mantiene en su antiguo valor: 2\n",
            "\n",
            "\n",
            "Origen arco\tDestino Arco\tPeso Arco\n",
            "1\t\t4\t\t43\n",
            "¿47+43 < 90?\n",
            "Como no se cumple, la distancia se mantiene en su antiguo valor: 90\n",
            "\n",
            "\n",
            "Origen arco\tDestino Arco\tPeso Arco\n",
            "2\t\t3\t\t7\n",
            "¿99+7 < 2?\n",
            "Como no se cumple, la distancia se mantiene en su antiguo valor: 2\n",
            "\n",
            "\n",
            "Origen arco\tDestino Arco\tPeso Arco\n",
            "3\t\t0\t\t66\n",
            "¿2+66 < 68?\n",
            "Como no se cumple, la distancia se mantiene en su antiguo valor: 68\n",
            "\n",
            "\n",
            "Origen arco\tDestino Arco\tPeso Arco\n",
            "0\t\t4\t\t66\n",
            "¿68+66 < 90?\n",
            "Como no se cumple, la distancia se mantiene en su antiguo valor: 90\n",
            "\n",
            "\n",
            "Origen arco\tDestino Arco\tPeso Arco\n",
            "0\t\t2\t\t31\n",
            "¿68+31 < 99?\n",
            "Como no se cumple, la distancia se mantiene en su antiguo valor: 99\n",
            "\n",
            "\n",
            "Origen arco\tDestino Arco\tPeso Arco\n",
            "6\t\t7\t\t80\n",
            "¿0+80 < 80?\n",
            "Como no se cumple, la distancia se mantiene en su antiguo valor: 80\n",
            "\n",
            "\n",
            "Origen arco\tDestino Arco\tPeso Arco\n",
            "6\t\t1\t\t47\n",
            "¿0+47 < 47?\n",
            "Como no se cumple, la distancia se mantiene en su antiguo valor: 47\n",
            "\n",
            "\n",
            "Origen arco\tDestino Arco\tPeso Arco\n",
            "6\t\t3\t\t2\n",
            "¿0+2 < 2?\n",
            "Como no se cumple, la distancia se mantiene en su antiguo valor: 2\n",
            "\n",
            "\n",
            "Origen arco\tDestino Arco\tPeso Arco\n",
            "4\t\t2\t\t73\n",
            "¿90+73 < 99?\n",
            "Como no se cumple, la distancia se mantiene en su antiguo valor: 99\n",
            "\n",
            "\n",
            "Origen arco\tDestino Arco\tPeso Arco\n",
            "4\t\t5\t\t82\n",
            "¿90+82 < 172?\n",
            "Como no se cumple, la distancia se mantiene en su antiguo valor: 172\n",
            "\n",
            "\n",
            "Origen arco\tDestino Arco\tPeso Arco\n",
            "5\t\t6\t\t81\n",
            "¿172+81 < 0?\n",
            "Como no se cumple, la distancia se mantiene en su antiguo valor: 0\n",
            "\n",
            "\n",
            "Origen arco\tDestino Arco\tPeso Arco\n",
            "7\t\t2\t\t75\n",
            "¿80+75 < 99?\n",
            "Como no se cumple, la distancia se mantiene en su antiguo valor: 99\n",
            "\n",
            "\n",
            "Origen arco\tDestino Arco\tPeso Arco\n",
            "1\t\t3\t\t22\n",
            "¿47+22 < 2?\n",
            "Como no se cumple, la distancia se mantiene en su antiguo valor: 2\n",
            "\n",
            "\n",
            "Origen arco\tDestino Arco\tPeso Arco\n",
            "1\t\t4\t\t43\n",
            "¿47+43 < 90?\n",
            "Como no se cumple, la distancia se mantiene en su antiguo valor: 90\n",
            "\n",
            "\n",
            "Origen arco\tDestino Arco\tPeso Arco\n",
            "2\t\t3\t\t7\n",
            "¿99+7 < 2?\n",
            "Como no se cumple, la distancia se mantiene en su antiguo valor: 2\n",
            "\n",
            "\n",
            "Origen arco\tDestino Arco\tPeso Arco\n",
            "3\t\t0\t\t66\n",
            "¿2+66 < 68?\n",
            "Como no se cumple, la distancia se mantiene en su antiguo valor: 68\n",
            "\n",
            "\n",
            "Origen arco\tDestino Arco\tPeso Arco\n",
            "0\t\t4\t\t66\n",
            "¿68+66 < 90?\n",
            "Como no se cumple, la distancia se mantiene en su antiguo valor: 90\n",
            "\n",
            "\n",
            "Origen arco\tDestino Arco\tPeso Arco\n",
            "0\t\t2\t\t31\n",
            "¿68+31 < 99?\n",
            "Como no se cumple, la distancia se mantiene en su antiguo valor: 99\n",
            "\n",
            "\n",
            "Origen arco\tDestino Arco\tPeso Arco\n",
            "6\t\t7\t\t80\n",
            "¿0+80 < 80?\n",
            "Como no se cumple, la distancia se mantiene en su antiguo valor: 80\n",
            "\n",
            "\n",
            "Origen arco\tDestino Arco\tPeso Arco\n",
            "6\t\t1\t\t47\n",
            "¿0+47 < 47?\n",
            "Como no se cumple, la distancia se mantiene en su antiguo valor: 47\n",
            "\n",
            "\n",
            "Origen arco\tDestino Arco\tPeso Arco\n",
            "6\t\t3\t\t2\n",
            "¿0+2 < 2?\n",
            "Como no se cumple, la distancia se mantiene en su antiguo valor: 2\n",
            "\n",
            "\n",
            "Origen arco\tDestino Arco\tPeso Arco\n",
            "4\t\t2\t\t73\n",
            "¿90+73 < 99?\n",
            "Como no se cumple, la distancia se mantiene en su antiguo valor: 99\n",
            "\n",
            "\n",
            "Origen arco\tDestino Arco\tPeso Arco\n",
            "4\t\t5\t\t82\n",
            "¿90+82 < 172?\n",
            "Como no se cumple, la distancia se mantiene en su antiguo valor: 172\n",
            "\n",
            "\n",
            "Origen arco\tDestino Arco\tPeso Arco\n",
            "5\t\t6\t\t81\n",
            "¿172+81 < 0?\n",
            "Como no se cumple, la distancia se mantiene en su antiguo valor: 0\n",
            "\n",
            "\n",
            "Origen arco\tDestino Arco\tPeso Arco\n",
            "7\t\t2\t\t75\n",
            "¿80+75 < 99?\n",
            "Como no se cumple, la distancia se mantiene en su antiguo valor: 99\n",
            "\n",
            "\n",
            "Origen arco\tDestino Arco\tPeso Arco\n",
            "1\t\t3\t\t22\n",
            "¿47+22 < 2?\n",
            "Como no se cumple, la distancia se mantiene en su antiguo valor: 2\n",
            "\n",
            "\n",
            "Origen arco\tDestino Arco\tPeso Arco\n",
            "1\t\t4\t\t43\n",
            "¿47+43 < 90?\n",
            "Como no se cumple, la distancia se mantiene en su antiguo valor: 90\n",
            "\n",
            "\n",
            "Origen arco\tDestino Arco\tPeso Arco\n",
            "2\t\t3\t\t7\n",
            "¿99+7 < 2?\n",
            "Como no se cumple, la distancia se mantiene en su antiguo valor: 2\n",
            "\n",
            "\n",
            "Origen arco\tDestino Arco\tPeso Arco\n",
            "3\t\t0\t\t66\n",
            "¿2+66 < 68?\n",
            "Como no se cumple, la distancia se mantiene en su antiguo valor: 68\n",
            "\n",
            "\n",
            "Origen arco\tDestino Arco\tPeso Arco\n",
            "0\t\t4\t\t66\n",
            "¿68+66 < 90?\n",
            "Como no se cumple, la distancia se mantiene en su antiguo valor: 90\n",
            "\n",
            "\n",
            "Origen arco\tDestino Arco\tPeso Arco\n",
            "0\t\t2\t\t31\n",
            "¿68+31 < 99?\n",
            "Como no se cumple, la distancia se mantiene en su antiguo valor: 99\n",
            "\n",
            "\n",
            "Origen arco\tDestino Arco\tPeso Arco\n",
            "6\t\t7\t\t80\n",
            "¿0+80 < 80?\n",
            "Como no se cumple, la distancia se mantiene en su antiguo valor: 80\n",
            "\n",
            "\n",
            "Origen arco\tDestino Arco\tPeso Arco\n",
            "6\t\t1\t\t47\n",
            "¿0+47 < 47?\n",
            "Como no se cumple, la distancia se mantiene en su antiguo valor: 47\n",
            "\n",
            "\n",
            "Origen arco\tDestino Arco\tPeso Arco\n",
            "6\t\t3\t\t2\n",
            "¿0+2 < 2?\n",
            "Como no se cumple, la distancia se mantiene en su antiguo valor: 2\n",
            "\n",
            "\n",
            "Origen arco\tDestino Arco\tPeso Arco\n",
            "4\t\t2\t\t73\n",
            "¿90+73 < 99?\n",
            "Como no se cumple, la distancia se mantiene en su antiguo valor: 99\n",
            "\n",
            "\n",
            "Origen arco\tDestino Arco\tPeso Arco\n",
            "4\t\t5\t\t82\n",
            "¿90+82 < 172?\n",
            "Como no se cumple, la distancia se mantiene en su antiguo valor: 172\n",
            "\n",
            "\n",
            "Origen arco\tDestino Arco\tPeso Arco\n",
            "5\t\t6\t\t81\n",
            "¿172+81 < 0?\n",
            "Como no se cumple, la distancia se mantiene en su antiguo valor: 0\n",
            "\n",
            "\n",
            "Origen arco\tDestino Arco\tPeso Arco\n",
            "7\t\t2\t\t75\n",
            "¿80+75 < 99?\n",
            "Como no se cumple, la distancia se mantiene en su antiguo valor: 99\n",
            "\n",
            "\n",
            "Origen arco\tDestino Arco\tPeso Arco\n",
            "1\t\t3\t\t22\n",
            "¿47+22 < 2?\n",
            "Como no se cumple, la distancia se mantiene en su antiguo valor: 2\n",
            "\n",
            "\n",
            "Origen arco\tDestino Arco\tPeso Arco\n",
            "1\t\t4\t\t43\n",
            "¿47+43 < 90?\n",
            "Como no se cumple, la distancia se mantiene en su antiguo valor: 90\n",
            "\n",
            "\n",
            "Origen arco\tDestino Arco\tPeso Arco\n",
            "2\t\t3\t\t7\n",
            "¿99+7 < 2?\n",
            "Como no se cumple, la distancia se mantiene en su antiguo valor: 2\n",
            "\n",
            "\n",
            "Origen arco\tDestino Arco\tPeso Arco\n",
            "3\t\t0\t\t66\n",
            "¿2+66 < 68?\n",
            "Como no se cumple, la distancia se mantiene en su antiguo valor: 68\n",
            "\n",
            "\n",
            "Origen arco\tDestino Arco\tPeso Arco\n",
            "0\t\t4\t\t66\n",
            "¿68+66 < 90?\n",
            "Como no se cumple, la distancia se mantiene en su antiguo valor: 90\n",
            "\n",
            "\n",
            "Origen arco\tDestino Arco\tPeso Arco\n",
            "0\t\t2\t\t31\n",
            "¿68+31 < 99?\n",
            "Como no se cumple, la distancia se mantiene en su antiguo valor: 99\n",
            "\n",
            "\n",
            "Origen arco\tDestino Arco\tPeso Arco\n",
            "6\t\t7\t\t80\n",
            "¿0+80 < 80?\n",
            "Como no se cumple, la distancia se mantiene en su antiguo valor: 80\n",
            "\n",
            "Ahora se imprirán las distancias entre:\n",
            "Los vertices y el origen\n",
            "0\t\t68\n",
            "1\t\t47\n",
            "2\t\t99\n",
            "3\t\t2\n",
            "4\t\t90\n",
            "5\t\t172\n",
            "6\t\t0\n",
            "7\t\t80\n"
          ]
        }
      ]
    },
    {
      "cell_type": "markdown",
      "source": [
        "##Visualize == True"
      ],
      "metadata": {
        "id": "M9q36O3LIS4W"
      }
    },
    {
      "cell_type": "code",
      "source": [
        "if __name__ == '__main__':\n",
        "  Gr = Graph(0)\n",
        "  n = 7\n",
        "  Gr.graph, gi = instance_generator(n)\n",
        "  Gr.V = n\n",
        "  print(Gr.graph, gi)\n",
        "  Gr.BellmanFord(gi, False, True)"
      ],
      "metadata": {
        "colab": {
          "base_uri": "https://localhost:8080/",
          "height": 265
        },
        "id": "o-TnocboIVdx",
        "outputId": "e2ed9f20-7f47-47a7-8b01-5bc38b03ddb5"
      },
      "execution_count": 115,
      "outputs": [
        {
          "output_type": "stream",
          "name": "stdout",
          "text": [
            "[(1, 2, 85), (1, 5, 37), (4, 6, 65), (6, 2, 58), (6, 5, 11), (5, 3, 22), (0, 5, 59), (3, 0, 67), (2, 3, 85), (2, 4, 55), (4, 1, 5)] 1\n"
          ]
        },
        {
          "output_type": "display_data",
          "data": {
            "text/plain": [
              "<Figure size 432x288 with 1 Axes>"
            ],
            "image/png": "[encoded data removed]"
          },
          "metadata": {}
        }
      ]
    },
    {
      "cell_type": "markdown",
      "source": [
        "#Tiempo de ejecución"
      ],
      "metadata": {
        "id": "B_EeLQUqVzJP"
      }
    },
    {
      "cell_type": "markdown",
      "source": [
        "##Bellmand-Ford"
      ],
      "metadata": {
        "id": "BUPghumX5cvT"
      }
    },
    {
      "cell_type": "markdown",
      "source": [
        "Para estimar el tiempo de ejecución del algoritmo se utilizará la función:\n",
        "> $f_{(n)} * g_{(n)} + h_{(n)}$\n",
        "\n",
        "donde $f_{(n)}$ es la cantidad de sub-problemas a resolver, $g_{(n)}$ el tiempo en resolver cada sub-problema y $h_{(n)}$ el tiempo en procesar la solución.\n",
        "\n",
        "**$f_{(n)}$:** Para un grafo con $V$ nodos y $E$ arcos, el total de sub-problemas se define según la cantidad de arcos, considerando que no serán mayores a $V-1$ y que no contiene ciclos negativos por cada uno de estos arcos. En una iteración significa pasar por todos los arcos del grafo, \"operando\" en cada arco un cantidad de $V-1$ veces.\n",
        "\n",
        "**$g_{(n)}$:** Para resolver cada sub-problema se debe \"operar\" en cada arco, tomando esto $O(1)$ ya que la solución es tomada de la pasada anterior y lo que hace la operación en si es comparar la solución pasada con la nueva candidata.\n",
        "\n",
        "**$h_{(n)}$:** El tiempo de esta parte se puede omitir ya que buscando la cota superior da $O(1)$ en instrucciones de almacenar las soluciones dinámicamente.\n",
        "\n",
        "Reemplazando lo anterior nos da que:\n",
        "\n",
        ">$T(n) = \\sum_{j=1}^{V}\\sum_{i=1}^{E}·c$\n",
        ">\n",
        ">$T(n) = c·\\sum_{j=1}^{V}E$\n",
        ">\n",
        ">$T(n) = c·VE$\n",
        ">\n",
        ">$T(n) = O(V*E)$\n"
      ],
      "metadata": {
        "id": "nwjPGVcF2T6u"
      }
    },
    {
      "cell_type": "markdown",
      "source": [
        "##Dijkstra"
      ],
      "metadata": {
        "id": "L2oZ6MRS5eZz"
      }
    },
    {
      "cell_type": "markdown",
      "source": [
        "Para calcular el tiempo de Dijkstra se verán los procedimientos y estructruras en este:\n",
        "\n",
        "Primero se ordenan los nodos según peso de menor a amtor, para esto se utiliza un mónticulo binario, lo que toma $O(log(n))$ con $n$ siendo la cantidad de datos en el grafo, y dado que el algoritmo necesita todos los nodos, realizará $V$ veces las operaciones $O(log(n))$ lo que tomá un total de $O(V*log(n))$.\n",
        "\n",
        "Sumado a lo anterior también se debe de considerar el arco de menor peso hacia un nodo adyacente. Si se ven todos los arcos adyacente significa que se recorreran todos los arcos del grafo.\n",
        "\n",
        "Por lo que tomando las partes anteriores en cuenta queda como:\n",
        "\n",
        "$T(n) = c·E + V·O(log(V))$\n",
        "\n",
        "$T(n) = c·E + c·V·log(V)$\n",
        "\n",
        "$T(n) = c·(E + Vlog(V))$\n",
        "\n",
        "$T(n) = O(E + Vlog(V))$"
      ],
      "metadata": {
        "id": "rNZEX4sd6HtO"
      }
    },
    {
      "cell_type": "markdown",
      "source": [
        "#Correctitud Bellmand-Ford"
      ],
      "metadata": {
        "id": "lBjCesiBV2LH"
      }
    },
    {
      "cell_type": "markdown",
      "source": [
        "Para comprobar la correctitud de Bellmand-Ford se utilizará inducción, para esto consideraremos 2 casos.\n",
        "\n",
        "> Consideramos a $i$ como el tamaño del problema, $L$ como la distancia entre los nodos $q$ y $s$, con $q$ siendo el nodo de origen y $s$ el nodo de llegada\n",
        "\n",
        "**Caso Base:** Con $i = 0$, la distancia $L_{q,q} == 0$ es correcta ya que es la distancia de un nodo hacia si mismo. Mientras que para otra distancia $L_{q,s} = ∞_+$ sería correcto ya que no existe un camino a un nodo $s$.\n",
        "\n",
        "**Caso General:** \n",
        "> Para todo nodo $s$ con un camino $L_{q,s}$, el cual es el mínimo entre $q$ y $s$, se usaran a lo mucho $i-1$ arcos.\n",
        "\n",
        ">Con $q \\neq s$, $P$ será el camino más corto entre $q$ y $s$ con $i$ arcos como máximo, además de un nodo $k$ el cual es un nodo previo a $s$ en el camino $P$, siendo $P'$ el camino entre $q$ y $k$.\n",
        "\n",
        "Tomando el cuenta los datos anteriores tendremos que el valor $L_{P'}$ del camino $P'$ es igual a $L_{i-1, k}$.\n",
        "\n",
        "En cada n-ésima iteración se actualiza el valor $L_{k,s}$ al valor mínimo entre $L_{n-1, s}$ y $L_{n-1, k} + L_{k,s}$. Sabiendo que $L_{n-1, k} + L_{k,s}$ es igual a $L_{P'} + L_{k,s}$ Lo que a su vez es igual a $L_{P}$, por lo que $L_{n,s} ≤ L_{P}$. También $L_{n-1,s}$ es el valor del camino más corto entre $q$ y $s$ con un máximo de $i-1$ arcos, además de ser al menos igual de largo que $L_{P}$ y que $P$ posee más arcos a considerar.\n",
        "\n",
        "En el caso que $L_{n,s} = L_{n-1,s}$, la solución al problema de menor tamaño anterior es una posible parte de la solución. En caso de que no exista tal camino $L_{n-1,s} = ∞_+$.\n",
        "\n",
        "En caso que no ocurra el caso anterior se calcula $L_{n-1,k} + L_{k,s}$, lo cual da el valor de $P'$ más un úlitmo arco que conecte a $k$ con $s$. En caso de que tal camino no exista el valor será $∞_+$.\n",
        "\n",
        "Asumiendo que las operaciones son correctas. $L_{n,s}$ será correcto ya que al ser dependiente de las soluciones de los sub-problemas, y estos a su vez fueron calculados correctamente da que la solución general es correcta.\n",
        "\n",
        "Si los camino existen, el mínimo de los casos será $L_{n,s}$ = $P$, lo que significa que es el camino mínimo entre $q$ y $s$ con 4i$ arcos como máximo.\n",
        "\n",
        "    V = la cantidad nodos en el grafo\n",
        "\n",
        "Cuando $n = V$, si $L_{V-1,s} = L_{V,s}$ se habrán los caminos mínimos de forma correcta, retornando una lista de los largos correspondientes.\n",
        "\n",
        "En caso que $L_{V-1,s} \\neq  L_{V,s}$ significa que se encontró un ciclo negativo, retornando un mensaje respecto a esto.\n",
        "\n",
        "Con todo lo anterior podemos decir que Bellmand-Ford es correcto."
      ],
      "metadata": {
        "id": "RGhcbvbUxxUm"
      }
    },
    {
      "cell_type": "markdown",
      "source": [
        "#Experimentos"
      ],
      "metadata": {
        "id": "D2o-Ci0FV4Hy"
      }
    },
    {
      "cell_type": "markdown",
      "source": [
        "##Tiempo de ejecución"
      ],
      "metadata": {
        "id": "DQVSEKvvWPof"
      }
    },
    {
      "cell_type": "code",
      "source": [
        "from matplotlib import cm\n",
        "import matplotlib.pyplot as plt\n",
        "import datetime\n",
        "from timeit import repeat\n",
        "import numpy as np\n",
        "\n",
        "x=[]; y=[]\n",
        "\n",
        "\n",
        "\n",
        "for n in range(5,150):\n",
        "  cont = [0]\n",
        "  g = Graph(n)\n",
        "  g.graph,gi = instance_generator(n)\n",
        "\n",
        "  t = repeat(setup = \"from __main__ import Graph\", stmt = lambda: g.BellmanFord(gi), number = 25, repeat = 10)\n",
        "  sum = 0\n",
        "  for i in range(len(t)):\n",
        "    sum += t[i]\n",
        "\n",
        "  prom = sum/25\n",
        "  x.append(n)\n",
        "  y.append(prom)\n",
        "\n",
        "\n",
        "plt.plot(x,y)\n",
        "plt.legend([\"Bellman-Ford\"])\n",
        "\n",
        "plt.xlabel('Cantidad de Nodos')\n",
        "plt.ylabel('Media de tiempo')\n",
        "plt.show()"
      ],
      "metadata": {
        "colab": {
          "base_uri": "https://localhost:8080/",
          "height": 279
        },
        "id": "FZTBxS8oI7dT",
        "outputId": "1deef366-691d-498b-ec0a-c0a181e8aa85"
      },
      "execution_count": 107,
      "outputs": [
        {
          "output_type": "display_data",
          "data": {
            "text/plain": [
              "<Figure size 432x288 with 1 Axes>"
            ],
            "image/png": "[encoded data removed]"
          },
          "metadata": {
            "needs_background": "light"
          }
        }
      ]
    },
    {
      "cell_type": "markdown",
      "source": [
        "El aumento que se ve en el gráfico corresponde al caso teórico, ya que es menor a un aumento exponencial pero sigue siendo mayor a que si tuviera un logaritmo (este caso ocurre en dijkstra)."
      ],
      "metadata": {
        "id": "ftZYERWDTepd"
      }
    },
    {
      "cell_type": "code",
      "source": [
        "from matplotlib import cm\n",
        "import matplotlib.pyplot as plt\n",
        "import datetime\n",
        "from timeit import repeat\n",
        "import numpy as np\n",
        "\n",
        "x=[]; y=[]; y1=[]\n",
        "\n",
        "\n",
        "\n",
        "for n in range(5,150):\n",
        "  cont = [0]\n",
        "  g = Graph(n)\n",
        "  k = Graph2(n)\n",
        "  k.graph,yi=instance_generator2(n)\n",
        "  g.graph,gi = instance_generator2(n) #Ambos algorimtos trabajaran solo con pesos positivos\n",
        "\n",
        "  t = repeat(setup = \"from __main__ import Graph\", stmt = lambda: g.BellmanFord(gi), number = 10, repeat = 1)\n",
        "  t1 = repeat(setup = \"from __main__ import Graph2\", stmt = lambda: k.dijkstra(yi), number = 10, repeat = 1)\n",
        "  x.append(n)\n",
        "  y.append(t)\n",
        "  y1.append(t1)\n",
        "\n",
        "\n",
        "plt.plot(x,y)\n",
        "plt.plot(x,y1)\n",
        "plt.legend([\"Bellman-Ford\", \"Dijkstra\"])\n",
        "\n",
        "plt.xlabel('Cantidad de Nodos')\n",
        "plt.ylabel('Media de tiempo')\n",
        "plt.show()"
      ],
      "metadata": {
        "colab": {
          "base_uri": "https://localhost:8080/",
          "height": 279
        },
        "id": "0fjEXfmDQeG9",
        "outputId": "a452700f-d53a-4180-8d43-87c00ed20c67"
      },
      "execution_count": 110,
      "outputs": [
        {
          "output_type": "display_data",
          "data": {
            "text/plain": [
              "<Figure size 432x288 with 1 Axes>"
            ],
            "image/png": "[encoded data removed]"
          },
          "metadata": {
            "needs_background": "light"
          }
        }
      ]
    },
    {
      "cell_type": "markdown",
      "source": [
        "Se puede ver como el gráfico de Bellmand-Ford es más lento que el de Dijkstra y esto se debe principalmente a que recorre multiples veces las posibilidades que tiene, esto al tener que corroborar las distancias entre cada nodo, sea el camino óptimo o no, en cambio Dijkstra no realiza esta tarea de manera tan notoria debido a que solo realiza una operacion en $O(log(n))$ según la cantidad de nodos, en cambio Bellmand-Ford Realiza una operación \"más rapida\" pero muchas más veces, ya que por cada arco realizará la operación un total de veces igual a la cantidad de nodos del grafo."
      ],
      "metadata": {
        "id": "KvVNH53PU0yn"
      }
    }
  ]
}