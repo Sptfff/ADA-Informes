{
  "nbformat": 4,
  "nbformat_minor": 0,
  "metadata": {
    "colab": {
      "provenance": [],
      "authorship_tag": "ABX9TyNbpC8tJsJIhH9ZW4A49ct8",
      "include_colab_link": true
    },
    "kernelspec": {
      "name": "python3",
      "display_name": "Python 3"
    },
    "language_info": {
      "name": "python"
    }
  },
  "cells": [
    {
      "cell_type": "markdown",
      "metadata": {
        "id": "view-in-github",
        "colab_type": "text"
      },
      "source": [
        "<a href=\"https://colab.research.google.com/github/Sptfff/ADA-Informes/blob/main/Informe7_Rod_Cutting.ipynb\" target=\"_parent\"><img src=\"https://colab.research.google.com/assets/colab-badge.svg\" alt=\"Open In Colab\"/></a>"
      ]
    },
    {
      "cell_type": "markdown",
      "source": [
        "#Problema de Optimización\n",
        "\n",
        "**Entrada:** Conjunto de números $A = [a_1,a_2,a_3,...,a_n]$ \n",
        "\n",
        "**Salida:** Retorno máximo posible $k$\n",
        "\n",
        "![image](https://imgur.com/GshTi5V.jpg)\n",
        "\n",
        "Uno de los mayores problemas que surge en la informatica, es la optimización de algoritmos debido a que se necesitan que estos funcionen de la manera más rapida posible sin que sea demasiado \"complicado\".\n",
        "Para solucionar esto existen distintos enfoques, y uno de ellos (y el que veremos en el informe) es la **Programación Dinámica**."
      ],
      "metadata": {
        "id": "aN-MgPhq0VQV"
      }
    },
    {
      "cell_type": "markdown",
      "source": [
        "#Descripción del Algoritmo\n",
        "\n",
        "Los algoritmos que funcionan en base a la programación dinámica funcionan de manera similar a los algoritmos \"divide y vencerás\", donde ambos dividen un problema en sub-problemas y fusionan las soluciones de estos sub-problemas para obtener la solución del problema. \n",
        "\n",
        "La programación dinámica lo que hace es solucionar un sub-problema y guardadarlo, de modo que cuando encuentre otra iteración igual al sub-problema \"copia\" la solución. De tal forma que ahorra tiempo en solucionar el sub-problema.\n",
        "\n",
        "En el siguiente informe se verá la programación dinámica aplicada en el algoritmo de corte de varillas."
      ],
      "metadata": {
        "id": "SrqdaOWhlDum"
      }
    },
    {
      "cell_type": "markdown",
      "source": [
        "#Código"
      ],
      "metadata": {
        "id": "4E9Zp5020WD0"
      }
    },
    {
      "cell_type": "markdown",
      "source": [],
      "metadata": {
        "id": "4ZophJoaoc6u"
      }
    },
    {
      "cell_type": "code",
      "execution_count": 50,
      "metadata": {
        "colab": {
          "base_uri": "https://localhost:8080/"
        },
        "id": "yccfsl9PQwY1",
        "outputId": "0a6f8e0c-1c05-467d-8565-c2ac931d4f8d"
      },
      "outputs": [
        {
          "output_type": "stream",
          "name": "stdout",
          "text": [
            "\u001b[35mSe obtiene una barra de largo 8{\u001b[0m\n",
            "\u001b[34m    Se revisa el 1 corte, formando unabarra de largo 7 y una de largo 1\u001b[0m\n",
            "\u001b[32m    El corte en 1 genera una ganancia 24\u001b[0m\n",
            "\u001b[33m    El mayor entre -inf y 24 es 24\u001b[0m\n",
            "\u001b[36m    n = 8, i = 0, q = 24, c = 24\n",
            "\u001b[0m\n",
            "\u001b[34m    Se revisa el 2 corte, formando unabarra de largo 6 y una de largo 2\u001b[0m\n",
            "\u001b[32m    El corte en 2 genera una ganancia 23\u001b[0m\n",
            "\u001b[33m    El mayor entre 24 y 23 es 24\u001b[0m\n",
            "\u001b[36m    n = 8, i = 1, q = 24, c = 23\n",
            "\u001b[0m\n",
            "\u001b[34m    Se revisa el 3 corte, formando unabarra de largo 5 y una de largo 3\u001b[0m\n",
            "\u001b[32m    El corte en 3 genera una ganancia 23\u001b[0m\n",
            "\u001b[33m    El mayor entre 24 y 23 es 24\u001b[0m\n",
            "\u001b[36m    n = 8, i = 2, q = 24, c = 23\n",
            "\u001b[0m\n",
            "\u001b[34m    Se revisa el 4 corte, formando unabarra de largo 4 y una de largo 4\u001b[0m\n",
            "\u001b[32m    El corte en 4 genera una ganancia 21\u001b[0m\n",
            "\u001b[33m    El mayor entre 24 y 21 es 24\u001b[0m\n",
            "\u001b[36m    n = 8, i = 3, q = 24, c = 21\n",
            "\u001b[0m\n",
            "\u001b[34m    Se revisa el 5 corte, formando unabarra de largo 3 y una de largo 5\u001b[0m\n",
            "\u001b[32m    El corte en 5 genera una ganancia 19\u001b[0m\n",
            "\u001b[33m    El mayor entre 24 y 19 es 24\u001b[0m\n",
            "\u001b[36m    n = 8, i = 4, q = 24, c = 19\n",
            "\u001b[0m\n",
            "\u001b[34m    Se revisa el 6 corte, formando unabarra de largo 2 y una de largo 6\u001b[0m\n",
            "\u001b[32m    El corte en 6 genera una ganancia 23\u001b[0m\n",
            "\u001b[33m    El mayor entre 24 y 23 es 24\u001b[0m\n",
            "\u001b[36m    n = 8, i = 5, q = 24, c = 23\n",
            "\u001b[0m\n",
            "\u001b[34m    Se revisa el 7 corte, formando unabarra de largo 1 y una de largo 7\u001b[0m\n",
            "\u001b[32m    El corte en 7 genera una ganancia 20\u001b[0m\n",
            "\u001b[33m    El mayor entre 24 y 20 es 24\u001b[0m\n",
            "\u001b[36m    n = 8, i = 6, q = 24, c = 20\n",
            "\u001b[0m\n",
            "\u001b[34m    Se revisa el 8 corte, formando unabarra de largo 0 y una de largo 8\u001b[0m\n",
            "\u001b[32m    El corte en 8 genera una ganancia 20\u001b[0m\n",
            "\u001b[33m    El mayor entre 24 y 20 es 24\u001b[0m\n",
            "\u001b[36m    n = 8, i = 7, q = 24, c = 20\n",
            "\u001b[0m\n",
            "\u001b[35m} Máximo = 24\u001b[0m\n",
            "\u001b[32m\n",
            "max:24, cortes: [1, 2, 3, 4, 5, 6, 7], cuenta: 255\u001b[0m\n"
          ]
        }
      ],
      "source": [
        "import math\n",
        "import numpy as np\n",
        "from termcolor import colored\n",
        "\n",
        "def cutRodRecursivo(p, n = -1, l = 0, verbose = False, counting = False):\n",
        "     \n",
        "    if n == -1: n = len(p) # Obtener n (no n-1 :v)\n",
        "\n",
        "    if verbose:\n",
        "       print(colored(f\" \" * (l*4) + f\"Se obtiene una barra de largo {n}\" + \"{\", \"magenta\"))\n",
        "\n",
        "    # Caso base\n",
        "    if n <= 0: \n",
        "        if verbose:\n",
        "           print(\" \" * (l*4 + 4) + \"Caso base \\n\" + \" \" * (l*4) + \"}\")\n",
        "        return 0, [] # no hay cortes\n",
        "\n",
        "    cortes = np.zeros(n+1, int)\n",
        "    # print (\"    \" * l + \"barra [\", \"0 \"*n + \"] ,ganancia = \", p[n-1])\n",
        "    q = -math.inf # Almacena la ganancia mayor\n",
        "    for i in range(n):\n",
        "\n",
        "        if verbose:\n",
        "          print(colored(f\" \" * 4*(l+1) + f\"Se revisa el {i+1} corte, formando una\" + f\"barra de largo {n - i-1} y una de largo {i+1}\", \"blue\"))\n",
        "\n",
        "        # Obtener costo del corte de manera recursiva\n",
        "\n",
        "        if counting: \n",
        "            global count; count+=1\n",
        "        c, rcortes = cutRodRecursivo(p, n-i-1, l = l + 2, counting = True) \n",
        "\n",
        "        c += p[i]\n",
        "\n",
        "        if verbose: \n",
        "          print(colored(\" \"*4*(l+1)+ f\"El corte en {i+1} genera una ganancia {c}\", \"green\"))\n",
        "        if verbose:\n",
        "           print(colored(\" \"*4*(l+1)+ f\"El mayor entre {q} y {c} es {max(q,c)}\", \"yellow\"));\n",
        "\n",
        "        if n-i-1 != 0: \n",
        "            rcortes.append(i+1)\n",
        "            prev = i+1\n",
        "\n",
        "        if c > q: # si el corte actual es máximo:\n",
        "            q = c\n",
        "            cortes = rcortes\n",
        "        if verbose:\n",
        "           print(colored(\" \" * 4 *l + 4*\" \" + f\"n = {n}, i = {i}, q = {q}, c = {c}\\n\", \"cyan\"))\n",
        "    if verbose:\n",
        "       print (colored(\" \" * l * 4 + f\"}} Máximo = {q}\", \"magenta\"))\n",
        "\n",
        "\n",
        "    return q, cortes # Devolver valor máximo de ganancia\n",
        "\n",
        "count = 0\n",
        "m,c = (cutRodRecursivo([3,5,8,9,10,17,17,20],verbose = True, counting = True))\n",
        "\n",
        "for i in range(1,len(c)):\n",
        "    c[i] += c[i-1]\n",
        "print(colored(f\"\\nmax:{m}, cortes: {c}, cuenta: {count}\", \"green\"))\n"
      ]
    },
    {
      "cell_type": "code",
      "source": [
        "import random\n",
        "def cutrod_instance_generator(N):\n",
        "  A = []\n",
        "  prev = 0\n",
        "  for i in range(N):\n",
        "    r=random.randint(0,10)\n",
        "    A.append(prev+r)\n",
        "    prev+=r\n",
        "  return A\n",
        "\n",
        "def cortadorRecursivo():\n",
        "  hola = 0\n",
        "\n",
        "  \n",
        "cutrod_instance_generator(10)\n",
        "\n",
        "def bottomUpCut(A, N, cont, verbose = False):\n",
        "    r = [-1]*(N + 1)\n",
        "    r[0] = 0\n",
        "\n",
        "    s = [-1]*(N + 1)\n",
        " \n",
        "    for i in range(1, N+1):\n",
        "        q = -1\n",
        "        for j in range(1, i + 1):\n",
        "            cont[0] += 1\n",
        "            temp = A[j] + r[i - j]\n",
        "            if verbose:\n",
        "              print(colored(f\"\\nBarra de largo: {i}\", \"cyan\"))\n",
        "              print(colored(f\"Con cortes de largo: {j}\", \"cyan\"))\n",
        "              print(colored(f\"Valor: {temp}\", \"yellow\"))\n",
        "            if q < temp:\n",
        "                q = temp\n",
        "                s[i] = j\n",
        "        r[i] = q\n",
        " \n",
        "    return r, s\n",
        "\n",
        "n = 5\n",
        "p = cutrod_instance_generator(n+1)\n",
        "cont = [0]\n",
        "verbose = True\n",
        " \n",
        "print(colored(f\"Precios: {p[1:]}\", \"magenta\"))\n",
        "r, s = bottomUpCut(p, n, cont, verbose)\n",
        "\n",
        "print(colored(f'\\nMaxima ganancia: {r[n]}', \"green\"))\n",
        "print('Cortes necesarios: ', end='')\n",
        "\n",
        "while n > 0:\n",
        "    print(s[n], end=' ')\n",
        "    n -= s[n]\n",
        "\n",
        "if verbose:\n",
        "  print(colored(f\"\\nSubProblemas resueltos: {cont[0]}\", \"green\"))"
      ],
      "metadata": {
        "colab": {
          "base_uri": "https://localhost:8080/"
        },
        "id": "vCEY7ZJpfve-",
        "outputId": "464dee3c-44f4-4ae3-ec3e-52fcac0f5900"
      },
      "execution_count": 57,
      "outputs": [
        {
          "output_type": "stream",
          "name": "stdout",
          "text": [
            "\u001b[35mPrecios: [17, 27, 37, 41, 51]\u001b[0m\n",
            "\u001b[36m\n",
            "Barra de largo: 1\u001b[0m\n",
            "\u001b[36mCon cortes de largo: 1\u001b[0m\n",
            "\u001b[33mValor: 17\u001b[0m\n",
            "\u001b[36m\n",
            "Barra de largo: 2\u001b[0m\n",
            "\u001b[36mCon cortes de largo: 1\u001b[0m\n",
            "\u001b[33mValor: 34\u001b[0m\n",
            "\u001b[36m\n",
            "Barra de largo: 2\u001b[0m\n",
            "\u001b[36mCon cortes de largo: 2\u001b[0m\n",
            "\u001b[33mValor: 27\u001b[0m\n",
            "\u001b[36m\n",
            "Barra de largo: 3\u001b[0m\n",
            "\u001b[36mCon cortes de largo: 1\u001b[0m\n",
            "\u001b[33mValor: 51\u001b[0m\n",
            "\u001b[36m\n",
            "Barra de largo: 3\u001b[0m\n",
            "\u001b[36mCon cortes de largo: 2\u001b[0m\n",
            "\u001b[33mValor: 44\u001b[0m\n",
            "\u001b[36m\n",
            "Barra de largo: 3\u001b[0m\n",
            "\u001b[36mCon cortes de largo: 3\u001b[0m\n",
            "\u001b[33mValor: 37\u001b[0m\n",
            "\u001b[36m\n",
            "Barra de largo: 4\u001b[0m\n",
            "\u001b[36mCon cortes de largo: 1\u001b[0m\n",
            "\u001b[33mValor: 68\u001b[0m\n",
            "\u001b[36m\n",
            "Barra de largo: 4\u001b[0m\n",
            "\u001b[36mCon cortes de largo: 2\u001b[0m\n",
            "\u001b[33mValor: 61\u001b[0m\n",
            "\u001b[36m\n",
            "Barra de largo: 4\u001b[0m\n",
            "\u001b[36mCon cortes de largo: 3\u001b[0m\n",
            "\u001b[33mValor: 54\u001b[0m\n",
            "\u001b[36m\n",
            "Barra de largo: 4\u001b[0m\n",
            "\u001b[36mCon cortes de largo: 4\u001b[0m\n",
            "\u001b[33mValor: 41\u001b[0m\n",
            "\u001b[36m\n",
            "Barra de largo: 5\u001b[0m\n",
            "\u001b[36mCon cortes de largo: 1\u001b[0m\n",
            "\u001b[33mValor: 85\u001b[0m\n",
            "\u001b[36m\n",
            "Barra de largo: 5\u001b[0m\n",
            "\u001b[36mCon cortes de largo: 2\u001b[0m\n",
            "\u001b[33mValor: 78\u001b[0m\n",
            "\u001b[36m\n",
            "Barra de largo: 5\u001b[0m\n",
            "\u001b[36mCon cortes de largo: 3\u001b[0m\n",
            "\u001b[33mValor: 71\u001b[0m\n",
            "\u001b[36m\n",
            "Barra de largo: 5\u001b[0m\n",
            "\u001b[36mCon cortes de largo: 4\u001b[0m\n",
            "\u001b[33mValor: 58\u001b[0m\n",
            "\u001b[36m\n",
            "Barra de largo: 5\u001b[0m\n",
            "\u001b[36mCon cortes de largo: 5\u001b[0m\n",
            "\u001b[33mValor: 51\u001b[0m\n",
            "\u001b[32m\n",
            "Maxima ganancia: 85\u001b[0m\n",
            "Cortes necesarios: 1 1 1 1 1 \u001b[32m\n",
            "SubProblemas resueltos: 15\u001b[0m\n"
          ]
        }
      ]
    },
    {
      "cell_type": "code",
      "source": [],
      "metadata": {
        "id": "TsGsf__s6w6_"
      },
      "execution_count": null,
      "outputs": []
    },
    {
      "cell_type": "markdown",
      "source": [
        "#Correctitud"
      ],
      "metadata": {
        "id": "SiLrarpPG3Lf"
      }
    },
    {
      "cell_type": "markdown",
      "source": [
        "El algoritmo recibe un arreglo $[a_1, a_2,..., a_n]$ de precios de venta, de donde retorna correctamente la ganancia máxima $r_n$.\n",
        "\n",
        "##Prueba del Teorema.\n",
        "\n",
        "Para comprobar el teorema utilizaremos inducción matemática con 2 casos.\n",
        "\n",
        "###Caso base $(n=1)$\n",
        "Para un varilla de largo 1, el algoritmo retorna inmediatamente el precio de la varilla ya que esta posee el tamaño minimo, por lo que no se puede dividir y solo posee un valor para $r_n$.\n",
        "\n",
        "###Caso general $(n>1)$\n",
        "Para una varilla de largo mayor a 1, se calcula la ganancia obtenida de $j$ ($1..n$), donde este es el tamaño de todos los posibles sub-problemas en los que se puede dividir el problema original. La función que obtiene el valor $r_n$ se puede describir de manera matemática como: \n",
        "\n",
        "$r_n = Precios_j + r_n-j$\n",
        "\n",
        "> $Precios_j$ es el precio de una varilla de largo $j$, y $r_n-j$ es la ganancia máxima para una varilla de largo $n-j$.\n",
        "\n",
        "Con esto sabemos que para cualquier varilla con largo $n-j$, ($j>=1$) su ganancia máxima se calculada correctamente.\n",
        "\n",
        "Como se consideran todos los sub-problemas que pueden salir del problema original, sabemos que uno de estos será el valor que maximice la solucón buscada. El algoritmo retornará el $r_n$ máximo de todos los valores máximos de los sub-problemas.\n",
        "\n",
        "Considerando todo lo anterior como correcto gracias al caso base y al general, podemos decir de que algoritmo es correcto."
      ],
      "metadata": {
        "id": "RuLrygkwG4u7"
      }
    },
    {
      "cell_type": "markdown",
      "source": [
        "#Tiempo de ejecución"
      ],
      "metadata": {
        "id": "pchtMoYqBmfm"
      }
    },
    {
      "cell_type": "markdown",
      "source": [
        "Teniendo en cuenta que para encontrar el retorno máximo $r_n$ el algoritmo necesita solucionar cada problema por varilla de largo $k= 1...n$antes de solucionar el problema original. Y por cada sub-problema $k$ se debe de encontrar cada uno de los cortes de la varilla, siendo esto igual a $j = 1...k$ que sería el punto de corte. Esto significa que por cada problema $k$ se resuelven $j$ sub-problemos, lo que matematicamente se puede plantear como:\n",
        "\n",
        "$T(n)=\\sum\\limits_{i=1}^{n+1}\\sum\\limits_{j=0}^{i}c$\n",
        "\n",
        "$T(n)=c\\sum\\limits_{i=1}^{n+1}j$\n",
        "$\\sum\\limits_{i=1}^{n} i=\\frac{n(n+1)}{2}$\n",
        "\n",
        "$T(n)=c*\\frac{n(n+1)}{2}$\n",
        "\n",
        "Considerando que el tiempo para resolver cada sub-problema es constante, ya que los valores que utiliza la función se obtienen a partir de 2 arreglos, por lo que el tiempo que posee esto es de $O(1)$.\n",
        "\n",
        "Para construir la solución se debe de obtener los cortes para la varilla, estos se obtienen por medio del arreglo $D$ que posee tamaño $n$ y donde se guarda el índice ($j$)donde sea realizo el corte en cada varilla de largo$i$. El peor caso de esto es cuando todo esto da $n$ varilla de largo 1, por lo el tiempo de ejecución sería $O(n)$.\n",
        "\n",
        "Con todo lo anterior podemos definir 3 funciones:\n",
        "> $f(n)$ Que corresponde a la cantidad de sub-problemas\n",
        "> $g(n)$ Es el tiempo que toma resolver cada sub-problema.\n",
        "> $h(n)$ El tiempo en construir la solución.\n",
        "\n",
        "Reemplazando se obtiene que:\n",
        "$T(n) = O(n^2) + O(1) + O(n)$\n",
        "$T(n) = O(n^2)$\n",
        "\n",
        "Dado que el algoritmo se trata de uno de optimización el peor caso y el mejor son iguales, por lo que determina el tiempo de ejecución es tamaño del problema que recibe, por lo que se puede decir que la complejidad del algoritmo es $O(n^2)$."
      ],
      "metadata": {
        "id": "MVYqeWrhBlO7"
      }
    },
    {
      "cell_type": "markdown",
      "source": [
        "#Experimentación"
      ],
      "metadata": {
        "id": "aP73hbHk1JFt"
      }
    },
    {
      "cell_type": "code",
      "source": [
        "import matplotlib.pyplot as plt\n",
        "import datetime\n",
        "from timeit import repeat\n",
        "\n",
        "x=[]; y=[]; x2=[]; y2=[]\n",
        "\n",
        "for n in range(5,25):\n",
        "  nums = []\n",
        "  nums2 = []\n",
        "\n",
        "  for i in range(0,n):\n",
        "    cont = [0]\n",
        "    a = cutrod_instance_generator(n)\n",
        "\n",
        "    t = repeat(setup=\"from __main__ import bottomUpCut\", stmt=f\"bottomUpCut({a},{len(a)-1},{cont})\", repeat=1, number=10)\n",
        "    t2 = repeat(setup=\"from __main__ import cutRodRecursivo\", stmt=f\"cutRodRecursivo({a},{False}, {False})\", repeat=1, number=10)\n",
        "\n",
        "    x.append(n)\n",
        "    y.append(t)\n",
        "\n",
        "    x2.append(n)\n",
        "    y2.append(t2)\n",
        "\n",
        "\n",
        "plt.plot(x,y)\n",
        "plt.plot(x2,y2)\n",
        "plt.legend([\"Corte dinámico\", \"Corte Recursivo\"])\n",
        "\n",
        "plt.xlabel('n')\n",
        "plt.ylabel('time in ms')\n",
        "plt.show()"
      ],
      "metadata": {
        "colab": {
          "base_uri": "https://localhost:8080/",
          "height": 281
        },
        "id": "DhJo0x4F4j6p",
        "outputId": "2be8029a-7beb-4852-d332-0b18debd8243"
      },
      "execution_count": 60,
      "outputs": [
        {
          "output_type": "display_data",
          "data": {
            "text/plain": [
              "<Figure size 432x288 with 1 Axes>"
            ],
            "image/png": "[encoded data removed]"
          },
          "metadata": {
            "needs_background": "light"
          }
        }
      ]
    },
    {
      "cell_type": "code",
      "source": [
        "import matplotlib.pyplot as plt\n",
        "\n",
        "x=[n for n in range(5,500)] \n",
        "y=[]; \n",
        "\n",
        "for n in range(5,500):\n",
        "  cont = [0]\n",
        "  a = cutrod_instance_generator(n)\n",
        "  bottomUpCut(a, len(a)-1, cont)\n",
        "  y.append(cont[0])\n",
        "\n",
        "plt.plot(x,y)\n",
        "plt.legend([\"Numero de problemas a resolver\"])\n",
        "\n",
        "plt.xlabel('n')\n",
        "plt.ylabel('number of operations')\n",
        "plt.show()"
      ],
      "metadata": {
        "id": "9TDy7FXF71oG",
        "outputId": "80d5af8f-e91d-4ff7-e99c-268aa7564a04",
        "colab": {
          "base_uri": "https://localhost:8080/",
          "height": 279
        }
      },
      "execution_count": 61,
      "outputs": [
        {
          "output_type": "display_data",
          "data": {
            "text/plain": [
              "<Figure size 432x288 with 1 Axes>"
            ],
            "image/png": "[encoded data removed]"
          },
          "metadata": {
            "needs_background": "light"
          }
        }
      ]
    }
  ]
}