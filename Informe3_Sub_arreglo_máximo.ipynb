{
  "nbformat": 4,
  "nbformat_minor": 0,
  "metadata": {
    "colab": {
      "provenance": [],
      "authorship_tag": "ABX9TyPXWHHMVaXS4p6+0V6o35qB",
      "include_colab_link": true
    },
    "kernelspec": {
      "name": "python3",
      "display_name": "Python 3"
    },
    "language_info": {
      "name": "python"
    }
  },
  "cells": [
    {
      "cell_type": "markdown",
      "metadata": {
        "id": "view-in-github",
        "colab_type": "text"
      },
      "source": [
        "<a href=\"https://colab.research.google.com/github/Sptfff/ADA-Informes/blob/main/Informe3_Sub_arreglo_m%C3%A1ximo.ipynb\" target=\"_parent\"><img src=\"https://colab.research.google.com/assets/colab-badge.svg\" alt=\"Open In Colab\"/></a>"
      ]
    },
    {
      "cell_type": "markdown",
      "source": [
        "#1. Descripción del problema"
      ],
      "metadata": {
        "id": "Jbe6PkDpLT75"
      }
    },
    {
      "cell_type": "markdown",
      "source": [
        "**Entrada**: Arreglo númerico de tamaño *n*: $[a_1,a_2,...,a_n]$.\n",
        "\n",
        "**Salida**: Suma del sub-arreglo máximo, e índices del sub-arreglo.\n",
        "\n",
        "El problema del sub-arreglo máximo consiste en encontrar la suma más larga dentro de un arreglo *A*, \"separando\" estos elementos del arreglo, en un sub-arreglo contiguo al arreglo original.\n",
        "\n",
        "![image](https://imgur.com/wsfCDkA.jpg)\n",
        "\n",
        "![image](https://imgur.com/7EKTUgM.jpg)\n",
        "\n",
        "Aunque este problema a primera vista no pareciera tener una aplicación del todo practica, definitivamente la tiene, ya que es sumamente necesaria a la hora de análisis de dato, como puede ser en las inteligencias artificiales que procesan imagenes, donde haciendo conversión de ciertos datos, se puede analizar que zonas de las imagenes es más brillante que otra, lo que puede generar un mapa de profundidad de la imagen.\n",
        "Tambien llega a tener usos en la biologia como es en el analisis de secuencias de genomas."
      ],
      "metadata": {
        "id": "dDc1fJa_8WRU"
      }
    },
    {
      "cell_type": "markdown",
      "source": [
        "#2. Algoritmo para el sub-arreglo máximo"
      ],
      "metadata": {
        "id": "vnV-ZwaqTNPE"
      }
    },
    {
      "cell_type": "markdown",
      "source": [
        "El algoritmo busca la secuencía de elementos en un arreglo, de modo que la suma de estos sea mayor a cualquier otro sub-conjunto del arreglo.\n",
        "\n",
        ">Ejemplo: $A = [-2, -1, -5, 5, -2, 3, -8, 3]$ la suma de todos los elementos de $A$ da $-7$, mientras que un sub-conjunto cualquiera como $[-8, 3]$ da $-5$ siendo mayor a la suma general, pero el máximo sub-arreglo sería $[5, -2, 3]$ ya que su suma da $6$ siendo la mayor suma que se puede sacar del arreglo original."
      ],
      "metadata": {
        "id": "Z5UrmP3eQpLb"
      }
    },
    {
      "cell_type": "markdown",
      "source": [
        "#3. Código"
      ],
      "metadata": {
        "id": "m8cC44QiTV_X"
      }
    },
    {
      "cell_type": "code",
      "source": [
        "import random\n",
        "from termcolor import colored\n",
        "import copy\n",
        "\n",
        "def maxSubArrayMid(arr, mid, verbose = False):\n",
        "\tsumAux = 0\n",
        "\tmaxIzq = -9999\n",
        "\tposInit = 0\n",
        "\n",
        "\tfor i in range(mid-1, -1, -1): #Parte del medio al inicio del arreglo\n",
        "\t\tsumAux += arr[i]\n",
        "\n",
        "\t\tif(sumAux > maxIzq):\n",
        "\t\t\tmaxIzq = sumAux\n",
        "\t\t\tposInit = i\n",
        "\n",
        "\tsumAux = 0\n",
        "\tmaxDer = -99999\n",
        "\tposFin = len(arr)-1\n",
        "\n",
        "\tfor i in range(mid, len(arr)):\n",
        "\t\tsumAux += arr[i]\n",
        "\n",
        "\t\tif sumAux > maxDer:\n",
        "\t\t\tmaxDer = sumAux\n",
        "\t\t\tposFin = i\n",
        "\t\n",
        "\tmax = maxIzq + maxDer\n",
        "\tif (verbose == True):\n",
        "\t\tif (len(arr[posInit:posFin]) > 1):\n",
        "\t\t\tprint(\"Máximo sub-arreglo actual: \", f\"{str(arr[posInit: posFin-1])[1:-1]}\", \",\", f\"{str(arr[posFin-1: posFin])[1:-1]}\")\n",
        "\t\telse:\n",
        "\t\t\tprint(\"Máximo sub-arreglo actual: \", f\"{str(arr[posInit: posFin])[1:-1]}\", \"\\n\")\n",
        "\n",
        "\treturn max, posInit, posFin\n",
        "\n",
        "def maxSubArray(arr, posInit, posFin, verbose = False):\n",
        "\tn = len(arr)\n",
        "\t\n",
        "\tif n == 1:\n",
        "\t\treturn arr[0], posInit, posFin\n",
        "\t\n",
        "\tmid = n//2\n",
        "\n",
        "\tarrIzq = arr[:mid]\n",
        "\tarrDer = arr[mid:]\n",
        "\n",
        "\tif verbose == True:\n",
        "\t\tprint(\"Sub-arreglo izquierdo: \", arrIzq)\n",
        "\t\tprint(f\"Sub-arreglo derecho: {arrDer} \\n\")\n",
        "\t\n",
        "\tmaxIzq, initPosIzq, finPosIzq = maxSubArray(arrIzq, 0, mid-1, verbose)\n",
        "\tmaxDer, initPosDer, finPosDer = maxSubArray(arrDer, mid, len(arr)-1, verbose)\n",
        "\tmaxMid, initPosMid, finPosMid = maxSubArrayMid(arr, mid, verbose)\n",
        " \n",
        "\tsumaMax = max(maxIzq, maxDer, maxMid)\n",
        "\t\n",
        "\tif sumaMax == maxMid:\n",
        "\t\treturn sumaMax, initPosIzq, finPosMid\n",
        "\n",
        "\telse:\n",
        "\t\tif sumaMax == maxDer:\n",
        "\t\t\treturn sumaMax, initPosDer + n//2, finPosDer + n//2\n",
        "\t\telse:\n",
        "\t\t\tif sumaMax == maxIzq:\n",
        "\t\t\t\treturn sumaMax, initPosIzq, finPosDer \n",
        "\n",
        "\n",
        "arr = [-5, -7, 4, 1, 6, 1, 5, -3]\n",
        "n = len(arr)\n",
        "print(colored(f\"\\nEl arreglo entregado es: {arr}\\n\", \"magenta\"))\n",
        "\n",
        "s, i, j = maxSubArray(arr, 0, len(arr)-1)\n",
        "\n",
        "print(\"\\nLa suma máxima es: \", s)\n",
        "\n",
        "print(f\"Mientras que el sub-arreglo comienza en la posición i={i}, y termina en la posición j={j}\")\n",
        "\n",
        "\n"
      ],
      "metadata": {
        "id": "TkHJXEQatHWS",
        "colab": {
          "base_uri": "https://localhost:8080/"
        },
        "outputId": "3c532b26-958b-496e-9226-f35ea2b8273f"
      },
      "execution_count": null,
      "outputs": [
        {
          "output_type": "stream",
          "name": "stdout",
          "text": [
            "\n",
            "El arreglo entregado es: [-5, -7, 4, 1, 6, 1, 5, -3]\n",
            "\n",
            "\n",
            "La suma máxima es:  17\n",
            "Mientras que el sub-arreglo comienza en la posición i=2, y termina en la posición j=6\n"
          ]
        }
      ]
    },
    {
      "cell_type": "markdown",
      "source": [
        "##Paso a paso (verbose == True)"
      ],
      "metadata": {
        "id": "t2yLd4ulXJIL"
      }
    },
    {
      "cell_type": "code",
      "source": [
        "arr = random.sample(range(-50, 100), 16)\n",
        "n = len(arr)\n",
        "print(colored(f\"\\nEl arreglo entregado es: {arr}\\n\", \"magenta\"))\n",
        "\n",
        "s, i, j = maxSubArray(arr, 0, len(arr)-1, True)\n",
        "\n",
        "print(\"\\nLa suma máxima es: \", s)\n",
        "\n",
        "print(f\"Mientras que el sub-arreglo comienza en la posición i={i}, y termina en la posición j={j}\")"
      ],
      "metadata": {
        "id": "9EeHpVx0W19S",
        "colab": {
          "base_uri": "https://localhost:8080/"
        },
        "outputId": "135db669-2f7a-435f-8e0a-343b00800cad"
      },
      "execution_count": null,
      "outputs": [
        {
          "output_type": "stream",
          "name": "stdout",
          "text": [
            "\n",
            "El arreglo entregado es: [-6, 91, -17, 22, 89, -32, 97, 42, -9, 77, 44, -8, 25, -24, 56, 21]\n",
            "\n",
            "Sub-arreglo izquierdo:  [-6, 91, -17, 22, 89, -32, 97, 42]\n",
            "Sub-arreglo derecho: [-9, 77, 44, -8, 25, -24, 56, 21] \n",
            "\n",
            "Sub-arreglo izquierdo:  [-6, 91, -17, 22]\n",
            "Sub-arreglo derecho: [89, -32, 97, 42] \n",
            "\n",
            "Sub-arreglo izquierdo:  [-6, 91]\n",
            "Sub-arreglo derecho: [-17, 22] \n",
            "\n",
            "Sub-arreglo izquierdo:  [-6]\n",
            "Sub-arreglo derecho: [91] \n",
            "\n",
            "Máximo sub-arreglo actual:  -6 \n",
            "\n",
            "Sub-arreglo izquierdo:  [-17]\n",
            "Sub-arreglo derecho: [22] \n",
            "\n",
            "Máximo sub-arreglo actual:  -17 \n",
            "\n",
            "Máximo sub-arreglo actual:  91 , -17\n",
            "Sub-arreglo izquierdo:  [89, -32]\n",
            "Sub-arreglo derecho: [97, 42] \n",
            "\n",
            "Sub-arreglo izquierdo:  [89]\n",
            "Sub-arreglo derecho: [-32] \n",
            "\n",
            "Máximo sub-arreglo actual:  89 \n",
            "\n",
            "Sub-arreglo izquierdo:  [97]\n",
            "Sub-arreglo derecho: [42] \n",
            "\n",
            "Máximo sub-arreglo actual:  97 \n",
            "\n",
            "Máximo sub-arreglo actual:  89, -32 , 97\n",
            "Máximo sub-arreglo actual:  91, -17, 22, 89, -32 , 97\n",
            "Sub-arreglo izquierdo:  [-9, 77, 44, -8]\n",
            "Sub-arreglo derecho: [25, -24, 56, 21] \n",
            "\n",
            "Sub-arreglo izquierdo:  [-9, 77]\n",
            "Sub-arreglo derecho: [44, -8] \n",
            "\n",
            "Sub-arreglo izquierdo:  [-9]\n",
            "Sub-arreglo derecho: [77] \n",
            "\n",
            "Máximo sub-arreglo actual:  -9 \n",
            "\n",
            "Sub-arreglo izquierdo:  [44]\n",
            "Sub-arreglo derecho: [-8] \n",
            "\n",
            "Máximo sub-arreglo actual:  44 \n",
            "\n",
            "Máximo sub-arreglo actual:  77 \n",
            "\n",
            "Sub-arreglo izquierdo:  [25, -24]\n",
            "Sub-arreglo derecho: [56, 21] \n",
            "\n",
            "Sub-arreglo izquierdo:  [25]\n",
            "Sub-arreglo derecho: [-24] \n",
            "\n",
            "Máximo sub-arreglo actual:  25 \n",
            "\n",
            "Sub-arreglo izquierdo:  [56]\n",
            "Sub-arreglo derecho: [21] \n",
            "\n",
            "Máximo sub-arreglo actual:  56 \n",
            "\n",
            "Máximo sub-arreglo actual:  25, -24 , 56\n",
            "Máximo sub-arreglo actual:  77, 44, -8, 25, -24 , 56\n",
            "Máximo sub-arreglo actual:  91, -17, 22, 89, -32, 97, 42, -9, 77, 44, -8, 25, -24 , 56\n",
            "\n",
            "La suma máxima es:  474\n",
            "Mientras que el sub-arreglo comienza en la posición i=2, y termina en la posición j=15\n"
          ]
        }
      ]
    },
    {
      "cell_type": "markdown",
      "source": [
        "#4. Tiempo de ejecución"
      ],
      "metadata": {
        "id": "Bnn2PsLXyif_"
      }
    },
    {
      "cell_type": "markdown",
      "source": [
        "### Tiempo de ejecución del algoritmo maxSubArray\n",
        "\n",
        "El algoritmo maxSubArray realiza dos llamadas recursivas con un problema cuyo\n",
        "tamaño es la mitad del problema inicial. Además de la llamada a la función\n",
        "`maxCenter`. Cuya complejidad es de $O(n)$. De esto obtenemos que la función de\n",
        "recurrencia del algoritmo `maxSubArray` es la siguiente:\n",
        "\n",
        "$T(n) \\leq 2\\cdot T \\left ( n/2 \\right ) + O(n)$\n",
        "\n",
        "Este algoritmo tiene la particularidad de cumplir con el teorema maestro.\n",
        "\n",
        "El cual nos dice que para toda función de recursión de la forma\n",
        "\n",
        "$T(n) \\leq a \\cdot T  \\left ( n/b \\right) + O(n^c)$\n",
        "\n",
        "La complejidad estará dada por:\n",
        "\n",
        "* $O(n^c * log(n))$ En el caso de que $a = b^c$\n",
        "* $O(n^c)$ En el caso de que $a < b^c$\n",
        "* $O(n^{\\log_b a})$ En el caso de que $a > b^c$\n",
        "\n",
        "En el caso del algoritmo del sub arreglo máximo recursivo. Los valores de\n",
        "$a, b, c$ serían:\n",
        "\n",
        "\n",
        "$a = 2$\n",
        "\n",
        "$b = 2$\n",
        "\n",
        "$c = 1$\n",
        "\n",
        "$a = b^c = 2$\n",
        "\n",
        "De lo anterior se obtiene que:\n",
        "$T(n) = O(n^c \\cdot \\log n) = O(n \\log n)$\n",
        "\n",
        "### Prueba por inducción\n",
        "\n",
        "Asumimos que $T(n) \\leq O(n \\log n)$.\n",
        "\n",
        "$\n",
        "T(n) \\leq 2 \\cdot T(n/2) + c_1n \\\\\n",
        "$\n",
        "  \n",
        "\n",
        "$T(n) \\leq c_2 n \\log (n)$\n",
        "\n",
        "$T(n/2) \\leq c_2 (n/2) \\cdot \\log (n/2)$\n",
        "\n",
        "$T(n/2) \\leq c_2 (n/2)  \\cdot (\\log n - \\log_2(2))$\n",
        "\n",
        "$T(n/2) \\leq c_2 (n/2)  \\cdot (\\log n - 1)$\n",
        "\n",
        "\n",
        "\n",
        "$T(n) \\leq 2 \\cdot T(n/2) + c_1n$\n",
        "\n",
        "$T(n) \\leq 2 \\cdot  (c_2 (n/2)  \\cdot (\\log n - 1))+ c_1n$\n",
        "\n",
        "$T(n) \\leq (c_2 n  \\cdot (\\log (n) - 1))+ c_1n$\n",
        "\n",
        "$T(n) \\leq n((c_2  \\cdot (\\log (n) - 1))+ c_1)$\n",
        "\n",
        "$c_2n\\log (n) \\leq n((c_2  \\cdot (\\log (n) - 1))+ c_1)$\n",
        "\n",
        "$c_2\\log (n) \\leq (c_2  \\cdot (\\log (n) - 1))+ c_1$\n",
        "\n",
        "$c_2\\log (n) - c_2  \\cdot \\log (n) + c_2 \\leq c_1$\n",
        "\n",
        "$0 \\leq c_1 - c_2$\n",
        "\n",
        "$c_2 \\leq c_1 \\\\$"
      ],
      "metadata": {
        "id": "jCGOQ_GSylQd"
      }
    },
    {
      "cell_type": "markdown",
      "source": [
        "#5. Correctitud"
      ],
      "metadata": {
        "id": "TZYllq3CTcPQ"
      }
    },
    {
      "cell_type": "markdown",
      "source": [
        "##Teorema (Correctitud)\n",
        "\n",
        "El algoritmo retorna un subarreglo de tamaño menor o igual al $n$, siendo este subarreglo el que contiene la suma máxima del arreglo.\n",
        "\n",
        ">$n$ es el largo del arreglo original.\n",
        "\n",
        "Para comprobar el teorema haremos uso de la Propiedad invariante de bucle para maxSubArrayMid e inducción para maxSubArray.\n",
        "\n",
        "###Propiedad invariante de bucle.\n",
        "\n",
        "Propiedad:\n",
        ">>En cada iteración arrIzq y arrDer contienen la máxima suma del arreglo en la i-ésima posición.\n",
        "\n",
        "*Inicialización: El valor por defecto de la suma máxima es $-9999$, ya que no se ha recorrido el arreglo. Igualmente los índices donde se comienza la iteración corresponderían a $i= mid-1$ para el subarreglo izquierdo y $i=mid$ para el derecho. El primer elemento que se compare será mayor al que viene por defecto (una mejor opción es un ocupar el $\\inf_-$) por el que el valor se guardará en la suma máxima, según quien se recorra sea maxIzq o maxDer.\n",
        "\n",
        "*Mantención: En la i-ésima iteración la suma máxima será la mayor de los subarreglos explorados, esto ya que se compara la suma hasta el i-ésimo valor con el valor guardado ($i-1$), el que resulté ser mayor será el que quede guardado como la suma máxima.\n",
        "\n",
        "*Finalización: Para obtener el subarreglo máximo que pasa por el centro del arreglo, se debe finalizar el bucle que recorre cada subarreglo. Una vez finaliza se suman los valores maxIzq y maxDer, para que de el valor de maxSum. Por  lo que obtiene la suma máxima que pasa por el centro del arreglo original.\n",
        "\n",
        "###Inducción\n",
        "\n",
        "Siendo $A(n)$ es el arreglo que recibe el algoritmo, crearemos 2 casos:\n",
        "\n",
        "**Caso base:** $n=1$ maxSubArray retorna su único elemento ya que este es la suma máxima del arreglo.\n",
        "\n",
        "**Caso general:** $n>1$ Suponiendo que $m<n$ definiremos que $m = \\frac{n}{2}$, este será el valor de los subarreglos que se pasarán a maxSubArray. Como $m<n$, las mitades Izq y Der contendrán los elementos que conforman la suma máxima. Y dado que esta misma función es recursiva, con las suficientes iteración se llegará al caso base el cual se sabe que es correcto.\n",
        "Por lo que podemos decir que maxSubArray es correcto en general.\n",
        "\n",
        "Asumiendo que ambas funcionen son correctos se puede concluir que ambas en conjunto retornarán la suma máxima de un arreglo recibido."
      ],
      "metadata": {
        "id": "uc7oypuBXF1D"
      }
    },
    {
      "cell_type": "markdown",
      "source": [
        "#6. Experimentación"
      ],
      "metadata": {
        "id": "TohqiZ5cTixi"
      }
    },
    {
      "cell_type": "code",
      "source": [
        "import matplotlib.pyplot as plt\n",
        "import datetime\n",
        "from timeit import repeat\n",
        "\n",
        "def Kadane(a,size):\n",
        "      \n",
        "    max_so_far = a[0]\n",
        "    max_ending_here = 0\n",
        "      \n",
        "    for i in range(0, size):\n",
        "        max_ending_here = max_ending_here + a[i]\n",
        "        if max_ending_here < 0:\n",
        "            max_ending_here = 0\n",
        "          \n",
        "        elif (max_so_far < max_ending_here):\n",
        "            max_so_far = max_ending_here\n",
        "              \n",
        "    return max_so_far\n",
        "\n",
        "x=[]; y=[]; y1=[]\n",
        "\n",
        "for n in range(5,500):\n",
        "\n",
        "  a = random.sample(range(-200, 500), n)\n",
        "  verbose = False\n",
        "  posMin = 0\n",
        "  posMax = len(a)-1\n",
        "\n",
        "  #la función repeat está ejecutando 20 veces maxSubArray/Kadane con el arreglo a y retorna el mejor tiempo obtenido.\n",
        "  t = repeat(setup=\"from __main__ import maxSubArray\", stmt=f\"maxSubArray({a},{posMin}, {posMax},{verbose})\", repeat=1, number=10)\n",
        "  t2 = repeat(setup=\"from __main__ import Kadane\", stmt=f\"Kadane({a},{n})\", repeat=1, number=10)\n",
        "  x.append(n)\n",
        "  y.append(t)\n",
        "  y1.append(t2)\n",
        "\n",
        "\n",
        "plt.plot(x,y)\n",
        "plt.plot(x,y1)\n",
        "plt.legend([\"maxSubArray\", \"Kadane\"])\n",
        "\n",
        "plt.xlabel('Tamaño del arreglo')\n",
        "plt.ylabel('Tiempo en ms')\n",
        "plt.show()"
      ],
      "metadata": {
        "id": "ZRVjuvd2TjmY",
        "colab": {
          "base_uri": "https://localhost:8080/",
          "height": 279
        },
        "outputId": "7f16de54-2ad3-4433-eb47-538dcef1c672"
      },
      "execution_count": null,
      "outputs": [
        {
          "output_type": "display_data",
          "data": {
            "text/plain": [
              "<Figure size 432x288 with 1 Axes>"
            ],
            "image/png": "[encoded data removed]"
          },
          "metadata": {
            "needs_background": "light"
          }
        }
      ]
    },
    {
      "cell_type": "markdown",
      "source": [
        "La diferencia se basa principalmente en los tiempos de ejecución de los algoritmos, ya que el de kadane es de $O(n)$ siendo este lineal, mientras que maxSubArray es de $O(nlog(n))$ siendo claramente mayor (tampoco por mucho si). Y los \"puntas\" se puede deber al hardware ya que en el caso de maxSubArray no posee un peor o mejor caso teorico."
      ],
      "metadata": {
        "id": "HLxov33EGdUO"
      }
    },
    {
      "cell_type": "markdown",
      "source": [
        "##MaxSubArray vs Fuerza bruta"
      ],
      "metadata": {
        "id": "bmvgSD8JYPI2"
      }
    },
    {
      "cell_type": "code",
      "source": [
        "import matplotlib.pyplot as plt\n",
        "import datetime\n",
        "from timeit import repeat\n",
        "import random\n",
        "\n",
        "def max_Summ(a):\n",
        "    max_sum = 0\n",
        "    k=0\n",
        "    for i in a:\n",
        "        temp_sum = 0\n",
        "        for j in a[k::]:\n",
        "            temp_sum=temp_sum+j\n",
        "            if temp_sum>max_sum:\n",
        "                max_sum=temp_sum\n",
        "        k=k+1\n",
        "    return max_sum\n",
        "\n",
        "x=[]; y=[]; y1=[]\n",
        "\n",
        "for n in range(5,500):\n",
        "\n",
        "  a = random.sample(range(-200, 500), n)\n",
        "  verbose = False\n",
        "  posMin = 0\n",
        "  posMax = len(a)-1\n",
        "\n",
        "  #la función repeat está ejecutando 20 veces MergeSort/InsertionSort con el arreglo a y retorna el mejor tiempo obtenido.\n",
        "  t = repeat(setup=\"from __main__ import maxSubArray\", stmt=f\"maxSubArray({a},{posMin}, {posMax},{verbose})\", repeat=1, number=10)\n",
        "  t2 = repeat(setup=\"from __main__ import max_Summ\", stmt=f\"max_Summ({a})\", repeat=1, number=10)\n",
        "  x.append(n)\n",
        "  y.append(t)\n",
        "  y1.append(t2)\n",
        "\n",
        "\n",
        "plt.plot(x,y)\n",
        "plt.plot(x,y1)\n",
        "plt.legend([\"maxSubArray\", \"Fuerza bruta\"])\n",
        "\n",
        "plt.xlabel('Tamaño del arreglo')\n",
        "plt.ylabel('Tiempo en ms')\n",
        "plt.show()"
      ],
      "metadata": {
        "colab": {
          "base_uri": "https://localhost:8080/",
          "height": 279
        },
        "id": "_LCsN4JDYNaB",
        "outputId": "55249817-fef8-4e99-81d0-3c39b8efea04"
      },
      "execution_count": null,
      "outputs": [
        {
          "output_type": "display_data",
          "data": {
            "text/plain": [
              "<Figure size 432x288 with 1 Axes>"
            ],
            "image/png": "[encoded data removed]"
          },
          "metadata": {
            "needs_background": "light"
          }
        }
      ]
    },
    {
      "cell_type": "markdown",
      "source": [
        "Se puede notar una gran diferencia en el aumento que poseen las funciones, esto es debido principalmente a los enfoques que poseen, ya qu en el caso del algoritmo de fuerza bruta, busca la máxima suma recorriendo multiples veces al arreglo completo, buscando distintas combinaciones hasta encontrar una que \"sirva\" mientras que maxSubArray aplica \"divide y vencerás\" por lo que divide el problema orignal en problemas más pequeños, sin tener a que llegar a hacer el mismo esfuerzo que el otro."
      ],
      "metadata": {
        "id": "iIfWXYXQFyQc"
      }
    }
  ]
}