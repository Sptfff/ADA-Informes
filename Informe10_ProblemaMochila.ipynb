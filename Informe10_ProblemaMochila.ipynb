{
  "nbformat": 4,
  "nbformat_minor": 0,
  "metadata": {
    "colab": {
      "provenance": [],
      "collapsed_sections": [],
      "authorship_tag": "ABX9TyP9KEUadQZuK0lp2iTXWqyu",
      "include_colab_link": true
    },
    "kernelspec": {
      "name": "python3",
      "display_name": "Python 3"
    },
    "language_info": {
      "name": "python"
    }
  },
  "cells": [
    {
      "cell_type": "markdown",
      "metadata": {
        "id": "view-in-github",
        "colab_type": "text"
      },
      "source": [
        "<a href=\"https://colab.research.google.com/github/Sptfff/ADA-Informes/blob/main/Informe10_ProblemaMochila.ipynb\" target=\"_parent\"><img src=\"https://colab.research.google.com/assets/colab-badge.svg\" alt=\"Open In Colab\"/></a>"
      ]
    },
    {
      "cell_type": "markdown",
      "source": [
        "#Descripción del Problema de la Mochila"
      ],
      "metadata": {
        "id": "GkxLu0XkLiId"
      }
    },
    {
      "cell_type": "markdown",
      "source": [
        "El problema de la mochila consiste en buscar la forma más eficiente de llenar una mochila, un ejemplo común es donde se busca llenar la mochila con una serie de objetos de valor, pero cada uno tiene un peso propio, mientras que la mochila posee una capacidad de peso limitada, por lo que se busca conseguir la mayor ganancia sin sobrepasar la capacidad de la mochila.\n",
        "\n",
        "![image](https://imgur.com/eWI6TdV.jpg)\n",
        "\n",
        "Para solucionar este tipo de problemas haremos uso de 2 algoritmos, el primero se basa en la programación dinámica (la cual ya se vio en informes previos) y el segundo será un algoritmo Greedy (voraz)."
      ],
      "metadata": {
        "id": "e-vj77LALqhu"
      }
    },
    {
      "cell_type": "markdown",
      "source": [
        "##¿Que es un algoritmo Greedy?"
      ],
      "metadata": {
        "id": "4iL1XPS0NQ0Y"
      }
    },
    {
      "cell_type": "markdown",
      "source": [
        "Los algoritmos Greedys consisten en usar la solución más conveniente en el momento, en comparación con otro tipo de algoritmos como los dinámicos, donde estos, se podría decir que buscar entre todas las soluciones posibles (de manera eficiente dentro de lo que cabe) para retornar la \"mejor\", mientras que los greedy's buscan el mejor resultado aparente sin importar que sea el mejor.\n",
        "\n",
        "Generalmente las elecciones que realizan estos algoritmo no son las más optimas, pero en los casos promedios el resultado es bastante \"bueno\" y se consigue en un tiempo razonable, por esto los greedy's son bastantes usados."
      ],
      "metadata": {
        "id": "iAZLux-2NWkr"
      }
    },
    {
      "cell_type": "markdown",
      "source": [
        "#Descripción de los algoritmos"
      ],
      "metadata": {
        "id": "itSPyxm-dL5m"
      }
    },
    {
      "cell_type": "markdown",
      "source": [
        "##Descripción Algoritmo Greedy"
      ],
      "metadata": {
        "id": "P9Jlz-oQdPMu"
      }
    },
    {
      "cell_type": "markdown",
      "source": [
        "Como ya se había mencionado los algoritmo greedys toman la decisión que en el momento parece ser la mejor, en el caso de esta implementación el algoritmo no siempre retornará el resultado óptimo debido a que lo anterior \"impide\" que consideré otros escenarios mejores. \n",
        "\n",
        "Como descripción general, esta implementación lo que hace es comparar el ratio de cada elemento (el ratio es el precio dividido por el peso) con el ratio anterior, y se guarda el mayor entre estos, cuando se hayan recorrido los elementos, se guarda el ultimo elemento con mayor ratio.\n",
        "\n",
        "Esta implementación se podría decir que es simple, pero los resultado que retorna generalmente estan cerca del que sería el correcto, pero siendo obtenido en un tiempo lineal y sin ocupar estructuras adicionales."
      ],
      "metadata": {
        "id": "FqrMs8WLfnG1"
      }
    },
    {
      "cell_type": "markdown",
      "source": [
        "##Descripción Algoritmo Dinámico"
      ],
      "metadata": {
        "id": "5L2baeWLdTlP"
      }
    },
    {
      "cell_type": "markdown",
      "source": [
        "Los algoritmo dinámicos consisten en resolver sub-problemas y guardar las soluciones, y reutilizarlas en otros sub-problemas donde aparezcan los que ya fueron solucionados, lo que reduce en gran medida su tiempo de ejecución en comparación con otros algoritmos recursivos.\n",
        "\n",
        "En el caso de esta implementación, lo que hace es crear una matriz donde guardará los valores máximos de distintas combinaciones de elementos, en caso de que estos sub-problemas se repitan, el algoritmo ya los tiene calculados por lo que no es necesario que lo vuelva a hacer.\n",
        "\n",
        "Debido a la matriz, este algoritmo posee una complejidad espacial de $O(n*W)$ donde $n$ es el total de elementos y $W$ el peso total que aguanta la mochila.\n",
        "\n",
        "\n"
      ],
      "metadata": {
        "id": "E5ivOonapPwV"
      }
    },
    {
      "cell_type": "markdown",
      "source": [
        "#Código Dinámico"
      ],
      "metadata": {
        "id": "Hv7Zf-IkNakI"
      }
    },
    {
      "cell_type": "code",
      "execution_count": 35,
      "metadata": {
        "colab": {
          "base_uri": "https://localhost:8080/"
        },
        "id": "bHmqQcbLgq1V",
        "outputId": "585e85b2-8a08-463c-888e-449b80ab6955"
      },
      "outputs": [
        {
          "output_type": "stream",
          "name": "stdout",
          "text": [
            "380\n"
          ]
        }
      ],
      "source": [
        "import random\n",
        "from termcolor import colored\n",
        "\n",
        "\n",
        "def mochilaDina(pesoTotal, pesos, precios, largo, cont, verbose = False):\n",
        "  aux = [[0 for i in range(pesoTotal+1)] for j in range(largo+1)]\n",
        "\n",
        "  if(verbose == True):\n",
        "    print(colored(f\"Se crea un arreglo auxiliar: {aux}\", \"blue\"))\n",
        "\n",
        "  for i in range(largo+1):\n",
        "    for j in range(pesoTotal+1):\n",
        "      cont[0]+= 1\n",
        "      \n",
        "      if(i == 0 or j == 0):\n",
        "        aux[i][j] = 0\n",
        "      else:\n",
        "        if(verbose == True):\n",
        "          print(colored(f\"\\níndices: {i}, {j}\\nSe pregunta si el valor del arreglo de precios es menor a {j}\", \"magenta\"))\n",
        "\n",
        "        if(pesos[i-1] <= j):\n",
        "          if(verbose == True):\n",
        "            print(colored(f\"Como se cumple, se guarda el valor máximo entre {precios[i-1] + aux[i-1][j-pesos[i-1] ]} y {aux[i-1][j]}\", \"green\"))\n",
        "            \n",
        "          \n",
        "          aux[i][j] = max( (precios[i-1] + aux[i-1][j-pesos[i-1] ]) , aux[i-1][j])\n",
        "          if(verbose == True):\n",
        "              #imprime ded forma resumida los 0 del final del arreglo\n",
        "            #colored(f\"{pesoTotal-j}*0\", \"green\"),\n",
        "              \n",
        "            print(colored(str(aux[i][:j-1]), \"green\"), colored(str(aux[i][j]), \"red\"), colored(str(aux[i][j+1:]), \"green\") )\n",
        "           \n",
        "            #print(colored(f\"Resultado: {aux[i][j]}\\nDe modo que el sub-arreglo {i} queda: \\n{aux[i]}\", \"green\"))\n",
        "        else:\n",
        "          if(verbose == True):\n",
        "            print(colored(f\"Como no se cumple, se guarda el valor: {aux[i-1][j]}, de modo que el sub-arreglo {i} queda como: \\n\", \"cyan\"))\n",
        "            \n",
        "          aux[i][j] = aux[i-1][j]\n",
        "          if(verbose == True):\n",
        "            print(colored(str(aux[i][:j-1]), \"cyan\"), colored(str(aux[i][j]), \"red\"), colored(str(aux[i][j+1:]), \"cyan\") )\n",
        "\n",
        "  return aux[largo][pesoTotal]\n",
        "\n",
        "\n",
        "\n",
        "\n",
        "# Driver code\n",
        "\n",
        "val = [60, 100, 120, 200, 60, 40]\n",
        "\n",
        "wt =   [10, 20, 30,    5, 45, 60]\n",
        "cont=[0]\n",
        "W = 50\n",
        "n = len(val)\n",
        "print(mochilaDina(W, wt, val, n, cont))\n",
        "\n"
      ]
    },
    {
      "cell_type": "markdown",
      "source": [
        "#Código Greedy"
      ],
      "metadata": {
        "id": "uMJcbOcpcsSN"
      }
    },
    {
      "cell_type": "code",
      "source": [
        "import random\n",
        "from termcolor import colored\n",
        "\n",
        "def greedy(pesoTotal, pesos, precios, largo, cont,verbose = False):\n",
        "\n",
        "  largo = len(precios)\n",
        "  total = 0\n",
        "  pesoAux = 0\n",
        "  max = -1\n",
        "\n",
        "  while True:\n",
        "    cont[0] += 1\n",
        "    max = -1\n",
        "    for i in range(0,largo):\n",
        "      cont[0]+=1\n",
        "      maxVal = 0\n",
        "      if (verbose == True):\n",
        "        print(colored(f\"\\nSe pregunta si {precios[i]}/{pesos[i]} > {maxVal}, y que {pesos[i]}+{pesoAux} <= {pesoTotal}\", \"magenta\"))\n",
        "      if ( precios[i]/pesos[i] > maxVal and (pesos[i]+pesoAux) <= pesoTotal):\n",
        "        if(verbose == True):\n",
        "          print((colored(f\"Como la condición se cumple, el valor máximo se actualiza de: {maxVal} a {precios[i]/pesos[i]}\\nY se actualiza el índice máximo al índice actual\", \"green\")))\n",
        "\n",
        "        maxVal = precios[i] / pesos[i]\n",
        "\n",
        "        max = i\n",
        "      elif(verbose==True):\n",
        "        print(colored(f\"La condición no se cumple, por lo que sigue ocn la siguiente iteración\", \"yellow\"))\n",
        "    if max == -1: break\n",
        "    if(verbose == True):\n",
        "      print(colored(f\"\\nLuego de verificar la vuelta anterior, se actualizan los valores de modo que:\", \"cyan\"))\n",
        "      print(colored(f\"PesoAuxiliar: {pesoAux} += {pesos[max]}\", \"green\"))\n",
        "      print(colored(f\"Total: {total} += {precios[max]}\", \"green\"))\n",
        "      print(colored(f\"Y el limite se reduce en 1: {largo} -= 1\", \"blue\"))\n",
        "    pesoAux += pesos[max]\n",
        "    total += precios[max]\n",
        "\n",
        "    largo -= 1\n",
        "    \n",
        "  if(verbose == True):\n",
        "    print(colored(f\"\\nSe obtuvo \",\"green\"), colored(f\"{total}\", \"blue\"), colored(\" como valor máximo\", \"green\"))\n",
        "  return total\n",
        "\n",
        "\n",
        "precios = [60, 100, 120, 200, 60, 40]\n",
        "cont = [0]\n",
        "pesos =   [10, 20, 30,    5, 45, 60]\n",
        "pesoTotal = 50\n",
        "largo = len(precios)\n",
        "\n",
        "print(greedy(pesoTotal, pesos, precios, largo, cont)) "
      ],
      "metadata": {
        "colab": {
          "base_uri": "https://localhost:8080/"
        },
        "id": "DzAzgAO5fmS8",
        "outputId": "1a81bbe1-cf44-46ca-ffd9-2a7bc37337f2"
      },
      "execution_count": 36,
      "outputs": [
        {
          "output_type": "stream",
          "name": "stdout",
          "text": [
            "260\n"
          ]
        }
      ]
    },
    {
      "cell_type": "markdown",
      "source": [
        "#Ejecuciones paso a paso"
      ],
      "metadata": {
        "id": "FPFSs9DMjgQA"
      }
    },
    {
      "cell_type": "markdown",
      "source": [
        "##verbose = True"
      ],
      "metadata": {
        "id": "ObVv-NJCjo0G"
      }
    },
    {
      "cell_type": "markdown",
      "source": [
        "###Dinámico"
      ],
      "metadata": {
        "id": "QlkPseh3kMBg"
      }
    },
    {
      "cell_type": "code",
      "source": [
        "precios = [60, 100, 120]\n",
        "pesos =   [10, 20, 30]\n",
        "pesoTotal = 50\n",
        "cont=[0]\n",
        "largo = len(precios)\n",
        "mochilaDina(pesoTotal, pesos, precios, largo,cont, verbose=True)"
      ],
      "metadata": {
        "colab": {
          "base_uri": "https://localhost:8080/"
        },
        "id": "2Ctk0X1hkE2w",
        "outputId": "29e0fea5-6e97-4e21-9cd7-4c09eecc6c66"
      },
      "execution_count": 33,
      "outputs": [
        {
          "output_type": "stream",
          "name": "stdout",
          "text": [
            "\u001b[34mSe crea un arreglo auxiliar: [[0, 0, 0, 0, 0, 0, 0, 0, 0, 0, 0, 0, 0, 0, 0, 0, 0, 0, 0, 0, 0, 0, 0, 0, 0, 0, 0, 0, 0, 0, 0, 0, 0, 0, 0, 0, 0, 0, 0, 0, 0, 0, 0, 0, 0, 0, 0, 0, 0, 0, 0], [0, 0, 0, 0, 0, 0, 0, 0, 0, 0, 0, 0, 0, 0, 0, 0, 0, 0, 0, 0, 0, 0, 0, 0, 0, 0, 0, 0, 0, 0, 0, 0, 0, 0, 0, 0, 0, 0, 0, 0, 0, 0, 0, 0, 0, 0, 0, 0, 0, 0, 0], [0, 0, 0, 0, 0, 0, 0, 0, 0, 0, 0, 0, 0, 0, 0, 0, 0, 0, 0, 0, 0, 0, 0, 0, 0, 0, 0, 0, 0, 0, 0, 0, 0, 0, 0, 0, 0, 0, 0, 0, 0, 0, 0, 0, 0, 0, 0, 0, 0, 0, 0], [0, 0, 0, 0, 0, 0, 0, 0, 0, 0, 0, 0, 0, 0, 0, 0, 0, 0, 0, 0, 0, 0, 0, 0, 0, 0, 0, 0, 0, 0, 0, 0, 0, 0, 0, 0, 0, 0, 0, 0, 0, 0, 0, 0, 0, 0, 0, 0, 0, 0, 0]]\u001b[0m\n",
            "\u001b[35m\n",
            "índices: 1, 1\n",
            "Se pregunta si el valor del arreglo de precios es menor a 1\u001b[0m\n",
            "\u001b[36mComo no se cumple, se guarda el valor: 0, de modo que el sub-arreglo 1 queda como: \n",
            "\u001b[0m\n",
            "\u001b[36m[]\u001b[0m \u001b[31m0\u001b[0m \u001b[36m[0, 0, 0, 0, 0, 0, 0, 0, 0, 0, 0, 0, 0, 0, 0, 0, 0, 0, 0, 0, 0, 0, 0, 0, 0, 0, 0, 0, 0, 0, 0, 0, 0, 0, 0, 0, 0, 0, 0, 0, 0, 0, 0, 0, 0, 0, 0, 0, 0]\u001b[0m\n",
            "\u001b[35m\n",
            "índices: 1, 2\n",
            "Se pregunta si el valor del arreglo de precios es menor a 2\u001b[0m\n",
            "\u001b[36mComo no se cumple, se guarda el valor: 0, de modo que el sub-arreglo 1 queda como: \n",
            "\u001b[0m\n",
            "\u001b[36m[0]\u001b[0m \u001b[31m0\u001b[0m \u001b[36m[0, 0, 0, 0, 0, 0, 0, 0, 0, 0, 0, 0, 0, 0, 0, 0, 0, 0, 0, 0, 0, 0, 0, 0, 0, 0, 0, 0, 0, 0, 0, 0, 0, 0, 0, 0, 0, 0, 0, 0, 0, 0, 0, 0, 0, 0, 0, 0]\u001b[0m\n",
            "\u001b[35m\n",
            "índices: 1, 3\n",
            "Se pregunta si el valor del arreglo de precios es menor a 3\u001b[0m\n",
            "\u001b[36mComo no se cumple, se guarda el valor: 0, de modo que el sub-arreglo 1 queda como: \n",
            "\u001b[0m\n",
            "\u001b[36m[0, 0]\u001b[0m \u001b[31m0\u001b[0m \u001b[36m[0, 0, 0, 0, 0, 0, 0, 0, 0, 0, 0, 0, 0, 0, 0, 0, 0, 0, 0, 0, 0, 0, 0, 0, 0, 0, 0, 0, 0, 0, 0, 0, 0, 0, 0, 0, 0, 0, 0, 0, 0, 0, 0, 0, 0, 0, 0]\u001b[0m\n",
            "\u001b[35m\n",
            "índices: 1, 4\n",
            "Se pregunta si el valor del arreglo de precios es menor a 4\u001b[0m\n",
            "\u001b[36mComo no se cumple, se guarda el valor: 0, de modo que el sub-arreglo 1 queda como: \n",
            "\u001b[0m\n",
            "\u001b[36m[0, 0, 0]\u001b[0m \u001b[31m0\u001b[0m \u001b[36m[0, 0, 0, 0, 0, 0, 0, 0, 0, 0, 0, 0, 0, 0, 0, 0, 0, 0, 0, 0, 0, 0, 0, 0, 0, 0, 0, 0, 0, 0, 0, 0, 0, 0, 0, 0, 0, 0, 0, 0, 0, 0, 0, 0, 0, 0]\u001b[0m\n",
            "\u001b[35m\n",
            "índices: 1, 5\n",
            "Se pregunta si el valor del arreglo de precios es menor a 5\u001b[0m\n",
            "\u001b[36mComo no se cumple, se guarda el valor: 0, de modo que el sub-arreglo 1 queda como: \n",
            "\u001b[0m\n",
            "\u001b[36m[0, 0, 0, 0]\u001b[0m \u001b[31m0\u001b[0m \u001b[36m[0, 0, 0, 0, 0, 0, 0, 0, 0, 0, 0, 0, 0, 0, 0, 0, 0, 0, 0, 0, 0, 0, 0, 0, 0, 0, 0, 0, 0, 0, 0, 0, 0, 0, 0, 0, 0, 0, 0, 0, 0, 0, 0, 0, 0]\u001b[0m\n",
            "\u001b[35m\n",
            "índices: 1, 6\n",
            "Se pregunta si el valor del arreglo de precios es menor a 6\u001b[0m\n",
            "\u001b[36mComo no se cumple, se guarda el valor: 0, de modo que el sub-arreglo 1 queda como: \n",
            "\u001b[0m\n",
            "\u001b[36m[0, 0, 0, 0, 0]\u001b[0m \u001b[31m0\u001b[0m \u001b[36m[0, 0, 0, 0, 0, 0, 0, 0, 0, 0, 0, 0, 0, 0, 0, 0, 0, 0, 0, 0, 0, 0, 0, 0, 0, 0, 0, 0, 0, 0, 0, 0, 0, 0, 0, 0, 0, 0, 0, 0, 0, 0, 0, 0]\u001b[0m\n",
            "\u001b[35m\n",
            "índices: 1, 7\n",
            "Se pregunta si el valor del arreglo de precios es menor a 7\u001b[0m\n",
            "\u001b[36mComo no se cumple, se guarda el valor: 0, de modo que el sub-arreglo 1 queda como: \n",
            "\u001b[0m\n",
            "\u001b[36m[0, 0, 0, 0, 0, 0]\u001b[0m \u001b[31m0\u001b[0m \u001b[36m[0, 0, 0, 0, 0, 0, 0, 0, 0, 0, 0, 0, 0, 0, 0, 0, 0, 0, 0, 0, 0, 0, 0, 0, 0, 0, 0, 0, 0, 0, 0, 0, 0, 0, 0, 0, 0, 0, 0, 0, 0, 0, 0]\u001b[0m\n",
            "\u001b[35m\n",
            "índices: 1, 8\n",
            "Se pregunta si el valor del arreglo de precios es menor a 8\u001b[0m\n",
            "\u001b[36mComo no se cumple, se guarda el valor: 0, de modo que el sub-arreglo 1 queda como: \n",
            "\u001b[0m\n",
            "\u001b[36m[0, 0, 0, 0, 0, 0, 0]\u001b[0m \u001b[31m0\u001b[0m \u001b[36m[0, 0, 0, 0, 0, 0, 0, 0, 0, 0, 0, 0, 0, 0, 0, 0, 0, 0, 0, 0, 0, 0, 0, 0, 0, 0, 0, 0, 0, 0, 0, 0, 0, 0, 0, 0, 0, 0, 0, 0, 0, 0]\u001b[0m\n",
            "\u001b[35m\n",
            "índices: 1, 9\n",
            "Se pregunta si el valor del arreglo de precios es menor a 9\u001b[0m\n",
            "\u001b[36mComo no se cumple, se guarda el valor: 0, de modo que el sub-arreglo 1 queda como: \n",
            "\u001b[0m\n",
            "\u001b[36m[0, 0, 0, 0, 0, 0, 0, 0]\u001b[0m \u001b[31m0\u001b[0m \u001b[36m[0, 0, 0, 0, 0, 0, 0, 0, 0, 0, 0, 0, 0, 0, 0, 0, 0, 0, 0, 0, 0, 0, 0, 0, 0, 0, 0, 0, 0, 0, 0, 0, 0, 0, 0, 0, 0, 0, 0, 0, 0]\u001b[0m\n",
            "\u001b[35m\n",
            "índices: 1, 10\n",
            "Se pregunta si el valor del arreglo de precios es menor a 10\u001b[0m\n",
            "\u001b[32mComo se cumple, se guarda el valor máximo entre 60 y 0\u001b[0m\n",
            "\u001b[32m[0, 0, 0, 0, 0, 0, 0, 0, 0]\u001b[0m \u001b[31m60\u001b[0m \u001b[32m[0, 0, 0, 0, 0, 0, 0, 0, 0, 0, 0, 0, 0, 0, 0, 0, 0, 0, 0, 0, 0, 0, 0, 0, 0, 0, 0, 0, 0, 0, 0, 0, 0, 0, 0, 0, 0, 0, 0, 0]\u001b[0m\n",
            "\u001b[35m\n",
            "índices: 1, 11\n",
            "Se pregunta si el valor del arreglo de precios es menor a 11\u001b[0m\n",
            "\u001b[32mComo se cumple, se guarda el valor máximo entre 60 y 0\u001b[0m\n",
            "\u001b[32m[0, 0, 0, 0, 0, 0, 0, 0, 0, 0]\u001b[0m \u001b[31m60\u001b[0m \u001b[32m[0, 0, 0, 0, 0, 0, 0, 0, 0, 0, 0, 0, 0, 0, 0, 0, 0, 0, 0, 0, 0, 0, 0, 0, 0, 0, 0, 0, 0, 0, 0, 0, 0, 0, 0, 0, 0, 0, 0]\u001b[0m\n",
            "\u001b[35m\n",
            "índices: 1, 12\n",
            "Se pregunta si el valor del arreglo de precios es menor a 12\u001b[0m\n",
            "\u001b[32mComo se cumple, se guarda el valor máximo entre 60 y 0\u001b[0m\n",
            "\u001b[32m[0, 0, 0, 0, 0, 0, 0, 0, 0, 0, 60]\u001b[0m \u001b[31m60\u001b[0m \u001b[32m[0, 0, 0, 0, 0, 0, 0, 0, 0, 0, 0, 0, 0, 0, 0, 0, 0, 0, 0, 0, 0, 0, 0, 0, 0, 0, 0, 0, 0, 0, 0, 0, 0, 0, 0, 0, 0, 0]\u001b[0m\n",
            "\u001b[35m\n",
            "índices: 1, 13\n",
            "Se pregunta si el valor del arreglo de precios es menor a 13\u001b[0m\n",
            "\u001b[32mComo se cumple, se guarda el valor máximo entre 60 y 0\u001b[0m\n",
            "\u001b[32m[0, 0, 0, 0, 0, 0, 0, 0, 0, 0, 60, 60]\u001b[0m \u001b[31m60\u001b[0m \u001b[32m[0, 0, 0, 0, 0, 0, 0, 0, 0, 0, 0, 0, 0, 0, 0, 0, 0, 0, 0, 0, 0, 0, 0, 0, 0, 0, 0, 0, 0, 0, 0, 0, 0, 0, 0, 0, 0]\u001b[0m\n",
            "\u001b[35m\n",
            "índices: 1, 14\n",
            "Se pregunta si el valor del arreglo de precios es menor a 14\u001b[0m\n",
            "\u001b[32mComo se cumple, se guarda el valor máximo entre 60 y 0\u001b[0m\n",
            "\u001b[32m[0, 0, 0, 0, 0, 0, 0, 0, 0, 0, 60, 60, 60]\u001b[0m \u001b[31m60\u001b[0m \u001b[32m[0, 0, 0, 0, 0, 0, 0, 0, 0, 0, 0, 0, 0, 0, 0, 0, 0, 0, 0, 0, 0, 0, 0, 0, 0, 0, 0, 0, 0, 0, 0, 0, 0, 0, 0, 0]\u001b[0m\n",
            "\u001b[35m\n",
            "índices: 1, 15\n",
            "Se pregunta si el valor del arreglo de precios es menor a 15\u001b[0m\n",
            "\u001b[32mComo se cumple, se guarda el valor máximo entre 60 y 0\u001b[0m\n",
            "\u001b[32m[0, 0, 0, 0, 0, 0, 0, 0, 0, 0, 60, 60, 60, 60]\u001b[0m \u001b[31m60\u001b[0m \u001b[32m[0, 0, 0, 0, 0, 0, 0, 0, 0, 0, 0, 0, 0, 0, 0, 0, 0, 0, 0, 0, 0, 0, 0, 0, 0, 0, 0, 0, 0, 0, 0, 0, 0, 0, 0]\u001b[0m\n",
            "\u001b[35m\n",
            "índices: 1, 16\n",
            "Se pregunta si el valor del arreglo de precios es menor a 16\u001b[0m\n",
            "\u001b[32mComo se cumple, se guarda el valor máximo entre 60 y 0\u001b[0m\n",
            "\u001b[32m[0, 0, 0, 0, 0, 0, 0, 0, 0, 0, 60, 60, 60, 60, 60]\u001b[0m \u001b[31m60\u001b[0m \u001b[32m[0, 0, 0, 0, 0, 0, 0, 0, 0, 0, 0, 0, 0, 0, 0, 0, 0, 0, 0, 0, 0, 0, 0, 0, 0, 0, 0, 0, 0, 0, 0, 0, 0, 0]\u001b[0m\n",
            "\u001b[35m\n",
            "índices: 1, 17\n",
            "Se pregunta si el valor del arreglo de precios es menor a 17\u001b[0m\n",
            "\u001b[32mComo se cumple, se guarda el valor máximo entre 60 y 0\u001b[0m\n",
            "\u001b[32m[0, 0, 0, 0, 0, 0, 0, 0, 0, 0, 60, 60, 60, 60, 60, 60]\u001b[0m \u001b[31m60\u001b[0m \u001b[32m[0, 0, 0, 0, 0, 0, 0, 0, 0, 0, 0, 0, 0, 0, 0, 0, 0, 0, 0, 0, 0, 0, 0, 0, 0, 0, 0, 0, 0, 0, 0, 0, 0]\u001b[0m\n",
            "\u001b[35m\n",
            "índices: 1, 18\n",
            "Se pregunta si el valor del arreglo de precios es menor a 18\u001b[0m\n",
            "\u001b[32mComo se cumple, se guarda el valor máximo entre 60 y 0\u001b[0m\n",
            "\u001b[32m[0, 0, 0, 0, 0, 0, 0, 0, 0, 0, 60, 60, 60, 60, 60, 60, 60]\u001b[0m \u001b[31m60\u001b[0m \u001b[32m[0, 0, 0, 0, 0, 0, 0, 0, 0, 0, 0, 0, 0, 0, 0, 0, 0, 0, 0, 0, 0, 0, 0, 0, 0, 0, 0, 0, 0, 0, 0, 0]\u001b[0m\n",
            "\u001b[35m\n",
            "índices: 1, 19\n",
            "Se pregunta si el valor del arreglo de precios es menor a 19\u001b[0m\n",
            "\u001b[32mComo se cumple, se guarda el valor máximo entre 60 y 0\u001b[0m\n",
            "\u001b[32m[0, 0, 0, 0, 0, 0, 0, 0, 0, 0, 60, 60, 60, 60, 60, 60, 60, 60]\u001b[0m \u001b[31m60\u001b[0m \u001b[32m[0, 0, 0, 0, 0, 0, 0, 0, 0, 0, 0, 0, 0, 0, 0, 0, 0, 0, 0, 0, 0, 0, 0, 0, 0, 0, 0, 0, 0, 0, 0]\u001b[0m\n",
            "\u001b[35m\n",
            "índices: 1, 20\n",
            "Se pregunta si el valor del arreglo de precios es menor a 20\u001b[0m\n",
            "\u001b[32mComo se cumple, se guarda el valor máximo entre 60 y 0\u001b[0m\n",
            "\u001b[32m[0, 0, 0, 0, 0, 0, 0, 0, 0, 0, 60, 60, 60, 60, 60, 60, 60, 60, 60]\u001b[0m \u001b[31m60\u001b[0m \u001b[32m[0, 0, 0, 0, 0, 0, 0, 0, 0, 0, 0, 0, 0, 0, 0, 0, 0, 0, 0, 0, 0, 0, 0, 0, 0, 0, 0, 0, 0, 0]\u001b[0m\n",
            "\u001b[35m\n",
            "índices: 1, 21\n",
            "Se pregunta si el valor del arreglo de precios es menor a 21\u001b[0m\n",
            "\u001b[32mComo se cumple, se guarda el valor máximo entre 60 y 0\u001b[0m\n",
            "\u001b[32m[0, 0, 0, 0, 0, 0, 0, 0, 0, 0, 60, 60, 60, 60, 60, 60, 60, 60, 60, 60]\u001b[0m \u001b[31m60\u001b[0m \u001b[32m[0, 0, 0, 0, 0, 0, 0, 0, 0, 0, 0, 0, 0, 0, 0, 0, 0, 0, 0, 0, 0, 0, 0, 0, 0, 0, 0, 0, 0]\u001b[0m\n",
            "\u001b[35m\n",
            "índices: 1, 22\n",
            "Se pregunta si el valor del arreglo de precios es menor a 22\u001b[0m\n",
            "\u001b[32mComo se cumple, se guarda el valor máximo entre 60 y 0\u001b[0m\n",
            "\u001b[32m[0, 0, 0, 0, 0, 0, 0, 0, 0, 0, 60, 60, 60, 60, 60, 60, 60, 60, 60, 60, 60]\u001b[0m \u001b[31m60\u001b[0m \u001b[32m[0, 0, 0, 0, 0, 0, 0, 0, 0, 0, 0, 0, 0, 0, 0, 0, 0, 0, 0, 0, 0, 0, 0, 0, 0, 0, 0, 0]\u001b[0m\n",
            "\u001b[35m\n",
            "índices: 1, 23\n",
            "Se pregunta si el valor del arreglo de precios es menor a 23\u001b[0m\n",
            "\u001b[32mComo se cumple, se guarda el valor máximo entre 60 y 0\u001b[0m\n",
            "\u001b[32m[0, 0, 0, 0, 0, 0, 0, 0, 0, 0, 60, 60, 60, 60, 60, 60, 60, 60, 60, 60, 60, 60]\u001b[0m \u001b[31m60\u001b[0m \u001b[32m[0, 0, 0, 0, 0, 0, 0, 0, 0, 0, 0, 0, 0, 0, 0, 0, 0, 0, 0, 0, 0, 0, 0, 0, 0, 0, 0]\u001b[0m\n",
            "\u001b[35m\n",
            "índices: 1, 24\n",
            "Se pregunta si el valor del arreglo de precios es menor a 24\u001b[0m\n",
            "\u001b[32mComo se cumple, se guarda el valor máximo entre 60 y 0\u001b[0m\n",
            "\u001b[32m[0, 0, 0, 0, 0, 0, 0, 0, 0, 0, 60, 60, 60, 60, 60, 60, 60, 60, 60, 60, 60, 60, 60]\u001b[0m \u001b[31m60\u001b[0m \u001b[32m[0, 0, 0, 0, 0, 0, 0, 0, 0, 0, 0, 0, 0, 0, 0, 0, 0, 0, 0, 0, 0, 0, 0, 0, 0, 0]\u001b[0m\n",
            "\u001b[35m\n",
            "índices: 1, 25\n",
            "Se pregunta si el valor del arreglo de precios es menor a 25\u001b[0m\n",
            "\u001b[32mComo se cumple, se guarda el valor máximo entre 60 y 0\u001b[0m\n",
            "\u001b[32m[0, 0, 0, 0, 0, 0, 0, 0, 0, 0, 60, 60, 60, 60, 60, 60, 60, 60, 60, 60, 60, 60, 60, 60]\u001b[0m \u001b[31m60\u001b[0m \u001b[32m[0, 0, 0, 0, 0, 0, 0, 0, 0, 0, 0, 0, 0, 0, 0, 0, 0, 0, 0, 0, 0, 0, 0, 0, 0]\u001b[0m\n",
            "\u001b[35m\n",
            "índices: 1, 26\n",
            "Se pregunta si el valor del arreglo de precios es menor a 26\u001b[0m\n",
            "\u001b[32mComo se cumple, se guarda el valor máximo entre 60 y 0\u001b[0m\n",
            "\u001b[32m[0, 0, 0, 0, 0, 0, 0, 0, 0, 0, 60, 60, 60, 60, 60, 60, 60, 60, 60, 60, 60, 60, 60, 60, 60]\u001b[0m \u001b[31m60\u001b[0m \u001b[32m[0, 0, 0, 0, 0, 0, 0, 0, 0, 0, 0, 0, 0, 0, 0, 0, 0, 0, 0, 0, 0, 0, 0, 0]\u001b[0m\n",
            "\u001b[35m\n",
            "índices: 1, 27\n",
            "Se pregunta si el valor del arreglo de precios es menor a 27\u001b[0m\n",
            "\u001b[32mComo se cumple, se guarda el valor máximo entre 60 y 0\u001b[0m\n",
            "\u001b[32m[0, 0, 0, 0, 0, 0, 0, 0, 0, 0, 60, 60, 60, 60, 60, 60, 60, 60, 60, 60, 60, 60, 60, 60, 60, 60]\u001b[0m \u001b[31m60\u001b[0m \u001b[32m[0, 0, 0, 0, 0, 0, 0, 0, 0, 0, 0, 0, 0, 0, 0, 0, 0, 0, 0, 0, 0, 0, 0]\u001b[0m\n",
            "\u001b[35m\n",
            "índices: 1, 28\n",
            "Se pregunta si el valor del arreglo de precios es menor a 28\u001b[0m\n",
            "\u001b[32mComo se cumple, se guarda el valor máximo entre 60 y 0\u001b[0m\n",
            "\u001b[32m[0, 0, 0, 0, 0, 0, 0, 0, 0, 0, 60, 60, 60, 60, 60, 60, 60, 60, 60, 60, 60, 60, 60, 60, 60, 60, 60]\u001b[0m \u001b[31m60\u001b[0m \u001b[32m[0, 0, 0, 0, 0, 0, 0, 0, 0, 0, 0, 0, 0, 0, 0, 0, 0, 0, 0, 0, 0, 0]\u001b[0m\n",
            "\u001b[35m\n",
            "índices: 1, 29\n",
            "Se pregunta si el valor del arreglo de precios es menor a 29\u001b[0m\n",
            "\u001b[32mComo se cumple, se guarda el valor máximo entre 60 y 0\u001b[0m\n",
            "\u001b[32m[0, 0, 0, 0, 0, 0, 0, 0, 0, 0, 60, 60, 60, 60, 60, 60, 60, 60, 60, 60, 60, 60, 60, 60, 60, 60, 60, 60]\u001b[0m \u001b[31m60\u001b[0m \u001b[32m[0, 0, 0, 0, 0, 0, 0, 0, 0, 0, 0, 0, 0, 0, 0, 0, 0, 0, 0, 0, 0]\u001b[0m\n",
            "\u001b[35m\n",
            "índices: 1, 30\n",
            "Se pregunta si el valor del arreglo de precios es menor a 30\u001b[0m\n",
            "\u001b[32mComo se cumple, se guarda el valor máximo entre 60 y 0\u001b[0m\n",
            "\u001b[32m[0, 0, 0, 0, 0, 0, 0, 0, 0, 0, 60, 60, 60, 60, 60, 60, 60, 60, 60, 60, 60, 60, 60, 60, 60, 60, 60, 60, 60]\u001b[0m \u001b[31m60\u001b[0m \u001b[32m[0, 0, 0, 0, 0, 0, 0, 0, 0, 0, 0, 0, 0, 0, 0, 0, 0, 0, 0, 0]\u001b[0m\n",
            "\u001b[35m\n",
            "índices: 1, 31\n",
            "Se pregunta si el valor del arreglo de precios es menor a 31\u001b[0m\n",
            "\u001b[32mComo se cumple, se guarda el valor máximo entre 60 y 0\u001b[0m\n",
            "\u001b[32m[0, 0, 0, 0, 0, 0, 0, 0, 0, 0, 60, 60, 60, 60, 60, 60, 60, 60, 60, 60, 60, 60, 60, 60, 60, 60, 60, 60, 60, 60]\u001b[0m \u001b[31m60\u001b[0m \u001b[32m[0, 0, 0, 0, 0, 0, 0, 0, 0, 0, 0, 0, 0, 0, 0, 0, 0, 0, 0]\u001b[0m\n",
            "\u001b[35m\n",
            "índices: 1, 32\n",
            "Se pregunta si el valor del arreglo de precios es menor a 32\u001b[0m\n",
            "\u001b[32mComo se cumple, se guarda el valor máximo entre 60 y 0\u001b[0m\n",
            "\u001b[32m[0, 0, 0, 0, 0, 0, 0, 0, 0, 0, 60, 60, 60, 60, 60, 60, 60, 60, 60, 60, 60, 60, 60, 60, 60, 60, 60, 60, 60, 60, 60]\u001b[0m \u001b[31m60\u001b[0m \u001b[32m[0, 0, 0, 0, 0, 0, 0, 0, 0, 0, 0, 0, 0, 0, 0, 0, 0, 0]\u001b[0m\n",
            "\u001b[35m\n",
            "índices: 1, 33\n",
            "Se pregunta si el valor del arreglo de precios es menor a 33\u001b[0m\n",
            "\u001b[32mComo se cumple, se guarda el valor máximo entre 60 y 0\u001b[0m\n",
            "\u001b[32m[0, 0, 0, 0, 0, 0, 0, 0, 0, 0, 60, 60, 60, 60, 60, 60, 60, 60, 60, 60, 60, 60, 60, 60, 60, 60, 60, 60, 60, 60, 60, 60]\u001b[0m \u001b[31m60\u001b[0m \u001b[32m[0, 0, 0, 0, 0, 0, 0, 0, 0, 0, 0, 0, 0, 0, 0, 0, 0]\u001b[0m\n",
            "\u001b[35m\n",
            "índices: 1, 34\n",
            "Se pregunta si el valor del arreglo de precios es menor a 34\u001b[0m\n",
            "\u001b[32mComo se cumple, se guarda el valor máximo entre 60 y 0\u001b[0m\n",
            "\u001b[32m[0, 0, 0, 0, 0, 0, 0, 0, 0, 0, 60, 60, 60, 60, 60, 60, 60, 60, 60, 60, 60, 60, 60, 60, 60, 60, 60, 60, 60, 60, 60, 60, 60]\u001b[0m \u001b[31m60\u001b[0m \u001b[32m[0, 0, 0, 0, 0, 0, 0, 0, 0, 0, 0, 0, 0, 0, 0, 0]\u001b[0m\n",
            "\u001b[35m\n",
            "índices: 1, 35\n",
            "Se pregunta si el valor del arreglo de precios es menor a 35\u001b[0m\n",
            "\u001b[32mComo se cumple, se guarda el valor máximo entre 60 y 0\u001b[0m\n",
            "\u001b[32m[0, 0, 0, 0, 0, 0, 0, 0, 0, 0, 60, 60, 60, 60, 60, 60, 60, 60, 60, 60, 60, 60, 60, 60, 60, 60, 60, 60, 60, 60, 60, 60, 60, 60]\u001b[0m \u001b[31m60\u001b[0m \u001b[32m[0, 0, 0, 0, 0, 0, 0, 0, 0, 0, 0, 0, 0, 0, 0]\u001b[0m\n",
            "\u001b[35m\n",
            "índices: 1, 36\n",
            "Se pregunta si el valor del arreglo de precios es menor a 36\u001b[0m\n",
            "\u001b[32mComo se cumple, se guarda el valor máximo entre 60 y 0\u001b[0m\n",
            "\u001b[32m[0, 0, 0, 0, 0, 0, 0, 0, 0, 0, 60, 60, 60, 60, 60, 60, 60, 60, 60, 60, 60, 60, 60, 60, 60, 60, 60, 60, 60, 60, 60, 60, 60, 60, 60]\u001b[0m \u001b[31m60\u001b[0m \u001b[32m[0, 0, 0, 0, 0, 0, 0, 0, 0, 0, 0, 0, 0, 0]\u001b[0m\n",
            "\u001b[35m\n",
            "índices: 1, 37\n",
            "Se pregunta si el valor del arreglo de precios es menor a 37\u001b[0m\n",
            "\u001b[32mComo se cumple, se guarda el valor máximo entre 60 y 0\u001b[0m\n",
            "\u001b[32m[0, 0, 0, 0, 0, 0, 0, 0, 0, 0, 60, 60, 60, 60, 60, 60, 60, 60, 60, 60, 60, 60, 60, 60, 60, 60, 60, 60, 60, 60, 60, 60, 60, 60, 60, 60]\u001b[0m \u001b[31m60\u001b[0m \u001b[32m[0, 0, 0, 0, 0, 0, 0, 0, 0, 0, 0, 0, 0]\u001b[0m\n",
            "\u001b[35m\n",
            "índices: 1, 38\n",
            "Se pregunta si el valor del arreglo de precios es menor a 38\u001b[0m\n",
            "\u001b[32mComo se cumple, se guarda el valor máximo entre 60 y 0\u001b[0m\n",
            "\u001b[32m[0, 0, 0, 0, 0, 0, 0, 0, 0, 0, 60, 60, 60, 60, 60, 60, 60, 60, 60, 60, 60, 60, 60, 60, 60, 60, 60, 60, 60, 60, 60, 60, 60, 60, 60, 60, 60]\u001b[0m \u001b[31m60\u001b[0m \u001b[32m[0, 0, 0, 0, 0, 0, 0, 0, 0, 0, 0, 0]\u001b[0m\n",
            "\u001b[35m\n",
            "índices: 1, 39\n",
            "Se pregunta si el valor del arreglo de precios es menor a 39\u001b[0m\n",
            "\u001b[32mComo se cumple, se guarda el valor máximo entre 60 y 0\u001b[0m\n",
            "\u001b[32m[0, 0, 0, 0, 0, 0, 0, 0, 0, 0, 60, 60, 60, 60, 60, 60, 60, 60, 60, 60, 60, 60, 60, 60, 60, 60, 60, 60, 60, 60, 60, 60, 60, 60, 60, 60, 60, 60]\u001b[0m \u001b[31m60\u001b[0m \u001b[32m[0, 0, 0, 0, 0, 0, 0, 0, 0, 0, 0]\u001b[0m\n",
            "\u001b[35m\n",
            "índices: 1, 40\n",
            "Se pregunta si el valor del arreglo de precios es menor a 40\u001b[0m\n",
            "\u001b[32mComo se cumple, se guarda el valor máximo entre 60 y 0\u001b[0m\n",
            "\u001b[32m[0, 0, 0, 0, 0, 0, 0, 0, 0, 0, 60, 60, 60, 60, 60, 60, 60, 60, 60, 60, 60, 60, 60, 60, 60, 60, 60, 60, 60, 60, 60, 60, 60, 60, 60, 60, 60, 60, 60]\u001b[0m \u001b[31m60\u001b[0m \u001b[32m[0, 0, 0, 0, 0, 0, 0, 0, 0, 0]\u001b[0m\n",
            "\u001b[35m\n",
            "índices: 1, 41\n",
            "Se pregunta si el valor del arreglo de precios es menor a 41\u001b[0m\n",
            "\u001b[32mComo se cumple, se guarda el valor máximo entre 60 y 0\u001b[0m\n",
            "\u001b[32m[0, 0, 0, 0, 0, 0, 0, 0, 0, 0, 60, 60, 60, 60, 60, 60, 60, 60, 60, 60, 60, 60, 60, 60, 60, 60, 60, 60, 60, 60, 60, 60, 60, 60, 60, 60, 60, 60, 60, 60]\u001b[0m \u001b[31m60\u001b[0m \u001b[32m[0, 0, 0, 0, 0, 0, 0, 0, 0]\u001b[0m\n",
            "\u001b[35m\n",
            "índices: 1, 42\n",
            "Se pregunta si el valor del arreglo de precios es menor a 42\u001b[0m\n",
            "\u001b[32mComo se cumple, se guarda el valor máximo entre 60 y 0\u001b[0m\n",
            "\u001b[32m[0, 0, 0, 0, 0, 0, 0, 0, 0, 0, 60, 60, 60, 60, 60, 60, 60, 60, 60, 60, 60, 60, 60, 60, 60, 60, 60, 60, 60, 60, 60, 60, 60, 60, 60, 60, 60, 60, 60, 60, 60]\u001b[0m \u001b[31m60\u001b[0m \u001b[32m[0, 0, 0, 0, 0, 0, 0, 0]\u001b[0m\n",
            "\u001b[35m\n",
            "índices: 1, 43\n",
            "Se pregunta si el valor del arreglo de precios es menor a 43\u001b[0m\n",
            "\u001b[32mComo se cumple, se guarda el valor máximo entre 60 y 0\u001b[0m\n",
            "\u001b[32m[0, 0, 0, 0, 0, 0, 0, 0, 0, 0, 60, 60, 60, 60, 60, 60, 60, 60, 60, 60, 60, 60, 60, 60, 60, 60, 60, 60, 60, 60, 60, 60, 60, 60, 60, 60, 60, 60, 60, 60, 60, 60]\u001b[0m \u001b[31m60\u001b[0m \u001b[32m[0, 0, 0, 0, 0, 0, 0]\u001b[0m\n",
            "\u001b[35m\n",
            "índices: 1, 44\n",
            "Se pregunta si el valor del arreglo de precios es menor a 44\u001b[0m\n",
            "\u001b[32mComo se cumple, se guarda el valor máximo entre 60 y 0\u001b[0m\n",
            "\u001b[32m[0, 0, 0, 0, 0, 0, 0, 0, 0, 0, 60, 60, 60, 60, 60, 60, 60, 60, 60, 60, 60, 60, 60, 60, 60, 60, 60, 60, 60, 60, 60, 60, 60, 60, 60, 60, 60, 60, 60, 60, 60, 60, 60]\u001b[0m \u001b[31m60\u001b[0m \u001b[32m[0, 0, 0, 0, 0, 0]\u001b[0m\n",
            "\u001b[35m\n",
            "índices: 1, 45\n",
            "Se pregunta si el valor del arreglo de precios es menor a 45\u001b[0m\n",
            "\u001b[32mComo se cumple, se guarda el valor máximo entre 60 y 0\u001b[0m\n",
            "\u001b[32m[0, 0, 0, 0, 0, 0, 0, 0, 0, 0, 60, 60, 60, 60, 60, 60, 60, 60, 60, 60, 60, 60, 60, 60, 60, 60, 60, 60, 60, 60, 60, 60, 60, 60, 60, 60, 60, 60, 60, 60, 60, 60, 60, 60]\u001b[0m \u001b[31m60\u001b[0m \u001b[32m[0, 0, 0, 0, 0]\u001b[0m\n",
            "\u001b[35m\n",
            "índices: 1, 46\n",
            "Se pregunta si el valor del arreglo de precios es menor a 46\u001b[0m\n",
            "\u001b[32mComo se cumple, se guarda el valor máximo entre 60 y 0\u001b[0m\n",
            "\u001b[32m[0, 0, 0, 0, 0, 0, 0, 0, 0, 0, 60, 60, 60, 60, 60, 60, 60, 60, 60, 60, 60, 60, 60, 60, 60, 60, 60, 60, 60, 60, 60, 60, 60, 60, 60, 60, 60, 60, 60, 60, 60, 60, 60, 60, 60]\u001b[0m \u001b[31m60\u001b[0m \u001b[32m[0, 0, 0, 0]\u001b[0m\n",
            "\u001b[35m\n",
            "índices: 1, 47\n",
            "Se pregunta si el valor del arreglo de precios es menor a 47\u001b[0m\n",
            "\u001b[32mComo se cumple, se guarda el valor máximo entre 60 y 0\u001b[0m\n",
            "\u001b[32m[0, 0, 0, 0, 0, 0, 0, 0, 0, 0, 60, 60, 60, 60, 60, 60, 60, 60, 60, 60, 60, 60, 60, 60, 60, 60, 60, 60, 60, 60, 60, 60, 60, 60, 60, 60, 60, 60, 60, 60, 60, 60, 60, 60, 60, 60]\u001b[0m \u001b[31m60\u001b[0m \u001b[32m[0, 0, 0]\u001b[0m\n",
            "\u001b[35m\n",
            "índices: 1, 48\n",
            "Se pregunta si el valor del arreglo de precios es menor a 48\u001b[0m\n",
            "\u001b[32mComo se cumple, se guarda el valor máximo entre 60 y 0\u001b[0m\n",
            "\u001b[32m[0, 0, 0, 0, 0, 0, 0, 0, 0, 0, 60, 60, 60, 60, 60, 60, 60, 60, 60, 60, 60, 60, 60, 60, 60, 60, 60, 60, 60, 60, 60, 60, 60, 60, 60, 60, 60, 60, 60, 60, 60, 60, 60, 60, 60, 60, 60]\u001b[0m \u001b[31m60\u001b[0m \u001b[32m[0, 0]\u001b[0m\n",
            "\u001b[35m\n",
            "índices: 1, 49\n",
            "Se pregunta si el valor del arreglo de precios es menor a 49\u001b[0m\n",
            "\u001b[32mComo se cumple, se guarda el valor máximo entre 60 y 0\u001b[0m\n",
            "\u001b[32m[0, 0, 0, 0, 0, 0, 0, 0, 0, 0, 60, 60, 60, 60, 60, 60, 60, 60, 60, 60, 60, 60, 60, 60, 60, 60, 60, 60, 60, 60, 60, 60, 60, 60, 60, 60, 60, 60, 60, 60, 60, 60, 60, 60, 60, 60, 60, 60]\u001b[0m \u001b[31m60\u001b[0m \u001b[32m[0]\u001b[0m\n",
            "\u001b[35m\n",
            "índices: 1, 50\n",
            "Se pregunta si el valor del arreglo de precios es menor a 50\u001b[0m\n",
            "\u001b[32mComo se cumple, se guarda el valor máximo entre 60 y 0\u001b[0m\n",
            "\u001b[32m[0, 0, 0, 0, 0, 0, 0, 0, 0, 0, 60, 60, 60, 60, 60, 60, 60, 60, 60, 60, 60, 60, 60, 60, 60, 60, 60, 60, 60, 60, 60, 60, 60, 60, 60, 60, 60, 60, 60, 60, 60, 60, 60, 60, 60, 60, 60, 60, 60]\u001b[0m \u001b[31m60\u001b[0m \u001b[32m[]\u001b[0m\n",
            "\u001b[35m\n",
            "índices: 2, 1\n",
            "Se pregunta si el valor del arreglo de precios es menor a 1\u001b[0m\n",
            "\u001b[36mComo no se cumple, se guarda el valor: 0, de modo que el sub-arreglo 2 queda como: \n",
            "\u001b[0m\n",
            "\u001b[36m[]\u001b[0m \u001b[31m0\u001b[0m \u001b[36m[0, 0, 0, 0, 0, 0, 0, 0, 0, 0, 0, 0, 0, 0, 0, 0, 0, 0, 0, 0, 0, 0, 0, 0, 0, 0, 0, 0, 0, 0, 0, 0, 0, 0, 0, 0, 0, 0, 0, 0, 0, 0, 0, 0, 0, 0, 0, 0, 0]\u001b[0m\n",
            "\u001b[35m\n",
            "índices: 2, 2\n",
            "Se pregunta si el valor del arreglo de precios es menor a 2\u001b[0m\n",
            "\u001b[36mComo no se cumple, se guarda el valor: 0, de modo que el sub-arreglo 2 queda como: \n",
            "\u001b[0m\n",
            "\u001b[36m[0]\u001b[0m \u001b[31m0\u001b[0m \u001b[36m[0, 0, 0, 0, 0, 0, 0, 0, 0, 0, 0, 0, 0, 0, 0, 0, 0, 0, 0, 0, 0, 0, 0, 0, 0, 0, 0, 0, 0, 0, 0, 0, 0, 0, 0, 0, 0, 0, 0, 0, 0, 0, 0, 0, 0, 0, 0, 0]\u001b[0m\n",
            "\u001b[35m\n",
            "índices: 2, 3\n",
            "Se pregunta si el valor del arreglo de precios es menor a 3\u001b[0m\n",
            "\u001b[36mComo no se cumple, se guarda el valor: 0, de modo que el sub-arreglo 2 queda como: \n",
            "\u001b[0m\n",
            "\u001b[36m[0, 0]\u001b[0m \u001b[31m0\u001b[0m \u001b[36m[0, 0, 0, 0, 0, 0, 0, 0, 0, 0, 0, 0, 0, 0, 0, 0, 0, 0, 0, 0, 0, 0, 0, 0, 0, 0, 0, 0, 0, 0, 0, 0, 0, 0, 0, 0, 0, 0, 0, 0, 0, 0, 0, 0, 0, 0, 0]\u001b[0m\n",
            "\u001b[35m\n",
            "índices: 2, 4\n",
            "Se pregunta si el valor del arreglo de precios es menor a 4\u001b[0m\n",
            "\u001b[36mComo no se cumple, se guarda el valor: 0, de modo que el sub-arreglo 2 queda como: \n",
            "\u001b[0m\n",
            "\u001b[36m[0, 0, 0]\u001b[0m \u001b[31m0\u001b[0m \u001b[36m[0, 0, 0, 0, 0, 0, 0, 0, 0, 0, 0, 0, 0, 0, 0, 0, 0, 0, 0, 0, 0, 0, 0, 0, 0, 0, 0, 0, 0, 0, 0, 0, 0, 0, 0, 0, 0, 0, 0, 0, 0, 0, 0, 0, 0, 0]\u001b[0m\n",
            "\u001b[35m\n",
            "índices: 2, 5\n",
            "Se pregunta si el valor del arreglo de precios es menor a 5\u001b[0m\n",
            "\u001b[36mComo no se cumple, se guarda el valor: 0, de modo que el sub-arreglo 2 queda como: \n",
            "\u001b[0m\n",
            "\u001b[36m[0, 0, 0, 0]\u001b[0m \u001b[31m0\u001b[0m \u001b[36m[0, 0, 0, 0, 0, 0, 0, 0, 0, 0, 0, 0, 0, 0, 0, 0, 0, 0, 0, 0, 0, 0, 0, 0, 0, 0, 0, 0, 0, 0, 0, 0, 0, 0, 0, 0, 0, 0, 0, 0, 0, 0, 0, 0, 0]\u001b[0m\n",
            "\u001b[35m\n",
            "índices: 2, 6\n",
            "Se pregunta si el valor del arreglo de precios es menor a 6\u001b[0m\n",
            "\u001b[36mComo no se cumple, se guarda el valor: 0, de modo que el sub-arreglo 2 queda como: \n",
            "\u001b[0m\n",
            "\u001b[36m[0, 0, 0, 0, 0]\u001b[0m \u001b[31m0\u001b[0m \u001b[36m[0, 0, 0, 0, 0, 0, 0, 0, 0, 0, 0, 0, 0, 0, 0, 0, 0, 0, 0, 0, 0, 0, 0, 0, 0, 0, 0, 0, 0, 0, 0, 0, 0, 0, 0, 0, 0, 0, 0, 0, 0, 0, 0, 0]\u001b[0m\n",
            "\u001b[35m\n",
            "índices: 2, 7\n",
            "Se pregunta si el valor del arreglo de precios es menor a 7\u001b[0m\n",
            "\u001b[36mComo no se cumple, se guarda el valor: 0, de modo que el sub-arreglo 2 queda como: \n",
            "\u001b[0m\n",
            "\u001b[36m[0, 0, 0, 0, 0, 0]\u001b[0m \u001b[31m0\u001b[0m \u001b[36m[0, 0, 0, 0, 0, 0, 0, 0, 0, 0, 0, 0, 0, 0, 0, 0, 0, 0, 0, 0, 0, 0, 0, 0, 0, 0, 0, 0, 0, 0, 0, 0, 0, 0, 0, 0, 0, 0, 0, 0, 0, 0, 0]\u001b[0m\n",
            "\u001b[35m\n",
            "índices: 2, 8\n",
            "Se pregunta si el valor del arreglo de precios es menor a 8\u001b[0m\n",
            "\u001b[36mComo no se cumple, se guarda el valor: 0, de modo que el sub-arreglo 2 queda como: \n",
            "\u001b[0m\n",
            "\u001b[36m[0, 0, 0, 0, 0, 0, 0]\u001b[0m \u001b[31m0\u001b[0m \u001b[36m[0, 0, 0, 0, 0, 0, 0, 0, 0, 0, 0, 0, 0, 0, 0, 0, 0, 0, 0, 0, 0, 0, 0, 0, 0, 0, 0, 0, 0, 0, 0, 0, 0, 0, 0, 0, 0, 0, 0, 0, 0, 0]\u001b[0m\n",
            "\u001b[35m\n",
            "índices: 2, 9\n",
            "Se pregunta si el valor del arreglo de precios es menor a 9\u001b[0m\n",
            "\u001b[36mComo no se cumple, se guarda el valor: 0, de modo que el sub-arreglo 2 queda como: \n",
            "\u001b[0m\n",
            "\u001b[36m[0, 0, 0, 0, 0, 0, 0, 0]\u001b[0m \u001b[31m0\u001b[0m \u001b[36m[0, 0, 0, 0, 0, 0, 0, 0, 0, 0, 0, 0, 0, 0, 0, 0, 0, 0, 0, 0, 0, 0, 0, 0, 0, 0, 0, 0, 0, 0, 0, 0, 0, 0, 0, 0, 0, 0, 0, 0, 0]\u001b[0m\n",
            "\u001b[35m\n",
            "índices: 2, 10\n",
            "Se pregunta si el valor del arreglo de precios es menor a 10\u001b[0m\n",
            "\u001b[36mComo no se cumple, se guarda el valor: 60, de modo que el sub-arreglo 2 queda como: \n",
            "\u001b[0m\n",
            "\u001b[36m[0, 0, 0, 0, 0, 0, 0, 0, 0]\u001b[0m \u001b[31m60\u001b[0m \u001b[36m[0, 0, 0, 0, 0, 0, 0, 0, 0, 0, 0, 0, 0, 0, 0, 0, 0, 0, 0, 0, 0, 0, 0, 0, 0, 0, 0, 0, 0, 0, 0, 0, 0, 0, 0, 0, 0, 0, 0, 0]\u001b[0m\n",
            "\u001b[35m\n",
            "índices: 2, 11\n",
            "Se pregunta si el valor del arreglo de precios es menor a 11\u001b[0m\n",
            "\u001b[36mComo no se cumple, se guarda el valor: 60, de modo que el sub-arreglo 2 queda como: \n",
            "\u001b[0m\n",
            "\u001b[36m[0, 0, 0, 0, 0, 0, 0, 0, 0, 0]\u001b[0m \u001b[31m60\u001b[0m \u001b[36m[0, 0, 0, 0, 0, 0, 0, 0, 0, 0, 0, 0, 0, 0, 0, 0, 0, 0, 0, 0, 0, 0, 0, 0, 0, 0, 0, 0, 0, 0, 0, 0, 0, 0, 0, 0, 0, 0, 0]\u001b[0m\n",
            "\u001b[35m\n",
            "índices: 2, 12\n",
            "Se pregunta si el valor del arreglo de precios es menor a 12\u001b[0m\n",
            "\u001b[36mComo no se cumple, se guarda el valor: 60, de modo que el sub-arreglo 2 queda como: \n",
            "\u001b[0m\n",
            "\u001b[36m[0, 0, 0, 0, 0, 0, 0, 0, 0, 0, 60]\u001b[0m \u001b[31m60\u001b[0m \u001b[36m[0, 0, 0, 0, 0, 0, 0, 0, 0, 0, 0, 0, 0, 0, 0, 0, 0, 0, 0, 0, 0, 0, 0, 0, 0, 0, 0, 0, 0, 0, 0, 0, 0, 0, 0, 0, 0, 0]\u001b[0m\n",
            "\u001b[35m\n",
            "índices: 2, 13\n",
            "Se pregunta si el valor del arreglo de precios es menor a 13\u001b[0m\n",
            "\u001b[36mComo no se cumple, se guarda el valor: 60, de modo que el sub-arreglo 2 queda como: \n",
            "\u001b[0m\n",
            "\u001b[36m[0, 0, 0, 0, 0, 0, 0, 0, 0, 0, 60, 60]\u001b[0m \u001b[31m60\u001b[0m \u001b[36m[0, 0, 0, 0, 0, 0, 0, 0, 0, 0, 0, 0, 0, 0, 0, 0, 0, 0, 0, 0, 0, 0, 0, 0, 0, 0, 0, 0, 0, 0, 0, 0, 0, 0, 0, 0, 0]\u001b[0m\n",
            "\u001b[35m\n",
            "índices: 2, 14\n",
            "Se pregunta si el valor del arreglo de precios es menor a 14\u001b[0m\n",
            "\u001b[36mComo no se cumple, se guarda el valor: 60, de modo que el sub-arreglo 2 queda como: \n",
            "\u001b[0m\n",
            "\u001b[36m[0, 0, 0, 0, 0, 0, 0, 0, 0, 0, 60, 60, 60]\u001b[0m \u001b[31m60\u001b[0m \u001b[36m[0, 0, 0, 0, 0, 0, 0, 0, 0, 0, 0, 0, 0, 0, 0, 0, 0, 0, 0, 0, 0, 0, 0, 0, 0, 0, 0, 0, 0, 0, 0, 0, 0, 0, 0, 0]\u001b[0m\n",
            "\u001b[35m\n",
            "índices: 2, 15\n",
            "Se pregunta si el valor del arreglo de precios es menor a 15\u001b[0m\n",
            "\u001b[36mComo no se cumple, se guarda el valor: 60, de modo que el sub-arreglo 2 queda como: \n",
            "\u001b[0m\n",
            "\u001b[36m[0, 0, 0, 0, 0, 0, 0, 0, 0, 0, 60, 60, 60, 60]\u001b[0m \u001b[31m60\u001b[0m \u001b[36m[0, 0, 0, 0, 0, 0, 0, 0, 0, 0, 0, 0, 0, 0, 0, 0, 0, 0, 0, 0, 0, 0, 0, 0, 0, 0, 0, 0, 0, 0, 0, 0, 0, 0, 0]\u001b[0m\n",
            "\u001b[35m\n",
            "índices: 2, 16\n",
            "Se pregunta si el valor del arreglo de precios es menor a 16\u001b[0m\n",
            "\u001b[36mComo no se cumple, se guarda el valor: 60, de modo que el sub-arreglo 2 queda como: \n",
            "\u001b[0m\n",
            "\u001b[36m[0, 0, 0, 0, 0, 0, 0, 0, 0, 0, 60, 60, 60, 60, 60]\u001b[0m \u001b[31m60\u001b[0m \u001b[36m[0, 0, 0, 0, 0, 0, 0, 0, 0, 0, 0, 0, 0, 0, 0, 0, 0, 0, 0, 0, 0, 0, 0, 0, 0, 0, 0, 0, 0, 0, 0, 0, 0, 0]\u001b[0m\n",
            "\u001b[35m\n",
            "índices: 2, 17\n",
            "Se pregunta si el valor del arreglo de precios es menor a 17\u001b[0m\n",
            "\u001b[36mComo no se cumple, se guarda el valor: 60, de modo que el sub-arreglo 2 queda como: \n",
            "\u001b[0m\n",
            "\u001b[36m[0, 0, 0, 0, 0, 0, 0, 0, 0, 0, 60, 60, 60, 60, 60, 60]\u001b[0m \u001b[31m60\u001b[0m \u001b[36m[0, 0, 0, 0, 0, 0, 0, 0, 0, 0, 0, 0, 0, 0, 0, 0, 0, 0, 0, 0, 0, 0, 0, 0, 0, 0, 0, 0, 0, 0, 0, 0, 0]\u001b[0m\n",
            "\u001b[35m\n",
            "índices: 2, 18\n",
            "Se pregunta si el valor del arreglo de precios es menor a 18\u001b[0m\n",
            "\u001b[36mComo no se cumple, se guarda el valor: 60, de modo que el sub-arreglo 2 queda como: \n",
            "\u001b[0m\n",
            "\u001b[36m[0, 0, 0, 0, 0, 0, 0, 0, 0, 0, 60, 60, 60, 60, 60, 60, 60]\u001b[0m \u001b[31m60\u001b[0m \u001b[36m[0, 0, 0, 0, 0, 0, 0, 0, 0, 0, 0, 0, 0, 0, 0, 0, 0, 0, 0, 0, 0, 0, 0, 0, 0, 0, 0, 0, 0, 0, 0, 0]\u001b[0m\n",
            "\u001b[35m\n",
            "índices: 2, 19\n",
            "Se pregunta si el valor del arreglo de precios es menor a 19\u001b[0m\n",
            "\u001b[36mComo no se cumple, se guarda el valor: 60, de modo que el sub-arreglo 2 queda como: \n",
            "\u001b[0m\n",
            "\u001b[36m[0, 0, 0, 0, 0, 0, 0, 0, 0, 0, 60, 60, 60, 60, 60, 60, 60, 60]\u001b[0m \u001b[31m60\u001b[0m \u001b[36m[0, 0, 0, 0, 0, 0, 0, 0, 0, 0, 0, 0, 0, 0, 0, 0, 0, 0, 0, 0, 0, 0, 0, 0, 0, 0, 0, 0, 0, 0, 0]\u001b[0m\n",
            "\u001b[35m\n",
            "índices: 2, 20\n",
            "Se pregunta si el valor del arreglo de precios es menor a 20\u001b[0m\n",
            "\u001b[32mComo se cumple, se guarda el valor máximo entre 100 y 60\u001b[0m\n",
            "\u001b[32m[0, 0, 0, 0, 0, 0, 0, 0, 0, 0, 60, 60, 60, 60, 60, 60, 60, 60, 60]\u001b[0m \u001b[31m100\u001b[0m \u001b[32m[0, 0, 0, 0, 0, 0, 0, 0, 0, 0, 0, 0, 0, 0, 0, 0, 0, 0, 0, 0, 0, 0, 0, 0, 0, 0, 0, 0, 0, 0]\u001b[0m\n",
            "\u001b[35m\n",
            "índices: 2, 21\n",
            "Se pregunta si el valor del arreglo de precios es menor a 21\u001b[0m\n",
            "\u001b[32mComo se cumple, se guarda el valor máximo entre 100 y 60\u001b[0m\n",
            "\u001b[32m[0, 0, 0, 0, 0, 0, 0, 0, 0, 0, 60, 60, 60, 60, 60, 60, 60, 60, 60, 60]\u001b[0m \u001b[31m100\u001b[0m \u001b[32m[0, 0, 0, 0, 0, 0, 0, 0, 0, 0, 0, 0, 0, 0, 0, 0, 0, 0, 0, 0, 0, 0, 0, 0, 0, 0, 0, 0, 0]\u001b[0m\n",
            "\u001b[35m\n",
            "índices: 2, 22\n",
            "Se pregunta si el valor del arreglo de precios es menor a 22\u001b[0m\n",
            "\u001b[32mComo se cumple, se guarda el valor máximo entre 100 y 60\u001b[0m\n",
            "\u001b[32m[0, 0, 0, 0, 0, 0, 0, 0, 0, 0, 60, 60, 60, 60, 60, 60, 60, 60, 60, 60, 100]\u001b[0m \u001b[31m100\u001b[0m \u001b[32m[0, 0, 0, 0, 0, 0, 0, 0, 0, 0, 0, 0, 0, 0, 0, 0, 0, 0, 0, 0, 0, 0, 0, 0, 0, 0, 0, 0]\u001b[0m\n",
            "\u001b[35m\n",
            "índices: 2, 23\n",
            "Se pregunta si el valor del arreglo de precios es menor a 23\u001b[0m\n",
            "\u001b[32mComo se cumple, se guarda el valor máximo entre 100 y 60\u001b[0m\n",
            "\u001b[32m[0, 0, 0, 0, 0, 0, 0, 0, 0, 0, 60, 60, 60, 60, 60, 60, 60, 60, 60, 60, 100, 100]\u001b[0m \u001b[31m100\u001b[0m \u001b[32m[0, 0, 0, 0, 0, 0, 0, 0, 0, 0, 0, 0, 0, 0, 0, 0, 0, 0, 0, 0, 0, 0, 0, 0, 0, 0, 0]\u001b[0m\n",
            "\u001b[35m\n",
            "índices: 2, 24\n",
            "Se pregunta si el valor del arreglo de precios es menor a 24\u001b[0m\n",
            "\u001b[32mComo se cumple, se guarda el valor máximo entre 100 y 60\u001b[0m\n",
            "\u001b[32m[0, 0, 0, 0, 0, 0, 0, 0, 0, 0, 60, 60, 60, 60, 60, 60, 60, 60, 60, 60, 100, 100, 100]\u001b[0m \u001b[31m100\u001b[0m \u001b[32m[0, 0, 0, 0, 0, 0, 0, 0, 0, 0, 0, 0, 0, 0, 0, 0, 0, 0, 0, 0, 0, 0, 0, 0, 0, 0]\u001b[0m\n",
            "\u001b[35m\n",
            "índices: 2, 25\n",
            "Se pregunta si el valor del arreglo de precios es menor a 25\u001b[0m\n",
            "\u001b[32mComo se cumple, se guarda el valor máximo entre 100 y 60\u001b[0m\n",
            "\u001b[32m[0, 0, 0, 0, 0, 0, 0, 0, 0, 0, 60, 60, 60, 60, 60, 60, 60, 60, 60, 60, 100, 100, 100, 100]\u001b[0m \u001b[31m100\u001b[0m \u001b[32m[0, 0, 0, 0, 0, 0, 0, 0, 0, 0, 0, 0, 0, 0, 0, 0, 0, 0, 0, 0, 0, 0, 0, 0, 0]\u001b[0m\n",
            "\u001b[35m\n",
            "índices: 2, 26\n",
            "Se pregunta si el valor del arreglo de precios es menor a 26\u001b[0m\n",
            "\u001b[32mComo se cumple, se guarda el valor máximo entre 100 y 60\u001b[0m\n",
            "\u001b[32m[0, 0, 0, 0, 0, 0, 0, 0, 0, 0, 60, 60, 60, 60, 60, 60, 60, 60, 60, 60, 100, 100, 100, 100, 100]\u001b[0m \u001b[31m100\u001b[0m \u001b[32m[0, 0, 0, 0, 0, 0, 0, 0, 0, 0, 0, 0, 0, 0, 0, 0, 0, 0, 0, 0, 0, 0, 0, 0]\u001b[0m\n",
            "\u001b[35m\n",
            "índices: 2, 27\n",
            "Se pregunta si el valor del arreglo de precios es menor a 27\u001b[0m\n",
            "\u001b[32mComo se cumple, se guarda el valor máximo entre 100 y 60\u001b[0m\n",
            "\u001b[32m[0, 0, 0, 0, 0, 0, 0, 0, 0, 0, 60, 60, 60, 60, 60, 60, 60, 60, 60, 60, 100, 100, 100, 100, 100, 100]\u001b[0m \u001b[31m100\u001b[0m \u001b[32m[0, 0, 0, 0, 0, 0, 0, 0, 0, 0, 0, 0, 0, 0, 0, 0, 0, 0, 0, 0, 0, 0, 0]\u001b[0m\n",
            "\u001b[35m\n",
            "índices: 2, 28\n",
            "Se pregunta si el valor del arreglo de precios es menor a 28\u001b[0m\n",
            "\u001b[32mComo se cumple, se guarda el valor máximo entre 100 y 60\u001b[0m\n",
            "\u001b[32m[0, 0, 0, 0, 0, 0, 0, 0, 0, 0, 60, 60, 60, 60, 60, 60, 60, 60, 60, 60, 100, 100, 100, 100, 100, 100, 100]\u001b[0m \u001b[31m100\u001b[0m \u001b[32m[0, 0, 0, 0, 0, 0, 0, 0, 0, 0, 0, 0, 0, 0, 0, 0, 0, 0, 0, 0, 0, 0]\u001b[0m\n",
            "\u001b[35m\n",
            "índices: 2, 29\n",
            "Se pregunta si el valor del arreglo de precios es menor a 29\u001b[0m\n",
            "\u001b[32mComo se cumple, se guarda el valor máximo entre 100 y 60\u001b[0m\n",
            "\u001b[32m[0, 0, 0, 0, 0, 0, 0, 0, 0, 0, 60, 60, 60, 60, 60, 60, 60, 60, 60, 60, 100, 100, 100, 100, 100, 100, 100, 100]\u001b[0m \u001b[31m100\u001b[0m \u001b[32m[0, 0, 0, 0, 0, 0, 0, 0, 0, 0, 0, 0, 0, 0, 0, 0, 0, 0, 0, 0, 0]\u001b[0m\n",
            "\u001b[35m\n",
            "índices: 2, 30\n",
            "Se pregunta si el valor del arreglo de precios es menor a 30\u001b[0m\n",
            "\u001b[32mComo se cumple, se guarda el valor máximo entre 160 y 60\u001b[0m\n",
            "\u001b[32m[0, 0, 0, 0, 0, 0, 0, 0, 0, 0, 60, 60, 60, 60, 60, 60, 60, 60, 60, 60, 100, 100, 100, 100, 100, 100, 100, 100, 100]\u001b[0m \u001b[31m160\u001b[0m \u001b[32m[0, 0, 0, 0, 0, 0, 0, 0, 0, 0, 0, 0, 0, 0, 0, 0, 0, 0, 0, 0]\u001b[0m\n",
            "\u001b[35m\n",
            "índices: 2, 31\n",
            "Se pregunta si el valor del arreglo de precios es menor a 31\u001b[0m\n",
            "\u001b[32mComo se cumple, se guarda el valor máximo entre 160 y 60\u001b[0m\n",
            "\u001b[32m[0, 0, 0, 0, 0, 0, 0, 0, 0, 0, 60, 60, 60, 60, 60, 60, 60, 60, 60, 60, 100, 100, 100, 100, 100, 100, 100, 100, 100, 100]\u001b[0m \u001b[31m160\u001b[0m \u001b[32m[0, 0, 0, 0, 0, 0, 0, 0, 0, 0, 0, 0, 0, 0, 0, 0, 0, 0, 0]\u001b[0m\n",
            "\u001b[35m\n",
            "índices: 2, 32\n",
            "Se pregunta si el valor del arreglo de precios es menor a 32\u001b[0m\n",
            "\u001b[32mComo se cumple, se guarda el valor máximo entre 160 y 60\u001b[0m\n",
            "\u001b[32m[0, 0, 0, 0, 0, 0, 0, 0, 0, 0, 60, 60, 60, 60, 60, 60, 60, 60, 60, 60, 100, 100, 100, 100, 100, 100, 100, 100, 100, 100, 160]\u001b[0m \u001b[31m160\u001b[0m \u001b[32m[0, 0, 0, 0, 0, 0, 0, 0, 0, 0, 0, 0, 0, 0, 0, 0, 0, 0]\u001b[0m\n",
            "\u001b[35m\n",
            "índices: 2, 33\n",
            "Se pregunta si el valor del arreglo de precios es menor a 33\u001b[0m\n",
            "\u001b[32mComo se cumple, se guarda el valor máximo entre 160 y 60\u001b[0m\n",
            "\u001b[32m[0, 0, 0, 0, 0, 0, 0, 0, 0, 0, 60, 60, 60, 60, 60, 60, 60, 60, 60, 60, 100, 100, 100, 100, 100, 100, 100, 100, 100, 100, 160, 160]\u001b[0m \u001b[31m160\u001b[0m \u001b[32m[0, 0, 0, 0, 0, 0, 0, 0, 0, 0, 0, 0, 0, 0, 0, 0, 0]\u001b[0m\n",
            "\u001b[35m\n",
            "índices: 2, 34\n",
            "Se pregunta si el valor del arreglo de precios es menor a 34\u001b[0m\n",
            "\u001b[32mComo se cumple, se guarda el valor máximo entre 160 y 60\u001b[0m\n",
            "\u001b[32m[0, 0, 0, 0, 0, 0, 0, 0, 0, 0, 60, 60, 60, 60, 60, 60, 60, 60, 60, 60, 100, 100, 100, 100, 100, 100, 100, 100, 100, 100, 160, 160, 160]\u001b[0m \u001b[31m160\u001b[0m \u001b[32m[0, 0, 0, 0, 0, 0, 0, 0, 0, 0, 0, 0, 0, 0, 0, 0]\u001b[0m\n",
            "\u001b[35m\n",
            "índices: 2, 35\n",
            "Se pregunta si el valor del arreglo de precios es menor a 35\u001b[0m\n",
            "\u001b[32mComo se cumple, se guarda el valor máximo entre 160 y 60\u001b[0m\n",
            "\u001b[32m[0, 0, 0, 0, 0, 0, 0, 0, 0, 0, 60, 60, 60, 60, 60, 60, 60, 60, 60, 60, 100, 100, 100, 100, 100, 100, 100, 100, 100, 100, 160, 160, 160, 160]\u001b[0m \u001b[31m160\u001b[0m \u001b[32m[0, 0, 0, 0, 0, 0, 0, 0, 0, 0, 0, 0, 0, 0, 0]\u001b[0m\n",
            "\u001b[35m\n",
            "índices: 2, 36\n",
            "Se pregunta si el valor del arreglo de precios es menor a 36\u001b[0m\n",
            "\u001b[32mComo se cumple, se guarda el valor máximo entre 160 y 60\u001b[0m\n",
            "\u001b[32m[0, 0, 0, 0, 0, 0, 0, 0, 0, 0, 60, 60, 60, 60, 60, 60, 60, 60, 60, 60, 100, 100, 100, 100, 100, 100, 100, 100, 100, 100, 160, 160, 160, 160, 160]\u001b[0m \u001b[31m160\u001b[0m \u001b[32m[0, 0, 0, 0, 0, 0, 0, 0, 0, 0, 0, 0, 0, 0]\u001b[0m\n",
            "\u001b[35m\n",
            "índices: 2, 37\n",
            "Se pregunta si el valor del arreglo de precios es menor a 37\u001b[0m\n",
            "\u001b[32mComo se cumple, se guarda el valor máximo entre 160 y 60\u001b[0m\n",
            "\u001b[32m[0, 0, 0, 0, 0, 0, 0, 0, 0, 0, 60, 60, 60, 60, 60, 60, 60, 60, 60, 60, 100, 100, 100, 100, 100, 100, 100, 100, 100, 100, 160, 160, 160, 160, 160, 160]\u001b[0m \u001b[31m160\u001b[0m \u001b[32m[0, 0, 0, 0, 0, 0, 0, 0, 0, 0, 0, 0, 0]\u001b[0m\n",
            "\u001b[35m\n",
            "índices: 2, 38\n",
            "Se pregunta si el valor del arreglo de precios es menor a 38\u001b[0m\n",
            "\u001b[32mComo se cumple, se guarda el valor máximo entre 160 y 60\u001b[0m\n",
            "\u001b[32m[0, 0, 0, 0, 0, 0, 0, 0, 0, 0, 60, 60, 60, 60, 60, 60, 60, 60, 60, 60, 100, 100, 100, 100, 100, 100, 100, 100, 100, 100, 160, 160, 160, 160, 160, 160, 160]\u001b[0m \u001b[31m160\u001b[0m \u001b[32m[0, 0, 0, 0, 0, 0, 0, 0, 0, 0, 0, 0]\u001b[0m\n",
            "\u001b[35m\n",
            "índices: 2, 39\n",
            "Se pregunta si el valor del arreglo de precios es menor a 39\u001b[0m\n",
            "\u001b[32mComo se cumple, se guarda el valor máximo entre 160 y 60\u001b[0m\n",
            "\u001b[32m[0, 0, 0, 0, 0, 0, 0, 0, 0, 0, 60, 60, 60, 60, 60, 60, 60, 60, 60, 60, 100, 100, 100, 100, 100, 100, 100, 100, 100, 100, 160, 160, 160, 160, 160, 160, 160, 160]\u001b[0m \u001b[31m160\u001b[0m \u001b[32m[0, 0, 0, 0, 0, 0, 0, 0, 0, 0, 0]\u001b[0m\n",
            "\u001b[35m\n",
            "índices: 2, 40\n",
            "Se pregunta si el valor del arreglo de precios es menor a 40\u001b[0m\n",
            "\u001b[32mComo se cumple, se guarda el valor máximo entre 160 y 60\u001b[0m\n",
            "\u001b[32m[0, 0, 0, 0, 0, 0, 0, 0, 0, 0, 60, 60, 60, 60, 60, 60, 60, 60, 60, 60, 100, 100, 100, 100, 100, 100, 100, 100, 100, 100, 160, 160, 160, 160, 160, 160, 160, 160, 160]\u001b[0m \u001b[31m160\u001b[0m \u001b[32m[0, 0, 0, 0, 0, 0, 0, 0, 0, 0]\u001b[0m\n",
            "\u001b[35m\n",
            "índices: 2, 41\n",
            "Se pregunta si el valor del arreglo de precios es menor a 41\u001b[0m\n",
            "\u001b[32mComo se cumple, se guarda el valor máximo entre 160 y 60\u001b[0m\n",
            "\u001b[32m[0, 0, 0, 0, 0, 0, 0, 0, 0, 0, 60, 60, 60, 60, 60, 60, 60, 60, 60, 60, 100, 100, 100, 100, 100, 100, 100, 100, 100, 100, 160, 160, 160, 160, 160, 160, 160, 160, 160, 160]\u001b[0m \u001b[31m160\u001b[0m \u001b[32m[0, 0, 0, 0, 0, 0, 0, 0, 0]\u001b[0m\n",
            "\u001b[35m\n",
            "índices: 2, 42\n",
            "Se pregunta si el valor del arreglo de precios es menor a 42\u001b[0m\n",
            "\u001b[32mComo se cumple, se guarda el valor máximo entre 160 y 60\u001b[0m\n",
            "\u001b[32m[0, 0, 0, 0, 0, 0, 0, 0, 0, 0, 60, 60, 60, 60, 60, 60, 60, 60, 60, 60, 100, 100, 100, 100, 100, 100, 100, 100, 100, 100, 160, 160, 160, 160, 160, 160, 160, 160, 160, 160, 160]\u001b[0m \u001b[31m160\u001b[0m \u001b[32m[0, 0, 0, 0, 0, 0, 0, 0]\u001b[0m\n",
            "\u001b[35m\n",
            "índices: 2, 43\n",
            "Se pregunta si el valor del arreglo de precios es menor a 43\u001b[0m\n",
            "\u001b[32mComo se cumple, se guarda el valor máximo entre 160 y 60\u001b[0m\n",
            "\u001b[32m[0, 0, 0, 0, 0, 0, 0, 0, 0, 0, 60, 60, 60, 60, 60, 60, 60, 60, 60, 60, 100, 100, 100, 100, 100, 100, 100, 100, 100, 100, 160, 160, 160, 160, 160, 160, 160, 160, 160, 160, 160, 160]\u001b[0m \u001b[31m160\u001b[0m \u001b[32m[0, 0, 0, 0, 0, 0, 0]\u001b[0m\n",
            "\u001b[35m\n",
            "índices: 2, 44\n",
            "Se pregunta si el valor del arreglo de precios es menor a 44\u001b[0m\n",
            "\u001b[32mComo se cumple, se guarda el valor máximo entre 160 y 60\u001b[0m\n",
            "\u001b[32m[0, 0, 0, 0, 0, 0, 0, 0, 0, 0, 60, 60, 60, 60, 60, 60, 60, 60, 60, 60, 100, 100, 100, 100, 100, 100, 100, 100, 100, 100, 160, 160, 160, 160, 160, 160, 160, 160, 160, 160, 160, 160, 160]\u001b[0m \u001b[31m160\u001b[0m \u001b[32m[0, 0, 0, 0, 0, 0]\u001b[0m\n",
            "\u001b[35m\n",
            "índices: 2, 45\n",
            "Se pregunta si el valor del arreglo de precios es menor a 45\u001b[0m\n",
            "\u001b[32mComo se cumple, se guarda el valor máximo entre 160 y 60\u001b[0m\n",
            "\u001b[32m[0, 0, 0, 0, 0, 0, 0, 0, 0, 0, 60, 60, 60, 60, 60, 60, 60, 60, 60, 60, 100, 100, 100, 100, 100, 100, 100, 100, 100, 100, 160, 160, 160, 160, 160, 160, 160, 160, 160, 160, 160, 160, 160, 160]\u001b[0m \u001b[31m160\u001b[0m \u001b[32m[0, 0, 0, 0, 0]\u001b[0m\n",
            "\u001b[35m\n",
            "índices: 2, 46\n",
            "Se pregunta si el valor del arreglo de precios es menor a 46\u001b[0m\n",
            "\u001b[32mComo se cumple, se guarda el valor máximo entre 160 y 60\u001b[0m\n",
            "\u001b[32m[0, 0, 0, 0, 0, 0, 0, 0, 0, 0, 60, 60, 60, 60, 60, 60, 60, 60, 60, 60, 100, 100, 100, 100, 100, 100, 100, 100, 100, 100, 160, 160, 160, 160, 160, 160, 160, 160, 160, 160, 160, 160, 160, 160, 160]\u001b[0m \u001b[31m160\u001b[0m \u001b[32m[0, 0, 0, 0]\u001b[0m\n",
            "\u001b[35m\n",
            "índices: 2, 47\n",
            "Se pregunta si el valor del arreglo de precios es menor a 47\u001b[0m\n",
            "\u001b[32mComo se cumple, se guarda el valor máximo entre 160 y 60\u001b[0m\n",
            "\u001b[32m[0, 0, 0, 0, 0, 0, 0, 0, 0, 0, 60, 60, 60, 60, 60, 60, 60, 60, 60, 60, 100, 100, 100, 100, 100, 100, 100, 100, 100, 100, 160, 160, 160, 160, 160, 160, 160, 160, 160, 160, 160, 160, 160, 160, 160, 160]\u001b[0m \u001b[31m160\u001b[0m \u001b[32m[0, 0, 0]\u001b[0m\n",
            "\u001b[35m\n",
            "índices: 2, 48\n",
            "Se pregunta si el valor del arreglo de precios es menor a 48\u001b[0m\n",
            "\u001b[32mComo se cumple, se guarda el valor máximo entre 160 y 60\u001b[0m\n",
            "\u001b[32m[0, 0, 0, 0, 0, 0, 0, 0, 0, 0, 60, 60, 60, 60, 60, 60, 60, 60, 60, 60, 100, 100, 100, 100, 100, 100, 100, 100, 100, 100, 160, 160, 160, 160, 160, 160, 160, 160, 160, 160, 160, 160, 160, 160, 160, 160, 160]\u001b[0m \u001b[31m160\u001b[0m \u001b[32m[0, 0]\u001b[0m\n",
            "\u001b[35m\n",
            "índices: 2, 49\n",
            "Se pregunta si el valor del arreglo de precios es menor a 49\u001b[0m\n",
            "\u001b[32mComo se cumple, se guarda el valor máximo entre 160 y 60\u001b[0m\n",
            "\u001b[32m[0, 0, 0, 0, 0, 0, 0, 0, 0, 0, 60, 60, 60, 60, 60, 60, 60, 60, 60, 60, 100, 100, 100, 100, 100, 100, 100, 100, 100, 100, 160, 160, 160, 160, 160, 160, 160, 160, 160, 160, 160, 160, 160, 160, 160, 160, 160, 160]\u001b[0m \u001b[31m160\u001b[0m \u001b[32m[0]\u001b[0m\n",
            "\u001b[35m\n",
            "índices: 2, 50\n",
            "Se pregunta si el valor del arreglo de precios es menor a 50\u001b[0m\n",
            "\u001b[32mComo se cumple, se guarda el valor máximo entre 160 y 60\u001b[0m\n",
            "\u001b[32m[0, 0, 0, 0, 0, 0, 0, 0, 0, 0, 60, 60, 60, 60, 60, 60, 60, 60, 60, 60, 100, 100, 100, 100, 100, 100, 100, 100, 100, 100, 160, 160, 160, 160, 160, 160, 160, 160, 160, 160, 160, 160, 160, 160, 160, 160, 160, 160, 160]\u001b[0m \u001b[31m160\u001b[0m \u001b[32m[]\u001b[0m\n",
            "\u001b[35m\n",
            "índices: 3, 1\n",
            "Se pregunta si el valor del arreglo de precios es menor a 1\u001b[0m\n",
            "\u001b[36mComo no se cumple, se guarda el valor: 0, de modo que el sub-arreglo 3 queda como: \n",
            "\u001b[0m\n",
            "\u001b[36m[]\u001b[0m \u001b[31m0\u001b[0m \u001b[36m[0, 0, 0, 0, 0, 0, 0, 0, 0, 0, 0, 0, 0, 0, 0, 0, 0, 0, 0, 0, 0, 0, 0, 0, 0, 0, 0, 0, 0, 0, 0, 0, 0, 0, 0, 0, 0, 0, 0, 0, 0, 0, 0, 0, 0, 0, 0, 0, 0]\u001b[0m\n",
            "\u001b[35m\n",
            "índices: 3, 2\n",
            "Se pregunta si el valor del arreglo de precios es menor a 2\u001b[0m\n",
            "\u001b[36mComo no se cumple, se guarda el valor: 0, de modo que el sub-arreglo 3 queda como: \n",
            "\u001b[0m\n",
            "\u001b[36m[0]\u001b[0m \u001b[31m0\u001b[0m \u001b[36m[0, 0, 0, 0, 0, 0, 0, 0, 0, 0, 0, 0, 0, 0, 0, 0, 0, 0, 0, 0, 0, 0, 0, 0, 0, 0, 0, 0, 0, 0, 0, 0, 0, 0, 0, 0, 0, 0, 0, 0, 0, 0, 0, 0, 0, 0, 0, 0]\u001b[0m\n",
            "\u001b[35m\n",
            "índices: 3, 3\n",
            "Se pregunta si el valor del arreglo de precios es menor a 3\u001b[0m\n",
            "\u001b[36mComo no se cumple, se guarda el valor: 0, de modo que el sub-arreglo 3 queda como: \n",
            "\u001b[0m\n",
            "\u001b[36m[0, 0]\u001b[0m \u001b[31m0\u001b[0m \u001b[36m[0, 0, 0, 0, 0, 0, 0, 0, 0, 0, 0, 0, 0, 0, 0, 0, 0, 0, 0, 0, 0, 0, 0, 0, 0, 0, 0, 0, 0, 0, 0, 0, 0, 0, 0, 0, 0, 0, 0, 0, 0, 0, 0, 0, 0, 0, 0]\u001b[0m\n",
            "\u001b[35m\n",
            "índices: 3, 4\n",
            "Se pregunta si el valor del arreglo de precios es menor a 4\u001b[0m\n",
            "\u001b[36mComo no se cumple, se guarda el valor: 0, de modo que el sub-arreglo 3 queda como: \n",
            "\u001b[0m\n",
            "\u001b[36m[0, 0, 0]\u001b[0m \u001b[31m0\u001b[0m \u001b[36m[0, 0, 0, 0, 0, 0, 0, 0, 0, 0, 0, 0, 0, 0, 0, 0, 0, 0, 0, 0, 0, 0, 0, 0, 0, 0, 0, 0, 0, 0, 0, 0, 0, 0, 0, 0, 0, 0, 0, 0, 0, 0, 0, 0, 0, 0]\u001b[0m\n",
            "\u001b[35m\n",
            "índices: 3, 5\n",
            "Se pregunta si el valor del arreglo de precios es menor a 5\u001b[0m\n",
            "\u001b[36mComo no se cumple, se guarda el valor: 0, de modo que el sub-arreglo 3 queda como: \n",
            "\u001b[0m\n",
            "\u001b[36m[0, 0, 0, 0]\u001b[0m \u001b[31m0\u001b[0m \u001b[36m[0, 0, 0, 0, 0, 0, 0, 0, 0, 0, 0, 0, 0, 0, 0, 0, 0, 0, 0, 0, 0, 0, 0, 0, 0, 0, 0, 0, 0, 0, 0, 0, 0, 0, 0, 0, 0, 0, 0, 0, 0, 0, 0, 0, 0]\u001b[0m\n",
            "\u001b[35m\n",
            "índices: 3, 6\n",
            "Se pregunta si el valor del arreglo de precios es menor a 6\u001b[0m\n",
            "\u001b[36mComo no se cumple, se guarda el valor: 0, de modo que el sub-arreglo 3 queda como: \n",
            "\u001b[0m\n",
            "\u001b[36m[0, 0, 0, 0, 0]\u001b[0m \u001b[31m0\u001b[0m \u001b[36m[0, 0, 0, 0, 0, 0, 0, 0, 0, 0, 0, 0, 0, 0, 0, 0, 0, 0, 0, 0, 0, 0, 0, 0, 0, 0, 0, 0, 0, 0, 0, 0, 0, 0, 0, 0, 0, 0, 0, 0, 0, 0, 0, 0]\u001b[0m\n",
            "\u001b[35m\n",
            "índices: 3, 7\n",
            "Se pregunta si el valor del arreglo de precios es menor a 7\u001b[0m\n",
            "\u001b[36mComo no se cumple, se guarda el valor: 0, de modo que el sub-arreglo 3 queda como: \n",
            "\u001b[0m\n",
            "\u001b[36m[0, 0, 0, 0, 0, 0]\u001b[0m \u001b[31m0\u001b[0m \u001b[36m[0, 0, 0, 0, 0, 0, 0, 0, 0, 0, 0, 0, 0, 0, 0, 0, 0, 0, 0, 0, 0, 0, 0, 0, 0, 0, 0, 0, 0, 0, 0, 0, 0, 0, 0, 0, 0, 0, 0, 0, 0, 0, 0]\u001b[0m\n",
            "\u001b[35m\n",
            "índices: 3, 8\n",
            "Se pregunta si el valor del arreglo de precios es menor a 8\u001b[0m\n",
            "\u001b[36mComo no se cumple, se guarda el valor: 0, de modo que el sub-arreglo 3 queda como: \n",
            "\u001b[0m\n",
            "\u001b[36m[0, 0, 0, 0, 0, 0, 0]\u001b[0m \u001b[31m0\u001b[0m \u001b[36m[0, 0, 0, 0, 0, 0, 0, 0, 0, 0, 0, 0, 0, 0, 0, 0, 0, 0, 0, 0, 0, 0, 0, 0, 0, 0, 0, 0, 0, 0, 0, 0, 0, 0, 0, 0, 0, 0, 0, 0, 0, 0]\u001b[0m\n",
            "\u001b[35m\n",
            "índices: 3, 9\n",
            "Se pregunta si el valor del arreglo de precios es menor a 9\u001b[0m\n",
            "\u001b[36mComo no se cumple, se guarda el valor: 0, de modo que el sub-arreglo 3 queda como: \n",
            "\u001b[0m\n",
            "\u001b[36m[0, 0, 0, 0, 0, 0, 0, 0]\u001b[0m \u001b[31m0\u001b[0m \u001b[36m[0, 0, 0, 0, 0, 0, 0, 0, 0, 0, 0, 0, 0, 0, 0, 0, 0, 0, 0, 0, 0, 0, 0, 0, 0, 0, 0, 0, 0, 0, 0, 0, 0, 0, 0, 0, 0, 0, 0, 0, 0]\u001b[0m\n",
            "\u001b[35m\n",
            "índices: 3, 10\n",
            "Se pregunta si el valor del arreglo de precios es menor a 10\u001b[0m\n",
            "\u001b[36mComo no se cumple, se guarda el valor: 60, de modo que el sub-arreglo 3 queda como: \n",
            "\u001b[0m\n",
            "\u001b[36m[0, 0, 0, 0, 0, 0, 0, 0, 0]\u001b[0m \u001b[31m60\u001b[0m \u001b[36m[0, 0, 0, 0, 0, 0, 0, 0, 0, 0, 0, 0, 0, 0, 0, 0, 0, 0, 0, 0, 0, 0, 0, 0, 0, 0, 0, 0, 0, 0, 0, 0, 0, 0, 0, 0, 0, 0, 0, 0]\u001b[0m\n",
            "\u001b[35m\n",
            "índices: 3, 11\n",
            "Se pregunta si el valor del arreglo de precios es menor a 11\u001b[0m\n",
            "\u001b[36mComo no se cumple, se guarda el valor: 60, de modo que el sub-arreglo 3 queda como: \n",
            "\u001b[0m\n",
            "\u001b[36m[0, 0, 0, 0, 0, 0, 0, 0, 0, 0]\u001b[0m \u001b[31m60\u001b[0m \u001b[36m[0, 0, 0, 0, 0, 0, 0, 0, 0, 0, 0, 0, 0, 0, 0, 0, 0, 0, 0, 0, 0, 0, 0, 0, 0, 0, 0, 0, 0, 0, 0, 0, 0, 0, 0, 0, 0, 0, 0]\u001b[0m\n",
            "\u001b[35m\n",
            "índices: 3, 12\n",
            "Se pregunta si el valor del arreglo de precios es menor a 12\u001b[0m\n",
            "\u001b[36mComo no se cumple, se guarda el valor: 60, de modo que el sub-arreglo 3 queda como: \n",
            "\u001b[0m\n",
            "\u001b[36m[0, 0, 0, 0, 0, 0, 0, 0, 0, 0, 60]\u001b[0m \u001b[31m60\u001b[0m \u001b[36m[0, 0, 0, 0, 0, 0, 0, 0, 0, 0, 0, 0, 0, 0, 0, 0, 0, 0, 0, 0, 0, 0, 0, 0, 0, 0, 0, 0, 0, 0, 0, 0, 0, 0, 0, 0, 0, 0]\u001b[0m\n",
            "\u001b[35m\n",
            "índices: 3, 13\n",
            "Se pregunta si el valor del arreglo de precios es menor a 13\u001b[0m\n",
            "\u001b[36mComo no se cumple, se guarda el valor: 60, de modo que el sub-arreglo 3 queda como: \n",
            "\u001b[0m\n",
            "\u001b[36m[0, 0, 0, 0, 0, 0, 0, 0, 0, 0, 60, 60]\u001b[0m \u001b[31m60\u001b[0m \u001b[36m[0, 0, 0, 0, 0, 0, 0, 0, 0, 0, 0, 0, 0, 0, 0, 0, 0, 0, 0, 0, 0, 0, 0, 0, 0, 0, 0, 0, 0, 0, 0, 0, 0, 0, 0, 0, 0]\u001b[0m\n",
            "\u001b[35m\n",
            "índices: 3, 14\n",
            "Se pregunta si el valor del arreglo de precios es menor a 14\u001b[0m\n",
            "\u001b[36mComo no se cumple, se guarda el valor: 60, de modo que el sub-arreglo 3 queda como: \n",
            "\u001b[0m\n",
            "\u001b[36m[0, 0, 0, 0, 0, 0, 0, 0, 0, 0, 60, 60, 60]\u001b[0m \u001b[31m60\u001b[0m \u001b[36m[0, 0, 0, 0, 0, 0, 0, 0, 0, 0, 0, 0, 0, 0, 0, 0, 0, 0, 0, 0, 0, 0, 0, 0, 0, 0, 0, 0, 0, 0, 0, 0, 0, 0, 0, 0]\u001b[0m\n",
            "\u001b[35m\n",
            "índices: 3, 15\n",
            "Se pregunta si el valor del arreglo de precios es menor a 15\u001b[0m\n",
            "\u001b[36mComo no se cumple, se guarda el valor: 60, de modo que el sub-arreglo 3 queda como: \n",
            "\u001b[0m\n",
            "\u001b[36m[0, 0, 0, 0, 0, 0, 0, 0, 0, 0, 60, 60, 60, 60]\u001b[0m \u001b[31m60\u001b[0m \u001b[36m[0, 0, 0, 0, 0, 0, 0, 0, 0, 0, 0, 0, 0, 0, 0, 0, 0, 0, 0, 0, 0, 0, 0, 0, 0, 0, 0, 0, 0, 0, 0, 0, 0, 0, 0]\u001b[0m\n",
            "\u001b[35m\n",
            "índices: 3, 16\n",
            "Se pregunta si el valor del arreglo de precios es menor a 16\u001b[0m\n",
            "\u001b[36mComo no se cumple, se guarda el valor: 60, de modo que el sub-arreglo 3 queda como: \n",
            "\u001b[0m\n",
            "\u001b[36m[0, 0, 0, 0, 0, 0, 0, 0, 0, 0, 60, 60, 60, 60, 60]\u001b[0m \u001b[31m60\u001b[0m \u001b[36m[0, 0, 0, 0, 0, 0, 0, 0, 0, 0, 0, 0, 0, 0, 0, 0, 0, 0, 0, 0, 0, 0, 0, 0, 0, 0, 0, 0, 0, 0, 0, 0, 0, 0]\u001b[0m\n",
            "\u001b[35m\n",
            "índices: 3, 17\n",
            "Se pregunta si el valor del arreglo de precios es menor a 17\u001b[0m\n",
            "\u001b[36mComo no se cumple, se guarda el valor: 60, de modo que el sub-arreglo 3 queda como: \n",
            "\u001b[0m\n",
            "\u001b[36m[0, 0, 0, 0, 0, 0, 0, 0, 0, 0, 60, 60, 60, 60, 60, 60]\u001b[0m \u001b[31m60\u001b[0m \u001b[36m[0, 0, 0, 0, 0, 0, 0, 0, 0, 0, 0, 0, 0, 0, 0, 0, 0, 0, 0, 0, 0, 0, 0, 0, 0, 0, 0, 0, 0, 0, 0, 0, 0]\u001b[0m\n",
            "\u001b[35m\n",
            "índices: 3, 18\n",
            "Se pregunta si el valor del arreglo de precios es menor a 18\u001b[0m\n",
            "\u001b[36mComo no se cumple, se guarda el valor: 60, de modo que el sub-arreglo 3 queda como: \n",
            "\u001b[0m\n",
            "\u001b[36m[0, 0, 0, 0, 0, 0, 0, 0, 0, 0, 60, 60, 60, 60, 60, 60, 60]\u001b[0m \u001b[31m60\u001b[0m \u001b[36m[0, 0, 0, 0, 0, 0, 0, 0, 0, 0, 0, 0, 0, 0, 0, 0, 0, 0, 0, 0, 0, 0, 0, 0, 0, 0, 0, 0, 0, 0, 0, 0]\u001b[0m\n",
            "\u001b[35m\n",
            "índices: 3, 19\n",
            "Se pregunta si el valor del arreglo de precios es menor a 19\u001b[0m\n",
            "\u001b[36mComo no se cumple, se guarda el valor: 60, de modo que el sub-arreglo 3 queda como: \n",
            "\u001b[0m\n",
            "\u001b[36m[0, 0, 0, 0, 0, 0, 0, 0, 0, 0, 60, 60, 60, 60, 60, 60, 60, 60]\u001b[0m \u001b[31m60\u001b[0m \u001b[36m[0, 0, 0, 0, 0, 0, 0, 0, 0, 0, 0, 0, 0, 0, 0, 0, 0, 0, 0, 0, 0, 0, 0, 0, 0, 0, 0, 0, 0, 0, 0]\u001b[0m\n",
            "\u001b[35m\n",
            "índices: 3, 20\n",
            "Se pregunta si el valor del arreglo de precios es menor a 20\u001b[0m\n",
            "\u001b[36mComo no se cumple, se guarda el valor: 100, de modo que el sub-arreglo 3 queda como: \n",
            "\u001b[0m\n",
            "\u001b[36m[0, 0, 0, 0, 0, 0, 0, 0, 0, 0, 60, 60, 60, 60, 60, 60, 60, 60, 60]\u001b[0m \u001b[31m100\u001b[0m \u001b[36m[0, 0, 0, 0, 0, 0, 0, 0, 0, 0, 0, 0, 0, 0, 0, 0, 0, 0, 0, 0, 0, 0, 0, 0, 0, 0, 0, 0, 0, 0]\u001b[0m\n",
            "\u001b[35m\n",
            "índices: 3, 21\n",
            "Se pregunta si el valor del arreglo de precios es menor a 21\u001b[0m\n",
            "\u001b[36mComo no se cumple, se guarda el valor: 100, de modo que el sub-arreglo 3 queda como: \n",
            "\u001b[0m\n",
            "\u001b[36m[0, 0, 0, 0, 0, 0, 0, 0, 0, 0, 60, 60, 60, 60, 60, 60, 60, 60, 60, 60]\u001b[0m \u001b[31m100\u001b[0m \u001b[36m[0, 0, 0, 0, 0, 0, 0, 0, 0, 0, 0, 0, 0, 0, 0, 0, 0, 0, 0, 0, 0, 0, 0, 0, 0, 0, 0, 0, 0]\u001b[0m\n",
            "\u001b[35m\n",
            "índices: 3, 22\n",
            "Se pregunta si el valor del arreglo de precios es menor a 22\u001b[0m\n",
            "\u001b[36mComo no se cumple, se guarda el valor: 100, de modo que el sub-arreglo 3 queda como: \n",
            "\u001b[0m\n",
            "\u001b[36m[0, 0, 0, 0, 0, 0, 0, 0, 0, 0, 60, 60, 60, 60, 60, 60, 60, 60, 60, 60, 100]\u001b[0m \u001b[31m100\u001b[0m \u001b[36m[0, 0, 0, 0, 0, 0, 0, 0, 0, 0, 0, 0, 0, 0, 0, 0, 0, 0, 0, 0, 0, 0, 0, 0, 0, 0, 0, 0]\u001b[0m\n",
            "\u001b[35m\n",
            "índices: 3, 23\n",
            "Se pregunta si el valor del arreglo de precios es menor a 23\u001b[0m\n",
            "\u001b[36mComo no se cumple, se guarda el valor: 100, de modo que el sub-arreglo 3 queda como: \n",
            "\u001b[0m\n",
            "\u001b[36m[0, 0, 0, 0, 0, 0, 0, 0, 0, 0, 60, 60, 60, 60, 60, 60, 60, 60, 60, 60, 100, 100]\u001b[0m \u001b[31m100\u001b[0m \u001b[36m[0, 0, 0, 0, 0, 0, 0, 0, 0, 0, 0, 0, 0, 0, 0, 0, 0, 0, 0, 0, 0, 0, 0, 0, 0, 0, 0]\u001b[0m\n",
            "\u001b[35m\n",
            "índices: 3, 24\n",
            "Se pregunta si el valor del arreglo de precios es menor a 24\u001b[0m\n",
            "\u001b[36mComo no se cumple, se guarda el valor: 100, de modo que el sub-arreglo 3 queda como: \n",
            "\u001b[0m\n",
            "\u001b[36m[0, 0, 0, 0, 0, 0, 0, 0, 0, 0, 60, 60, 60, 60, 60, 60, 60, 60, 60, 60, 100, 100, 100]\u001b[0m \u001b[31m100\u001b[0m \u001b[36m[0, 0, 0, 0, 0, 0, 0, 0, 0, 0, 0, 0, 0, 0, 0, 0, 0, 0, 0, 0, 0, 0, 0, 0, 0, 0]\u001b[0m\n",
            "\u001b[35m\n",
            "índices: 3, 25\n",
            "Se pregunta si el valor del arreglo de precios es menor a 25\u001b[0m\n",
            "\u001b[36mComo no se cumple, se guarda el valor: 100, de modo que el sub-arreglo 3 queda como: \n",
            "\u001b[0m\n",
            "\u001b[36m[0, 0, 0, 0, 0, 0, 0, 0, 0, 0, 60, 60, 60, 60, 60, 60, 60, 60, 60, 60, 100, 100, 100, 100]\u001b[0m \u001b[31m100\u001b[0m \u001b[36m[0, 0, 0, 0, 0, 0, 0, 0, 0, 0, 0, 0, 0, 0, 0, 0, 0, 0, 0, 0, 0, 0, 0, 0, 0]\u001b[0m\n",
            "\u001b[35m\n",
            "índices: 3, 26\n",
            "Se pregunta si el valor del arreglo de precios es menor a 26\u001b[0m\n",
            "\u001b[36mComo no se cumple, se guarda el valor: 100, de modo que el sub-arreglo 3 queda como: \n",
            "\u001b[0m\n",
            "\u001b[36m[0, 0, 0, 0, 0, 0, 0, 0, 0, 0, 60, 60, 60, 60, 60, 60, 60, 60, 60, 60, 100, 100, 100, 100, 100]\u001b[0m \u001b[31m100\u001b[0m \u001b[36m[0, 0, 0, 0, 0, 0, 0, 0, 0, 0, 0, 0, 0, 0, 0, 0, 0, 0, 0, 0, 0, 0, 0, 0]\u001b[0m\n",
            "\u001b[35m\n",
            "índices: 3, 27\n",
            "Se pregunta si el valor del arreglo de precios es menor a 27\u001b[0m\n",
            "\u001b[36mComo no se cumple, se guarda el valor: 100, de modo que el sub-arreglo 3 queda como: \n",
            "\u001b[0m\n",
            "\u001b[36m[0, 0, 0, 0, 0, 0, 0, 0, 0, 0, 60, 60, 60, 60, 60, 60, 60, 60, 60, 60, 100, 100, 100, 100, 100, 100]\u001b[0m \u001b[31m100\u001b[0m \u001b[36m[0, 0, 0, 0, 0, 0, 0, 0, 0, 0, 0, 0, 0, 0, 0, 0, 0, 0, 0, 0, 0, 0, 0]\u001b[0m\n",
            "\u001b[35m\n",
            "índices: 3, 28\n",
            "Se pregunta si el valor del arreglo de precios es menor a 28\u001b[0m\n",
            "\u001b[36mComo no se cumple, se guarda el valor: 100, de modo que el sub-arreglo 3 queda como: \n",
            "\u001b[0m\n",
            "\u001b[36m[0, 0, 0, 0, 0, 0, 0, 0, 0, 0, 60, 60, 60, 60, 60, 60, 60, 60, 60, 60, 100, 100, 100, 100, 100, 100, 100]\u001b[0m \u001b[31m100\u001b[0m \u001b[36m[0, 0, 0, 0, 0, 0, 0, 0, 0, 0, 0, 0, 0, 0, 0, 0, 0, 0, 0, 0, 0, 0]\u001b[0m\n",
            "\u001b[35m\n",
            "índices: 3, 29\n",
            "Se pregunta si el valor del arreglo de precios es menor a 29\u001b[0m\n",
            "\u001b[36mComo no se cumple, se guarda el valor: 100, de modo que el sub-arreglo 3 queda como: \n",
            "\u001b[0m\n",
            "\u001b[36m[0, 0, 0, 0, 0, 0, 0, 0, 0, 0, 60, 60, 60, 60, 60, 60, 60, 60, 60, 60, 100, 100, 100, 100, 100, 100, 100, 100]\u001b[0m \u001b[31m100\u001b[0m \u001b[36m[0, 0, 0, 0, 0, 0, 0, 0, 0, 0, 0, 0, 0, 0, 0, 0, 0, 0, 0, 0, 0]\u001b[0m\n",
            "\u001b[35m\n",
            "índices: 3, 30\n",
            "Se pregunta si el valor del arreglo de precios es menor a 30\u001b[0m\n",
            "\u001b[32mComo se cumple, se guarda el valor máximo entre 120 y 160\u001b[0m\n",
            "\u001b[32m[0, 0, 0, 0, 0, 0, 0, 0, 0, 0, 60, 60, 60, 60, 60, 60, 60, 60, 60, 60, 100, 100, 100, 100, 100, 100, 100, 100, 100]\u001b[0m \u001b[31m160\u001b[0m \u001b[32m[0, 0, 0, 0, 0, 0, 0, 0, 0, 0, 0, 0, 0, 0, 0, 0, 0, 0, 0, 0]\u001b[0m\n",
            "\u001b[35m\n",
            "índices: 3, 31\n",
            "Se pregunta si el valor del arreglo de precios es menor a 31\u001b[0m\n",
            "\u001b[32mComo se cumple, se guarda el valor máximo entre 120 y 160\u001b[0m\n",
            "\u001b[32m[0, 0, 0, 0, 0, 0, 0, 0, 0, 0, 60, 60, 60, 60, 60, 60, 60, 60, 60, 60, 100, 100, 100, 100, 100, 100, 100, 100, 100, 100]\u001b[0m \u001b[31m160\u001b[0m \u001b[32m[0, 0, 0, 0, 0, 0, 0, 0, 0, 0, 0, 0, 0, 0, 0, 0, 0, 0, 0]\u001b[0m\n",
            "\u001b[35m\n",
            "índices: 3, 32\n",
            "Se pregunta si el valor del arreglo de precios es menor a 32\u001b[0m\n",
            "\u001b[32mComo se cumple, se guarda el valor máximo entre 120 y 160\u001b[0m\n",
            "\u001b[32m[0, 0, 0, 0, 0, 0, 0, 0, 0, 0, 60, 60, 60, 60, 60, 60, 60, 60, 60, 60, 100, 100, 100, 100, 100, 100, 100, 100, 100, 100, 160]\u001b[0m \u001b[31m160\u001b[0m \u001b[32m[0, 0, 0, 0, 0, 0, 0, 0, 0, 0, 0, 0, 0, 0, 0, 0, 0, 0]\u001b[0m\n",
            "\u001b[35m\n",
            "índices: 3, 33\n",
            "Se pregunta si el valor del arreglo de precios es menor a 33\u001b[0m\n",
            "\u001b[32mComo se cumple, se guarda el valor máximo entre 120 y 160\u001b[0m\n",
            "\u001b[32m[0, 0, 0, 0, 0, 0, 0, 0, 0, 0, 60, 60, 60, 60, 60, 60, 60, 60, 60, 60, 100, 100, 100, 100, 100, 100, 100, 100, 100, 100, 160, 160]\u001b[0m \u001b[31m160\u001b[0m \u001b[32m[0, 0, 0, 0, 0, 0, 0, 0, 0, 0, 0, 0, 0, 0, 0, 0, 0]\u001b[0m\n",
            "\u001b[35m\n",
            "índices: 3, 34\n",
            "Se pregunta si el valor del arreglo de precios es menor a 34\u001b[0m\n",
            "\u001b[32mComo se cumple, se guarda el valor máximo entre 120 y 160\u001b[0m\n",
            "\u001b[32m[0, 0, 0, 0, 0, 0, 0, 0, 0, 0, 60, 60, 60, 60, 60, 60, 60, 60, 60, 60, 100, 100, 100, 100, 100, 100, 100, 100, 100, 100, 160, 160, 160]\u001b[0m \u001b[31m160\u001b[0m \u001b[32m[0, 0, 0, 0, 0, 0, 0, 0, 0, 0, 0, 0, 0, 0, 0, 0]\u001b[0m\n",
            "\u001b[35m\n",
            "índices: 3, 35\n",
            "Se pregunta si el valor del arreglo de precios es menor a 35\u001b[0m\n",
            "\u001b[32mComo se cumple, se guarda el valor máximo entre 120 y 160\u001b[0m\n",
            "\u001b[32m[0, 0, 0, 0, 0, 0, 0, 0, 0, 0, 60, 60, 60, 60, 60, 60, 60, 60, 60, 60, 100, 100, 100, 100, 100, 100, 100, 100, 100, 100, 160, 160, 160, 160]\u001b[0m \u001b[31m160\u001b[0m \u001b[32m[0, 0, 0, 0, 0, 0, 0, 0, 0, 0, 0, 0, 0, 0, 0]\u001b[0m\n",
            "\u001b[35m\n",
            "índices: 3, 36\n",
            "Se pregunta si el valor del arreglo de precios es menor a 36\u001b[0m\n",
            "\u001b[32mComo se cumple, se guarda el valor máximo entre 120 y 160\u001b[0m\n",
            "\u001b[32m[0, 0, 0, 0, 0, 0, 0, 0, 0, 0, 60, 60, 60, 60, 60, 60, 60, 60, 60, 60, 100, 100, 100, 100, 100, 100, 100, 100, 100, 100, 160, 160, 160, 160, 160]\u001b[0m \u001b[31m160\u001b[0m \u001b[32m[0, 0, 0, 0, 0, 0, 0, 0, 0, 0, 0, 0, 0, 0]\u001b[0m\n",
            "\u001b[35m\n",
            "índices: 3, 37\n",
            "Se pregunta si el valor del arreglo de precios es menor a 37\u001b[0m\n",
            "\u001b[32mComo se cumple, se guarda el valor máximo entre 120 y 160\u001b[0m\n",
            "\u001b[32m[0, 0, 0, 0, 0, 0, 0, 0, 0, 0, 60, 60, 60, 60, 60, 60, 60, 60, 60, 60, 100, 100, 100, 100, 100, 100, 100, 100, 100, 100, 160, 160, 160, 160, 160, 160]\u001b[0m \u001b[31m160\u001b[0m \u001b[32m[0, 0, 0, 0, 0, 0, 0, 0, 0, 0, 0, 0, 0]\u001b[0m\n",
            "\u001b[35m\n",
            "índices: 3, 38\n",
            "Se pregunta si el valor del arreglo de precios es menor a 38\u001b[0m\n",
            "\u001b[32mComo se cumple, se guarda el valor máximo entre 120 y 160\u001b[0m\n",
            "\u001b[32m[0, 0, 0, 0, 0, 0, 0, 0, 0, 0, 60, 60, 60, 60, 60, 60, 60, 60, 60, 60, 100, 100, 100, 100, 100, 100, 100, 100, 100, 100, 160, 160, 160, 160, 160, 160, 160]\u001b[0m \u001b[31m160\u001b[0m \u001b[32m[0, 0, 0, 0, 0, 0, 0, 0, 0, 0, 0, 0]\u001b[0m\n",
            "\u001b[35m\n",
            "índices: 3, 39\n",
            "Se pregunta si el valor del arreglo de precios es menor a 39\u001b[0m\n",
            "\u001b[32mComo se cumple, se guarda el valor máximo entre 120 y 160\u001b[0m\n",
            "\u001b[32m[0, 0, 0, 0, 0, 0, 0, 0, 0, 0, 60, 60, 60, 60, 60, 60, 60, 60, 60, 60, 100, 100, 100, 100, 100, 100, 100, 100, 100, 100, 160, 160, 160, 160, 160, 160, 160, 160]\u001b[0m \u001b[31m160\u001b[0m \u001b[32m[0, 0, 0, 0, 0, 0, 0, 0, 0, 0, 0]\u001b[0m\n",
            "\u001b[35m\n",
            "índices: 3, 40\n",
            "Se pregunta si el valor del arreglo de precios es menor a 40\u001b[0m\n",
            "\u001b[32mComo se cumple, se guarda el valor máximo entre 180 y 160\u001b[0m\n",
            "\u001b[32m[0, 0, 0, 0, 0, 0, 0, 0, 0, 0, 60, 60, 60, 60, 60, 60, 60, 60, 60, 60, 100, 100, 100, 100, 100, 100, 100, 100, 100, 100, 160, 160, 160, 160, 160, 160, 160, 160, 160]\u001b[0m \u001b[31m180\u001b[0m \u001b[32m[0, 0, 0, 0, 0, 0, 0, 0, 0, 0]\u001b[0m\n",
            "\u001b[35m\n",
            "índices: 3, 41\n",
            "Se pregunta si el valor del arreglo de precios es menor a 41\u001b[0m\n",
            "\u001b[32mComo se cumple, se guarda el valor máximo entre 180 y 160\u001b[0m\n",
            "\u001b[32m[0, 0, 0, 0, 0, 0, 0, 0, 0, 0, 60, 60, 60, 60, 60, 60, 60, 60, 60, 60, 100, 100, 100, 100, 100, 100, 100, 100, 100, 100, 160, 160, 160, 160, 160, 160, 160, 160, 160, 160]\u001b[0m \u001b[31m180\u001b[0m \u001b[32m[0, 0, 0, 0, 0, 0, 0, 0, 0]\u001b[0m\n",
            "\u001b[35m\n",
            "índices: 3, 42\n",
            "Se pregunta si el valor del arreglo de precios es menor a 42\u001b[0m\n",
            "\u001b[32mComo se cumple, se guarda el valor máximo entre 180 y 160\u001b[0m\n",
            "\u001b[32m[0, 0, 0, 0, 0, 0, 0, 0, 0, 0, 60, 60, 60, 60, 60, 60, 60, 60, 60, 60, 100, 100, 100, 100, 100, 100, 100, 100, 100, 100, 160, 160, 160, 160, 160, 160, 160, 160, 160, 160, 180]\u001b[0m \u001b[31m180\u001b[0m \u001b[32m[0, 0, 0, 0, 0, 0, 0, 0]\u001b[0m\n",
            "\u001b[35m\n",
            "índices: 3, 43\n",
            "Se pregunta si el valor del arreglo de precios es menor a 43\u001b[0m\n",
            "\u001b[32mComo se cumple, se guarda el valor máximo entre 180 y 160\u001b[0m\n",
            "\u001b[32m[0, 0, 0, 0, 0, 0, 0, 0, 0, 0, 60, 60, 60, 60, 60, 60, 60, 60, 60, 60, 100, 100, 100, 100, 100, 100, 100, 100, 100, 100, 160, 160, 160, 160, 160, 160, 160, 160, 160, 160, 180, 180]\u001b[0m \u001b[31m180\u001b[0m \u001b[32m[0, 0, 0, 0, 0, 0, 0]\u001b[0m\n",
            "\u001b[35m\n",
            "índices: 3, 44\n",
            "Se pregunta si el valor del arreglo de precios es menor a 44\u001b[0m\n",
            "\u001b[32mComo se cumple, se guarda el valor máximo entre 180 y 160\u001b[0m\n",
            "\u001b[32m[0, 0, 0, 0, 0, 0, 0, 0, 0, 0, 60, 60, 60, 60, 60, 60, 60, 60, 60, 60, 100, 100, 100, 100, 100, 100, 100, 100, 100, 100, 160, 160, 160, 160, 160, 160, 160, 160, 160, 160, 180, 180, 180]\u001b[0m \u001b[31m180\u001b[0m \u001b[32m[0, 0, 0, 0, 0, 0]\u001b[0m\n",
            "\u001b[35m\n",
            "índices: 3, 45\n",
            "Se pregunta si el valor del arreglo de precios es menor a 45\u001b[0m\n",
            "\u001b[32mComo se cumple, se guarda el valor máximo entre 180 y 160\u001b[0m\n",
            "\u001b[32m[0, 0, 0, 0, 0, 0, 0, 0, 0, 0, 60, 60, 60, 60, 60, 60, 60, 60, 60, 60, 100, 100, 100, 100, 100, 100, 100, 100, 100, 100, 160, 160, 160, 160, 160, 160, 160, 160, 160, 160, 180, 180, 180, 180]\u001b[0m \u001b[31m180\u001b[0m \u001b[32m[0, 0, 0, 0, 0]\u001b[0m\n",
            "\u001b[35m\n",
            "índices: 3, 46\n",
            "Se pregunta si el valor del arreglo de precios es menor a 46\u001b[0m\n",
            "\u001b[32mComo se cumple, se guarda el valor máximo entre 180 y 160\u001b[0m\n",
            "\u001b[32m[0, 0, 0, 0, 0, 0, 0, 0, 0, 0, 60, 60, 60, 60, 60, 60, 60, 60, 60, 60, 100, 100, 100, 100, 100, 100, 100, 100, 100, 100, 160, 160, 160, 160, 160, 160, 160, 160, 160, 160, 180, 180, 180, 180, 180]\u001b[0m \u001b[31m180\u001b[0m \u001b[32m[0, 0, 0, 0]\u001b[0m\n",
            "\u001b[35m\n",
            "índices: 3, 47\n",
            "Se pregunta si el valor del arreglo de precios es menor a 47\u001b[0m\n",
            "\u001b[32mComo se cumple, se guarda el valor máximo entre 180 y 160\u001b[0m\n",
            "\u001b[32m[0, 0, 0, 0, 0, 0, 0, 0, 0, 0, 60, 60, 60, 60, 60, 60, 60, 60, 60, 60, 100, 100, 100, 100, 100, 100, 100, 100, 100, 100, 160, 160, 160, 160, 160, 160, 160, 160, 160, 160, 180, 180, 180, 180, 180, 180]\u001b[0m \u001b[31m180\u001b[0m \u001b[32m[0, 0, 0]\u001b[0m\n",
            "\u001b[35m\n",
            "índices: 3, 48\n",
            "Se pregunta si el valor del arreglo de precios es menor a 48\u001b[0m\n",
            "\u001b[32mComo se cumple, se guarda el valor máximo entre 180 y 160\u001b[0m\n",
            "\u001b[32m[0, 0, 0, 0, 0, 0, 0, 0, 0, 0, 60, 60, 60, 60, 60, 60, 60, 60, 60, 60, 100, 100, 100, 100, 100, 100, 100, 100, 100, 100, 160, 160, 160, 160, 160, 160, 160, 160, 160, 160, 180, 180, 180, 180, 180, 180, 180]\u001b[0m \u001b[31m180\u001b[0m \u001b[32m[0, 0]\u001b[0m\n",
            "\u001b[35m\n",
            "índices: 3, 49\n",
            "Se pregunta si el valor del arreglo de precios es menor a 49\u001b[0m\n",
            "\u001b[32mComo se cumple, se guarda el valor máximo entre 180 y 160\u001b[0m\n",
            "\u001b[32m[0, 0, 0, 0, 0, 0, 0, 0, 0, 0, 60, 60, 60, 60, 60, 60, 60, 60, 60, 60, 100, 100, 100, 100, 100, 100, 100, 100, 100, 100, 160, 160, 160, 160, 160, 160, 160, 160, 160, 160, 180, 180, 180, 180, 180, 180, 180, 180]\u001b[0m \u001b[31m180\u001b[0m \u001b[32m[0]\u001b[0m\n",
            "\u001b[35m\n",
            "índices: 3, 50\n",
            "Se pregunta si el valor del arreglo de precios es menor a 50\u001b[0m\n",
            "\u001b[32mComo se cumple, se guarda el valor máximo entre 220 y 160\u001b[0m\n",
            "\u001b[32m[0, 0, 0, 0, 0, 0, 0, 0, 0, 0, 60, 60, 60, 60, 60, 60, 60, 60, 60, 60, 100, 100, 100, 100, 100, 100, 100, 100, 100, 100, 160, 160, 160, 160, 160, 160, 160, 160, 160, 160, 180, 180, 180, 180, 180, 180, 180, 180, 180]\u001b[0m \u001b[31m220\u001b[0m \u001b[32m[]\u001b[0m\n"
          ]
        },
        {
          "output_type": "execute_result",
          "data": {
            "text/plain": [
              "220"
            ]
          },
          "metadata": {},
          "execution_count": 33
        }
      ]
    },
    {
      "cell_type": "markdown",
      "source": [
        "###Greedy"
      ],
      "metadata": {
        "id": "o1iv7ugwkP5E"
      }
    },
    {
      "cell_type": "code",
      "source": [
        "precios = [60, 100, 120]\n",
        "pesos =   [10, 20, 30]\n",
        "pesoTotal = 50\n",
        "cont=[0]\n",
        "largo = len(precios)\n",
        "greedy(pesoTotal, pesos, precios, largo, cont, verbose=True)"
      ],
      "metadata": {
        "colab": {
          "base_uri": "https://localhost:8080/"
        },
        "id": "rPfVFzvIjxld",
        "outputId": "6900240f-9333-4d03-b701-d68e86bebac3"
      },
      "execution_count": 32,
      "outputs": [
        {
          "output_type": "stream",
          "name": "stdout",
          "text": [
            "\u001b[35m\n",
            "Se pregunta si 60/10 > 0, y que 10+0 <= 50\u001b[0m\n",
            "\u001b[32mComo la condición se cumple, el valor máximo se actualiza de: 0 a 6.0\n",
            "Y se actualiza el índice máximo al índice actual\u001b[0m\n",
            "\u001b[35m\n",
            "Se pregunta si 100/20 > 0, y que 20+0 <= 50\u001b[0m\n",
            "\u001b[32mComo la condición se cumple, el valor máximo se actualiza de: 0 a 5.0\n",
            "Y se actualiza el índice máximo al índice actual\u001b[0m\n",
            "\u001b[35m\n",
            "Se pregunta si 120/30 > 0, y que 30+0 <= 50\u001b[0m\n",
            "\u001b[32mComo la condición se cumple, el valor máximo se actualiza de: 0 a 4.0\n",
            "Y se actualiza el índice máximo al índice actual\u001b[0m\n",
            "\u001b[36m\n",
            "Luego de verificar la vuelta anterior, se actualizan los valores de modo que:\u001b[0m\n",
            "\u001b[32mPesoAuxiliar: 0 += 30\u001b[0m\n",
            "\u001b[32mTotal: 0 += 120\u001b[0m\n",
            "\u001b[34mY el limite se reduce en 1: 3 -= 1\u001b[0m\n",
            "\u001b[35m\n",
            "Se pregunta si 60/10 > 0, y que 10+30 <= 50\u001b[0m\n",
            "\u001b[32mComo la condición se cumple, el valor máximo se actualiza de: 0 a 6.0\n",
            "Y se actualiza el índice máximo al índice actual\u001b[0m\n",
            "\u001b[35m\n",
            "Se pregunta si 100/20 > 0, y que 20+30 <= 50\u001b[0m\n",
            "\u001b[32mComo la condición se cumple, el valor máximo se actualiza de: 0 a 5.0\n",
            "Y se actualiza el índice máximo al índice actual\u001b[0m\n",
            "\u001b[36m\n",
            "Luego de verificar la vuelta anterior, se actualizan los valores de modo que:\u001b[0m\n",
            "\u001b[32mPesoAuxiliar: 30 += 20\u001b[0m\n",
            "\u001b[32mTotal: 120 += 100\u001b[0m\n",
            "\u001b[34mY el limite se reduce en 1: 2 -= 1\u001b[0m\n",
            "\u001b[35m\n",
            "Se pregunta si 60/10 > 0, y que 10+50 <= 50\u001b[0m\n",
            "\u001b[33mLa condición no se cumple, por lo que sigue ocn la siguiente iteración\u001b[0m\n",
            "\u001b[32m\n",
            "Se obtuvo \u001b[0m \u001b[34m220\u001b[0m \u001b[32m como valor máximo\u001b[0m\n"
          ]
        },
        {
          "output_type": "execute_result",
          "data": {
            "text/plain": [
              "220"
            ]
          },
          "metadata": {},
          "execution_count": 32
        }
      ]
    },
    {
      "cell_type": "markdown",
      "source": [
        "##Explicado"
      ],
      "metadata": {
        "id": "zam6NkoLjqhg"
      }
    },
    {
      "cell_type": "markdown",
      "source": [
        "Se considerarán las siguientes tablas de valores y pesos correspondientemente:\n",
        "\n",
        "$valores=[60,100,120] $\n",
        "\n",
        "$pesos=[10,20,30]$\n",
        "\n",
        "\n",
        ">Capacidad de la mochila $50$\n",
        "\n",
        "    Valor de los elementos restantes: $[60, 100, 120]$\n",
        "\n",
        "    Peso de los elementos restantes: $[10, 20, 30]$\n",
        "\n",
        "Ingresado elemento con valor $60$ y peso $10$\n",
        "\n",
        ">Peso en la mochila $10$\n",
        "\n",
        ">Capacidad restante en la mochila $40$\n",
        "\n",
        "Valor de los elementos en la mochila: $60$\n",
        "\n",
        "    Valor de los elementos restantes: $[100, 120]$\n",
        "\n",
        "    Peso de los elementos restantes: $[20, 30]$\n",
        "\n",
        "Ingresado elemento con valor $100$ y peso $20$\n",
        "\n",
        ">Peso en la mochila $30$\n",
        "\n",
        ">Capacidad restante en la mochila $20$\n",
        "\n",
        "Valor de los elementos en la mochila: $160$\n",
        "\n",
        "    No hay más elementos que puedan entrar en la mochila\n",
        "\n",
        "Maxima ganancia obtenible: $160$\n",
        "\n",
        "Iteraciones totales: $9$"
      ],
      "metadata": {
        "id": "LzqC8ZTDkYxd"
      }
    },
    {
      "cell_type": "markdown",
      "source": [
        "#Correctitud\n"
      ],
      "metadata": {
        "id": "HggKN1i66wA4"
      }
    },
    {
      "cell_type": "markdown",
      "source": [
        "##Correctitud Dinámico"
      ],
      "metadata": {
        "id": "Kokr4mVkZIn2"
      }
    },
    {
      "cell_type": "markdown",
      "source": [
        "\n",
        "\n",
        "###Teorema\n",
        "\n",
        "El algoritmo retorna la mayor ganancia de una mochila con capacidad $W$ utilizando $n$ elementos con sus respectivos pesos y valores.\n",
        "\n",
        "###Prueba del Teorema\n",
        "\n",
        "Para corroborar el teorema utilizaremos la siguiente propiedad invariante de bucle:\n",
        "> En cada iteración $i$ correspondiente al bucle mayor, se guardará el máximo precio del sub-problema actual. \n",
        "\n",
        "####Inicialización\n",
        "\n",
        "En la primera iteración $i = 1$, se tendran los valores para cada $w$, al intentar el valor anterior $i-1=0$. Como ese elemento no existe, tiene un peso y un valor predeterminado ($0$), los cuales son agregados a la mochila, pero sin modificar ni el valor total ni el peso de la misma, por lo que podemos decir que es correcto.\n",
        "\n",
        "####Mantención\n",
        "\n",
        "Asumiendo que al comienzo de cada iteración se cumple la propiedad. Es decir, al agregar un elemento $i$ se obtiene un valor óptimo, por lo que tendremos este valor para cada peso al agregar los elementos $i = i-1$.\n",
        "\n",
        "    Considerando que $x = i$, con $x<n$.\n",
        "\n",
        "Dentro del bucle menor ($0\\leq j\\leq W$), se obtiene el valor máximo del sub-problema donde se agrega un elemento $x$ con un peso $w$, el cual la mochila es capaz de soportar.\n",
        "\n",
        "Si la mochila no es capaz de soportar ese peso, el valor óptimo es el que se tenia en el elemento $x-1$.\n",
        "\n",
        "Si $x$ posee un peso que la mochila puede soportar, se compararan los siguientes punto:\n",
        "\n",
        "    El valor máximo actual con el peso que tenia hasta $x-1$\n",
        "\n",
        "    EL precio de $x$ sumado al valor óptimo de una mochila que soporte el peso de $x$\n",
        "\n",
        "El que resulte mayor se guardará como el valor óptimo para la mochila en la iteración $j$ al intentar guardar el elemento $x$ en el bucle mayor.\n",
        "\n",
        "Con los resultados del bucle menor, se calcula el valor para la mochila con peso $w \\leq W$ en la iteración $i$. Este sería el valor óptimo del problema con $x = n$.\n",
        "\n",
        "    Finalizando la iteración $i=x$ se seguirá cumpliendo la propiedad.\n",
        "\n",
        "\n",
        "###Correctitud\n",
        "\n",
        "Como la propiedad es correcta podemos decir que al finalizar la k-ésima iteración del bucle mayor, se tendrá el valor máximo de una mochila que aguanta un peso de $W$, al intentar agregarle $n$ elementos."
      ],
      "metadata": {
        "id": "YG_St5wX6y3-"
      }
    },
    {
      "cell_type": "markdown",
      "source": [
        "##Correctitud Greedy"
      ],
      "metadata": {
        "id": "WzzvhruzRlwM"
      }
    },
    {
      "cell_type": "markdown",
      "source": [
        "Para ahorrarnos varios pasos, esta implementación de greedy no es óptima, por lo que se puede decir que no es correcta, ya no retornará el valor óptimo, debido principalmente a que toma una decisión casi arbitraría, ya que solo considerá \"lo mejor\" en ese momento, es decir elige el valor mayor en el momento, sobre las posibles mejores soluciones, por lo que generalmente la mochila se llena antes de conseguir el valor máximo entre sus posibilidades"
      ],
      "metadata": {
        "id": "aABJeQw0RtAx"
      }
    },
    {
      "cell_type": "markdown",
      "source": [
        "#Tiempos de ejecución"
      ],
      "metadata": {
        "id": "0SnM1TsWUIrV"
      }
    },
    {
      "cell_type": "markdown",
      "source": [
        "##Tiempo del algoritmo dinámico\n",
        "\n"
      ],
      "metadata": {
        "id": "RmMjCUc0UKyc"
      }
    },
    {
      "cell_type": "markdown",
      "source": [
        "La implementación de este algoritmo crea una matriz $n*W$, donde $n$ son los elementos que se pueden guardar, y $W$ siendo el peso total que soporta la mochila.\n",
        "\n",
        "El bucle menor guarda el valor óptimo para los pesos posibles, consiguiendo el valor máximo de cada uno de estos al agregar un elemento. Esta operación tiene un tiempo total de $O(W)$.\n",
        "\n",
        "Para obtener el valor óptimo en el peso pedido se deben de resolver los problemas que conlleva agregar cada elemento. Lo que significa que se tienen que resolver $W$ sub-problemas al agregar cada elemento, ya que calcula cada valor óptima para las combinación de pesos. Es decir que que resuelve $(n-1)*W$ sub-problemas antes del final.\n",
        "\n",
        "En resumidad cuentas, el algoritmo intenta resolver $n$ veces un problema que tiene un tiempo de $O(W)$, por esto esta implementación del algoritmo dinámico posee un tiempo total de $O(n*W)$."
      ],
      "metadata": {
        "id": "5bOFWSq2UPq-"
      }
    },
    {
      "cell_type": "markdown",
      "source": [
        "##Tiempo del algoritmo Greedy\n",
        "\n"
      ],
      "metadata": {
        "id": "IlNt3-4sZCsL"
      }
    },
    {
      "cell_type": "markdown",
      "source": [
        "El tiempo de ejecución de esta implementación de greedy es de $O(n)$ en su caso promedio, este es debido a que el algoritmo realiza $n$ iteraciones, con cada iteración siguiente teniendo que realizar $n-1$ iteraciones, sin embargo, esto solo realiza cambios a su consante multiplicativa por lo que es una variación descartable, por lo que el algoritmo seguirá teniendo su tiempo de ejecución como $O(n)$."
      ],
      "metadata": {
        "id": "dt492jrqdr9_"
      }
    },
    {
      "cell_type": "markdown",
      "source": [
        "#Experimentación"
      ],
      "metadata": {
        "id": "J38A2pD1ejBi"
      }
    },
    {
      "cell_type": "code",
      "source": [
        "import matplotlib.pyplot as plt\n",
        "import datetime\n",
        "from timeit import repeat\n",
        "\n",
        "import random\n",
        "\n",
        "def knapsack_instance_generator(N):\n",
        "  val = []\n",
        "  wt = []\n",
        "  prev_v = 0\n",
        "  prev_w = 0\n",
        "  for i in range(N):\n",
        "    v = random.randint(1, 100)\n",
        "    val.append(prev_v + v)\n",
        "    prev_v += v\n",
        "    \n",
        "    w = random.randint(1, 10)\n",
        "    wt.append(prev_w + w)\n",
        "    if (v >= 50):\n",
        "        prev_w += w\n",
        "\n",
        "  W = int(sum(wt) / 2)\n",
        "  return W, val, wt\n",
        "\n",
        "x=[]; y=[]; x2=[]; y2=[]\n",
        "\n",
        "for n in range(5,50):\n",
        "  W, val, wt = knapsack_instance_generator(n)\n",
        "  cont = [0]\n",
        "\n",
        "  t = repeat(setup=\"from __main__ import greedy\", stmt=f\"greedy({W},{wt},{val},{len(val)},{cont})\", repeat=1, number=10)\n",
        "  t2 = repeat(setup=\"from __main__ import mochilaDina\", stmt=f\"mochilaDina({W},{wt},{val},{len(val)},{cont})\", repeat=1, number=10)\n",
        "\n",
        "  x.append(n)\n",
        "  y.append(t)\n",
        "\n",
        "  x2.append(n)\n",
        "  y2.append(t2)\n",
        "\n",
        "\n",
        "plt.plot(x,y)\n",
        "plt.plot(x2,y2)\n",
        "plt.legend([\"Solucion Greedy\", \"Solucion dinámica\"])\n",
        "\n",
        "plt.xlabel('n')\n",
        "plt.ylabel('time in ms')\n",
        "plt.show()"
      ],
      "metadata": {
        "colab": {
          "base_uri": "https://localhost:8080/",
          "height": 279
        },
        "id": "9EE6p_ZDlRmL",
        "outputId": "5111e58d-fcd7-4d0c-a211-fe64dc89ed5a"
      },
      "execution_count": 39,
      "outputs": [
        {
          "output_type": "display_data",
          "data": {
            "text/plain": [
              "<Figure size 432x288 with 1 Axes>"
            ],
            "image/png": "[encoded data removed]"
          },
          "metadata": {
            "needs_background": "light"
          }
        }
      ]
    },
    {
      "cell_type": "code",
      "source": [
        "import matplotlib.pyplot as plt\n",
        "import datetime\n",
        "from timeit import repeat\n",
        "\n",
        "import random\n",
        "\n",
        "def knapsack_instance_generator(N):\n",
        "  val = []\n",
        "  wt = []\n",
        "  prev_v = 0\n",
        "  prev_w = 0\n",
        "  for i in range(N):\n",
        "    v = random.randint(1, 100)\n",
        "    val.append(prev_v + v)\n",
        "    prev_v += v\n",
        "    \n",
        "    w = random.randint(1, 10)\n",
        "    wt.append(prev_w + w)\n",
        "    if (v >= 50):\n",
        "        prev_w += w\n",
        "\n",
        "  W = int(sum(wt) / 2)\n",
        "  return W, val, wt\n",
        "\n",
        "x=[]; y=[]; x2=[]; y2=[]\n",
        "\n",
        "for n in range(5,50):\n",
        "  W, val, wt = knapsack_instance_generator(n)\n",
        "  cont = [0]\n",
        "\n",
        "  t = repeat(setup=\"from __main__ import greedy\", stmt=f\"greedy({W},{wt},{val},{len(val)},{cont})\", repeat=1, number=10)\n",
        "\n",
        "  x.append(n)\n",
        "  y.append(t)\n",
        "\n",
        "\n",
        "\n",
        "plt.plot(x,y)\n",
        "plt.legend([\"Solucion Greedy\", \"Solucion dinámica\"])\n",
        "\n",
        "plt.xlabel('n')\n",
        "plt.ylabel('time in ms')\n",
        "plt.show()"
      ],
      "metadata": {
        "colab": {
          "base_uri": "https://localhost:8080/",
          "height": 279
        },
        "id": "YKxPpp0qnSMH",
        "outputId": "46b0cfba-4b3e-4cc4-8cbc-866616db25ce"
      },
      "execution_count": 47,
      "outputs": [
        {
          "output_type": "display_data",
          "data": {
            "text/plain": [
              "<Figure size 432x288 with 1 Axes>"
            ],
            "image/png": "[encoded data removed]"
          },
          "metadata": {
            "needs_background": "light"
          }
        }
      ]
    },
    {
      "cell_type": "markdown",
      "source": [
        "En el primer gráfico esta la comparación de ambas soluciones, mientras que en el segundo solo se muestra el de la solución greedy.\n",
        "\n",
        "Como se puede apreciar, existe una enorme diferencia en tiempo de ejecución entre las soluciones, esto se debe a que la solución dinámica, calcula el resultado para cada tipo de combinación, y a pesar de que ya se encuentre optimizada en comparación de la solución de fuerza bruta, sigue teniendo una amplia desventaja versus la solución greedy, ya que esta solo consigue estos resultados de forma casi lineal.\n",
        "\n",
        "En su gráfico individual se puede ver como tiene un aumento progresivo, pero si nos fijamos en el tiempo, es minúsculo el aumento del mismo, y el gráfico \"exagerado\" del mismo se debe principalmente al \"zoom\" que se le esta haciendo a los detalles más que otra cosa."
      ],
      "metadata": {
        "id": "MrTbsLIRnMI7"
      }
    },
    {
      "cell_type": "code",
      "source": [
        "import matplotlib.pyplot as plt\n",
        "\n",
        "x=[n for n in range(5,50)] \n",
        "y=[]; \n",
        "y2=[]\n",
        "\n",
        "for n in range(5,50):\n",
        "  W, val, wt = knapsack_instance_generator(n)\n",
        "  cont = [0]\n",
        "  cont2 = [0]\n",
        "\n",
        "  mochilaDina(W, wt, val, len(val), cont)\n",
        "  y.append(cont[0])\n",
        "\n",
        "  greedy(W, wt, val,len(val), cont2)\n",
        "  y2.append(cont2[0])\n",
        "\n",
        "plt.plot(x,y)\n",
        "plt.plot(x,y2)\n",
        "plt.legend([\"Subproblemas versión dinamica\", \"Iteraciones version greedy\"])\n",
        "\n",
        "plt.xlabel('n')\n",
        "plt.ylabel('number of operations')\n",
        "plt.show()"
      ],
      "metadata": {
        "colab": {
          "base_uri": "https://localhost:8080/",
          "height": 279
        },
        "id": "3IycrAwcmm7i",
        "outputId": "7002bbc2-cf5a-413c-9fcc-c99457752fa5"
      },
      "execution_count": 48,
      "outputs": [
        {
          "output_type": "display_data",
          "data": {
            "text/plain": [
              "<Figure size 432x288 with 1 Axes>"
            ],
            "image/png": "[encoded data removed]"
          },
          "metadata": {
            "needs_background": "light"
          }
        }
      ]
    },
    {
      "cell_type": "code",
      "source": [
        "import matplotlib.pyplot as plt\n",
        "\n",
        "x=[n for n in range(5,50)] \n",
        "y=[]; \n",
        "y2=[]\n",
        "\n",
        "for n in range(5,50):\n",
        "  W, val, wt = knapsack_instance_generator(n)\n",
        "\n",
        "  cont2 = [0]\n",
        "\n",
        "  greedy(W, wt, val,len(val), cont2)\n",
        "  y2.append(cont2[0])\n",
        "\n",
        "plt.plot(x,y2)\n",
        "plt.legend([\"Iteraciones version greedy\"])\n",
        "\n",
        "plt.xlabel('n')\n",
        "plt.ylabel('number of operations')\n",
        "plt.show()"
      ],
      "metadata": {
        "colab": {
          "base_uri": "https://localhost:8080/",
          "height": 279
        },
        "id": "ti0EMGy2pcBZ",
        "outputId": "34339fe9-7bcb-481d-b65e-7473b8d0628b"
      },
      "execution_count": 52,
      "outputs": [
        {
          "output_type": "display_data",
          "data": {
            "text/plain": [
              "<Figure size 432x288 with 1 Axes>"
            ],
            "image/png": "[encoded data removed]"
          },
          "metadata": {
            "needs_background": "light"
          }
        }
      ]
    },
    {
      "cell_type": "markdown",
      "source": [
        "En el caso de las iteraciones sucede lo mismo que en el tiempo de ejecución donde la diferencia entre ambos es enorme, y se debe a los mismo motivos, ya que a medida de que aumenta la cantidad de elementos, las iteraciones que debe de hacer la solución dinámica aumenta mucho, debido a que compara cada posibilidad, mientras que el greedy es mucho más \"eficiente\" en estos aspectos, a pesar de que no llegue a ser tan exactos como el método dinámico."
      ],
      "metadata": {
        "id": "IQwsbybmpkbH"
      }
    },
    {
      "cell_type": "code",
      "source": [
        "import matplotlib.pyplot as plt\n",
        "\n",
        "x=[n for n in range(5,15)] \n",
        "y=[]; \n",
        "y2=[]\n",
        "\n",
        "for n in range(5,15):\n",
        "  W, val, wt = knapsack_instance_generator(n)\n",
        "  W2, val2, wt2 = W, val, wt\n",
        "  cont = [0]\n",
        "  it = [0]\n",
        "\n",
        "  a = mochilaDina(W, wt, val, len(val), cont)\n",
        "  y.append(a)\n",
        "\n",
        "  b = greedy(W2, wt2, val2, len(val), it)\n",
        "  y2.append(b)\n",
        "\n",
        "plt.plot(x,y)\n",
        "plt.plot(x,y2)\n",
        "plt.legend([\"Version dinámica\", \"Versión greedy\"])\n",
        "\n",
        "plt.xlabel('n')\n",
        "plt.ylabel('Valor conseguido')\n",
        "plt.show()"
      ],
      "metadata": {
        "colab": {
          "base_uri": "https://localhost:8080/",
          "height": 279
        },
        "id": "fA6cjqerm_Jq",
        "outputId": "9f81f75d-8882-4fb6-b232-931cb9995bc1"
      },
      "execution_count": 45,
      "outputs": [
        {
          "output_type": "display_data",
          "data": {
            "text/plain": [
              "<Figure size 432x288 with 1 Axes>"
            ],
            "image/png": "[encoded data removed]"
          },
          "metadata": {
            "needs_background": "light"
          }
        }
      ]
    },
    {
      "cell_type": "markdown",
      "source": [
        "Este gráfico demuestra lo que se ha mencionado antes, ya que se podría decir que la versión dinámica es la correcta, por lo que su gráfica deberia de ser la guía, y gracias a esto se puede ver como la gráfica de la versión greedy, se encuentra muy cercano a los valores dinámicos, y aunque no llegue a ser los mismos, o que se encuentre más cerca, la solución greedy compensa esto con la eficiencia que demuestra en los gráficos anteriores, donde la diferencia gigantesca."
      ],
      "metadata": {
        "id": "GzAwK1_KqOCk"
      }
    }
  ]
}