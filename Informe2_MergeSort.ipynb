{
  "nbformat": 4,
  "nbformat_minor": 0,
  "metadata": {
    "colab": {
      "name": "Informe2-MergeSort.ipynb",
      "provenance": [],
      "authorship_tag": "ABX9TyNJ8TS8epFDhdugN3nsqJjW",
      "include_colab_link": true
    },
    "kernelspec": {
      "name": "python3",
      "display_name": "Python 3"
    },
    "language_info": {
      "name": "python"
    }
  },
  "cells": [
    {
      "cell_type": "markdown",
      "metadata": {
        "id": "view-in-github",
        "colab_type": "text"
      },
      "source": [
        "<a href=\"https://colab.research.google.com/github/Sptfff/ADA-Informes/blob/main/Informe2_MergeSort.ipynb\" target=\"_parent\"><img src=\"https://colab.research.google.com/assets/colab-badge.svg\" alt=\"Open In Colab\"/></a>"
      ]
    },
    {
      "cell_type": "markdown",
      "source": [
        "#1. Problemas de Ordenamiento\n",
        "\n",
        "**Entrada:** Secuencia de números de tamaño *N*:  $[a_1,a_2,...,a_n]$\n",
        "\n",
        "**Salida:** Cambio ordenado de la secuencia de entrada: $[a_1',a_2',...,a_n']$, de modo que la secuencia final siga el orden $a_1'\\leq a_2' \\leq... \\leq a_n'$.\n",
        "\n",
        "![image](https://imgur.com/3IzqosC.jpg)\n",
        "\n",
        "Los problemas de ordenamiento siempre han sido \"complejos\" de completar, ya sea por problema de espacio o por un gran número de lo que se desea ordenar.\n",
        "Por ejemplo en computación siempre se ha buscado la forma más eficiente de ordenar datos, como podría ser una sucesión númerica.\n",
        "\n",
        "Y aunque a primera vista esto parece un problema sencillo de solucionar, su mayor problema radica en su eficiencia, ya que, aunque la sucesión sea pequeña, la mayoria de algoritmos necesito un gran número de iteraciones para ordenar todo.\n"
      ],
      "metadata": {
        "id": "zd7ClxiOvZa9"
      }
    },
    {
      "cell_type": "markdown",
      "source": [
        "#2. MergeSort"
      ],
      "metadata": {
        "id": "5u041QloOCno"
      }
    },
    {
      "cell_type": "markdown",
      "source": [
        "##2.1 Descripción del Algoritmo."
      ],
      "metadata": {
        "id": "FD1aNC3rgmts"
      }
    },
    {
      "cell_type": "markdown",
      "source": [
        "MergeSort utiliza la técnica de dividir y conquistar, donde toma el arreglo inicial, y lo divide en sub-arreglos de tamaño *n/2*, donde *n* es el tamaño del arreglo original. Una vez que se llega al límite de división (que sería 1), comienza la conquista, donde se toman los sub-arreglos y se comienzan a fusionar entre si creando un arreglo ordenado con los mismos elementos que el arreglo original\n",
        "\n",
        "\n",
        "Si *q* es el punto medio del arreglo A, podemos dividir el arreglo en 2 sub-arreglos de modo que queden como *A[0..q]* y *A[q+1...n]*\n",
        "\n",
        "![image](https://imgur.com/bLnhRVF.jpg)\n",
        "\n",
        "Despúes de separar el arreglo, se comenzara la etapa de ordenamiento o \"conquista\", donde se tomara el arreglo *A[p...q]* y *A[q+1...n]* y se comparará cual valor es menor a otro, para posicionarlo a la izquierda del arreglo ordenado.\n",
        "\n",
        "![image](https://imgur.com/GdhVVdB.jpg)\n",
        "\n",
        "Cuando la etapa anterior se completa, se obtienen 2 sub-arreglos ordenados, por lo que este paso se encarga de \"fusionar\" estos arreglos, combinando sus elementos, para un arreglo mayor ordenado\n"
      ],
      "metadata": {
        "id": "DMimwkRTO-Os"
      }
    },
    {
      "cell_type": "markdown",
      "source": [
        "##2.2 Código"
      ],
      "metadata": {
        "id": "D8G4ce1iOFVq"
      }
    },
    {
      "cell_type": "code",
      "source": [
        "import random\n",
        "from termcolor import colored\n",
        "import copy\n",
        "\n",
        "def merge2(izq, der, verbose, conts):\n",
        "  orden = []\n",
        "\n",
        "  while len(izq) > 0 and len(der) > 0:\n",
        "    if izq[0] < der[0]:\n",
        "      orden.append(izq.pop(0))\n",
        "    else:\n",
        "      orden.append(der.pop(0))\n",
        "    conts[1] += 1\n",
        "\n",
        "  while len(izq) > 0:\n",
        "    orden.append(izq.pop(0))\n",
        "    conts[1] += 1\n",
        "\n",
        "  while len(der) > 0:\n",
        "    orden.append(der.pop(0))\n",
        "    conts[1] += 1\n",
        "\n",
        "  if verbose == True:\n",
        "    print(colored(f\"Sub-arreglos fusionados: {orden}\\n\",\"green\"))\n",
        "    \n",
        "  return orden\n",
        "\n",
        "def merge_sort(arr, verbose, conts):\n",
        "  # conts[0] es el total de las llamadas de la función, y el otro el contador de comparaciones\n",
        "  if len(arr) <= 1:\n",
        "    return arr\n",
        "\n",
        "  else:\n",
        "  \n",
        "    middle = len(arr) // 2\n",
        "    front = arr[:middle]\n",
        "    back = arr[middle:]\n",
        "\n",
        "    if verbose == True:\n",
        "      print(colored(f\"Sub-arreglos divididos: {front, back}\\n\", \"blue\"))\n",
        "    #print(\"Sub-arreglos: \", front, back)\n",
        "\n",
        "    front = merge_sort(front, verbose, conts)\n",
        "    back = merge_sort(back, verbose, conts)\n",
        "    conts[0] += 1\n",
        "    \n",
        "    c = []\n",
        "    c = merge2(front, back, verbose, conts)\n",
        "\n",
        "    return c\n",
        "\n",
        " \n",
        "# Driver Code\n",
        "#arr = [12, 11, 13, 6, 81, 9, 15, 23]\n",
        "arr = random.sample(range(1, 100), 6)\n",
        "print(colored(f\"\\nEl arreglo entragado es: {arr}\\n\", \"magenta\"))\n",
        "conts = [0, 0] \n",
        "arr = merge_sort(arr, True, conts)\n",
        "\n",
        "print(colored(f\"El arreglo ordenado es: {arr}\", \"magenta\"))\n",
        "print(colored(f\"Llamadas recursivas: {conts[0]}\\nNumero de comparaciones: {conts[1]}\", \"red\"))\n"
      ],
      "metadata": {
        "id": "iIsXVHiQwUYi",
        "colab": {
          "base_uri": "https://localhost:8080/"
        },
        "outputId": "65966068-95b4-4456-863f-f56c5327cd5b"
      },
      "execution_count": 105,
      "outputs": [
        {
          "output_type": "stream",
          "name": "stdout",
          "text": [
            "\u001b[35m\n",
            "El arreglo entragado es: [20, 99, 32, 55, 4, 23]\n",
            "\u001b[0m\n",
            "\u001b[34mSub-arreglos divididos: ([20, 99, 32], [55, 4, 23])\n",
            "\u001b[0m\n",
            "\u001b[34mSub-arreglos divididos: ([20], [99, 32])\n",
            "\u001b[0m\n",
            "\u001b[34mSub-arreglos divididos: ([99], [32])\n",
            "\u001b[0m\n",
            "\u001b[32mSub-arreglos fusionados: [32, 99]\n",
            "\u001b[0m\n",
            "\u001b[32mSub-arreglos fusionados: [20, 32, 99]\n",
            "\u001b[0m\n",
            "\u001b[34mSub-arreglos divididos: ([55], [4, 23])\n",
            "\u001b[0m\n",
            "\u001b[34mSub-arreglos divididos: ([4], [23])\n",
            "\u001b[0m\n",
            "\u001b[32mSub-arreglos fusionados: [4, 23]\n",
            "\u001b[0m\n",
            "\u001b[32mSub-arreglos fusionados: [4, 23, 55]\n",
            "\u001b[0m\n",
            "\u001b[32mSub-arreglos fusionados: [4, 20, 23, 32, 55, 99]\n",
            "\u001b[0m\n",
            "\u001b[35mEl arreglo ordenado es: [4, 20, 23, 32, 55, 99]\u001b[0m\n",
            "\u001b[31mLlamadas recursivas: 5\n",
            "Numero de comparaciones: 16\u001b[0m\n"
          ]
        }
      ]
    },
    {
      "cell_type": "markdown",
      "source": [
        "##2.3 Propiedades del algoritmo"
      ],
      "metadata": {
        "id": "1jO7XfgQVTmt"
      }
    },
    {
      "cell_type": "markdown",
      "source": [
        "\n",
        "\n",
        "El algoritmo recibe de entrada un arreglo numérico de *N* elemento, el cual deseamos ordenar. Luego, se toman partes del arreglo original, las cuales seran reordenadas de menor a mayor dentro de 2 funciones.\n",
        "\n",
        "1. En cada iteración, se toma un arreglo inicial, el cual es dividido según la mitad del propio arreglo.\n",
        "\n",
        "2. Una vez se llega al menor tamaño posible, el cual es 1, se toman los elementos de esos arreglos y se comparan para saber cual sera la posición de cada uno.\n",
        "\n",
        "3. En comparación a otras funciones, Mergesort tiene una complejidad temporal constante, ya que no importa si el arreglo entregado se encuentra ordenado, la función de igual manera realizara todo su proceso.\n",
        "\n",
        "3. Aunque si el arreglo entregado es de tamaño 1, si finaliza inmediatamente la ejecución de la función.\n",
        "\n",
        "4. Al final, se retorna el arreglo ordenado y un contador de comparaciones: T.\n",
        "\n"
      ],
      "metadata": {
        "id": "BidVvbvQYXme"
      }
    },
    {
      "cell_type": "markdown",
      "source": [
        "#3. Correctitud."
      ],
      "metadata": {
        "id": "ybX9_IX3VZG0"
      }
    },
    {
      "cell_type": "markdown",
      "source": [
        "## **3.1 Correctitud de la función MergeSort.**"
      ],
      "metadata": {
        "id": "nBYSk3rmVfhc"
      }
    },
    {
      "cell_type": "markdown",
      "source": [
        "### **3.1.1** Teorema: \n",
        "El algoritmo merge sort recibe un arreglo de n elementos, y retorna un arreglo de n elementos ordenados.\n",
        "\n",
        "### **3.1.2** Prueba del teorema: \n",
        "El algoritmo se llamará a si mismo de forma recursiva, dividiendo en cada iteración los arreglos de largo n que recibe en dos arreglos de largo n/2 con los mismos elementos, para ser combinados en el orden correcto por la función merge, a la cual ya probamos su correctitud.\n",
        "\n",
        "### **3.1.3** Inicialización:\n",
        "En la primera iteración se dividirá el arreglo original en dos arreglos [q...r] y [k...p] siendo q y p los límites laterales del arreglo original, y r y k los elementos del medio.\n",
        "\n",
        "### **3.1.4** Mantención:\n",
        "Los arreglos subsiguientes se dividirán en arreglos cuya suma de elementos seguirá siendo la cantidad de elementos del arreglo dividido.\n",
        "\n",
        "### **3.1.4** Finalización:\n",
        "Ya que cada iteración del algoritmo mantiene la misma cantidad de datos, y que el funcionamiento de la función merge es correcta, se puede afirmar que de un arreglo de largo n, se obtendrá un arreglo de largo n ordenado.\n",
        "\n"
      ],
      "metadata": {
        "id": "EpeJDlQ_S2cf"
      }
    },
    {
      "cell_type": "markdown",
      "source": [
        "## **3.2 Correctitud de la función Merge.**"
      ],
      "metadata": {
        "id": "J6xoY0HiVoiN"
      }
    },
    {
      "cell_type": "markdown",
      "source": [
        "### **3.2.1** Teorema: \n",
        "La función merge recibe un arreglo de largo n [a1, a2, ... an] y otro de largo m [a1, a2, ... am], luego retorna un arreglo de largo n+m ordenado.\n",
        "\n",
        "### **3.2.2** Prueba del teorema: \n",
        "En cada iteración de la función merge se colocará cada elemento del par de arreglos que recibe de manera ordenada en un arreglo n+m, sí que para probar el teorema utilizaremos la propiedad de bucle invariante.\n",
        "\n",
        "### **3.2.3** Inicialización:\n",
        "En la primera iteración el arreglo de salida contendrá solo un valor, el cual se puede considerar que está ordenado, de manera que la propiedad se cumple.\n",
        "\n",
        "### **3.2.4** Mantención:\n",
        "El arreglo de salida contendrá i-1 (siendo i el número de iteraciones) datos ordenados, siendo todos los valores restantes a ordenar mayores que los elementos ya ordenados.\n",
        "\n",
        "### **3.2.5** Finalización:\n",
        "Ya que se cumple la propiedad al inicio y durante la ejecución del algoritmo, se puede afirmar que se generará un arreglo [a1, a2, ... , a(n+m)] con los mismos elementos de los arreglos de entrada ordenados de menor a mayor."
      ],
      "metadata": {
        "id": "YvJBecZlVlnz"
      }
    },
    {
      "cell_type": "markdown",
      "source": [
        "#4. Tiempo de Ejecución"
      ],
      "metadata": {
        "id": "R8AuxFL1WDR-"
      }
    },
    {
      "cell_type": "markdown",
      "source": [
        "##Teorema: \n",
        "El algoritmo merge sort tiene complejidad O(nlogn) para cualquier caso, debido a que este siempre divide el arreglo en dos mitades y siempre ocupa una cantidad de tiempo lineal para combinar dos mitades.\n",
        "\n",
        "##Prueba del teorema:\n",
        "Cuando dividimos un número a la mitad de forma sucesiva, se representa con una función logarítmica, la cual es log n.\n",
        "\n",
        "Luego, para combinar los sub arreglos resultantes de dividir el arreglo original de n elementos, se necesita un tiempo de ejecución de n.\n",
        "\n",
        "Por lo tanto, el tiempo de ejecución del algoritmo en su conjunto nos da un tiempo de ejecución de O(nlogn)"
      ],
      "metadata": {
        "id": "props2anS8IZ"
      }
    },
    {
      "cell_type": "markdown",
      "source": [
        "##Árbol de recursión\n",
        "\n",
        "El árbol de recursión en este caso es una representación grafica de lo que hace MergeSort ya que muestra como de un arreglo *n*, se divide en sub-arreglos que corresponden a *n/2*, continuando de manera consecutiva a el nivel más bajo. A este tipo de casos, se describen como *log(n)*, pero como en cada nivel, se asume que se realizan *n* operaciones (en caso del MergeSort, seria la misma función merge), por lo que la notación final quedaría como *nLog(n)*\n",
        "\n",
        "![image](https://imgur.com/z8z5mJ4.jpg)"
      ],
      "metadata": {
        "id": "XIxbG_nggd4V"
      }
    },
    {
      "cell_type": "markdown",
      "source": [
        "#5. Experimentación"
      ],
      "metadata": {
        "id": "wOrasbmRS_Gd"
      }
    },
    {
      "cell_type": "markdown",
      "source": [
        "##Comparación mejor, peor y caso promedio\n",
        "\n",
        "Como ya se ha mencionado varias veces, en número de comparaciones de la función MergeSort es constante, ya que no posee mejor o peor caso practicos, ya que siempre se llevara a cabo la funcíon."
      ],
      "metadata": {
        "id": "9oSJW1EyOkwD"
      }
    },
    {
      "cell_type": "code",
      "source": [
        "import matplotlib.pyplot as plt\n",
        "import random\n",
        "from termcolor import colored\n",
        "\n",
        "x=[n for n in range(5,20)] \n",
        "y1=[] # best case\n",
        "y2=[] # worst case\n",
        "y=[]; \n",
        "\n",
        "for n in range(5,20):\n",
        "  a = random.sample(range(1, 100), n)\n",
        "  conts = [0, 0]\n",
        "  a = merge_sort(a, False, conts)\n",
        "  y.append(conts[1])\n",
        "\n",
        "  conts2 = [0, 0]\n",
        "  a = merge_sort(a, False, conts2)\n",
        "  y1.append(conts2[1])\n",
        "  \n",
        "  conts3 = [0, 0]\n",
        "  a = random.sample(range(1, 100), n)\n",
        "  a[0] = 1234567\n",
        "  a[n-1] = 1234599\n",
        "  a = merge_sort(a, False, conts3)\n",
        "  y2.append(conts3[1])\n",
        "\n",
        "\n",
        "\n",
        "plt.plot(x,y)\n",
        "plt.plot(x,y1)\n",
        "plt.plot(x,y2)\n",
        "plt.legend([\"Merge Sort\", \"Mejor caso\", \"Peor Caso\"])\n",
        "plt.ylabel('Numero de operaciones')\n",
        "plt.xlabel('n\\n Dado que Merge Sort tiene complejidad constante, los 3 graficos comparten el mismo recorrido')\n",
        "plt.show()"
      ],
      "metadata": {
        "colab": {
          "base_uri": "https://localhost:8080/",
          "height": 291
        },
        "id": "S2b5db2kUTAF",
        "outputId": "162c54bb-dfb5-4e27-cff9-8686d22a8564"
      },
      "execution_count": 106,
      "outputs": [
        {
          "output_type": "display_data",
          "data": {
            "text/plain": [
              "<Figure size 432x288 with 1 Axes>"
            ],
            "image/png": "[encoded data removed]"
          },
          "metadata": {
            "needs_background": "light"
          }
        }
      ]
    },
    {
      "cell_type": "markdown",
      "source": [
        "##Comparasión con Insertion Sort\n",
        "\n",
        "Como se pueden ver en los graficos, Merge Sort tiende a tener un mayor número de comparaciones que Insertion Sort, pero este ultimo tiende a \"demorarse\" más tiempo que MergeSort, debido a que Insertion posee una complejidad temporal de *n^2*, mientras que Merge Sort posee una *nLog(n)* como se mencionó con anterioridad.\n",
        "\n",
        "Esta diferencia se debe a que InsertionSort en un caso promedio recorre n veces su arreglo de tamaño *n*, mientras MergeSort, \"corta\" el arreglo, de manera sucesiva hasta su tamaño minimo, lo que genera que le tome una cantidad de tiempo que se representa como *log(n)*, y luego para \"unir\" los elementos le toma una cantidad de tiempo representada como n, dando como resultado como *nLog(n)*\n",
        "\n",
        "Como conclusión, no se puede decir directamente que función es mejor que otra, ya que cada sirve de manera distinta, ya que a pesar de que InsertionSort tiene un menor número de comparaciones, suele tardarse más que MergeSort con arreglos grandes. \n",
        "Por lo que el uso depende de en que se quiere aplicar cada función, dando para casos pequeños, InsertionSort, ya que es más sencillo de aplicar, además de no requerir muchas comparaciones, mientras que para arreglos muy grandes, es necesario el uso de MergeSort, ya que llegaria a ser contraproducente el uso de una función que su tiempo de ejecución escale de manera exponencial."
      ],
      "metadata": {
        "id": "cXsSV2bEPPbq"
      }
    },
    {
      "cell_type": "code",
      "source": [
        "import matplotlib.pyplot as plt\n",
        "import random\n",
        "\n",
        "def insertion_sort(a):\n",
        "    n = len(a)\n",
        "    T = 0 \n",
        "    for i in range(1,n+1):\n",
        "        already_sorted = True\n",
        "        for z in range (n):\n",
        "          T += 1\n",
        "          dato = a[z]\n",
        "          j = z-1\n",
        "          while j >= 0 and dato < a[j]:\n",
        "            a[j+1] = a[j]\n",
        "            j-= 1\n",
        "            a[j+1] = dato\n",
        "            already_sorted = False\n",
        "        if already_sorted:\n",
        "            break\n",
        "    return T\n",
        "\n",
        "x=[n for n in range(1,15)] \n",
        "y1 = []\n",
        "y=[];\n",
        "\n",
        "for n in range(1,15):\n",
        "  a = random.sample(range(1, 100), n)\n",
        "  conts = [0, 0]\n",
        "  a = merge_sort(a, False, conts)\n",
        "  y1.append(conts[1])\n",
        "\n",
        "for n in range(1,15):\n",
        "  e = 0\n",
        "  b = random.sample(range(1, 100), n)\n",
        "  counter = insertion_sort(b)\n",
        "  y.append(counter)\n",
        "\n",
        "plt.plot(x,y)\n",
        "plt.plot(x,y1)\n",
        "plt.legend([\"Insertion Sort\", \"Merge Sort\"])\n",
        "plt.xlabel('n')\n",
        "plt.ylabel('Numero de operaciones')\n",
        "plt.show()"
      ],
      "metadata": {
        "colab": {
          "base_uri": "https://localhost:8080/",
          "height": 279
        },
        "id": "mKgiEJ-AI8Vb",
        "outputId": "ad3fec98-8214-4f54-fb1f-99e0cec410fd"
      },
      "execution_count": 107,
      "outputs": [
        {
          "output_type": "display_data",
          "data": {
            "text/plain": [
              "<Figure size 432x288 with 1 Axes>"
            ],
            "image/png": "[encoded data removed]"
          },
          "metadata": {
            "needs_background": "light"
          }
        }
      ]
    },
    {
      "cell_type": "code",
      "source": [
        "import matplotlib.pyplot as plt\n",
        "import datetime\n",
        "from timeit import repeat\n",
        "\n",
        "y1 = []\n",
        "x=[]; y=[]\n",
        "x1 = []\n",
        "conts =[]\n",
        "verbose = False\n",
        "\n",
        "def merge3(izq, der):\n",
        "  orden = []\n",
        "  while len(izq) > 0 and len(der) > 0:\n",
        "    if izq[0] < der[0]:\n",
        "      orden.append(izq.pop(0))\n",
        "    else:\n",
        "      orden.append(der.pop(0))\n",
        "  while len(izq) > 0:\n",
        "    orden.append(izq.pop(0))\n",
        "  while len(der) > 0:\n",
        "    orden.append(der.pop(0))\n",
        "  return orden\n",
        "\n",
        "def merge_sort2(arr):\n",
        "  if len(arr) <= 1:\n",
        "    return arr\n",
        "  else:\n",
        "    middle = len(arr) // 2\n",
        "    front = arr[:middle]\n",
        "    back = arr[middle:]\n",
        "    front = merge_sort2(front)\n",
        "    back = merge_sort2(back)\n",
        "    c = []\n",
        "    c = merge3(front, back)\n",
        "    return c\n",
        "\n",
        "for n in range(5,500):\n",
        "\n",
        "  a = random.sample(range(1, 1000), n)\n",
        "  #la función repeat está ejecutando 20 veces bubble_sort con el arreglo a y retorna el mejor tiepo obtenido.\n",
        "  t = repeat(setup=\"from __main__ import insertion_sort\", stmt=f\"insertion_sort({a})\", repeat=1, number=10)\n",
        "\n",
        "  x.append(n)\n",
        "  y.append(t)\n",
        "\n",
        "for n in range(5,500):\n",
        "\n",
        "  a = random.sample(range(1, 1000), n)\n",
        "  #la función repeat está ejecutando 20 veces bubble_sort con el arreglo a y retorna el mejor tiepo obtenido.\n",
        "  t = repeat(setup=\"from __main__ import merge_sort2\", stmt=f\"merge_sort2({a})\", repeat=1, number=10)\n",
        "\n",
        "  x1.append(n)\n",
        "  y1.append(t)\n",
        "\n",
        "plt.plot(x,y)\n",
        "plt.plot(x1,y1)\n",
        "plt.legend([\"Insertion Sort\", \"Merge Sort\"])\n",
        "plt.xlabel('n')\n",
        "plt.ylabel('tiempo en ms')\n",
        "plt.show()"
      ],
      "metadata": {
        "colab": {
          "base_uri": "https://localhost:8080/",
          "height": 279
        },
        "id": "dFlE2C9GVqlQ",
        "outputId": "8f958b19-3cf8-417a-b73b-42257a59f46c"
      },
      "execution_count": 108,
      "outputs": [
        {
          "output_type": "display_data",
          "data": {
            "text/plain": [
              "<Figure size 432x288 with 1 Axes>"
            ],
            "image/png": "[encoded data removed]"
          },
          "metadata": {
            "needs_background": "light"
          }
        }
      ]
    }
  ]
}