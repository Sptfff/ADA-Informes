{
  "nbformat": 4,
  "nbformat_minor": 0,
  "metadata": {
    "colab": {
      "name": "Informe2-MergeSort.ipynb",
      "provenance": [],
      "authorship_tag": "ABX9TyNKvoSOOh48jBWYRtg6vATe",
      "include_colab_link": true
    },
    "kernelspec": {
      "name": "python3",
      "display_name": "Python 3"
    },
    "language_info": {
      "name": "python"
    }
  },
  "cells": [
    {
      "cell_type": "markdown",
      "metadata": {
        "id": "view-in-github",
        "colab_type": "text"
      },
      "source": [
        "<a href=\"https://colab.research.google.com/github/Sptfff/ADA-Informes/blob/main/Informe2_MergeSort.ipynb\" target=\"_parent\"><img src=\"https://colab.research.google.com/assets/colab-badge.svg\" alt=\"Open In Colab\"/></a>"
      ]
    },
    {
      "cell_type": "markdown",
      "source": [
        "#1. Problemas de Ordenamiento\n",
        "\n",
        "**Entrada:** Secuencia de números de tamaño *N*:  $[a_1,a_2,...,a_n]$\n",
        "\n",
        "**Salida:** Cambio ordenado de la secuencia de entrada: $[a_1',a_2',...,a_n']$, de modo que la secuencia final siga el orden $a_1'\\leq a_2' \\leq... \\leq a_n'$.\n",
        "\n",
        "![image](https://imgur.com/3IzqosC.jpg)\n",
        "\n",
        "Los problemas de ordenamiento siempre han sido \"complejos\" de completar, ya sea por problema de espacio o por un gran número de lo que se desea ordenar.\n",
        "Por ejemplo en computación siempre se ha buscado la forma más eficiente de ordenar datos, como podría ser una sucesión númerica.\n",
        "\n",
        "Y aunque a primera vista esto parece un problema sencillo de solucionar, su mayor problema radica en su eficiencia, ya que, aunque la sucesión sea pequeña, la mayoria de algoritmos necesito un gran número de iteraciones para ordenar todo.\n"
      ],
      "metadata": {
        "id": "zd7ClxiOvZa9"
      }
    },
    {
      "cell_type": "markdown",
      "source": [
        "#2. MergeSort"
      ],
      "metadata": {
        "id": "5u041QloOCno"
      }
    },
    {
      "cell_type": "markdown",
      "source": [
        "##2.1 Descripción del Algoritmo.\n",
        "\n",
        "MergeSort utiliza la técnica de dividir y conquistar, donde toma el arreglo inicial, y lo divide en sub-arreglos de tamaño *n/2*, donde *n* es el tamaño del arreglo original. Una vez que se llega al límite de división (que sería 1), comienza la conquista, donde se toman los sub-arreglos y se comienzan a fusionar entre si creando un arreglo ordenado con los mismos elementos que el arreglo original\n",
        "\n",
        "\n",
        "Si *q* es el punto medio del arreglo A, podemos dividir el arreglo en 2 sub-arreglos de modo que queden como *A[0..q]* y *A[q+1...n]*\n",
        "\n",
        "![image](https://imgur.com/bLnhRVF.jpg)\n",
        "\n",
        "Despúes de separar el arreglo, se comenzara la etapa de ordenamiento o \"conquista\", donde se tomara el arreglo *A[p...q]* y *A[q+1...n]* y se comparará cual valor es menor a otro, para posicionarlo a la izquierda del arreglo ordenado.\n",
        "\n",
        "![image](https://imgur.com/GdhVVdB.jpg)\n",
        "\n",
        "Cuando la etapa anterior se completa, se obtienen 2 sub-arreglos ordenados, por lo que este paso se encarga de \"fusionar\" estos arreglos, combinando sus elementos, para un arreglo mayor ordenado\n"
      ],
      "metadata": {
        "id": "DMimwkRTO-Os"
      }
    },
    {
      "cell_type": "markdown",
      "source": [
        "##2.2 Código"
      ],
      "metadata": {
        "id": "D8G4ce1iOFVq"
      }
    },
    {
      "cell_type": "code",
      "source": [
        "import random\n",
        "from termcolor import colored\n",
        "import copy\n",
        "\n",
        "def merge2(izq, der, verbose= True):\n",
        "  orden = []\n",
        "\n",
        "  while len(izq) > 0 and len(der) > 0:\n",
        "\n",
        "    if izq[0] < der[0]:\n",
        "      orden.append(izq.pop(0))\n",
        "    else:\n",
        "      orden.append(der.pop(0))\n",
        "\n",
        "  while len(izq) > 0:\n",
        "    orden.append(izq.pop(0))\n",
        "\n",
        "  while len(der) > 0:\n",
        "    orden.append(der.pop(0))\n",
        "\n",
        "  if verbose == True:\n",
        "    print(colored(f\"Sub-arreglos fusionados: {orden}\\n\",\"green\"))\n",
        "    \n",
        "  return orden\n",
        "\n",
        "def merge_sort(arr, verbose = True):\n",
        "  \n",
        "  if len(arr) <= 1:\n",
        "    return arr\n",
        "\n",
        "  else:\n",
        "\n",
        "    middle = len(arr) // 2\n",
        "    front = arr[:middle]\n",
        "    back = arr[middle:]\n",
        "    if verbose == True:\n",
        "      print(colored(f\"Sub-arreglos divididos: {front, back}\\n\", \"blue\"))\n",
        "    #print(\"Sub-arreglos: \", front, back)\n",
        "    front = merge_sort(front)\n",
        "    back = merge_sort(back)\n",
        "    return merge2(front, back)\n",
        "\n",
        " \n",
        "# Driver Code\n",
        "#arr = [12, 11, 13, 6, 81, 9, 15, 23]\n",
        "arr = random.sample(range(1, 100), 10)\n",
        "print(colored(f\"\\nEl arreglo entragado es: {arr}\", \"magenta\"))\n",
        "print(\"\\n\")\n",
        "\n",
        "arr = merge_sort(arr)\n",
        "\n",
        "print(colored(f\"\\nEl arreglo ordenado es: {arr}\", \"magenta\"))\n"
      ],
      "metadata": {
        "id": "iIsXVHiQwUYi"
      },
      "execution_count": null,
      "outputs": []
    },
    {
      "cell_type": "markdown",
      "source": [
        "##2.3 Propiedades del algoritmo\n",
        "\n",
        "El algoritmo recibe de entrada un arreglo numérico de *N* elemento, el cual deseamos ordenar. Luego, se toman partes del arreglo original, las cuales seran reordenadas de menor a mayor dentro de 2 funciones.\n",
        "\n",
        "1. En cada iteración, se toma un arreglo inicial, el cual es dividido según la mitad del propio arreglo.\n",
        "\n",
        "2. Una vez se llega al menor tamaño posible, el cual es 1, se toman los elementos de esos arreglos y se comparan para saber cual sera la posición de cada uno.\n",
        "\n",
        "3. En comparación a otras funciones, Mergesort tiene una complejidad temporal constante, ya que no importa si el arreglo entregado se encuentra ordenado, la función de igual manera realizara todo su proceso.\n",
        "\n",
        "3. Aunque si el arreglo entregado es de tamaño 1, si finaliza inmediatamente la ejecución de la función.\n",
        "\n",
        "4. Al final, se retorna el arreglo ordenado y un contador de comparaciones: T.\n",
        "\n"
      ],
      "metadata": {
        "id": "BidVvbvQYXme"
      }
    },
    {
      "cell_type": "markdown",
      "source": [
        "#3. Correctitud.\n",
        "\n",
        "## **3.1 Correctitud de la función MergeSort.**\n",
        "\n",
        "###3.1.1 Teorema: \n",
        "El algoritmo merge sort recibe un arreglo de n elementos, y retorna un arreglo de n elementos ordenados.\n",
        "\n",
        "###3.1.2 Prueba del teorema: \n",
        "El algoritmo se llamará a si mismo de forma recursiva, dividiendo en cada iteración los arreglos de largo n que recibe en dos arreglos de largo n/2 con los mismos elementos, para ser combinados en el orden correcto por la función merge, a la cual ya probamos su correctitud.\n",
        "\n",
        "###3.1.3 Inicialización:\n",
        "En la primera iteración se dividirá el arreglo original en dos arreglos [q...r] y [k...p] siendo q y p los límites laterales del arreglo original, y r y k los elementos del medio.\n",
        "\n",
        "###3.1.4 Mantención:\n",
        "Los arreglos subsiguientes se dividirán en arreglos cuya suma de elementos seguirá siendo la cantidad de elementos del arreglo dividido.\n",
        "\n",
        "###3.1.4 Finalización:\n",
        "Ya que cada iteración del algoritmo mantiene la misma cantidad de datos, y que el funcionamiento de la función merge es correcta, se puede afirmar que de un arreglo de largo n, se obtendrá un arreglo de largo n ordenado.\n",
        "\n",
        "## **3.2 Correctitud de la función Merge.**\n",
        "\n",
        "### 3.2.1 Teorema: \n",
        "La función merge recibe un arreglo de largo n [a1, a2, ... an] y otro de largo m [a1, a2, ... am], luego retorna un arreglo de largo n+m ordenado.\n",
        "\n",
        "### 3.2.2 Prueba del teorema: \n",
        "En cada iteración de la función merge se colocará cada elemento del par de arreglos que recibe de manera ordenada en un arreglo n+m, sí que para probar el teorema utilizaremos la propiedad de bucle invariante.\n",
        "\n",
        "###3.2.3 Inicialización:\n",
        "En la primera iteración el arreglo de salida contendrá solo un valor, el cual se puede considerar que está ordenado, de manera que la propiedad se cumple.\n",
        "\n",
        "###3.2.4 Mantención:\n",
        "El arreglo de salida contendrá i-1 (siendo i el número de iteraciones) datos ordenados, siendo todos los valores restantes a ordenar mayores que los elementos ya ordenados.\n",
        "\n",
        "###3.2.5 Finalización:\n",
        "Ya que se cumple la propiedad al inicio y durante la ejecución del algoritmo, se puede afirmar que se generará un arreglo [a1, a2, ... , a(n+m)] con los mismos elementos de los arreglos de entrada ordenados de menor a mayor."
      ],
      "metadata": {
        "id": "EpeJDlQ_S2cf"
      }
    },
    {
      "cell_type": "markdown",
      "source": [
        "#4. Tiempo de Ejecución\n",
        "\n",
        "*MergeSort* tiene una complejidad temporal constante, la cual es *O(n log(n))*, y esta es la misma para todos los casos, ya que no realiza las mismas operaciones este el arreglo original ordenado o no."
      ],
      "metadata": {
        "id": "props2anS8IZ"
      }
    },
    {
      "cell_type": "markdown",
      "source": [
        "#5. Experimentación"
      ],
      "metadata": {
        "id": "wOrasbmRS_Gd"
      }
    },
    {
      "cell_type": "code",
      "source": [
        "import matplotlib.pyplot as plt\n",
        "import random\n",
        "from termcolor import colored\n",
        "\n",
        "def merge2(izq, der, verbose= True):\n",
        "  orden = []\n",
        "\n",
        "  while len(izq) > 0 and len(der) > 0:\n",
        "\n",
        "    if izq[0] < der[0]:\n",
        "      orden.append(izq.pop(0))\n",
        "    else:\n",
        "      orden.append(der.pop(0))\n",
        "\n",
        "  while len(izq) > 0:\n",
        "    orden.append(izq.pop(0))\n",
        "\n",
        "  while len(der) > 0:\n",
        "    orden.append(der.pop(0))\n",
        "\n",
        "  if verbose == True:\n",
        "    print(colored(f\"Sub-arreglos fusionados: {orden}\\n\",\"green\"))\n",
        "    \n",
        "  return orden\n",
        "\n",
        "def merge_sort(arr, verbose = True):\n",
        "  \n",
        "  if len(arr) <= 1:\n",
        "    return arr\n",
        "\n",
        "  else:\n",
        "\n",
        "    middle = len(arr) // 2\n",
        "    front = arr[:middle]\n",
        "    back = arr[middle:]\n",
        "    if verbose == True:\n",
        "      print(colored(f\"Sub-arreglos divididos: {front, back}\\n\", \"blue\"))\n",
        "    #print(\"Sub-arreglos: \", front, back)\n",
        "    front = merge_sort(front)\n",
        "    back = merge_sort(back)\n",
        "    return merge2(front, back)\n",
        "\n",
        " \n",
        "\n",
        "x=[n for n in range(5,20)] \n",
        "y1=[n*(n-1)/2 for n in range(5,20)] # worst case\n",
        "y2=[n-1 for n in range(5,20)] # best case\n",
        "y=[]; \n",
        "\n",
        "for n in range(2,20):\n",
        "  e = 0\n",
        "  a = random.sample(range(1, 100), n)\n",
        "  counter,e = merge_sort(a, False)\n",
        "  y.append(counter)\n",
        "\n",
        "plt.plot(x,y)\n",
        "plt.plot(x,y1)\n",
        "plt.plot(x,y2)\n",
        "plt.legend([\"merge Sort\", \"Mejor caso\", \"Peor Caso\"])\n",
        "\n",
        "plt.xlabel('n')\n",
        "plt.ylabel('Numero de operaciones')\n",
        "plt.show()"
      ],
      "metadata": {
        "colab": {
          "base_uri": "https://localhost:8080/",
          "height": 235
        },
        "id": "S2b5db2kUTAF",
        "outputId": "c084287a-7925-4744-a59a-ecffd3df1348"
      },
      "execution_count": 46,
      "outputs": [
        {
          "output_type": "error",
          "ename": "ValueError",
          "evalue": "ignored",
          "traceback": [
            "\u001b[0;31m---------------------------------------------------------------------------\u001b[0m",
            "\u001b[0;31mValueError\u001b[0m                                Traceback (most recent call last)",
            "\u001b[0;32m<ipython-input-46-f8fbd89d9cf8>\u001b[0m in \u001b[0;36m<module>\u001b[0;34m\u001b[0m\n\u001b[1;32m     52\u001b[0m   \u001b[0me\u001b[0m \u001b[0;34m=\u001b[0m \u001b[0;36m0\u001b[0m\u001b[0;34m\u001b[0m\u001b[0;34m\u001b[0m\u001b[0m\n\u001b[1;32m     53\u001b[0m   \u001b[0ma\u001b[0m \u001b[0;34m=\u001b[0m \u001b[0mrandom\u001b[0m\u001b[0;34m.\u001b[0m\u001b[0msample\u001b[0m\u001b[0;34m(\u001b[0m\u001b[0mrange\u001b[0m\u001b[0;34m(\u001b[0m\u001b[0;36m1\u001b[0m\u001b[0;34m,\u001b[0m \u001b[0;36m100\u001b[0m\u001b[0;34m)\u001b[0m\u001b[0;34m,\u001b[0m \u001b[0mn\u001b[0m\u001b[0;34m)\u001b[0m\u001b[0;34m\u001b[0m\u001b[0;34m\u001b[0m\u001b[0m\n\u001b[0;32m---> 54\u001b[0;31m   \u001b[0mcounter\u001b[0m\u001b[0;34m,\u001b[0m\u001b[0me\u001b[0m \u001b[0;34m=\u001b[0m \u001b[0mmerge_sort\u001b[0m\u001b[0;34m(\u001b[0m\u001b[0ma\u001b[0m\u001b[0;34m)\u001b[0m\u001b[0;34m\u001b[0m\u001b[0;34m\u001b[0m\u001b[0m\n\u001b[0m\u001b[1;32m     55\u001b[0m   \u001b[0my\u001b[0m\u001b[0;34m.\u001b[0m\u001b[0mappend\u001b[0m\u001b[0;34m(\u001b[0m\u001b[0mcounter\u001b[0m\u001b[0;34m)\u001b[0m\u001b[0;34m\u001b[0m\u001b[0;34m\u001b[0m\u001b[0m\n\u001b[1;32m     56\u001b[0m \u001b[0;34m\u001b[0m\u001b[0m\n",
            "\u001b[0;31mValueError\u001b[0m: not enough values to unpack (expected 2, got 1)"
          ]
        }
      ]
    }
  ]
}