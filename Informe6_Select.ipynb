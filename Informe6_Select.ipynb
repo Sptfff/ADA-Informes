{
  "nbformat": 4,
  "nbformat_minor": 0,
  "metadata": {
    "colab": {
      "provenance": [],
      "authorship_tag": "ABX9TyP+168lCEC4qFbHPHc0x/7R",
      "include_colab_link": true
    },
    "kernelspec": {
      "name": "python3",
      "display_name": "Python 3"
    },
    "language_info": {
      "name": "python"
    }
  },
  "cells": [
    {
      "cell_type": "markdown",
      "metadata": {
        "id": "view-in-github",
        "colab_type": "text"
      },
      "source": [
        "<a href=\"https://colab.research.google.com/github/Sptfff/ADA-Informes/blob/main/Informe6_Select.ipynb\" target=\"_parent\"><img src=\"https://colab.research.google.com/assets/colab-badge.svg\" alt=\"Open In Colab\"/></a>"
      ]
    },
    {
      "cell_type": "markdown",
      "source": [
        "#1. Problema de selección\n",
        "**Entrada:** Conjunto de números $A = [a_1,a_2,a_3,...,a_n]$ y un índice $k$\n",
        "\n",
        "**Salida:** Valor $n$, que es mayor a $i-1$ elementos de $A$\n",
        "\n",
        "\n",
        "-----\n",
        "\n",
        "![image.png](https://imgur.com/8gorIah.jpg)\n",
        "\n",
        "-----\n",
        "Los problemas de selección suelen ser algo simple de resolver, pero esto no aplica a la hora de implementarlo en un algoritmo, ni mucho menos si se trata de que se haga de la manera más eficiente. Aunque para esto surgen distintos algoritmos, como el que veremos a continuación."
      ],
      "metadata": {
        "id": "MOXaPbc5CJGW"
      }
    },
    {
      "cell_type": "markdown",
      "source": [
        "#2. Descripción del Algoritmo Select"
      ],
      "metadata": {
        "id": "OFEoOfsManj-"
      }
    },
    {
      "cell_type": "markdown",
      "source": [
        "Select fracciona el arreglo recibido para encontrar el n-ésimo elemento más pequeño, para fraccionar el arreglo hace lo siguiente:\n",
        "\n",
        "1. Un algoritmo con el que se puede \"comparar\" este algoritmo es con *Quick Sort* ya que ambos hacen uso de la función *partition*, por lo que ambos dependen tanto de una función externa como del tiempo de ejecución de la misma.\n",
        "\n",
        "2. Similar al punto anterior, tambien similitud con *Bucket Sort*, ya que ambos algortimos llaman a una función auxiliar, en este caso esa función es *Insertion Sort*, por lo que \"dependen\" de la efectividad de esta función, por lo que ambos algoritmos \"dividen\" el arreglo recibido en sub-arreglos de menor tamaño, para evitar que *Insertion Sort* haga un número demasiado grande de comparaciones."
      ],
      "metadata": {
        "id": "LhbvSzNeebEH"
      }
    },
    {
      "cell_type": "markdown",
      "source": [
        "#Código"
      ],
      "metadata": {
        "id": "3-qq2HeCViBC"
      }
    },
    {
      "cell_type": "code",
      "execution_count": 109,
      "metadata": {
        "id": "Ek1QiW07AJvj",
        "colab": {
          "base_uri": "https://localhost:8080/"
        },
        "outputId": "a197544d-1d1f-419e-bb94-3ecd220445eb"
      },
      "outputs": [
        {
          "output_type": "stream",
          "name": "stdout",
          "text": [
            "\u001b[35mArreglo recibido: [31, 24, 64, 52, 60, -11, -5, -10, 46, -7, 17]\n",
            "\u001b[0m\n",
            "\u001b[32m\n",
            "Arreglo: [-11, -10, -7, -5, 17, 24, 31, 46, 52, 60, 64]\u001b[0m\n",
            "\u001b[32m3° valor más pequeño: -7\t Contador: [77]\u001b[0m\n"
          ]
        }
      ],
      "source": [
        "import random\n",
        "from termcolor import colored\n",
        "\n",
        "\n",
        "def insertionSort(arr, cont, verbose = True):\n",
        "\n",
        "  for i in range(0, len(arr) ):\n",
        "    aux = arr[i]\n",
        "    j = i-1\n",
        "    while j >= inicio and aux < arr[j] :\n",
        "        cont[0] += 1\n",
        "        arr[j+1] = arr[j]\n",
        "        j -= 1\n",
        "        arr[j+1] = aux\n",
        "\n",
        "  return arr\n",
        "\n",
        "def partition(arr, l, r, cont, verbose = True):\n",
        "\n",
        "    x = pivotSelection(arr,l,r, cont, verbose)\n",
        "\n",
        "    i = l\n",
        "    for j in range(l, r):\n",
        "        cont[0]+=1\n",
        "        if arr[j] <= x:\n",
        "            arr[i], arr[j] = arr[j], arr[i]\n",
        "            i += 1\n",
        "              \n",
        "    arr[i], arr[r] = arr[r], arr[i]\n",
        "    return i\n",
        "\n",
        "def pivotSelection(arr, izq, der, cont, verbose = True):\n",
        "\n",
        "    auxArr = arr #Arreglo auxiliar para no alterar el orden del arreglo original\n",
        "\n",
        "    cont[0] += 1\n",
        "    if der-izq <= 5:     #Si el arreglo tiene 5 o menos elementos, no hace falta dividirlo \n",
        "      insertionSort(auxArr,cont) #Luego de ordenar, la mediana será el valor del medio\n",
        "      if(verbose):\n",
        "        print(colored(f\"El largo del arreglo es menor o igual a 5\", \"red\"))\n",
        "        print(colored(f\"Mediana: {auxArr[round((der-izq)/2)]}\", \"green\"))\n",
        "      return auxArr[round((der-izq)/2)]\n",
        "\n",
        "    medianas = []\n",
        "\n",
        "\n",
        "    #Se crean n/5 subarreglos \n",
        "    for i in range(izq, der, 5):\n",
        "      subDer = i+4\n",
        "      cont[0]+=1\n",
        "      if(subDer > der):\n",
        "        subDer = der\n",
        "\n",
        "      subArr = arr[:subDer+1]\n",
        "      subArr = subArr[i:]\n",
        "      #print(subArr)\n",
        "      insertionSort(subArr,cont)    \n",
        "      #Se guarda la mediana en un arreglo de medianas\n",
        "      if(verbose == True):\n",
        "        print(colored(f\"La mediana del sub-arreglo\", \"green\"), colored(f\"{subArr}\", \"blue\"), colored(f\" es:\", \"green\"), colored(f\" {subArr[round(len(subArr)/2)]}\", \"blue\"))\n",
        "      medianas.append(subArr[round(len(subArr)/2)])\n",
        "    if verbose:\n",
        "      print(colored(f\"\\nArreglo de medianas: {medianas}\", \"green\"))\n",
        "    #Se llama recursivamente a esta función pasandole el arreglo de medianas\n",
        "    return pivotSelection(medianas, 0, len(medianas), cont, verbose)\n",
        "\n",
        "\n",
        "\n",
        "def select(arr, l, r, k, cont, verbose = True):\n",
        "  \n",
        "    if (k > 0 and k <= r - l + 1): #Comprobar validez de la entrada\n",
        "        cont[0]+=1\n",
        "        if(verbose == True):\n",
        "          print(colored(f\"El valor que se busca es: {key}\", \"green\"))\n",
        "          print(colored(f\"El arreglo se pasa Partition\\n\", \"yellow\"))\n",
        "        index = partition(arr, l, r, cont, verbose) #Se divide el arreglo\n",
        "\n",
        "        if(verbose == True):\n",
        "          print(colored(f\"\\nEl indice obtenido es: {index}\", \"yellow\"))\n",
        "          print(colored(f\"Arreglo luego de partition {arr}\\n\", \"blue\"))\n",
        "\n",
        "        if (index - l == k - 1): #Si el index es igual al valor ingresado, en esta posición se encuentra el número\n",
        "            cont[0]+=1\n",
        "            if(verbose == True):\n",
        "              print(colored(f\"El indice es igual al valor que se busca {arr[index]}\", \"green\"))\n",
        "            return arr[index]\n",
        "        #Se llama de manera recursiva a la función select con la mitad identificada\n",
        "        if (index - l > k - 1):\n",
        "            cont[0]+=1\n",
        "            if(verbose):\n",
        "               print(colored(f\"Se busca en la mitad: {arr[:index]}\", \"red\"))\n",
        "\n",
        "            return select(arr, l, index - 1, k, cont, verbose)\n",
        "\n",
        "        if(verbose):\n",
        "               print(colored(f\"Se busca en la mitad: {arr[index:]}\", \"red\"))\n",
        "\n",
        "        return select(arr, index + 1, r, k - index + l - 1, cont, verbose)\n",
        "        \n",
        "    else: \n",
        "      print(colored(f\"ERROR\", \"red\"))\n",
        "\n",
        "n = random.randint(10,30)\n",
        "arr = random.sample(range(-50, 100), n)\n",
        "#arr = [7, 4, 9, 2, 11, 1, 3, 19, 8]\n",
        "print(colored(f\"Arreglo recibido: {arr}\\n\", \"magenta\"))\n",
        "inicio = 0; limit = 1; key = 3\n",
        "cont = [0]\n",
        "k_esimo = select(arr, inicio, len(arr)-1, key, cont, False)\n",
        "print(colored(f\"\\nArreglo: {arr}\", \"green\"))\n",
        "print(colored(f\"3° valor más pequeño: {k_esimo}\\t Contador: {cont}\", \"green\"))"
      ]
    },
    {
      "cell_type": "markdown",
      "source": [
        "##Ejecución paso a paso (verbose = True)"
      ],
      "metadata": {
        "id": "ZRLJK5RjUKtB"
      }
    },
    {
      "cell_type": "code",
      "source": [
        "n = random.randint(1,37)\n",
        "arr = random.sample(range(-50, 100), n)\n",
        "print(colored(f\"Arreglo recibido: {arr}\\n\", \"magenta\"))\n",
        "cont = [0]\n",
        "k_esimo = select(arr, inicio, len(arr)-1, key, cont, True)\n",
        "print(colored(f\"\\nArreglo: {arr}\", \"green\"))\n",
        "print(colored(f\"3° valor más pequeño: {k_esimo}\\t Contador: {cont}\", \"green\"))"
      ],
      "metadata": {
        "colab": {
          "base_uri": "https://localhost:8080/"
        },
        "id": "3RT1VGED6N--",
        "outputId": "ed53607d-b6a0-4a24-e468-13c1f7ebda3e"
      },
      "execution_count": 114,
      "outputs": [
        {
          "output_type": "stream",
          "name": "stdout",
          "text": [
            "\u001b[35mArreglo recibido: [-33, 13, -16, -50, 80, -29, 95, 67, 83, 19, 53, 47, 60, 57, -49]\n",
            "\u001b[0m\n",
            "\u001b[32mEl valor que se busca es: 3\u001b[0m\n",
            "\u001b[33mEl arreglo se pasa Partition\n",
            "\u001b[0m\n",
            "\u001b[32mLa mediana del sub-arreglo\u001b[0m \u001b[34m[-50, -33, -16, 13, 80]\u001b[0m \u001b[32m es:\u001b[0m \u001b[34m -16\u001b[0m\n",
            "\u001b[32mLa mediana del sub-arreglo\u001b[0m \u001b[34m[-29, 19, 67, 83, 95]\u001b[0m \u001b[32m es:\u001b[0m \u001b[34m 67\u001b[0m\n",
            "\u001b[32mLa mediana del sub-arreglo\u001b[0m \u001b[34m[-49, 47, 53, 57, 60]\u001b[0m \u001b[32m es:\u001b[0m \u001b[34m 53\u001b[0m\n",
            "\u001b[32m\n",
            "Arreglo de medianas: [-16, 67, 53]\u001b[0m\n",
            "\u001b[31mEl largo del arreglo es menor o igual a 5\u001b[0m\n",
            "\u001b[32mMediana: 67\u001b[0m\n",
            "\u001b[33m\n",
            "El indice obtenido es: 11\u001b[0m\n",
            "\u001b[34mArreglo luego de partition [-33, 13, -16, -50, -29, 67, 19, 53, 47, 60, 57, -49, 95, 80, 83]\n",
            "\u001b[0m\n",
            "\u001b[31mSe busca en la mitad: [-33, 13, -16, -50, -29, 67, 19, 53, 47, 60, 57]\u001b[0m\n",
            "\u001b[32mEl valor que se busca es: 3\u001b[0m\n",
            "\u001b[33mEl arreglo se pasa Partition\n",
            "\u001b[0m\n",
            "\u001b[32mLa mediana del sub-arreglo\u001b[0m \u001b[34m[-50, -33, -29, -16, 13]\u001b[0m \u001b[32m es:\u001b[0m \u001b[34m -29\u001b[0m\n",
            "\u001b[32mLa mediana del sub-arreglo\u001b[0m \u001b[34m[19, 47, 53, 60, 67]\u001b[0m \u001b[32m es:\u001b[0m \u001b[34m 53\u001b[0m\n",
            "\u001b[32m\n",
            "Arreglo de medianas: [-29, 53]\u001b[0m\n",
            "\u001b[31mEl largo del arreglo es menor o igual a 5\u001b[0m\n",
            "\u001b[32mMediana: 53\u001b[0m\n",
            "\u001b[33m\n",
            "El indice obtenido es: 8\u001b[0m\n",
            "\u001b[34mArreglo luego de partition [-33, 13, -16, -50, -29, 19, 53, 47, 57, 60, 67, -49, 95, 80, 83]\n",
            "\u001b[0m\n",
            "\u001b[31mSe busca en la mitad: [-33, 13, -16, -50, -29, 19, 53, 47]\u001b[0m\n",
            "\u001b[32mEl valor que se busca es: 3\u001b[0m\n",
            "\u001b[33mEl arreglo se pasa Partition\n",
            "\u001b[0m\n",
            "\u001b[32mLa mediana del sub-arreglo\u001b[0m \u001b[34m[-50, -33, -29, -16, 13]\u001b[0m \u001b[32m es:\u001b[0m \u001b[34m -29\u001b[0m\n",
            "\u001b[32mLa mediana del sub-arreglo\u001b[0m \u001b[34m[19, 47, 53]\u001b[0m \u001b[32m es:\u001b[0m \u001b[34m 53\u001b[0m\n",
            "\u001b[32m\n",
            "Arreglo de medianas: [-29, 53]\u001b[0m\n",
            "\u001b[31mEl largo del arreglo es menor o igual a 5\u001b[0m\n",
            "\u001b[32mMediana: 53\u001b[0m\n",
            "\u001b[33m\n",
            "El indice obtenido es: 7\u001b[0m\n",
            "\u001b[34mArreglo luego de partition [-33, 13, -16, -50, -29, 19, 53, 47, 57, 60, 67, -49, 95, 80, 83]\n",
            "\u001b[0m\n",
            "\u001b[31mSe busca en la mitad: [-33, 13, -16, -50, -29, 19, 53]\u001b[0m\n",
            "\u001b[32mEl valor que se busca es: 3\u001b[0m\n",
            "\u001b[33mEl arreglo se pasa Partition\n",
            "\u001b[0m\n",
            "\u001b[32mLa mediana del sub-arreglo\u001b[0m \u001b[34m[-50, -33, -29, -16, 13]\u001b[0m \u001b[32m es:\u001b[0m \u001b[34m -29\u001b[0m\n",
            "\u001b[32mLa mediana del sub-arreglo\u001b[0m \u001b[34m[19, 53]\u001b[0m \u001b[32m es:\u001b[0m \u001b[34m 53\u001b[0m\n",
            "\u001b[32m\n",
            "Arreglo de medianas: [-29, 53]\u001b[0m\n",
            "\u001b[31mEl largo del arreglo es menor o igual a 5\u001b[0m\n",
            "\u001b[32mMediana: 53\u001b[0m\n",
            "\u001b[33m\n",
            "El indice obtenido es: 6\u001b[0m\n",
            "\u001b[34mArreglo luego de partition [-33, 13, -16, -50, -29, 19, 53, 47, 57, 60, 67, -49, 95, 80, 83]\n",
            "\u001b[0m\n",
            "\u001b[31mSe busca en la mitad: [-33, 13, -16, -50, -29, 19]\u001b[0m\n",
            "\u001b[32mEl valor que se busca es: 3\u001b[0m\n",
            "\u001b[33mEl arreglo se pasa Partition\n",
            "\u001b[0m\n",
            "\u001b[31mEl largo del arreglo es menor o igual a 5\u001b[0m\n",
            "\u001b[32mMediana: -33\u001b[0m\n",
            "\u001b[33m\n",
            "El indice obtenido es: 3\u001b[0m\n",
            "\u001b[34mArreglo luego de partition [-50, -49, -33, 13, -16, -29, 19, 47, 53, 57, 60, 67, 80, 83, 95]\n",
            "\u001b[0m\n",
            "\u001b[31mSe busca en la mitad: [-50, -49, -33]\u001b[0m\n",
            "\u001b[32mEl valor que se busca es: 3\u001b[0m\n",
            "\u001b[33mEl arreglo se pasa Partition\n",
            "\u001b[0m\n",
            "\u001b[31mEl largo del arreglo es menor o igual a 5\u001b[0m\n",
            "\u001b[32mMediana: -49\u001b[0m\n",
            "\u001b[33m\n",
            "El indice obtenido es: 2\u001b[0m\n",
            "\u001b[34mArreglo luego de partition [-50, -49, -33, -29, -16, 13, 19, 47, 53, 57, 60, 67, 80, 83, 95]\n",
            "\u001b[0m\n",
            "\u001b[32mEl indice es igual al valor que se busca -33\u001b[0m\n",
            "\u001b[32m\n",
            "Arreglo: [-50, -49, -33, -29, -16, 13, 19, 47, 53, 57, 60, 67, 80, 83, 95]\u001b[0m\n",
            "\u001b[32m3° valor más pequeño: -33\t Contador: [137]\u001b[0m\n"
          ]
        }
      ]
    },
    {
      "cell_type": "markdown",
      "source": [
        "#Correctitud"
      ],
      "metadata": {
        "id": "z_dK7SKFmZss"
      }
    },
    {
      "cell_type": "markdown",
      "source": [
        "Select encuentra el n-ésimo elementos menor de un arreglo  de largo $k$, siempre que n <= k.\n",
        "\n",
        "Dado que Select es una función recursiva utilizaremos inducción matemática:\n",
        "\n",
        "    Se asume que Insertion, Partition y PivotSelect son correctos.\n",
        "\n",
        "> Caso base (k = 1): En este caso solo existe un elemento en el arreglo, por lo que este es el n-ésimo menor elemento. \n",
        "\n",
        "> Caso general: Si luego de obtener la mediana de las medianas, esta no es el n-ésimo valor buscado, entonces: \n",
        "Se aplica este valor como pivote en la función partition. Por lo que el arreglo queda en 2 partes, la izquierda siendo los elementos menores al pivote, mientras que los de la derecha, los mayores.\n",
        "Después se comprobará si el pivote es menor o mayor al n-ésimo elemento, si es menor se comprobarán los valores que se encuentran en la derecha del arreglo, en caso contrario se buscaran en el sector izquierdo.\n",
        "> Después de identificar la mitad correcto, se \"enviará\" esa mitad a Select nuevamente, hasta llegar al caso base, y dado que este se tomo como correcto, significa que el caso general también lo es.\n"
      ],
      "metadata": {
        "id": "d0X327iomctj"
      }
    },
    {
      "cell_type": "markdown",
      "source": [
        "#Tiempo de ejecución"
      ],
      "metadata": {
        "id": "8e8uzfrsaHrF"
      }
    },
    {
      "cell_type": "markdown",
      "source": [
        "Para calcular el tiempo de ejecución de *Select* primero se debe de estimar el tiempo adicional que tendrá ya que esta llama a funciones auxiliares, las cuales son:\n",
        "\n",
        "> PivotSelect: Esta función divide el arreglo en sub-arreglos de 5 elementos ($n\\frac 5$ sub-arreglos), luego llama a la función *Insertion Sort* para que ordene cada sub-arreglo y obtener su mediana, agregando esta a un arreglo de mediana. Una vez completado este arreglo se llama a pivotSelect (lo que hace que esta función sea recursiva). Todos esto con tal de encontrar un buen pivote (una elemento casi central del arreglo recibido). Todo el proceso (excluyendo a *Insertion Sort*) posee una complejidad de $O(n)$.\n",
        "\n",
        "> Insertion Sort: Este posee una complejidad de $O(n)$ en su caso promedio, mientras que en el peor posee una complejidad de $O(n^2)$.\n",
        "\n",
        "Buscar la mediana tiene complejidad lineal, por lo no afecta en gran medida la complejidad de Pivot Select.\n",
        "\n",
        "$T(n) = T(\\frac n 5 ) O(n)$\n",
        "\n",
        "Usando el Teorema maestro.\n",
        "a = 1; b = 5; c = 1.\n",
        "\n",
        " $a < b^c -> 1 < 5^1$.\n",
        "\n",
        "Eso signfica que la complejidad queda como $O(n^c) = O(n^1) = O(n)$.\n",
        "\n",
        "> Partition: Posee una complejidad de $O(n)$, esto de manera constante (sin alteraciones).\n",
        "\n",
        "Finalizado el proceso anterior tenemos que PivotSelect posee una complejidad $O(n)$ mientras que Partition una de $O(n)$.\n",
        "\n",
        "Dado que pivotSelect selecciona un elemento como pivote, luego Partition \"verifica\" si el pivote es el elemento buscado, en caso de que no sea así, llama a select con una de las mitades del arreglo donde podría estar el elemento.\n",
        "\n",
        "En el peor caso, estas mitades estarían mal distribuidas, es decir que quedarían $\\frac{3n} {10}$ elementos a una mitad y en la otra $\\frac{7n}{10}$.\n",
        "\n",
        "Probando con ambos casos:\n",
        "> $\\frac{7n}{10}$ -->  $T(n) = T(\\frac{7n}{10}) + O(n) + O(n) = T(\\frac{7n}{10}) + 2O(n)$.\n",
        "\n",
        "Y aplicando propiedades de fracciones, podemos decir que $\\frac{7n}{10} = \\frac{n}{\\frac{10}{7}}$.\n",
        "\n",
        "lo que queda como:\n",
        "$T(n) = T(\\frac{n}{\\frac{10}{7}}) + 2O(n)$.\n",
        "\n",
        "Y aplicando teorema maestro con: $a =1; b = \\frac{7n}{10}; c = 1$.\n",
        "\n",
        "$a < b^c -> 1 < \\frac{7n}{10}$\n",
        "\n",
        "Lo que significa que el algoritmo en este caso posee complejidad $O(n^c) = O(n)$.\n",
        "\n",
        "Ahora probando con el otro caso\n",
        "\n",
        "Con las complejidades de ambas fracciones podemos decir que la complejidad del algoritmo se encuentra entre estas 2, es decir:\n",
        "> $\\frac{3n}{10}$ -->  $T(n) = T(\\frac{3n}{10}) + O(n) + O(n) = T(\\frac{3n}{10}) + 2O(n)$.\n",
        "\n",
        "Y aplicando propiedades de fracciones, podemos decir que $\\frac{3n}{10} = \\frac{n}{\\frac{10}{3}}$.\n",
        "\n",
        "lo que queda como:\n",
        "$T(n) = T(\\frac{n}{\\frac{10}{3}}) + 2O(n)$.\n",
        "\n",
        "Y aplicando teorema maestro con: $a =1; b = \\frac{3n}{10}; c = 1$.\n",
        "\n",
        "$a < b^c -> 1 < \\frac{3n}{10}$\n",
        "\n",
        "Lo que significa que el algoritmo en este caso posee complejidad $O(n^c) = O(n)$.\n",
        "\n",
        "$3n/10 <= complejidad Select <= 7n/10$\n",
        "\n",
        "Lo que significa que el algoritmo Select posee una complejidad En su caso promedio de $O(n)$.\n"
      ],
      "metadata": {
        "id": "tYwSmTTraluS"
      }
    },
    {
      "cell_type": "markdown",
      "source": [
        "#Experimentación"
      ],
      "metadata": {
        "id": "wP8Su4Nk5Lpl"
      }
    },
    {
      "cell_type": "code",
      "source": [
        "import matplotlib.pyplot as plt\n",
        "import datetime\n",
        "from timeit import repeat\n",
        "import random\n",
        "\n",
        "def partition(arr, l, r, cont, verbose = True):\n",
        "\n",
        "    auxArr = arr[l:r+1]\n",
        "    x = random.choice(auxArr)\n",
        "\n",
        "    i = l\n",
        "    for j in range(l, r):\n",
        "        cont[0]+=1\n",
        "        if arr[j] <= x:\n",
        "            arr[i], arr[j] = arr[j], arr[i]\n",
        "            i += 1\n",
        "              \n",
        "    arr[i], arr[r] = arr[r], arr[i]\n",
        "\n",
        "    return i\n",
        "  \n",
        "def RandomSelect(arr, l, r, k, cont, verbose = True):\n",
        "  \n",
        "    if (k > 0 and k <= r - l + 1): #Comprobar validez de la entrada\n",
        "        cont[0]+=1\n",
        "  \n",
        "        index = partition(arr, l, r, cont, verbose) #Se divide el arreglo\n",
        "\n",
        "        if verbose:\n",
        "          print(\"\\nArreglo:\", arr[l:r+1])\n",
        "          print(\"Indice encontrado:\",index)\n",
        "\n",
        "        if (index - l == k - 1): #Si el index es igual al valor ingresado, en esta posición se encuentra el número\n",
        "            cont[0]+=1\n",
        "            if verbose:\n",
        "              print(\"El indice es igual al limite derecho\")\n",
        "\n",
        "            return arr[index]\n",
        "  \n",
        "        #Se llama de manera recursiva a la función select con la mitad identificada\n",
        "        if (index - l > k - 1):\n",
        "            cont[0]+=1\n",
        "            if(verbose):\n",
        "              print(\"Mitad que contiene el valor\", arr[:index])\n",
        "\n",
        "            return RandomSelect(arr, l, index - 1, k, cont, verbose)\n",
        "\n",
        "        if(verbose):\n",
        "              print(\"Mitad que contiene el valor\", arr[index:])\n",
        "\n",
        "        return RandomSelect(arr, index + 1, r, k - index + l - 1, cont, verbose)\n",
        "        \n",
        "    else: \n",
        "      print(\"Entrada invalida\")\n",
        "\n",
        "x=[]; y=[]; x2=[]; y2=[]; cont = [0]\n",
        "\n",
        "for n in range(5,100):\n",
        "  nums = []\n",
        "  nums2 = []\n",
        "\n",
        "  for i in range(0,n):\n",
        "    \n",
        "    a = random.sample(range(1, 1000), n)\n",
        "    nums.append(a)\n",
        "    nums2.append(a)\n",
        "    \n",
        "  k = random.randrange(1,len(nums)-1)\n",
        "  t = repeat(setup=\"from __main__ import select\", stmt=f\"select({nums},{0}, {len(nums)-1},{k}, {cont}, {False})\", repeat=1, number=10)\n",
        "  t2 = repeat(setup=\"from __main__ import RandomSelect\", stmt=f\"RandomSelect({nums2},{0}, {len(nums2)-1},{k}, {cont}, {False})\", repeat=1, number=10)\n",
        "\n",
        "  x.append(n)\n",
        "  y.append(t)\n",
        "\n",
        "  x2.append(n)\n",
        "  y2.append(t2)\n",
        "\n",
        "\n",
        "plt.plot(x,y)\n",
        "plt.plot(x2,y2)\n",
        "plt.title(\"Tiempo de ejecución (Select v/s RandomSelect\")\n",
        "plt.legend([\"Select\",\"RandomSelect\"])\n",
        "\n",
        "plt.xlabel('n')\n",
        "plt.ylabel('time in ms')\n",
        "plt.show()"
      ],
      "metadata": {
        "colab": {
          "base_uri": "https://localhost:8080/",
          "height": 295
        },
        "id": "Dkj0_tPunZLT",
        "outputId": "b14912da-1439-406a-e529-1434608f4f26"
      },
      "execution_count": 119,
      "outputs": [
        {
          "output_type": "display_data",
          "data": {
            "text/plain": [
              "<Figure size 432x288 with 1 Axes>"
            ],
            "image/png": "[encoded data removed]"
          },
          "metadata": {
            "needs_background": "light"
          }
        }
      ]
    },
    {
      "cell_type": "markdown",
      "source": [
        "En el gráfico se puede ver de que ambos algoritmos presentan un tiempo de ejecución similar. Aunque esto pueda parece contra-intuitivo, debido a que uno elige el pivote de forma aleatoria, las verdaderas posibilidades de que ocurra el caso de que el pivote sea desbalanceado son mucho más pequeñas de lo que podría llegar a parecer."
      ],
      "metadata": {
        "id": "LP5aCZ_rn5dc"
      }
    },
    {
      "cell_type": "code",
      "source": [
        "import matplotlib.pyplot as plt\n",
        "import random\n",
        "\n",
        "x=[n for n in range(5,100)] \n",
        "y=[]; y2=[]; cont=[0]; cont2=[0]\n",
        "\n",
        "for n in range(5,100):\n",
        "\n",
        "  b = [n for n in range(0,n)]\n",
        "  k = random.randrange(1,len(b)-1)\n",
        "  counter = select(b, 0, len(b)-1, k,cont,False)\n",
        "  y.append(cont[0])\n",
        "  cont[0] = 0\n",
        "\n",
        "  c = [n for n in range(n,0,-1)]\n",
        "  k = random.randrange(1,len(c)-1)\n",
        "  counter = select(b, 0, len(c)-1, k,cont2,False)\n",
        "  y2.append(cont2[0])\n",
        "  cont2[0] = 0\n",
        "\n",
        "\n",
        "plt.plot(x,y)\n",
        "plt.plot(x,y2)\n",
        "plt.title(\"Mejor caso v/s Peor caso teorico de Select\")\n",
        "plt.legend([\"Arreglo creciente\", \"Arreglo decreciente\"])\n",
        "\n",
        "plt.xlabel('n')\n",
        "plt.ylabel('Número de comparaciones')\n",
        "plt.show()"
      ],
      "metadata": {
        "colab": {
          "base_uri": "https://localhost:8080/",
          "height": 295
        },
        "id": "hr5lWrG7oo1i",
        "outputId": "4c71510c-24f5-4f45-f357-244d77873285"
      },
      "execution_count": 126,
      "outputs": [
        {
          "output_type": "display_data",
          "data": {
            "text/plain": [
              "<Figure size 432x288 with 1 Axes>"
            ],
            "image/png": "[encoded data removed]"
          },
          "metadata": {
            "needs_background": "light"
          }
        }
      ]
    },
    {
      "cell_type": "markdown",
      "source": [
        "En el gráfico se ve el número de comparaciones entre el mejor y el peor caso de Select, aunque en realidad esas variaciones que se ven se deben principalmente a las funciones auxiliares, como lo son Insertion Sort y Partition, ya que depende del caso que reciban estas se pueden disparar el número de comparaciones, sobre todo teniendo en consideración que el peor caso de Insertion Sort es similar a un mal caso de Partition."
      ],
      "metadata": {
        "id": "Sq1AXi5yo0QK"
      }
    }
  ]
}