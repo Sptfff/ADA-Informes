{
  "nbformat": 4,
  "nbformat_minor": 0,
  "metadata": {
    "colab": {
      "name": "Informe3 - Problema del sub-arreglo máximo.ipynb",
      "provenance": [],
      "collapsed_sections": [],
      "authorship_tag": "ABX9TyNKFTijVagsV9koI4nO8/fB",
      "include_colab_link": true
    },
    "kernelspec": {
      "name": "python3",
      "display_name": "Python 3"
    },
    "language_info": {
      "name": "python"
    }
  },
  "cells": [
    {
      "cell_type": "markdown",
      "metadata": {
        "id": "view-in-github",
        "colab_type": "text"
      },
      "source": [
        "<a href=\"https://colab.research.google.com/github/Sptfff/ADA-Informes/blob/main/Informe3_Problema_del_sub_arreglo_m%C3%A1ximo.ipynb\" target=\"_parent\"><img src=\"https://colab.research.google.com/assets/colab-badge.svg\" alt=\"Open In Colab\"/></a>"
      ]
    },
    {
      "cell_type": "markdown",
      "source": [
        "#1. Descripción del problema"
      ],
      "metadata": {
        "id": "Jbe6PkDpLT75"
      }
    },
    {
      "cell_type": "markdown",
      "source": [
        "**Entrada**: Arreglo númerico de tamaño *n*: $[a_1,a_2,...,a_n]$.\n",
        "\n",
        "**Salida**: Suma del sub-arreglo máximo, e índices del sub-arreglo.\n",
        "\n",
        "El problema del sub-arreglo máximo consiste en encontrar la suma más larga dentro de un arreglo *A*, \"separando\" estos elementos del arreglo, en un sub-arreglo contiguo al arreglo original.\n",
        "\n",
        "![image](https://imgur.com/wsfCDkA.jpg)\n",
        "\n",
        "![image](https://imgur.com/7EKTUgM.jpg)\n",
        "\n",
        "Aunque este problema a primera vista no pareciera tener una aplicación del todo practica, definitivamente la tiene, ya que es sumamente necesaria a la hora de análisis de dato, como puede ser en las inteligencias artificiales que procesan imagenes, donde haciendo conversión de ciertos datos, se puede analizar que zonas de las imagenes es más brillante que otra, lo que puede generar un mapa de profundidad de la imagen.\n",
        "Tambien llega a tener usos en la biologia como es en el analisis de secuencias de genomas."
      ],
      "metadata": {
        "id": "dDc1fJa_8WRU"
      }
    },
    {
      "cell_type": "markdown",
      "source": [
        "#2. Algoritmo para el sub-arreglo máximo"
      ],
      "metadata": {
        "id": "vnV-ZwaqTNPE"
      }
    },
    {
      "cell_type": "markdown",
      "source": [
        "##2.1 Descripción del Algoritmo\n",
        "\n",
        "En este caso para \"solucionar\" el problema del sub-arreglo máximo, haremos uso de la *MaxSubArray*, la cual tendrá un enfoque de \"Divide y venceras\", similar al que ocupan otros algoritmos como *MergeSort*.\n",
        "\n",
        "Por lo que opera el arreglo original en 2 sub-arreglos de menor tamaño en comparación al original. \n",
        "\n",
        "El tiempo de ejecución de este algortimo corresponde a *O(NLog(n))*, debido a la funcion MaxSubArray, que al ser recursiva y dividir el arreglo en 2, obtiene como tiempo de ejecución *O(Log(n))*, además de la funcion MaxCrossingSum que al ser lineal tiene tiempo de ejecución *O(n)*. Y como el algoritmo ejecuta estas 2 funciones, el tiempo de ejecución total resulta ser *O(NLog(n))*."
      ],
      "metadata": {
        "id": "Z5UrmP3eQpLb"
      }
    },
    {
      "cell_type": "markdown",
      "source": [
        "#3. Código"
      ],
      "metadata": {
        "id": "m8cC44QiTV_X"
      }
    },
    {
      "cell_type": "code",
      "source": [
        "import random\n",
        "from termcolor import colored\n",
        "import copy\n",
        "\n",
        "def maxCrossingSum(arr, i, mid, j, indices):\n",
        "\tsuma = 0\n",
        "\tsuma_izquierda = -10000\n",
        "\n",
        "\tfor z in range(mid, i-1, -1):\n",
        "\t\tsuma = suma + arr[z]\n",
        "\t\tif (suma > suma_izquierda):\n",
        "\t\t\tsuma_izquierda = suma\n",
        "\t\n",
        "\tsuma = 0\n",
        "\tsuma_derecha= -1000\n",
        "\tindices[2] = mid\n",
        "\t\n",
        "\tfor z in range(mid, j + 1):\n",
        "\t\tsuma = suma + arr[z]\n",
        "\t\tif (suma > suma_derecha):\n",
        "\t\t\tsuma_derecha = suma\n",
        "\t\n",
        "\treturn max(suma_izquierda + suma_derecha - arr[mid], suma_izquierda, suma_derecha)\n",
        "\n",
        "\n",
        "def maxSubArray(arr, i, j, indices):\n",
        "\tindices[0] = i\n",
        "\tindices[1] = j\n",
        "\tif (i > j):\n",
        "\t\treturn -10000;\n",
        "\tif (i == j):\n",
        "\t\treturn arr[i];\n",
        "\tmid = (i+j) // 2;\n",
        "\t\n",
        "\treturn max(maxSubArray(arr, i, mid-1, indices), maxSubArray(arr, mid+1, j, indices), maxCrossingSum(arr, i, mid, j, indices))\n",
        "\n",
        "arr = [12, 11, 13, 6, 81, 9, 15, 23]\n",
        "largo = random.randint(3, 20)\n",
        "arr = random.sample(range(-100, 100), largo)\n",
        "n = len(arr)\n",
        "print(colored(f\"\\nEl arreglo entregado es: {arr}\\n\", \"magenta\"))\n",
        "indices = [0, 0, 0] \n",
        "max_sum = maxSubArray(arr, 0, n-1, indices)\n",
        "\n",
        "\n",
        "print(colored(f\"La suma del sub-arreglo máximo es: {max_sum}\", \"magenta\"))\n",
        "print(colored(f\"\\nIndice i: {indices[0]}\", \"blue\"))\n",
        "print(colored(f\"Indice j: {indices[1]}\", \"blue\"))\n",
        "print(colored(f\"Indice mid: {indices[2]}\", \"blue\"))\n",
        "\n"
      ],
      "metadata": {
        "id": "TkHJXEQatHWS",
        "colab": {
          "base_uri": "https://localhost:8080/"
        },
        "outputId": "1e20d6b1-d3c1-495e-d17e-066c1e9ac709"
      },
      "execution_count": null,
      "outputs": [
        {
          "output_type": "stream",
          "name": "stdout",
          "text": [
            "\u001b[35m\n",
            "El arreglo entregado es: [98, -22, -92, 86, 42, 59, 43, 36, -98, -9, 6, -7, -95, 80, -97, -72, 10]\n",
            "\u001b[0m\n",
            "\u001b[35mLa suma del sub-arreglo máximo es: 266\u001b[0m\n",
            "\u001b[34m\n",
            "Indice i: 16\u001b[0m\n",
            "\u001b[34mIndice j: 16\u001b[0m\n",
            "\u001b[34mIndice mid: 8\u001b[0m\n"
          ]
        }
      ]
    },
    {
      "cell_type": "markdown",
      "source": [
        "#4. Correctitud"
      ],
      "metadata": {
        "id": "TZYllq3CTcPQ"
      }
    },
    {
      "cell_type": "markdown",
      "source": [
        "##Correctitud función MaxCrossingSum\n",
        "###Teorema:\n",
        "\n",
        "La función maxCrossingSum retorna la suma de los valores del subarreglo que contiene el valor del medio.\n",
        "\n",
        "###Prueba del teorema:\n",
        "\n",
        "La función maxCrossingSum recibe como parámetro un arreglo, para comprobar que realiza corretamente el proceso de suma de los valores del subarreglo, observaremos dos casos:\n",
        "\n",
        "Si el valor de la mitad de arreglo es negativo: En esa situación se puede afirmar que no hay un subarreglo que contenga el valor ubicado en la mitad del arreglo original, por lo tanto se retorna un 0.\n",
        "\n",
        "Si el valor de la mitad de arreglo es positivo: En este caso, se procede con la suma de los valores desde n/2 hasta 0 o hasta toparse con un número negativo, luego, con los valores de n/2+1 hasta el largo del arreglo, ambos valores forman parte de un subarreglo válido que contiene el valor medio, por lo tanto la suma de ambos, sigue siendo un subarreglo válido y representa la suma del máximo subarreglo que contiene el valor del medio.\n",
        "\n",
        "##Correctitud función MaxSubArray\n",
        "###Teorema:\n",
        "\n",
        "La función MaxSubArray en base a un arreglo que recibe como parámetro, devuelve el subarreglo que contenga la mayor suma de sus elementos continuos.\n",
        "\n",
        "##Prueba del teorema:\n",
        "\n",
        "###Caso base: \n",
        "Si el arreglo recibido tiene un solo elemento, devuelve este ya que es el mayor.\n",
        "\n",
        "###Caso general: \n",
        "Se asume que la función es correcta para arreglos de cualquier tamaño, la función divide en dos el arreglo original, buscando el máximo subarreglo de cada mitad de forma recursiva, para luego comparar ambos resultados con el que nos entrega la función maxCrossingSum, la cual ya probamos su correctitud."
      ],
      "metadata": {
        "id": "uc7oypuBXF1D"
      }
    },
    {
      "cell_type": "markdown",
      "source": [
        "#5. Experimentación"
      ],
      "metadata": {
        "id": "TohqiZ5cTixi"
      }
    },
    {
      "cell_type": "code",
      "source": [
        "import matplotlib.pyplot as plt\n",
        "import datetime\n",
        "from timeit import repeat\n",
        "\n",
        "\n",
        "def kadane(a):\n",
        "  maxSum = 0\n",
        "  maxHere = 0\n",
        "  for i in range(0, len(a)):\n",
        "    maxHere += i\n",
        "    if maxHere < 0:\n",
        "      maxHere = 0\n",
        "    if maxSum < maxHere:\n",
        "      maxSum = maxHere\n",
        "  return maxSum\n",
        "\n",
        "def maxCrossingSum2(arr, i, mid, j, indices):\n",
        "\tsuma = 0\n",
        "\tsuma_izquierda = -10000\n",
        "\n",
        "\tfor z in range(mid, i-1, -1):\n",
        "\t\tsuma = suma + arr[z]\n",
        "\t\tif (suma > suma_izquierda):\n",
        "\t\t\tsuma_izquierda = suma\n",
        "\t\n",
        "\tsuma = 0\n",
        "\tsuma_derecha= -1000\n",
        "\tindices[2] = mid\n",
        "\t\n",
        "\tfor z in range(mid, j + 1):\n",
        "\t\tsuma = suma + arr[z]\n",
        "\t\tif (suma > suma_derecha):\n",
        "\t\t\tsuma_derecha = suma\n",
        "\t\n",
        "\treturn max(suma_izquierda + suma_derecha - arr[mid], suma_izquierda, suma_derecha)\n",
        "\n",
        "\n",
        "def maxSubArray2(arr, i = 0, j = 0, indices = [0,0,0,0]):\n",
        "    indices[0] = i\n",
        "    j = len(arr)-1\n",
        "    \n",
        "    indices[1] = j\n",
        "    if (i > j):\n",
        "      return -10000;\n",
        "    if (i == j):\n",
        "      return arr[i];\n",
        "    mid = (i+j) // 2;\n",
        "    indices[3] += 1\n",
        "    if (indices[3] >= 25):\n",
        "      return 0\n",
        "    \n",
        "    return max(maxSubArray2(arr, i, mid-1, indices), maxSubArray2(arr, mid+1, j, indices), maxCrossingSum2(arr, i, mid, j, indices))\n",
        "\n",
        "\n",
        "y1 = []\n",
        "x=[]; y=[]\n",
        "x1 = []\n",
        "\n",
        "for n in range(5,500):\n",
        "  indices = [0,0,0,0]\n",
        "  i = 0\n",
        "  j = n - 1\n",
        "  a = random.sample(range(1, 1000), n)\n",
        "  #la función repeat está ejecutando 20 veces bubble_sort con el arreglo a y retorna el mejor tiepo obtenido.\n",
        "  t = repeat(setup=\"from __main__ import maxSubArray2\", stmt=f\"maxSubArray2({a})\", repeat=1, number=10)\n",
        "\n",
        "  x.append(n)\n",
        "  y.append(t)\n",
        "\n",
        "for n in range(5,500):\n",
        "\n",
        "  a = random.sample(range(1, 1000), n)\n",
        "  #la función repeat está ejecutando 20 veces bubble_sort con el arreglo a y retorna el mejor tiepo obtenido.\n",
        "  t = repeat(setup=\"from __main__ import kadane\", stmt=f\"kadane({a})\", repeat=1, number=10)\n",
        "\n",
        "  x1.append(n)\n",
        "  y1.append(t)\n",
        "\n",
        "plt.plot(x,y)\n",
        "plt.plot(x1,y1)\n",
        "plt.legend([\"Kadane\", \"MaxSubArray\"])\n",
        "plt.xlabel('n')\n",
        "plt.ylabel('Tiempo en ms')\n",
        "plt.show()"
      ],
      "metadata": {
        "id": "ZRVjuvd2TjmY",
        "colab": {
          "base_uri": "https://localhost:8080/",
          "height": 279
        },
        "outputId": "3d7f9c00-15e0-433a-abf9-bd2c45fe5d21"
      },
      "execution_count": 26,
      "outputs": [
        {
          "output_type": "display_data",
          "data": {
            "text/plain": [
              "<Figure size 432x288 with 1 Axes>"
            ],
            "image/png": "[encoded data removed]"
          },
          "metadata": {
            "needs_background": "light"
          }
        }
      ]
    }
  ]
}